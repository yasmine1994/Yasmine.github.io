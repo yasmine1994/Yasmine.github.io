{
 "cells": [
  {
   "cell_type": "markdown",
   "metadata": {},
   "source": [
    "# Dans cette section, nous allons nous intéresser à la classification des textes par catégorie: \n",
    "\n",
    "# Nous verrons comment: \n",
    "\n",
    "## 1) charger le contenu du fichier et les catégories\n",
    "## 2) explorer la base de données\n",
    "## 3) pré-traitement de la base de données\n",
    "## 4) Partition en corpus d’apprentissage et de test\n",
    "## 5) extraire des vecteurs caractéristiques adaptés à l'apprentissage automatique (Construction de la matrice documents termes pour l’apprentissage)\n",
    "## 6) former un modèle  pour effectuer la catégorisation\n",
    "## 7) utiliser une stratégie de recherche de grille pour trouver une bonne configuration des composants d'extraction de caractéristiques et du classificateur\n",
    "## 8) Remarques et une touche de NLTK (pour le stemming)\n",
    "## 9) Déploiement de mon modèle\n",
    "## 10) Conclusion\n"
   ]
  },
  {
   "cell_type": "markdown",
   "metadata": {},
   "source": [
    "############################"
   ]
  },
  {
   "cell_type": "markdown",
   "metadata": {},
   "source": [
    "##  **La Classification des documents / Texte**\n",
    "\n",
    "> ### est l' une des tâches importantes et typique du machine learning supervisé. C'est affecter des catégories à des documents, qui peuvent être une page Web, un livre de bibliothèque, des articles de presse, etc. contient de nombreuses applications telles que le filtrage de spam, le routage de courriers électroniques, l'analyse des sentiments, etc. "
   ]
  },
  {
   "cell_type": "markdown",
   "metadata": {},
   "source": [
    "# 1) charger le contenu du fichier et les catégories"
   ]
  },
  {
   "cell_type": "markdown",
   "metadata": {},
   "source": [
    "## *À propos de cet ensemble de données* \n",
    "\n",
    "### Cet ensemble de données contient les titres, les URL et les catégories de 422 937 reportages collectés par un agrégateur Web entre le 10 mars 2014 et le 10 août 2014.\n",
    "\n",
    "### Les catégories de nouvelles incluses dans cet ensemble de données incluent les entreprises; science et technologie; divertissement; et la santé. Différents articles de presse faisant référence au même article (par exemple, plusieurs articles sur les statistiques de l’emploi récemment publiées) sont également classés ensemble.\n",
    "\n",
    "## *Contenu * \n",
    "### Les colonnes incluses dans cet ensemble de données sont les suivantes:\n",
    "\n",
    "> ID : l'ID numérique de l'article\n",
    "\n",
    "> TITRE : le titre de l'article\n",
    "\n",
    "> URL : l'URL de l'article\n",
    "\n",
    "> EDITEUR : l'éditeur de l'article\n",
    "\n",
    "> CATÉGORIE : la catégorie de l'information; un de: - b : business - t : science et technologie - e : divertissement - m : santé\n",
    "\n",
    "> HISTOIRE : identifiant alphanumérique du reportage que l'article traite\n",
    "\n",
    "> HOSTNAME : nom d'hôte où l'article a été publié\n",
    "\n",
    "> TIMESTAMP : horodatage approximatif de la publication de l'article, donné en heure Unix (secondes écoulées depuis minuit le 1er janvier 1970)\n",
    "\n",
    "## *Source*\n",
    "> Cet ensemble de données provient du référentiel UCI Machine Learning [https://archive.ics.uci.edu/ml/datasets/News+Aggregator]. Irvine, Californie: Université de Californie, École d’information et d’informatique."
   ]
  },
  {
   "cell_type": "code",
   "execution_count": 1,
   "metadata": {
    "collapsed": true
   },
   "outputs": [],
   "source": [
    "import pandas as pd\n",
    "news = pd.read_csv(\"C:/Users/User/Desktop/uci-news-aggregator.csv\") #Importing data from CSV\n",
    "news = news.sample(frac=1, random_state=42) #Renvoie un échantillon aléatoire d'éléments"
   ]
  },
  {
   "cell_type": "code",
   "execution_count": 2,
   "metadata": {},
   "outputs": [
    {
     "data": {
      "text/plain": [
       "Index(['ID', 'TITLE', 'URL', 'PUBLISHER', 'CATEGORY', 'STORY', 'HOSTNAME',\n",
       "       'TIMESTAMP'],\n",
       "      dtype='object')"
      ]
     },
     "execution_count": 2,
     "metadata": {},
     "output_type": "execute_result"
    }
   ],
   "source": [
    "news.columns #colonnes de la base"
   ]
  },
  {
   "cell_type": "code",
   "execution_count": 3,
   "metadata": {
    "collapsed": true
   },
   "outputs": [],
   "source": [
    "#enlever les colonnes qui nous intéressent pas dans notre étude\n",
    "columns=['TITLE','PUBLISHER','CATEGORY']\n",
    "news=news[columns]\n",
    "news=news.dropna(axis=0)\n",
    "news=news.reset_index()\n",
    "news=news.drop(['index'],axis=1)"
   ]
  },
  {
   "cell_type": "code",
   "execution_count": 4,
   "metadata": {},
   "outputs": [
    {
     "data": {
      "text/html": [
       "<div>\n",
       "<style scoped>\n",
       "    .dataframe tbody tr th:only-of-type {\n",
       "        vertical-align: middle;\n",
       "    }\n",
       "\n",
       "    .dataframe tbody tr th {\n",
       "        vertical-align: top;\n",
       "    }\n",
       "\n",
       "    .dataframe thead th {\n",
       "        text-align: right;\n",
       "    }\n",
       "</style>\n",
       "<table border=\"1\" class=\"dataframe\">\n",
       "  <thead>\n",
       "    <tr style=\"text-align: right;\">\n",
       "      <th></th>\n",
       "      <th>TITLE</th>\n",
       "      <th>PUBLISHER</th>\n",
       "      <th>CATEGORY</th>\n",
       "    </tr>\n",
       "  </thead>\n",
       "  <tbody>\n",
       "    <tr>\n",
       "      <th>0</th>\n",
       "      <td>Only 2 people allowed in the delivery room: Pr...</td>\n",
       "      <td>India Today</td>\n",
       "      <td>e</td>\n",
       "    </tr>\n",
       "    <tr>\n",
       "      <th>1</th>\n",
       "      <td>A wealth of info, a welter of questions</td>\n",
       "      <td>KSPR</td>\n",
       "      <td>b</td>\n",
       "    </tr>\n",
       "    <tr>\n",
       "      <th>2</th>\n",
       "      <td>Robin Thicke Naming Album After Paula Patton…</td>\n",
       "      <td>Hollywood Life</td>\n",
       "      <td>e</td>\n",
       "    </tr>\n",
       "    <tr>\n",
       "      <th>3</th>\n",
       "      <td>Actress And Civil Rights Activist Ruby Dee Die...</td>\n",
       "      <td>We Got This Covered</td>\n",
       "      <td>e</td>\n",
       "    </tr>\n",
       "    <tr>\n",
       "      <th>4</th>\n",
       "      <td>Feds to review Ga. Medicaid backlog</td>\n",
       "      <td>McDuffie Mirror</td>\n",
       "      <td>m</td>\n",
       "    </tr>\n",
       "  </tbody>\n",
       "</table>\n",
       "</div>"
      ],
      "text/plain": [
       "                                               TITLE            PUBLISHER  \\\n",
       "0  Only 2 people allowed in the delivery room: Pr...          India Today   \n",
       "1            A wealth of info, a welter of questions                 KSPR   \n",
       "2      Robin Thicke Naming Album After Paula Patton…       Hollywood Life   \n",
       "3  Actress And Civil Rights Activist Ruby Dee Die...  We Got This Covered   \n",
       "4                Feds to review Ga. Medicaid backlog      McDuffie Mirror   \n",
       "\n",
       "  CATEGORY  \n",
       "0        e  \n",
       "1        b  \n",
       "2        e  \n",
       "3        e  \n",
       "4        m  "
      ]
     },
     "execution_count": 4,
     "metadata": {},
     "output_type": "execute_result"
    }
   ],
   "source": [
    "#visulaliser les 5 premiers lignes due la base \n",
    "news.head(5)"
   ]
  },
  {
   "cell_type": "markdown",
   "metadata": {},
   "source": [
    "# 2) explorer la base de données"
   ]
  },
  {
   "cell_type": "code",
   "execution_count": 5,
   "metadata": {},
   "outputs": [
    {
     "data": {
      "text/plain": [
       "Index(['TITLE', 'PUBLISHER', 'CATEGORY'], dtype='object')"
      ]
     },
     "execution_count": 5,
     "metadata": {},
     "output_type": "execute_result"
    }
   ],
   "source": [
    "news.columns"
   ]
  },
  {
   "cell_type": "code",
   "execution_count": 6,
   "metadata": {},
   "outputs": [
    {
     "data": {
      "text/plain": [
       "(422417, 3)"
      ]
     },
     "execution_count": 6,
     "metadata": {},
     "output_type": "execute_result"
    }
   ],
   "source": [
    "#dimension de la base\n",
    "news.shape"
   ]
  },
  {
   "cell_type": "code",
   "execution_count": 7,
   "metadata": {},
   "outputs": [
    {
     "data": {
      "text/html": [
       "<div>\n",
       "<style scoped>\n",
       "    .dataframe tbody tr th:only-of-type {\n",
       "        vertical-align: middle;\n",
       "    }\n",
       "\n",
       "    .dataframe tbody tr th {\n",
       "        vertical-align: top;\n",
       "    }\n",
       "\n",
       "    .dataframe thead th {\n",
       "        text-align: right;\n",
       "    }\n",
       "</style>\n",
       "<table border=\"1\" class=\"dataframe\">\n",
       "  <thead>\n",
       "    <tr style=\"text-align: right;\">\n",
       "      <th></th>\n",
       "      <th>TITLE</th>\n",
       "      <th>PUBLISHER</th>\n",
       "      <th>CATEGORY</th>\n",
       "    </tr>\n",
       "  </thead>\n",
       "  <tbody>\n",
       "    <tr>\n",
       "      <th>count</th>\n",
       "      <td>422417</td>\n",
       "      <td>422417</td>\n",
       "      <td>422417</td>\n",
       "    </tr>\n",
       "    <tr>\n",
       "      <th>unique</th>\n",
       "      <td>406453</td>\n",
       "      <td>10985</td>\n",
       "      <td>4</td>\n",
       "    </tr>\n",
       "    <tr>\n",
       "      <th>top</th>\n",
       "      <td>The article requested cannot be found! Please ...</td>\n",
       "      <td>Reuters</td>\n",
       "      <td>e</td>\n",
       "    </tr>\n",
       "    <tr>\n",
       "      <th>freq</th>\n",
       "      <td>145</td>\n",
       "      <td>3902</td>\n",
       "      <td>152469</td>\n",
       "    </tr>\n",
       "  </tbody>\n",
       "</table>\n",
       "</div>"
      ],
      "text/plain": [
       "                                                    TITLE PUBLISHER CATEGORY\n",
       "count                                              422417    422417   422417\n",
       "unique                                             406453     10985        4\n",
       "top     The article requested cannot be found! Please ...   Reuters        e\n",
       "freq                                                  145      3902   152469"
      ]
     },
     "execution_count": 7,
     "metadata": {},
     "output_type": "execute_result"
    }
   ],
   "source": [
    "# summary statistics de la base (count, unique, top, freq)\n",
    "news.describe()"
   ]
  },
  {
   "cell_type": "code",
   "execution_count": 8,
   "metadata": {},
   "outputs": [
    {
     "name": "stdout",
     "output_type": "stream",
     "text": [
      "<class 'pandas.core.frame.DataFrame'>\n",
      "RangeIndex: 422417 entries, 0 to 422416\n",
      "Data columns (total 3 columns):\n",
      "TITLE        422417 non-null object\n",
      "PUBLISHER    422417 non-null object\n",
      "CATEGORY     422417 non-null object\n",
      "dtypes: object(3)\n",
      "memory usage: 9.7+ MB\n"
     ]
    }
   ],
   "source": [
    "#bref résumé sur la base\n",
    "news.info()"
   ]
  },
  {
   "cell_type": "markdown",
   "metadata": {},
   "source": [
    "## Count Vs Publication"
   ]
  },
  {
   "cell_type": "code",
   "execution_count": 9,
   "metadata": {},
   "outputs": [
    {
     "name": "stderr",
     "output_type": "stream",
     "text": [
      "C:\\Users\\User\\Anaconda3\\lib\\site-packages\\seaborn\\categorical.py:1460: FutureWarning: remove_na is deprecated and is a private function. Do not use.\n",
      "  stat_data = remove_na(group_data)\n"
     ]
    },
    {
     "data": {
      "text/plain": [
       "Text(0.5,1,'Counts Vs PUBLISHER')"
      ]
     },
     "execution_count": 9,
     "metadata": {},
     "output_type": "execute_result"
    },
    {
     "data": {
      "image/png": "[encoded data removed]",
      "text/plain": [
       "<matplotlib.figure.Figure at 0xdbda59cb70>"
      ]
     },
     "metadata": {},
     "output_type": "display_data"
    }
   ],
   "source": [
    "import matplotlib.pyplot as plt\n",
    "import seaborn as sns\n",
    "%matplotlib inline\n",
    "z=news.groupby(by=['PUBLISHER'],as_index=False).count().sort_values(by='TITLE',ascending=False).head(10)\n",
    "\n",
    "plt.figure(figsize=(15,10))\n",
    "sns.set_style(\"whitegrid\")\n",
    "ax = sns.barplot(x=z['PUBLISHER'],y=z['TITLE'], data=z)\n",
    "plt.xlabel(\"Publication\")\n",
    "plt.ylabel(\"Count\") \n",
    "plt.title(\"Counts Vs PUBLISHER\")"
   ]
  },
  {
   "cell_type": "markdown",
   "metadata": {},
   "source": [
    "> Le graphique à barres ci-dessus montre les 10 premiers publieurs dans l'ensemble de données d'actualité en vue du nombre de publications.  Reuters a le numéro le plus élevé des publications."
   ]
  },
  {
   "cell_type": "markdown",
   "metadata": {},
   "source": [
    "## Count Vs Category"
   ]
  },
  {
   "cell_type": "code",
   "execution_count": 10,
   "metadata": {},
   "outputs": [
    {
     "name": "stderr",
     "output_type": "stream",
     "text": [
      "C:\\Users\\User\\Anaconda3\\lib\\site-packages\\seaborn\\categorical.py:1460: FutureWarning: remove_na is deprecated and is a private function. Do not use.\n",
      "  stat_data = remove_na(group_data)\n"
     ]
    },
    {
     "data": {
      "text/plain": [
       "Text(0.5,1,'Counts Vs Category')"
      ]
     },
     "execution_count": 10,
     "metadata": {},
     "output_type": "execute_result"
    },
    {
     "data": {
      "image/png": "[encoded data removed]",
      "text/plain": [
       "<matplotlib.figure.Figure at 0xdbcd94a278>"
      ]
     },
     "metadata": {},
     "output_type": "display_data"
    }
   ],
   "source": [
    "z=news.groupby(by=['CATEGORY'],as_index=False).count().sort_values(by='TITLE',ascending=False).head(10)\n",
    "\n",
    "plt.figure(figsize=(10,10))\n",
    "sns.set_style(\"whitegrid\")\n",
    "ax = sns.barplot(x=z['CATEGORY'],y=z['TITLE'], data=z)\n",
    "plt.xlabel(\"Category\")\n",
    "plt.ylabel(\"Count\")\n",
    "plt.title(\"Counts Vs Category\")"
   ]
  },
  {
   "cell_type": "markdown",
   "metadata": {},
   "source": [
    "### Le graphique à barres ci-dessus montre la distribution des publications par catégorie sachant que \n",
    ">  **e** :  Entertainment\n",
    "\n",
    ">  **b** : business \n",
    "\n",
    ">  **t** : Science and technology\n",
    "\n",
    ">  **m** : health"
   ]
  },
  {
   "cell_type": "markdown",
   "metadata": {},
   "source": [
    "## Dorénavant, nous allons nous intéresser seulement aux colonnes \"TITLE\" et \"CATEGORY\""
   ]
  },
  {
   "cell_type": "code",
   "execution_count": 11,
   "metadata": {
    "collapsed": true
   },
   "outputs": [],
   "source": [
    "columns=['TITLE','CATEGORY']\n",
    "news=news[columns]\n",
    "news=news.dropna(axis=0)\n",
    "news=news.reset_index()\n",
    "news=news.drop(['index'],axis=1)"
   ]
  },
  {
   "cell_type": "code",
   "execution_count": 12,
   "metadata": {},
   "outputs": [
    {
     "data": {
      "text/html": [
       "<div>\n",
       "<style scoped>\n",
       "    .dataframe tbody tr th:only-of-type {\n",
       "        vertical-align: middle;\n",
       "    }\n",
       "\n",
       "    .dataframe tbody tr th {\n",
       "        vertical-align: top;\n",
       "    }\n",
       "\n",
       "    .dataframe thead th {\n",
       "        text-align: right;\n",
       "    }\n",
       "</style>\n",
       "<table border=\"1\" class=\"dataframe\">\n",
       "  <thead>\n",
       "    <tr style=\"text-align: right;\">\n",
       "      <th></th>\n",
       "      <th>TITLE</th>\n",
       "      <th>CATEGORY</th>\n",
       "    </tr>\n",
       "  </thead>\n",
       "  <tbody>\n",
       "    <tr>\n",
       "      <th>0</th>\n",
       "      <td>Only 2 people allowed in the delivery room: Pr...</td>\n",
       "      <td>e</td>\n",
       "    </tr>\n",
       "    <tr>\n",
       "      <th>1</th>\n",
       "      <td>A wealth of info, a welter of questions</td>\n",
       "      <td>b</td>\n",
       "    </tr>\n",
       "    <tr>\n",
       "      <th>2</th>\n",
       "      <td>Robin Thicke Naming Album After Paula Patton…</td>\n",
       "      <td>e</td>\n",
       "    </tr>\n",
       "    <tr>\n",
       "      <th>3</th>\n",
       "      <td>Actress And Civil Rights Activist Ruby Dee Die...</td>\n",
       "      <td>e</td>\n",
       "    </tr>\n",
       "    <tr>\n",
       "      <th>4</th>\n",
       "      <td>Feds to review Ga. Medicaid backlog</td>\n",
       "      <td>m</td>\n",
       "    </tr>\n",
       "  </tbody>\n",
       "</table>\n",
       "</div>"
      ],
      "text/plain": [
       "                                               TITLE CATEGORY\n",
       "0  Only 2 people allowed in the delivery room: Pr...        e\n",
       "1            A wealth of info, a welter of questions        b\n",
       "2      Robin Thicke Naming Album After Paula Patton…        e\n",
       "3  Actress And Civil Rights Activist Ruby Dee Die...        e\n",
       "4                Feds to review Ga. Medicaid backlog        m"
      ]
     },
     "execution_count": 12,
     "metadata": {},
     "output_type": "execute_result"
    }
   ],
   "source": [
    "news.head(5)"
   ]
  },
  {
   "cell_type": "markdown",
   "metadata": {},
   "source": [
    "# 3) Pré-traitement de la base de données"
   ]
  },
  {
   "cell_type": "code",
   "execution_count": 13,
   "metadata": {},
   "outputs": [
    {
     "data": {
      "text/plain": [
       "(406453, 2)"
      ]
     },
     "execution_count": 13,
     "metadata": {},
     "output_type": "execute_result"
    }
   ],
   "source": [
    "# supprimer les colonnes TITRE en double (d'après le summary , on n'a pas trouvé des titres vides \n",
    "#mais, en revanche, on a trouvé des titres en double )\n",
    "news = news.drop_duplicates('TITLE')\n",
    "news.shape"
   ]
  },
  {
   "cell_type": "code",
   "execution_count": 14,
   "metadata": {},
   "outputs": [
    {
     "data": {
      "image/png": "[encoded data removed]",
      "text/plain": [
       "<matplotlib.figure.Figure at 0xdbd090c2e8>"
      ]
     },
     "metadata": {},
     "output_type": "display_data"
    }
   ],
   "source": [
    "# Vérifier la distibution des longueurs des titres\n",
    "import matplotlib.pyplot as plt\n",
    "import numpy as np\n",
    "%matplotlib inline\n",
    "tst=news.TITLE.map(len)\n",
    "plt.hist(tst, bins=20)  # arguments are passed to np.histogram\n",
    "plt.title(\"Représentation de la distribution des longueurs des titres\")\n",
    "plt.show()"
   ]
  },
  {
   "cell_type": "markdown",
   "metadata": {},
   "source": [
    "> ## On n'a pas besoin de limiter les longueurs des titres puisque la distribution est uniforme"
   ]
  },
  {
   "cell_type": "markdown",
   "metadata": {},
   "source": [
    "# Maintenant, nous allons créer une fonction qui: \n",
    "### enlève les caractères non ascii\n",
    "### miniscule les titres et les tokenise\n",
    "### fait appel au stopwords de nltk et les enlève"
   ]
  },
  {
   "cell_type": "code",
   "execution_count": 15,
   "metadata": {
    "collapsed": true
   },
   "outputs": [],
   "source": [
    "from nltk.corpus import stopwords\n",
    "def get_words( headlines ):               \n",
    "    headlines_onlyletters = re.sub(\"[^a-zA-Z]\", \" \",headlines) #Remove everything other than letters     \n",
    "    words = headlines_onlyletters.lower().split() #Convert to lower case, split into individual words    \n",
    "    stops = set(stopwords.words(\"english\"))  #Convert the stopwords to a set for improvised performance                 \n",
    "    meaningful_words = [w for w in words if not w in stops]   #Removing stopwords\n",
    "    return( \" \".join( meaningful_words )) #Joining the words"
   ]
  },
  {
   "cell_type": "code",
   "execution_count": 16,
   "metadata": {},
   "outputs": [
    {
     "data": {
      "application/vnd.jupyter.widget-view+json": {
       "model_id": "481f19c6efcf4079b37d571424bb0bce",
       "version_major": 2,
       "version_minor": 0
      },
      "text/plain": [
       "A Jupyter Widget"
      ]
     },
     "metadata": {},
     "output_type": "display_data"
    },
    {
     "name": "stdout",
     "output_type": "stream",
     "text": [
      "\n"
     ]
    }
   ],
   "source": [
    "from tqdm import tqdm, tqdm_notebook\n",
    "\n",
    "pd.options.display.max_columns = 200\n",
    "pd.options.mode.chained_assignment = None\n",
    "\n",
    "from collections import Counter\n",
    "import re\n",
    "import numpy as np\n",
    "\n",
    "tqdm_notebook().pandas()\n",
    "from tqdm._tqdm_notebook import tqdm_notebook\n",
    "\n",
    "tqdm_notebook.pandas()"
   ]
  },
  {
   "cell_type": "markdown",
   "metadata": {},
   "source": [
    "## Une nouvelle colonne «cleaned_text» peut être facilement créée à l'aide de la méthode \"progress_map\" appliquée à la colonne «TITLE»."
   ]
  },
  {
   "cell_type": "code",
   "execution_count": 17,
   "metadata": {},
   "outputs": [
    {
     "data": {
      "application/vnd.jupyter.widget-view+json": {
       "model_id": "7247843b8339430e8601e6e5b262f75b",
       "version_major": 2,
       "version_minor": 0
      },
      "text/plain": [
       "A Jupyter Widget"
      ]
     },
     "metadata": {},
     "output_type": "display_data"
    },
    {
     "name": "stdout",
     "output_type": "stream",
     "text": [
      "\n"
     ]
    }
   ],
   "source": [
    "cleaned_text = news.TITLE.progress_map(get_words)"
   ]
  },
  {
   "cell_type": "code",
   "execution_count": 18,
   "metadata": {
    "collapsed": true
   },
   "outputs": [],
   "source": [
    "#concaténer la base news et la nouvelle colonne cleaned_text \n",
    "news =pd.concat([news, cleaned_text], axis=1, sort=False)"
   ]
  },
  {
   "cell_type": "code",
   "execution_count": 19,
   "metadata": {},
   "outputs": [
    {
     "data": {
      "text/html": [
       "<div>\n",
       "<style scoped>\n",
       "    .dataframe tbody tr th:only-of-type {\n",
       "        vertical-align: middle;\n",
       "    }\n",
       "\n",
       "    .dataframe tbody tr th {\n",
       "        vertical-align: top;\n",
       "    }\n",
       "\n",
       "    .dataframe thead th {\n",
       "        text-align: right;\n",
       "    }\n",
       "</style>\n",
       "<table border=\"1\" class=\"dataframe\">\n",
       "  <thead>\n",
       "    <tr style=\"text-align: right;\">\n",
       "      <th></th>\n",
       "      <th>TITLE</th>\n",
       "      <th>CATEGORY</th>\n",
       "      <th>TITLE</th>\n",
       "    </tr>\n",
       "  </thead>\n",
       "  <tbody>\n",
       "    <tr>\n",
       "      <th>0</th>\n",
       "      <td>Only 2 people allowed in the delivery room: Pr...</td>\n",
       "      <td>e</td>\n",
       "      <td>people allowed delivery room pregger mila kuni...</td>\n",
       "    </tr>\n",
       "    <tr>\n",
       "      <th>1</th>\n",
       "      <td>A wealth of info, a welter of questions</td>\n",
       "      <td>b</td>\n",
       "      <td>wealth info welter questions</td>\n",
       "    </tr>\n",
       "    <tr>\n",
       "      <th>2</th>\n",
       "      <td>Robin Thicke Naming Album After Paula Patton…</td>\n",
       "      <td>e</td>\n",
       "      <td>robin thicke naming album paula patton</td>\n",
       "    </tr>\n",
       "    <tr>\n",
       "      <th>3</th>\n",
       "      <td>Actress And Civil Rights Activist Ruby Dee Die...</td>\n",
       "      <td>e</td>\n",
       "      <td>actress civil rights activist ruby dee dies</td>\n",
       "    </tr>\n",
       "    <tr>\n",
       "      <th>4</th>\n",
       "      <td>Feds to review Ga. Medicaid backlog</td>\n",
       "      <td>m</td>\n",
       "      <td>feds review ga medicaid backlog</td>\n",
       "    </tr>\n",
       "  </tbody>\n",
       "</table>\n",
       "</div>"
      ],
      "text/plain": [
       "                                               TITLE CATEGORY  \\\n",
       "0  Only 2 people allowed in the delivery room: Pr...        e   \n",
       "1            A wealth of info, a welter of questions        b   \n",
       "2      Robin Thicke Naming Album After Paula Patton…        e   \n",
       "3  Actress And Civil Rights Activist Ruby Dee Die...        e   \n",
       "4                Feds to review Ga. Medicaid backlog        m   \n",
       "\n",
       "                                               TITLE  \n",
       "0  people allowed delivery room pregger mila kuni...  \n",
       "1                       wealth info welter questions  \n",
       "2             robin thicke naming album paula patton  \n",
       "3        actress civil rights activist ruby dee dies  \n",
       "4                    feds review ga medicaid backlog  "
      ]
     },
     "execution_count": 19,
     "metadata": {},
     "output_type": "execute_result"
    }
   ],
   "source": [
    "news.head(5)"
   ]
  },
  {
   "cell_type": "code",
   "execution_count": 20,
   "metadata": {
    "collapsed": true
   },
   "outputs": [],
   "source": [
    "myList = list(news.columns)\n",
    "myList[2] = 'cleaned_text'\n",
    "news.columns = myList"
   ]
  },
  {
   "cell_type": "code",
   "execution_count": 21,
   "metadata": {},
   "outputs": [
    {
     "data": {
      "text/html": [
       "<div>\n",
       "<style scoped>\n",
       "    .dataframe tbody tr th:only-of-type {\n",
       "        vertical-align: middle;\n",
       "    }\n",
       "\n",
       "    .dataframe tbody tr th {\n",
       "        vertical-align: top;\n",
       "    }\n",
       "\n",
       "    .dataframe thead th {\n",
       "        text-align: right;\n",
       "    }\n",
       "</style>\n",
       "<table border=\"1\" class=\"dataframe\">\n",
       "  <thead>\n",
       "    <tr style=\"text-align: right;\">\n",
       "      <th></th>\n",
       "      <th>TITLE</th>\n",
       "      <th>CATEGORY</th>\n",
       "      <th>cleaned_text</th>\n",
       "    </tr>\n",
       "  </thead>\n",
       "  <tbody>\n",
       "    <tr>\n",
       "      <th>0</th>\n",
       "      <td>Only 2 people allowed in the delivery room: Pr...</td>\n",
       "      <td>e</td>\n",
       "      <td>people allowed delivery room pregger mila kuni...</td>\n",
       "    </tr>\n",
       "    <tr>\n",
       "      <th>1</th>\n",
       "      <td>A wealth of info, a welter of questions</td>\n",
       "      <td>b</td>\n",
       "      <td>wealth info welter questions</td>\n",
       "    </tr>\n",
       "    <tr>\n",
       "      <th>2</th>\n",
       "      <td>Robin Thicke Naming Album After Paula Patton…</td>\n",
       "      <td>e</td>\n",
       "      <td>robin thicke naming album paula patton</td>\n",
       "    </tr>\n",
       "    <tr>\n",
       "      <th>3</th>\n",
       "      <td>Actress And Civil Rights Activist Ruby Dee Die...</td>\n",
       "      <td>e</td>\n",
       "      <td>actress civil rights activist ruby dee dies</td>\n",
       "    </tr>\n",
       "    <tr>\n",
       "      <th>4</th>\n",
       "      <td>Feds to review Ga. Medicaid backlog</td>\n",
       "      <td>m</td>\n",
       "      <td>feds review ga medicaid backlog</td>\n",
       "    </tr>\n",
       "  </tbody>\n",
       "</table>\n",
       "</div>"
      ],
      "text/plain": [
       "                                               TITLE CATEGORY  \\\n",
       "0  Only 2 people allowed in the delivery room: Pr...        e   \n",
       "1            A wealth of info, a welter of questions        b   \n",
       "2      Robin Thicke Naming Album After Paula Patton…        e   \n",
       "3  Actress And Civil Rights Activist Ruby Dee Die...        e   \n",
       "4                Feds to review Ga. Medicaid backlog        m   \n",
       "\n",
       "                                        cleaned_text  \n",
       "0  people allowed delivery room pregger mila kuni...  \n",
       "1                       wealth info welter questions  \n",
       "2             robin thicke naming album paula patton  \n",
       "3        actress civil rights activist ruby dee dies  \n",
       "4                    feds review ga medicaid backlog  "
      ]
     },
     "execution_count": 21,
     "metadata": {},
     "output_type": "execute_result"
    }
   ],
   "source": [
    "news.head(5)"
   ]
  },
  {
   "cell_type": "markdown",
   "metadata": {},
   "source": [
    "### Nous avons besoin maintenant d'encoder la variable CATEGORY en tant que variable catégorielle "
   ]
  },
  {
   "cell_type": "code",
   "execution_count": 22,
   "metadata": {
    "collapsed": true
   },
   "outputs": [],
   "source": [
    "news['category_id'] = news['CATEGORY'].factorize()[0] "
   ]
  },
  {
   "cell_type": "code",
   "execution_count": 23,
   "metadata": {},
   "outputs": [
    {
     "data": {
      "text/html": [
       "<div>\n",
       "<style scoped>\n",
       "    .dataframe tbody tr th:only-of-type {\n",
       "        vertical-align: middle;\n",
       "    }\n",
       "\n",
       "    .dataframe tbody tr th {\n",
       "        vertical-align: top;\n",
       "    }\n",
       "\n",
       "    .dataframe thead th {\n",
       "        text-align: right;\n",
       "    }\n",
       "</style>\n",
       "<table border=\"1\" class=\"dataframe\">\n",
       "  <thead>\n",
       "    <tr style=\"text-align: right;\">\n",
       "      <th></th>\n",
       "      <th>TITLE</th>\n",
       "      <th>CATEGORY</th>\n",
       "      <th>cleaned_text</th>\n",
       "      <th>category_id</th>\n",
       "    </tr>\n",
       "  </thead>\n",
       "  <tbody>\n",
       "    <tr>\n",
       "      <th>0</th>\n",
       "      <td>Only 2 people allowed in the delivery room: Pr...</td>\n",
       "      <td>e</td>\n",
       "      <td>people allowed delivery room pregger mila kuni...</td>\n",
       "      <td>0</td>\n",
       "    </tr>\n",
       "    <tr>\n",
       "      <th>1</th>\n",
       "      <td>A wealth of info, a welter of questions</td>\n",
       "      <td>b</td>\n",
       "      <td>wealth info welter questions</td>\n",
       "      <td>1</td>\n",
       "    </tr>\n",
       "    <tr>\n",
       "      <th>2</th>\n",
       "      <td>Robin Thicke Naming Album After Paula Patton…</td>\n",
       "      <td>e</td>\n",
       "      <td>robin thicke naming album paula patton</td>\n",
       "      <td>0</td>\n",
       "    </tr>\n",
       "    <tr>\n",
       "      <th>3</th>\n",
       "      <td>Actress And Civil Rights Activist Ruby Dee Die...</td>\n",
       "      <td>e</td>\n",
       "      <td>actress civil rights activist ruby dee dies</td>\n",
       "      <td>0</td>\n",
       "    </tr>\n",
       "    <tr>\n",
       "      <th>4</th>\n",
       "      <td>Feds to review Ga. Medicaid backlog</td>\n",
       "      <td>m</td>\n",
       "      <td>feds review ga medicaid backlog</td>\n",
       "      <td>2</td>\n",
       "    </tr>\n",
       "  </tbody>\n",
       "</table>\n",
       "</div>"
      ],
      "text/plain": [
       "                                               TITLE CATEGORY  \\\n",
       "0  Only 2 people allowed in the delivery room: Pr...        e   \n",
       "1            A wealth of info, a welter of questions        b   \n",
       "2      Robin Thicke Naming Album After Paula Patton…        e   \n",
       "3  Actress And Civil Rights Activist Ruby Dee Die...        e   \n",
       "4                Feds to review Ga. Medicaid backlog        m   \n",
       "\n",
       "                                        cleaned_text  category_id  \n",
       "0  people allowed delivery room pregger mila kuni...            0  \n",
       "1                       wealth info welter questions            1  \n",
       "2             robin thicke naming album paula patton            0  \n",
       "3        actress civil rights activist ruby dee dies            0  \n",
       "4                    feds review ga medicaid backlog            2  "
      ]
     },
     "execution_count": 23,
     "metadata": {},
     "output_type": "execute_result"
    }
   ],
   "source": [
    "news.head(5)"
   ]
  },
  {
   "cell_type": "code",
   "execution_count": 24,
   "metadata": {},
   "outputs": [
    {
     "data": {
      "text/plain": [
       "e    146856\n",
       "b    111534\n",
       "t    104418\n",
       "m     43645\n",
       "Name: CATEGORY, dtype: int64"
      ]
     },
     "execution_count": 24,
     "metadata": {},
     "output_type": "execute_result"
    }
   ],
   "source": [
    "news.CATEGORY.value_counts()"
   ]
  },
  {
   "cell_type": "code",
   "execution_count": 25,
   "metadata": {},
   "outputs": [
    {
     "data": {
      "text/plain": [
       "0    146856\n",
       "1    111534\n",
       "3    104418\n",
       "2     43645\n",
       "Name: category_id, dtype: int64"
      ]
     },
     "execution_count": 25,
     "metadata": {},
     "output_type": "execute_result"
    }
   ],
   "source": [
    "news.category_id.value_counts()"
   ]
  },
  {
   "cell_type": "code",
   "execution_count": 26,
   "metadata": {
    "collapsed": true
   },
   "outputs": [],
   "source": [
    "# 0: e:  Entertainment\n",
    "# 1: b: business \n",
    "# 2: m: health\n",
    "# 3: t: Science and technology"
   ]
  },
  {
   "cell_type": "markdown",
   "metadata": {},
   "source": [
    "## Une fois les données sont propres, nous les enregistrons sur le disque"
   ]
  },
  {
   "cell_type": "code",
   "execution_count": 27,
   "metadata": {
    "collapsed": true
   },
   "outputs": [],
   "source": [
    "news[['cleaned_text', 'category_id']].to_csv('./data/final_text2.csv')"
   ]
  },
  {
   "cell_type": "code",
   "execution_count": 1,
   "metadata": {},
   "outputs": [
    {
     "name": "stdout",
     "output_type": "stream",
     "text": [
      "(406453, 3)\n"
     ]
    }
   ],
   "source": [
    "import pandas as pd\n",
    "data = pd.read_csv('./data/final_text2.csv')\n",
    "print(data.shape)"
   ]
  },
  {
   "cell_type": "code",
   "execution_count": 2,
   "metadata": {},
   "outputs": [
    {
     "name": "stdout",
     "output_type": "stream",
     "text": [
      "   Unnamed: 0                                       cleaned_text  category_id\n",
      "0           0  people allowed delivery room pregger mila kuni...            0\n",
      "1           1                       wealth info welter questions            1\n",
      "2           2             robin thicke naming album paula patton            0\n",
      "3           3        actress civil rights activist ruby dee dies            0\n",
      "4           4                    feds review ga medicaid backlog            2\n"
     ]
    }
   ],
   "source": [
    "print(data.head(5))"
   ]
  },
  {
   "cell_type": "code",
   "execution_count": 3,
   "metadata": {
    "collapsed": true
   },
   "outputs": [],
   "source": [
    "data= data.drop('Unnamed: 0',axis=1)"
   ]
  },
  {
   "cell_type": "code",
   "execution_count": 4,
   "metadata": {},
   "outputs": [
    {
     "data": {
      "text/html": [
       "<div>\n",
       "<style scoped>\n",
       "    .dataframe tbody tr th:only-of-type {\n",
       "        vertical-align: middle;\n",
       "    }\n",
       "\n",
       "    .dataframe tbody tr th {\n",
       "        vertical-align: top;\n",
       "    }\n",
       "\n",
       "    .dataframe thead th {\n",
       "        text-align: right;\n",
       "    }\n",
       "</style>\n",
       "<table border=\"1\" class=\"dataframe\">\n",
       "  <thead>\n",
       "    <tr style=\"text-align: right;\">\n",
       "      <th></th>\n",
       "      <th>cleaned_text</th>\n",
       "      <th>category_id</th>\n",
       "    </tr>\n",
       "  </thead>\n",
       "  <tbody>\n",
       "    <tr>\n",
       "      <th>0</th>\n",
       "      <td>people allowed delivery room pregger mila kuni...</td>\n",
       "      <td>0</td>\n",
       "    </tr>\n",
       "    <tr>\n",
       "      <th>1</th>\n",
       "      <td>wealth info welter questions</td>\n",
       "      <td>1</td>\n",
       "    </tr>\n",
       "    <tr>\n",
       "      <th>2</th>\n",
       "      <td>robin thicke naming album paula patton</td>\n",
       "      <td>0</td>\n",
       "    </tr>\n",
       "    <tr>\n",
       "      <th>3</th>\n",
       "      <td>actress civil rights activist ruby dee dies</td>\n",
       "      <td>0</td>\n",
       "    </tr>\n",
       "    <tr>\n",
       "      <th>4</th>\n",
       "      <td>feds review ga medicaid backlog</td>\n",
       "      <td>2</td>\n",
       "    </tr>\n",
       "  </tbody>\n",
       "</table>\n",
       "</div>"
      ],
      "text/plain": [
       "                                        cleaned_text  category_id\n",
       "0  people allowed delivery room pregger mila kuni...            0\n",
       "1                       wealth info welter questions            1\n",
       "2             robin thicke naming album paula patton            0\n",
       "3        actress civil rights activist ruby dee dies            0\n",
       "4                    feds review ga medicaid backlog            2"
      ]
     },
     "execution_count": 4,
     "metadata": {},
     "output_type": "execute_result"
    }
   ],
   "source": [
    "data.head(5)"
   ]
  },
  {
   "cell_type": "code",
   "execution_count": 5,
   "metadata": {},
   "outputs": [
    {
     "name": "stdout",
     "output_type": "stream",
     "text": [
      "<class 'pandas.core.frame.DataFrame'>\n",
      "RangeIndex: 406453 entries, 0 to 406452\n",
      "Data columns (total 2 columns):\n",
      "cleaned_text    406443 non-null object\n",
      "category_id     406453 non-null int64\n",
      "dtypes: int64(1), object(1)\n",
      "memory usage: 6.2+ MB\n"
     ]
    }
   ],
   "source": [
    "data.info()"
   ]
  },
  {
   "cell_type": "markdown",
   "metadata": {},
   "source": [
    "# 4) Partition en corpus d’apprentissage et de test"
   ]
  },
  {
   "cell_type": "markdown",
   "metadata": {
    "collapsed": true
   },
   "source": [
    "## => Avant, parlons un peu sur le Processus de catégorisation de textes\n",
    "\n",
    "### Il importe de ne pas utiliser les mêmes donnés pour la modélisation et l’évaluation des classifieurs dans une démarche d’analyse prédictive. \n",
    "\n",
    "###  une partie des observations est extraite aléatoirement, on parle d’échantillon d’apprentissage, elle est dévolue à la construction du modèle ; la partie restante, dite échantillon test, est consacrée à la mesure des performances. La répartition 2/3 vs. 1/3 est souvent utilisée mais il n’y a pas de règle véritable en la matière.\n",
    "\n",
    "### Dans le cadre de la catégorisation de textes, cela se traduit par une partition du corpus AVANT la construction des matrices documents termes. Il ne faut pas que les observations du corpus de test puissent intervenir dans la constitution du dictionnaire (la liste des termes) et dans le calcul des pondérations (si on utilise la pondération TF-IDF par exemple) de la matrice utilisée pour l’apprentissage.\n",
    "\n",
    "### Cette contrainte – partition des corpus avant la construction des matrices documents termes – prend tout son sens lorsque nous utilisons le classifieur final en déploiement, lors du classement d’un document supplémentaire qui n’est pas disponible lors de la phase de modélisation. Il est évident qu’il ne doit intervenir en rien dans la construction du modèle :\n",
    "\n",
    "### s’il introduit des termes inconnus dans la phase de modélisation, ils doivent être ignorés ; demême, nous ne connaissons pas le nombre de documents à classer lors du cycle de vie du modèle, le calcul de l’IDF des termes (inverse document frequency) doit se baser exclusivement sur les informations issues de l’échantillon d’apprentissage.\n"
   ]
  },
  {
   "cell_type": "markdown",
   "metadata": {},
   "source": [
    "> ### Nous créons les corpus d’apprentissage et de test avec, respectivement, ntrain = 2/3=270969 documents etntest = 1/3= 135484 documents, via une partition au hasard, stratifiée selon les classes pour préserver les proportions des 4 catégories dans les sous-ensembles.\n",
    "> ### Nous utilisons la procédure train_test_split du module sklearn.model_selection."
   ]
  },
  {
   "cell_type": "code",
   "execution_count": 6,
   "metadata": {},
   "outputs": [
    {
     "name": "stdout",
     "output_type": "stream",
     "text": [
      "(270968,) (135485,) (270968,) (135485,)\n"
     ]
    }
   ],
   "source": [
    "#subdivision into train and test sets\n",
    "X, y = data.cleaned_text.fillna(' '), data.category_id\n",
    "from sklearn.model_selection import train_test_split\n",
    "x_train, x_test, y_train, y_test = train_test_split(X,y,\n",
    "                                                    test_size=1/3, train_size=2/3, \n",
    "                                                    random_state=42,\n",
    "                                                    stratify=y)\n",
    "\n",
    "print(x_train.shape, x_test.shape, y_train.shape, y_test.shape)"
   ]
  },
  {
   "cell_type": "code",
   "execution_count": 7,
   "metadata": {},
   "outputs": [
    {
     "name": "stdout",
     "output_type": "stream",
     "text": [
      "col_0           count\n",
      "category_id          \n",
      "0            0.361312\n",
      "1            0.274409\n",
      "2            0.107378\n",
      "3            0.256901\n",
      "col_0           count\n",
      "category_id          \n",
      "0            0.361312\n",
      "1            0.274409\n",
      "2            0.107378\n",
      "3            0.256901\n"
     ]
    }
   ],
   "source": [
    "#frequency distribution of the class attribute\n",
    "#train set\n",
    "freqTrain = pd.crosstab(index=y_train,columns=\"count\")\n",
    "print(freqTrain/freqTrain.sum())\n",
    "#test set\n",
    "freqTest = pd.crosstab(index=y_train,columns=\"count\")\n",
    "print(freqTest/freqTest.sum())"
   ]
  },
  {
   "cell_type": "markdown",
   "metadata": {},
   "source": [
    "> Les proportions sont bien respectées, la précision de l’évaluation n’en sera qu’améliorée."
   ]
  },
  {
   "cell_type": "markdown",
   "metadata": {},
   "source": [
    "# 5) Extraire des fonctionnalités \n",
    "### Les fichiers texte sont en réalité des séries de mots (ordonnés). Afin d'exécuter des algorithmes d'apprentissage automatique, nous devons convertir les fichiers texte en vecteurs d'entités numériques.\n",
    "### En fait, Les classificateurs ont derrière eux des opérations mathématiques qui ne fonctionnent que sur des nombres. Nous devrons donc transformer notre contribution sous forme numérique. \n",
    "\n",
    "# a) Bag of words:\n",
    "### La manière la plus intuitive de le faire est la représentation par sacs de mots:\n",
    "### En bref, nous segmentons chaque fichier texte en mots (pour la division en anglais par espace) et comptons le nombre de fois où chaque mot apparaît dans chaque document et assignons enfin un identifiant à chaque mot. Chaque mot unique dans notre dictionnaire correspondra à une fonctionnalité (fonction descriptive).\n",
    "\n",
    "### Scikit-learn possède un composant de haut niveau qui créera des vecteurs de fonctionnalités pour nous \"CountVectorizer\"."
   ]
  },
  {
   "cell_type": "markdown",
   "metadata": {},
   "source": [
    "### (1) Nous instancions l’objet de calcul CountVectorizer. \n",
    "### (2) Nous appelons la méthode fit_transform() en passant en paramètre les messages du corpus d’apprentissage x_train."
   ]
  },
  {
   "cell_type": "code",
   "execution_count": 8,
   "metadata": {
    "collapsed": true
   },
   "outputs": [],
   "source": [
    "#import the CountVectorizer tool\n",
    "from sklearn.feature_extraction.text import CountVectorizer\n",
    "parseur = CountVectorizer(min_df=10)\n",
    "# ngram_range=(1, 2)\n",
    "#create the document term matrix\n",
    "XTrain = parseur.fit_transform(x_train)"
   ]
  },
  {
   "cell_type": "markdown",
   "metadata": {},
   "source": [
    "> min_df : float dans la plage [0.0, 1.0] ou int, valeur par défaut = 1\n",
    "\n",
    "Lors de la construction du vocabulaire, ignorez les termes ayant une fréquence de document strictement inférieure au seuil donné. Cette valeur est également appelée coupure dans la littérature. "
   ]
  },
  {
   "cell_type": "markdown",
   "metadata": {
    "collapsed": true
   },
   "source": [
    "### Ici, en faisant ' parseur.fit_transform (x_train) ', nous apprenons le dictionnaire de vocabulaire et il retourne une matrice de document-terme [n_samples, n_features].\n",
    "\n",
    "### Ainsi, Nous pouvons afficher le nombre et la liste des termes qui composent le dictionnaire."
   ]
  },
  {
   "cell_type": "code",
   "execution_count": 36,
   "metadata": {},
   "outputs": [
    {
     "name": "stdout",
     "output_type": "stream",
     "text": [
      "13649\n",
      "['aa', 'aaa', 'aaliyah', 'aapl', 'aaron', 'abandon', 'abandoned', 'abandoning', 'abandons', 'abba', 'abbott', 'abbv', 'abbvie', 'abby', 'abc', 'abe', 'abercrombie', 'abilities', 'ability', 'able', 'abnormalities', 'aboard', 'aborted', 'abortion', 'abound', 'abrams', 'abramson', 'abroad', 'abruptly', 'abs', 'absence', 'absolute', 'absolutely', 'absurd', 'abu', 'abundant', 'abuse', 'abused', 'abusing', 'ac', 'aca', 'academic', 'academy', 'accelerate', 'accelerated', 'accelerates', 'accelerating', 'acceleration', 'accelerators', 'accent', 'accept', 'acceptance', 'accepted', 'accepting', 'accepts', 'access', 'accessed', 'accessible', 'accessories', 'accessory', 'accident', 'accidental', 'accidentally', 'accidents', 'acclaimed', 'accord', 'according', 'account', 'accounting', 'accounts', 'accra', 'accuracy', 'accurate', 'accurately', 'accusations', 'accuse', 'accused', 'accuser', 'accuses', 'ace', 'achieve', 'achievement', 'achievements', 'achieves', 'acid', 'acidification', 'acids', 'ackman', 'acknowledges', 'acm', 'acne', 'acoustic', 'acp', 'acquire', 'acquired', 'acquires', 'acquiring', 'acquisition', 'acquisitions', 'acreage', 'acres', 'acrobats', 'across', 'act', 'acting', 'action', 'actions', 'active', 'activision', 'activism', 'activist', 'activists', 'activities', 'activity', 'actor', 'actors', 'actos', 'actress', 'actresses', 'acts', 'actual', 'actually', 'ad', 'adam', 'adams', 'adapt', 'adaptation', 'adapting', 'adbe', 'add', 'added', 'addicted', 'addiction', 'addictive', 'adding', 'addition', 'additional', 'additions', 'additives', 'address', 'addressed', 'addresses', 'addressing', 'adds', 'ade', 'adele', 'adhd', 'adidas', 'adieu', 'adj', 'adjusted', 'adjusts', 'adkins', 'adm', 'administration', 'admission', 'admit', 'admits', 'admitted', 'admitting', 'adobe', 'adolescents', 'adopt', 'adopting', 'adoption', 'adopts', 'adorable', 'adore', 'adp', 'adr', 'adrian', 'adrienne', 'ads', 'adult', 'adulthood', 'adults', 'advance', 'advanced', 'advances', 'advantage', 'adventure', 'advert', 'advertisers', 'advertising', 'advice', 'advise', 'advised', 'adviser', 'advisers', 'advises', 'advisor', 'advisory', 'advocacy', 'advocate', 'advocates', 'adwords', 'aegis', 'aereo', 'aerial', 'aerospace', 'affair', 'affairs', 'affect', 'affected', 'affecting', 'affects', 'affiliate', 'affiliated', 'affirms', 'affleck', 'afford', 'affordable', 'afghanistan', 'afp', 'afraid', 'afrezza', 'africa', 'african', 'aftermarket', 'aftermath', 'afternoon', 'ag', 'age', 'aged', 'ageing', 'agencies', 'agency', 'agenda', 'agent', 'agents', 'ages', 'aggressive', 'aging', 'agn', 'ago', 'agree', 'agreed', 'agreement', 'agreements', 'agrees', 'agricultural', 'agriculture', 'agron', 'aguilera', 'ah', 'ahead', 'ahrendts', 'ai', 'aid', 'aided', 'aides', 'aiding', 'aids', 'aig', 'aiken', 'ailing', 'aim', 'aimed', 'aiming', 'aims', 'air', 'airbag', 'airbags', 'airbnb', 'airborne', 'airbus', 'aircraft', 'airlifted', 'airline', 'airliner', 'airlines', 'airplane', 'airplanes', 'airport', 'airports', 'airs', 'airspace', 'airtime', 'airways', 'aisle', 'aj', 'aka', 'akamai', 'akb', 'akron', 'al', 'ala', 'alabama', 'aladdin', 'alamo', 'alamuddin', 'alan', 'alarm', 'alarming', 'alarmists', 'alarms', 'alaska', 'alaskan', 'alba', 'albany', 'albert', 'album', 'albums', 'alcatel', 'alcoa', 'alcohol', 'alcoholic', 'alcoholics', 'alcoholism', 'alcohols', 'aldean', 'aldrin', 'alec', 'alejandro', 'alert', 'alerts', 'alex', 'alexa', 'alexander', 'alexandra', 'alfa', 'algorithm', 'ali', 'alibaba', 'alice', 'alicia', 'alien', 'aliens', 'align', 'alignment', 'alike', 'alitalia', 'alive', 'allegations', 'alleged', 'allegedly', 'alleges', 'allegiant', 'alleging', 'allen', 'allergan', 'allergic', 'allergies', 'allergy', 'alleviate', 'alley', 'alli', 'alliance', 'alliant', 'allies', 'allison', 'allman', 'allow', 'allowed', 'allowing', 'allows', 'allure', 'ally', 'almost', 'alone', 'along', 'alongside', 'aloud', 'alpha', 'alphabet', 'alpine', 'alprolix', 'already', 'als', 'alsina', 'also', 'alstom', 'alter', 'altercation', 'altered', 'alternate', 'alternative', 'alternatives', 'alters', 'altitude', 'alto', 'alum', 'aluminum', 'always', 'alzheimer', 'ama', 'amal', 'amanda', 'amateur', 'amaya', 'amazing', 'amazon', 'amazoncart', 'ambassador', 'amber', 'ambition', 'ambitions', 'ambitious', 'ambulance', 'amc', 'amd', 'amedisys', 'america', 'american', 'americans', 'americas', 'amfar', 'amgen', 'amid', 'amidst', 'amiga', 'amoeba', 'amoled', 'among', 'amount', 'amounts', 'amp', 'ample', 'amputee', 'amputees', 'amtrak', 'amy', 'amzn', 'anaconda', 'analyses', 'analysis', 'analyst', 'analysts', 'analytics', 'anarchy', 'anatomy', 'ancestors', 'anchor', 'ancient', 'ancier', 'andersen', 'anderson', 'andi', 'andre', 'andrew', 'andrews', 'android', 'andy', 'anew', 'angel', 'angela', 'angeles', 'angelina', 'angelou', 'anger', 'angers', 'angle', 'anglo', 'angrily', 'angry', 'angus', 'animal', 'animals', 'animated', 'animation', 'aniston', 'anita', 'ankle', 'ann', 'anna', 'anne', 'annie', 'anniversary', 'announce', 'announced', 'announcement', 'announcements', 'announces', 'announcing', 'annoying', 'annual', 'annually', 'anonymous', 'another', 'ansel', 'answer', 'answered', 'answers', 'ant', 'antarctic', 'antarctica', 'ante', 'anthem', 'anthony', 'anthrax', 'anti', 'antibacterial', 'antibiotic', 'antibiotics', 'antibodies', 'anticipate', 'anticipated', 'anticipation', 'antics', 'antidepressant', 'antidepressants', 'antidote', 'antioxidant', 'antioxidants', 'antitrust', 'antonio', 'antony', 'anxiety', 'anxious', 'anymore', 'anyone', 'anything', 'anytime', 'anyway', 'anywhere', 'aol', 'ap', 'apache', 'apart', 'apartheid', 'apartment', 'apatow', 'ape', 'apes', 'api', 'apis', 'apnea', 'apnewsbreak', 'apocalypse', 'apollo', 'apologies', 'apologise', 'apologises', 'apologize', 'apologizes', 'apology', 'app', 'apparel', 'apparent', 'apparently', 'appeal', 'appeals', 'appear', 'appearance', 'appearances', 'appeared', 'appearing', 'appears', 'appendix', 'appetite', 'applaud', 'applauds', 'apple', 'appleton', 'applicants', 'application', 'applications', 'applies', 'apply', 'appointed', 'appointment', 'appointments', 'appoints', 'appreciate', 'appreciation', 'approach', 'approaches', 'approaching', 'appropriate', 'approval', 'approvals', 'approve', 'approved', 'approves', 'apps', 'appstore', 'apr', 'april', 'aquaman', 'aquarid', 'aquino', 'ar', 'ara', 'arab', 'arabia', 'arabic', 'arbitration', 'arbor', 'arcade', 'archaeologists', 'archaeopteryx', 'archbishop', 'archer', 'archie', 'architect', 'architecture', 'archive', 'archives', 'arctic', 'arden', 'area', 'areas', 'arena', 'aretha', 'argentina', 'argentine', 'argue', 'argues', 'arguing', 'argument', 'arguments', 'ariana', 'arias', 'ariel', 'arizona', 'ark', 'arkansas', 'arkham', 'arm', 'armed', 'armies', 'armor', 'armour', 'armpit', 'arms', 'armstrong', 'army', 'arnett', 'arnold', 'aronofsky', 'around', 'arquette', 'arrest', 'arrested', 'arrests', 'arrival', 'arrivals', 'arrive', 'arrived', 'arrives', 'arriving', 'arrogant', 'arrow', 'art', 'artery', 'arthritis', 'arthur', 'article', 'articles', 'artifacts', 'artificial', 'artist', 'artists', 'artpop', 'arts', 'artsentertainment', 'artwork', 'artworks', 'arya', 'ascend', 'ascending', 'asco', 'asean', 'ash', 'ashamed', 'ashes', 'asheton', 'ashley', 'ashore', 'ashton', 'asia', 'asian', 'asiana', 'aside', 'ask', 'asked', 'asking', 'asks', 'askthicke', 'asleep', 'aspirin', 'ass', 'assassin', 'assassination', 'assault', 'assaulted', 'assaulting', 'assaults', 'assayas', 'assembly', 'assess', 'assessing', 'assessment', 'asset', 'assets', 'assist', 'assistant', 'associated', 'association', 'assures', 'asteroid', 'asteroids', 'asthma', 'aston', 'astonishing', 'astra', 'astrazeneca', 'astronaut', 'astronauts', 'astronomers', 'astronomy', 'asus', 'asx', 'atari', 'ate', 'athens', 'athlete', 'athletes', 'athletica', 'atk', 'atlanta', 'atlantic', 'atlas', 'atm', 'atmos', 'atmosphere', 'atms', 'atoms', 'atop', 'ats', 'attached', 'attack', 'attacked', 'attacker', 'attackers', 'attacking', 'attacks', 'attempt', 'attempted', 'attempting', 'attempts', 'attenborough', 'attend', 'attendance', 'attendant', 'attendees', 'attending', 'attends', 'attention', 'attitude', 'attorney', 'attorneys', 'attract', 'attraction', 'attractive', 'attracts', 'au', 'aubrey', 'auburn', 'auction', 'auctioned', 'auctioning', 'auctions', 'aud', 'audi', 'audience', 'audiences', 'audio', 'audit', 'audited', 'audition', 'auditions', 'audra', 'audrey', 'aug', 'augmented', 'august', 'aunt', 'aura', 'auras', 'aussie', 'aussies', 'aust', 'austerity', 'austin', 'australia', 'australian', 'australians', 'austria', 'austrian', 'authentic', 'authentication', 'author', 'authorities', 'authority', 'authors', 'autism', 'autistic', 'auto', 'autobots', 'autographs', 'automaker', 'automakers', 'automated', 'automatic', 'automatically', 'automation', 'automobiles', 'automotive', 'autonomous', 'autonomy', 'autopsy', 'autos', 'autotune', 'autumn', 'availability', 'available', 'avalanche', 'avast', 'avatar', 'avengers', 'aveo', 'average', 'averages', 'avert', 'averted', 'aviation', 'avicii', 'aviv', 'avoid', 'avoided', 'avoiding', 'avoids', 'avril', 'await', 'awaited', 'awaiting', 'awaits', 'award', 'awarded', 'awards', 'aware', 'awareness', 'away', 'awe', 'awesome', 'awful', 'awkward', 'awkwardly', 'awry', 'ax', 'axe', 'axed', 'axes', 'axing', 'az', 'azalea', 'azn', 'azure', 'ba', 'baba', 'babies', 'baby', 'bac', 'bachelor', 'bachelorette', 'back', 'backdoor', 'backed', 'backers', 'backfire', 'backfires', 'background', 'backing', 'backlash', 'backless', 'backlog', 'backs', 'backstage', 'backstreet', 'backtrack', 'backtracks', 'backup', 'backyard', 'bacon', 'bacteria', 'bacterial', 'bad', 'badass', 'badly', 'badman', 'badu', 'baffled', 'baffles', 'bafta', 'baftas', 'bag', 'baghdad', 'bags', 'bahamas', 'bail', 'bailed', 'bailon', 'bailout', 'baird', 'bait', 'baiting', 'bake', 'baker', 'bakken', 'balance', 'balances', 'balancing', 'balcony', 'bald', 'baldwin', 'ball', 'ballas', 'ballet', 'ballmer', 'ballot', 'ballroom', 'balls', 'bally', 'baltimore', 'ban', 'bana', 'banana', 'bananas', 'band', 'bandits', 'bandmates', 'bands', 'bandwagon', 'bandwidth', 'bang', 'bangerz', 'bangkok', 'bangladesh', 'bangs', 'bank', 'bankcorp', 'banker', 'bankers', 'banking', 'bankrupt', 'bankruptcy', 'banks', 'bankston', 'banksy', 'banned', 'banner', 'banning', 'bans', 'baptist', 'bar', 'barack', 'baratheon', 'barbara', 'barbie', 'barbra', 'barbs', 'barcelona', 'barclays', 'bard', 'bardarbunga', 'bare', 'barely', 'bares', 'bargain', 'bariatric', 'baring', 'bark', 'barker', 'barnes', 'barney', 'barra', 'barred', 'barrel', 'barrels', 'barrie', 'barrier', 'barriers', 'barring', 'barry', 'barrymore', 'bars', 'base', 'baseball', 'based', 'baseline', 'bash', 'bashing', 'basic', 'basically', 'basis', 'basket', 'basketball', 'baskets', 'baskett', 'bassett', 'bat', 'batch', 'bateman', 'bates', 'bath', 'bathroom', 'batkid', 'batman', 'batmobile', 'baton', 'batteries', 'battery', 'batterybox', 'battle', 'battlefield', 'battles', 'battling', 'bauer', 'bautista', 'baxter', 'bay', 'bayer', 'bb', 'bbb', 'bbc', 'bbm', 'bbry', 'bby', 'bc', 'bcs', 'beach', 'beaches', 'beagle', 'beam', 'beams', 'bean', 'beans', 'bear', 'beard', 'bearded', 'bearer', 'bearing', 'bearish', 'bears', 'beast', 'beastie', 'beasts', 'beat', 'beaten', 'beating', 'beatles', 'beats', 'beatz', 'beau', 'beautiful', 'beauty', 'bebop', 'became', 'beck', 'beckel', 'beckham', 'become', 'becomes', 'becoming', 'bed', 'bedroom', 'beds', 'bee', 'beef', 'beefs', 'beer', 'bees', 'beg', 'began', 'begged', 'begging', 'begin', 'beginning', 'beginnings', 'begins', 'begs', 'begun', 'behavior', 'behavioral', 'behaviors', 'behaviour', 'behemoth', 'behind', 'behold', 'beige', 'beijing', 'beleodaq', 'belgium', 'belief', 'beliefs', 'believe', 'believed', 'believers', 'believes', 'believing', 'bell', 'bella', 'belle', 'bellisario', 'bells', 'belly', 'belong', 'beloved', 'belt', 'belts', 'ben', 'benchmark', 'benchmarks', 'bend', 'beneath', 'benedict', 'beneficial', 'benefit', 'benefits', 'benham', 'bennett', 'benz', 'benzene', 'benzinga', 'benzino', 'bergdahl', 'berkeley', 'berkshire', 'berkus', 'berlin', 'bernanke', 'berners', 'bernie', 'bernstein', 'berry', 'bertolli', 'bes', 'best', 'bests', 'bestseller', 'bestselling', 'bet', 'beta', 'beth', 'bethesda', 'betrayed', 'bets', 'better', 'bettie', 'betting', 'beverage', 'beverages', 'beverly', 'beware', 'bey', 'beyonc', 'beyonce', 'beyond', 'bezos', 'bff', 'bhp', 'bi', 'bible', 'biblical', 'bicycle', 'bid', 'bidder', 'bidders', 'bidding', 'biden', 'bids', 'bieber', 'big', 'bigfoot', 'bigger', 'biggest', 'bike', 'bikini', 'bil', 'bild', 'bilingual', 'bill', 'billboard', 'billie', 'billing', 'billings', 'billion', 'billionaire', 'billions', 'billiton', 'bills', 'billy', 'binary', 'binding', 'bing', 'binge', 'binoche', 'bio', 'biodelivery', 'biofuels', 'biogen', 'biological', 'biometric', 'bionic', 'biopic', 'bioshock', 'biotech', 'biotechs', 'bipartisan', 'bird', 'birdman', 'birds', 'birmingham', 'birth', 'birthday', 'birthdays', 'births', 'bis', 'bisexual', 'bishop', 'bit', 'bitch', 'bitcoin', 'bitcoins', 'bite', 'bites', 'biting', 'bits', 'bitten', 'bitter', 'bittersweet', 'biz', 'bizarre', 'bj', 'bkw', 'black', 'blackberry', 'blackface', 'blackjack', 'blacklist', 'blackmail', 'blackrock', 'blacks', 'blackshades', 'blackstock', 'bladder', 'blake', 'blame', 'blamed', 'blames', 'blaming', 'blasio', 'blast', 'blasted', 'blasts', 'blaze', 'bleak', 'bleed', 'bleeding', 'bleeds', 'blend', 'blended', 'blessed', 'blessing', 'blight', 'blind', 'blindness', 'bling', 'blink', 'bliss', 'blitz', 'blizzard', 'blm', 'bln', 'block', 'blockbuster', 'blockbusters', 'blocked', 'blocking', 'blocks', 'blog', 'blogger', 'bloggers', 'blogging', 'blogs', 'blond', 'blonde', 'blood', 'blooded', 'bloody', 'bloom', 'bloomberg', 'blow', 'blowing', 'blown', 'blowout', 'blows', 'blu', 'blue', 'blueprint', 'blues', 'bluetooth', 'blunder', 'blunt', 'blurred', 'bmo', 'bmw', 'bn', 'bnp', 'bny', 'bo', 'boa', 'board', 'boards', 'boasts', 'boat', 'boaters', 'boating', 'bob', 'bobby', 'boc', 'bod', 'bodies', 'body', 'bodyguard', 'boe', 'boeing', 'bofa', 'boffins', 'bogus', 'boil', 'boj', 'bold', 'boldly', 'bolster', 'bolstered', 'bolsters', 'bomb', 'bombing', 'bombs', 'bombshell', 'bomer', 'bon', 'bonanza', 'bonas', 'bond', 'bondholders', 'bonds', 'bone', 'bones', 'bonnaroo', 'bonus', 'bonuses', 'boo', 'boob', 'boobs', 'booed', 'book', 'booking', 'books', 'boom', 'boomers', 'booming', 'booms', 'boon', 'boone', 'boos', 'boost', 'boosted', 'booster', 'boosting', 'boosts', 'boot', 'booted', 'booth', 'boots', 'booty', 'booze', 'border', 'borders', 'bored', 'boring', 'borlaug', 'born', 'borne', 'borrow', 'borrowers', 'borrowing', 'boseman', 'boson', 'boss', 'bosses', 'bossy', 'boston', 'botched', 'bother', 'botnet', 'botnets', 'botox', 'bottle', 'bottles', 'bottom', 'bought', 'boulder', 'boulevard', 'bounce', 'bounces', 'bound', 'bounty', 'bouygues', 'bow', 'bowe', 'bowl', 'bows', 'box', 'boxer', 'boxes', 'boy', 'boycott', 'boycotted', 'boycotts', 'boyd', 'boyega', 'boyer', 'boyfriend', 'boyhood', 'boyle', 'boys', 'bp', 'bra', 'brace', 'braced', 'bracelet', 'braces', 'brad', 'bradley', 'brady', 'braff', 'brain', 'brains', 'brake', 'brakes', 'braless', 'branch', 'branches', 'brand', 'branded', 'branding', 'brandon', 'brands', 'brandy', 'brangelina', 'branson', 'braun', 'brave', 'brawl', 'brazil', 'brazilian', 'breach', 'breached', 'breaches', 'bread', 'break', 'breakdown', 'breaker', 'breakers', 'breakfast', 'breaking', 'breakout', 'breaks', 'breakthrough', 'breakup', 'breast', 'breastfeeding', 'breasts', 'breath', 'breathe', 'breather', 'breathing', 'breeze', 'brendan', 'brenner', 'brent', 'brett', 'brewing', 'bria', 'brian', 'bribery', 'brick', 'brickell', 'bridal', 'bride', 'bridesmaid', 'bridge', 'brie', 'brief', 'briefing', 'briefly', 'briefs', 'brien', 'bright', 'brighten', 'brightens', 'brighter', 'brightest', 'brilliant', 'brin', 'bring', 'bringing', 'brings', 'brink', 'bristol', 'britain', 'british', 'britney', 'britons', 'brits', 'brittany', 'brittny', 'bro', 'broad', 'broadband', 'broadcast', 'broadcaster', 'broadcasters', 'broadcasting', 'broadcasts', 'broadchurch', 'broadens', 'broader', 'broadly', 'broadway', 'broadwell', 'brockie', 'brody', 'broke', 'broken', 'broker', 'brokers', 'broking', 'brolin', 'bromance', 'bronx', 'brooding', 'brooklyn', 'brooks', 'bros', 'brosnan', 'brother', 'brothers', 'brought', 'brown', 'browns', 'browse', 'browser', 'browsers', 'browsing', 'bruce', 'brunch', 'brunei', 'bruno', 'brunt', 'brushes', 'brussels', 'brutal', 'brutally', 'bryan', 'bskyb', 'bubble', 'bubbles', 'buck', 'bucket', 'buckle', 'buckles', 'bucks', 'budapest', 'buddies', 'buddy', 'budget', 'budweiser', 'buffalo', 'buffet', 'buffett', 'bug', 'bugs', 'buick', 'build', 'builder', 'builders', 'building', 'builds', 'built', 'bulgaria', 'bulgarian', 'bulger', 'bulk', 'bull', 'bullard', 'bullet', 'bullets', 'bullied', 'bullies', 'bullion', 'bullish', 'bullock', 'bulls', 'bully', 'bullying', 'bum', 'bump', 'bumped', 'bumper', 'bumping', 'bumps', 'bumpy', 'bunch', 'bundchen', 'bundle', 'bundles', 'bungie', 'bunny', 'buns', 'buoy', 'buoyant', 'buoyed', 'buoys', 'burberry', 'burden', 'bure', 'bureau', 'burger', 'burgers', 'burglarized', 'burglary', 'burial', 'buried', 'burke', 'burn', 'burned', 'burning', 'burns', 'burrito', 'burst', 'bursts', 'burton', 'burwell', 'bury', 'bus', 'busby', 'bush', 'busiest', 'business', 'businesses', 'bust', 'busted', 'busting', 'busts', 'busy', 'butler', 'butt', 'butterflies', 'butterfly', 'button', 'butts', 'buy', 'buyback', 'buybacks', 'buyer', 'buyers', 'buying', 'buyout', 'buys', 'buzz', 'bvo', 'bww', 'bye', 'bynes', 'bypass', 'byrne', 'bytes', 'ca', 'cab', 'cabaret', 'cabbage', 'cabbies', 'cabinet', 'cabins', 'cable', 'cabs', 'cache', 'cad', 'cadillac', 'caesar', 'caesars', 'cafe', 'caffeine', 'cage', 'cake', 'cal', 'calculator', 'caleb', 'calendar', 'calif', 'california', 'californians', 'call', 'called', 'calling', 'calls', 'calm', 'calorie', 'calories', 'calvin', 'cam', 'camaro', 'camaros', 'cambridge', 'came', 'camel', 'camelopardalid', 'camelopardalids', 'camels', 'cameo', 'cameos', 'camera', 'cameras', 'cameron', 'camp', 'campaign', 'campaigners', 'campaigns', 'campbell', 'campus', 'camry', 'canaccord', 'canada', 'canadian', 'canadians', 'cancel', 'cancelcolbert', 'canceled', 'canceling', 'cancellation', 'cancellations', 'cancelled', 'cancelling', 'cancels', 'cancer', 'cancerous', 'cancers', 'candace', 'candice', 'candid', 'candidate', 'candidates', 'candy', 'cannabis', 'canned', 'cannes', 'cannibal', 'cannibals', 'cannon', 'cannot', 'canon', 'cantor', 'cap', 'capabilities', 'capability', 'capable', 'capacity', 'cape', 'caper', 'capex', 'capital', 'capitalism', 'capitalist', 'capitol', 'capped', 'caps', 'capsule', 'capsules', 'captain', 'captive', 'capture', 'captured', 'captures', 'capturing', 'car', 'cara', 'caracal', 'carat', 'caravan', 'carb', 'carbon', 'card', 'cardboard', 'cardiac', 'cardiovascular', 'cards', 'care', 'career', 'careers', 'careful', 'carefully', 'caregivers', 'carell', 'cares', 'carey', 'cargill', 'cargo', 'caribbean', 'carl', 'carly', 'carlyle', 'carmakers', 'carnage', 'carney', 'carnival', 'carolina', 'carousel', 'carpet', 'carphone', 'carplay', 'carriage', 'carriages', 'carrie', 'carried', 'carrier', 'carriers', 'carries', 'carry', 'carrying', 'cars', 'carson', 'cart', 'carta', 'carter', 'cartoon', 'cartridges', 'casablancas', 'case', 'cases', 'casey', 'cash', 'cashes', 'casino', 'cast', 'casting', 'castle', 'castro', 'casts', 'casual', 'casualty', 'cat', 'catalog', 'catanzaro', 'cataract', 'catastrophe', 'catastrophic', 'catch', 'catcher', 'catches', 'catching', 'categories', 'category', 'cater', 'caterpillar', 'catherine', 'catholic', 'cats', 'cattle', 'caught', 'cause', 'caused', 'causes', 'causing', 'caution', 'cautions', 'cautious', 'cautiously', 'cavallari', 'cavanagh', 'cave', 'cavill', 'cbeyond', 'cbo', 'cbs', 'cc', 'cd', 'cdc', 'cease', 'cee', 'celeb', 'celebrate', 'celebrated', 'celebrates', 'celebrating', 'celebration', 'celebrations', 'celebrities', 'celebrity', 'celebs', 'celestial', 'celgene', 'celine', 'cell', 'cellphone', 'cellphones', 'cells', 'cellular', 'cement', 'cena', 'censor', 'censored', 'censorship', 'census', 'cent', 'center', 'centers', 'central', 'centre', 'centric', 'cents', 'century', 'ceo', 'ceos', 'cereal', 'cereals', 'ceremony', 'cersei', 'certain', 'certainly', 'certified', 'certifies', 'cervical', 'cesar', 'ceylan', 'cfda', 'cfdas', 'cfo', 'cfpb', 'cg', 'cgi', 'ch', 'cha', 'chad', 'chadder', 'chadwick', 'chai', 'chain', 'chains', 'chair', 'chairman', 'challenge', 'challenged', 'challenger', 'challenges', 'challenging', 'champ', 'champion', 'champions', 'chance', 'chancellor', 'chances', 'chanel', 'chang', 'change', 'changed', 'changer', 'changes', 'changing', 'channel', 'channels', 'channing', 'chaos', 'chaotic', 'chappelle', 'chapter', 'character', 'characters', 'charge', 'charged', 'charger', 'chargers', 'charges', 'charging', 'chariklo', 'charities', 'charity', 'charles', 'charleston', 'charlie', 'charlize', 'charlotte', 'charlottesville', 'charm', 'charming', 'charney', 'charon', 'chart', 'charter', 'charts', 'chase', 'chased', 'chases', 'chasing', 'chastain', 'chat', 'chats', 'chattanooga', 'chatter', 'chatting', 'chavez', 'cheap', 'cheaper', 'cheapest', 'cheat', 'cheated', 'cheating', 'cheats', 'check', 'checked', 'checking', 'checkout', 'checks', 'checkup', 'cheek', 'cheeky', 'cheer', 'cheerleader', 'cheers', 'cheese', 'cheesecake', 'cheetah', 'chef', 'chefs', 'chelsea', 'cheltenham', 'chemical', 'chemicals', 'chemistry', 'chemo', 'chemotherapy', 'chen', 'chennai', 'chernin', 'cherokee', 'cherry', 'cheryl', 'chesapeake', 'chest', 'chevrolet', 'chevron', 'chevy', 'chewbacca', 'chf', 'chia', 'chic', 'chicago', 'chick', 'chicken', 'chief', 'chiefs', 'chiklis', 'chikungunya', 'child', 'childbirth', 'childhood', 'children', 'chili', 'chill', 'chilling', 'chills', 'chime', 'chimerica', 'chimerix', 'chimps', 'china', 'chinese', 'ching', 'chip', 'chipmaker', 'chipotle', 'chips', 'chiquita', 'chloe', 'chmerkovskiy', 'chobani', 'chocolate', 'chocolates', 'choice', 'choices', 'choir', 'cholesterol', 'chong', 'choose', 'chooses', 'choosing', 'chop', 'choppy', 'chops', 'chord', 'chose', 'chosen', 'chris', 'christ', 'christian', 'christians', 'christie', 'christina', 'christine', 'christmas', 'christopher', 'chrome', 'chromebook', 'chromebooks', 'chromecast', 'chronic', 'chrysler', 'chu', 'chubby', 'chuck', 'chunk', 'church', 'churches', 'cialis', 'ciara', 'cig', 'cigarette', 'cigarettes', 'cigs', 'cincinnati', 'cinco', 'cinema', 'cinemacon', 'cinemas', 'cinematic', 'cinematographer', 'cio', 'circle', 'circles', 'circling', 'circuit', 'circular', 'circus', 'cirrus', 'cisco', 'cite', 'cited', 'cites', 'citi', 'citibank', 'cities', 'citigroup', 'citing', 'citizen', 'citizens', 'citrus', 'city', 'civil', 'civilization', 'cj', 'ck', 'clad', 'claim', 'claimed', 'claiming', 'claims', 'claire', 'clamp', 'clampdown', 'clan', 'clare', 'clarifies', 'clarify', 'clarity', 'clark', 'clarke', 'clarkson', 'clash', 'clashes', 'class', 'classic', 'classics', 'classified', 'classy', 'clause', 'claws', 'clay', 'clean', 'cleaner', 'cleaning', 'cleans', 'cleanup', 'clear', 'cleared', 'clearer', 'clearing', 'clearly', 'clears', 'cleary', 'cleavage', 'cleveland', 'clever', 'clich', 'cliches', 'click', 'clicks', 'client', 'clients', 'cliff', 'climate', 'climb', 'climbed', 'climbing', 'climbs', 'clinches', 'clinic', 'clinical', 'clinics', 'clint', 'clinton', 'clip', 'clips', 'clock', 'clone', 'cloned', 'clones', 'cloning', 'clooney', 'close', 'closed', 'closely', 'closer', 'closes', 'closest', 'closing', 'closure', 'closures', 'clot', 'clothes', 'clothing', 'clots', 'cloud', 'clouds', 'cloudy', 'clover', 'clown', 'club', 'clue', 'clueless', 'clues', 'clunky', 'cluster', 'cmcsa', 'cmg', 'cms', 'cnbc', 'cnn', 'co', 'coach', 'coachella', 'coaches', 'coal', 'coalition', 'coast', 'coastal', 'coaster', 'cobain', 'cobalt', 'cobra', 'coca', 'cocaine', 'cochlear', 'cochran', 'cockpit', 'cocktail', 'cocktails', 'code', 'codeine', 'coding', 'cody', 'coen', 'coffee', 'coffin', 'cofounder', 'cognitive', 'cohen', 'coin', 'coins', 'coke', 'cola', 'colbert', 'cold', 'coldest', 'coldplay', 'coldwater', 'coleman', 'colfer', 'coli', 'colin', 'colitis', 'collaborate', 'collaboration', 'collapse', 'collapsed', 'collapses', 'collapsing', 'colleagues', 'collect', 'collected', 'collecting', 'collection', 'collector', 'collectors', 'collects', 'college', 'collide', 'collided', 'collins', 'collision', 'colo', 'colombia', 'colombian', 'colon', 'colonoscopy', 'color', 'colorado', 'colorectal', 'colorful', 'colors', 'colossal', 'colour', 'colourful', 'colours', 'columbia', 'columbus', 'column', 'columnist', 'columns', 'com', 'coma', 'combat', 'combating', 'combination', 'combine', 'combined', 'combines', 'combining', 'combo', 'combs', 'comcast', 'come', 'comeback', 'comedian', 'comedic', 'comedies', 'comedy', 'comes', 'comet', 'comex', 'comfort', 'comfortable', 'comic', 'comics', 'coming', 'comixology', 'command', 'commands', 'commemorate', 'commemorates', 'commence', 'commencement', 'comment', 'commentary', 'comments', 'commerce', 'commercial', 'commission', 'commissioner', 'commit', 'commitment', 'commitments', 'commits', 'committed', 'committee', 'commodities', 'commodity', 'common', 'commonwealth', 'communicated', 'communication', 'communications', 'communion', 'communities', 'community', 'commute', 'commuter', 'commuters', 'compact', 'companies', 'companion', 'company', 'compare', 'compared', 'compares', 'comparing', 'comparison', 'comparisons', 'compass', 'compatibility', 'compatible', 'compelling', 'compensation', 'compete', 'competing', 'competition', 'competitive', 'competitor', 'competitors', 'complacency', 'complacent', 'complain', 'complained', 'complaining', 'complains', 'complaint', 'complaints', 'complete', 'completed', 'completely', 'completes', 'complex', 'compliance', 'complicated', 'complication', 'complications', 'comply', 'component', 'components', 'composer', 'composite', 'compound', 'comprehensive', 'compromise', 'compromised', 'compton', 'computer', 'computers', 'computex', 'computing', 'comrie', 'con', 'conagra', 'conakry', 'conan', 'concentration', 'concept', 'conception', 'concepts', 'concern', 'concerned', 'concerns', 'concert', 'concertgoers', 'concerts', 'conchita', 'concierge', 'conclude', 'concludes', 'conclusion', 'concussion', 'concussions', 'condemn', 'condemned', 'condemns', 'condition', 'conditional', 'conditions', 'condo', 'condoms', 'conduct', 'conducted', 'conducting', 'conducts', 'cone', 'conference', 'confesses', 'confession', 'confidence', 'confident', 'confirm', 'confirmation', 'confirmed', 'confirming', 'confirms', 'conflict', 'conflicting', 'conflicts', 'confront', 'confrontation', 'confronted', 'confronts', 'confused', 'confusing', 'confusion', 'congo', 'congrats', 'congratulates', 'congress', 'congressional', 'congressman', 'conjoined', 'conn', 'connect', 'connected', 'connecticut', 'connecting', 'connection', 'connections', 'connectivity', 'connector', 'connects', 'connelly', 'connick', 'connor', 'conquer', 'conquest', 'conquests', 'cons', 'conscious', 'consciously', 'consecutive', 'consensus', 'consent', 'consequences', 'conservation', 'conservative', 'conservatives', 'consider', 'consideration', 'considered', 'considering', 'considers', 'consistent', 'console', 'consoles', 'consolidate', 'consolidates', 'consolidation', 'consortium', 'conspiracy', 'constancio', 'constant', 'constantly', 'constitution', 'constitutional', 'construction', 'consumer', 'consumers', 'consuming', 'consumption', 'contact', 'contacts', 'contagion', 'contagious', 'contain', 'contained', 'container', 'containing', 'contains', 'contaminated', 'contamination', 'contemporary', 'contempt', 'contender', 'content', 'contest', 'contestant', 'contestants', 'context', 'continent', 'continue', 'continued', 'continues', 'continuing', 'continuity', 'contraception', 'contraceptive', 'contract', 'contracted', 'contracting', 'contractor', 'contractors', 'contracts', 'contribute', 'contributed', 'contributes', 'contributor', 'control', 'controlled', 'controller', 'controllers', 'controlling', 'controls', 'controversial', 'controversy', 'convenes', 'convention', 'conventional', 'converge', 'conversation', 'conversations', 'conversion', 'convertible', 'convicted', 'conviction', 'convince', 'convinced', 'coo', 'cook', 'cooking', 'cool', 'cooler', 'coolest', 'cooling', 'cools', 'cooper', 'cooperation', 'cop', 'copaxone', 'cope', 'copied', 'copies', 'copper', 'coppola', 'cops', 'copy', 'copying', 'copyright', 'coral', 'corbett', 'cord', 'core', 'corey', 'cork', 'corn', 'corned', 'cornelius', 'cornell', 'corner', 'coronavirus', 'coroner', 'corp', 'corporate', 'corporation', 'corporations', 'corps', 'correct', 'corrected', 'correction', 'correctness', 'corrects', 'corruption', 'cortana', 'corvette', 'cory', 'cos', 'cosby', 'cosmic', 'cosmos', 'cosplay', 'cost', 'costa', 'costco', 'costing', 'costly', 'costner', 'costolo', 'costs', 'costume', 'costumes', 'cosy', 'cota', 'cotillard', 'cottage', 'cotton', 'couch', 'cough', 'could', 'coulier', 'council', 'counihan', 'counseling', 'counselor', 'counselors', 'count', 'countdown', 'counter', 'counters', 'counties', 'counting', 'countries', 'country', 'countrywide', 'counts', 'county', 'coup', 'coupe', 'couple', 'couples', 'courage', 'couric', 'course', 'court', 'courteney', 'courtesy', 'courting', 'courtney', 'courtroom', 'courts', 'cousin', 'cousteau', 'couture', 'cov', 'cover', 'coverage', 'covered', 'covering', 'covers', 'covert', 'coveted', 'covidien', 'cow', 'cowell', 'cowles', 'cows', 'cox', 'coyne', 'cozy', 'cpi', 'cpu', 'cr', 'cra', 'crack', 'crackdown', 'cracked', 'cracking', 'crackle', 'cracks', 'craft', 'crafts', 'craig', 'cramer', 'cramming', 'cranks', 'cranston', 'crap', 'crapo', 'crash', 'crashed', 'crashes', 'crashing', 'crater', 'cravings', 'crawford', 'crawl', 'crawley', 'craze', 'crazed', 'craziest', 'crazy', 'cream', 'create', 'created', 'creates', 'creating', 'creation', 'creationists', 'creative', 'creativity', 'creator', 'creators', 'creature', 'creatures', 'cred', 'credentials', 'credibility', 'credible', 'credit', 'creditors', 'credits', 'creed', 'creek', 'creep', 'creeps', 'creepy', 'cref', 'cressida', 'crew', 'crews', 'cricket', 'cried', 'cries', 'crime', 'crimea', 'crimes', 'criminal', 'criminals', 'cringe', 'cripple', 'crippled', 'crises', 'crisis', 'criss', 'cristina', 'critic', 'critical', 'critically', 'criticised', 'criticises', 'criticism', 'criticize', 'criticized', 'criticizes', 'critics', 'crocodile', 'crohn', 'croke', 'cronenberg', 'crop', 'crops', 'crore', 'crosby', 'cross', 'crosse', 'crossed', 'crosses', 'crossing', 'crossover', 'crossovers', 'crow', 'crowd', 'crowded', 'crowdfunding', 'crowds', 'crowe', 'crown', 'crowned', 'crowns', 'crows', 'crucial', 'crucifixion', 'crude', 'cruel', 'cruise', 'cruises', 'crumbles', 'crumbling', 'crumbs', 'crunch', 'crusade', 'crush', 'crushed', 'crushes', 'crushing', 'cruz', 'cruze', 'cruzes', 'cry', 'cryengine', 'crying', 'cryptic', 'cryptocurrency', 'cryptolocker', 'crystal', 'crytek', 'cs', 'ct', 'ctia', 'ctos', 'cts', 'cu', 'cub', 'cuba', 'cube', 'cuddle', 'cuddles', 'cuddly', 'cue', 'cues', 'culkin', 'cull', 'culprit', 'cult', 'cultural', 'culture', 'cumberbatch', 'cumia', 'cumming', 'cuoco', 'cuomo', 'cup', 'cupcake', 'cupcakes', 'cups', 'curate', 'curb', 'curbing', 'curbs', 'cure', 'cured', 'cures', 'curiosity', 'curious', 'currencies', 'currency', 'current', 'currently', 'curry', 'curse', 'curtain', 'curve', 'curved', 'curves', 'custody', 'custom', 'customer', 'customers', 'customizable', 'customization', 'customize', 'customs', 'cut', 'cutbacks', 'cute', 'cutest', 'cutler', 'cuts', 'cutters', 'cutting', 'cw', 'cyanogenmod', 'cyber', 'cyberattack', 'cybercrime', 'cybersecurity', 'cyberspying', 'cyborg', 'cycle', 'cyclists', 'cygnus', 'cynical', 'cynicism', 'cynk', 'cynthia', 'cyprus', 'cyrus', 'da', 'dad', 'daddy', 'dads', 'daenerys', 'dai', 'daiichi', 'daily', 'dailydish', 'daimler', 'dairy', 'daisy', 'dakota', 'dallas', 'dam', 'damage', 'damaged', 'damages', 'damaging', 'dame', 'damn', 'damon', 'dan', 'dance', 'dancer', 'dancers', 'dances', 'dancing', 'dane', 'danger', 'dangerous', 'dangerously', 'dangers', 'dani', 'danica', 'daniel', 'daniels', 'danish', 'danny', 'danske', 'darabont', 'darden', 'dare', 'daredevil', 'daring', 'dark', 'darker', 'darkness', 'darling', 'darpa', 'darren', 'dash', 'dashboard', 'data', 'database', 'date', 'dated', 'dates', 'dating', 'daughter', 'daughters', 'daum', 'dave', 'david', 'davidson', 'davis', 'dawn', 'dax', 'day', 'daylight', 'days', 'daytime', 'dazeem', 'dazs', 'dazzle', 'dazzles', 'dazzling', 'dc', 'ddd', 'ddos', 'de', 'dea', 'dead', 'deadlier', 'deadliest', 'deadline', 'deadly', 'deadmau', 'deaf', 'deal', 'dealer', 'dealers', 'dealerships', 'dealing', 'deals', 'dealt', 'dean', 'dear', 'death', 'deaths', 'debacle', 'debate', 'debates', 'debbie', 'debit', 'debris', 'debt', 'debts', 'debunk', 'debunked', 'debunks', 'debut', 'debuting', 'debuts', 'dec', 'decade', 'decades', 'deceased', 'deceived', 'deceiving', 'december', 'decent', 'deception', 'deceptive', 'decide', 'decided', 'decides', 'decision', 'decisions', 'decisive', 'deck', 'declaration', 'declare', 'declared', 'declares', 'declaring', 'decline', 'declined', 'declines', 'declining', 'decrease', 'decreased', 'decreases', 'decreasing', 'decries', 'decry', 'dedicated', 'dedicates', 'dedication', 'dee', 'deemed', 'deems', 'deep', 'deepens', 'deeper', 'deepest', 'deeply', 'deepwater', 'default', 'defaults', 'defeat', 'defeats', 'defect', 'defective', 'defects', 'defence', 'defend', 'defended', 'defending', 'defends', 'defense', 'defensive', 'defiant', 'deficiency', 'deficit', 'deficits', 'defies', 'define', 'defined', 'definitely', 'definition', 'definitive', 'deflation', 'deflationary', 'defy', 'degeneres', 'degrasse', 'degree', 'dehaan', 'del', 'delaware', 'delay', 'delayed', 'delaying', 'delays', 'delete', 'deleted', 'deletes', 'deleting', 'delevingne', 'delhi', 'deliberately', 'deliberations', 'delicious', 'delight', 'delights', 'deliver', 'delivered', 'deliveries', 'delivering', 'delivers', 'delivery', 'dell', 'delmarvas', 'delphi', 'delta', 'delvin', 'demand', 'demanding', 'demands', 'dementia', 'demi', 'demise', 'demo', 'democracy', 'democrat', 'democratic', 'democrats', 'demonstrate', 'demonstrates', 'demonstration', 'demos', 'dems', 'dengue', 'denial', 'denied', 'denies', 'denim', 'denounces', 'dent', 'dentist', 'dents', 'denver', 'deny', 'denzel', 'depardieu', 'depart', 'departing', 'department', 'departs', 'departure', 'depends', 'depiction', 'deploy', 'deposit', 'deposition', 'deposits', 'depot', 'depp', 'depressed', 'depressing', 'depression', 'deprill', 'dept', 'depth', 'deputies', 'deputy', 'derail', 'derailed', 'derailment', 'derails', 'derek', 'derrickson', 'derulo', 'deryck', 'described', 'describes', 'desert', 'deserve', 'deserved', 'deserves', 'design', 'designation', 'designed', 'designer', 'designers', 'designing', 'designs', 'desire', 'desktop', 'desktops', 'desperate', 'desperately', 'despite', 'destination', 'destined', 'destiny', 'destroy', 'destroyed', 'destroying', 'destroys', 'destruction', 'detail', 'detailed', 'details', 'detained', 'detect', 'detected', 'detecting', 'detection', 'detective', 'detector', 'detectors', 'detects', 'deter', 'determine', 'determined', 'determines', 'detroit', 'deutsche', 'deutschland', 'dev', 'devastated', 'devastating', 'develop', 'developed', 'developer', 'developers', 'developing', 'development', 'developments', 'develops', 'device', 'devices', 'devil', 'devon', 'devoted', 'devotion', 'devs', 'dewan', 'dexter', 'dhabi', 'di', 'diabetes', 'diabetic', 'diabetics', 'diablo', 'diagnose', 'diagnosed', 'diagnoses', 'diagnosis', 'diagnostics', 'diagon', 'dialogue', 'dials', 'dialysis', 'diamond', 'diamonds', 'diana', 'diane', 'dianna', 'diary', 'diaz', 'dibs', 'dicaprio', 'dick', 'dictator', 'diddy', 'die', 'died', 'diego', 'diem', 'dies', 'diesel', 'diet', 'dietary', 'dieters', 'dieting', 'diets', 'difference', 'differences', 'different', 'differently', 'difficult', 'difficulties', 'dig', 'digest', 'digging', 'digit', 'digital', 'digits', 'digs', 'dilemma', 'diller', 'dim', 'dimensions', 'dimon', 'dina', 'diners', 'dining', 'dinklage', 'dinner', 'dino', 'dinosaur', 'dinosaurs', 'dion', 'dior', 'dioxide', 'dip', 'dipping', 'dips', 'dire', 'direct', 'directed', 'directing', 'direction', 'directions', 'directly', 'director', 'directorial', 'directors', 'directs', 'directtv', 'directv', 'dirt', 'dirtiest', 'dirty', 'dis', 'disability', 'disable', 'disabled', 'disagree', 'disappear', 'disappearance', 'disappearing', 'disappoint', 'disappointed', 'disappointing', 'disappointment', 'disappoints', 'disaster', 'disasters', 'disastrous', 'disclose', 'discloses', 'disclosure', 'discontinue', 'discontinued', 'discontinues', 'discount', 'discounted', 'discounts', 'discourages', 'discouraging', 'discover', 'discovered', 'discovers', 'discovery', 'discrimination', 'discuss', 'discussed', 'discusses', 'discussing', 'discussion', 'discussions', 'disease', 'diseases', 'disguise', 'disguised', 'disgusted', 'disgusting', 'dish', 'dishes', 'disick', 'disks', 'dismal', 'dismiss', 'dismissal', 'dismissed', 'dismisses', 'disney', 'disneyland', 'disneynature', 'disorder', 'disorderly', 'disorders', 'disparaging', 'display', 'displays', 'dispute', 'disputed', 'disputes', 'disrespectful', 'disrupt', 'disrupted', 'disrupting', 'disruption', 'disruptions', 'disruptive', 'disrupts', 'diss', 'dissed', 'dissent', 'disses', 'dissing', 'distance', 'distances', 'distant', 'distinct', 'distinguish', 'distracted', 'distraction', 'distraught', 'distressed', 'distributed', 'distribution', 'district', 'disturbing', 'ditch', 'ditched', 'ditches', 'ditching', 'diva', 'dive', 'divergent', 'diverse', 'diversity', 'diverted', 'dives', 'divest', 'divide', 'divided', 'dividend', 'dividends', 'diving', 'division', 'divorce', 'divorced', 'divorcing', 'dixons', 'dj', 'djia', 'dlc', 'dmitry', 'dmv', 'dna', 'doc', 'dock', 'docker', 'docking', 'docks', 'docomo', 'docs', 'doctor', 'doctors', 'docu', 'document', 'documentary', 'documents', 'dodge', 'dodgers', 'dodges', 'dodging', 'dog', 'dogg', 'dogs', 'doh', 'doj', 'dolan', 'dolby', 'dolce', 'doldrums', 'doll', 'dollar', 'dollars', 'dolls', 'dolly', 'dolphin', 'dolphins', 'dom', 'domain', 'dome', 'domestic', 'domestication', 'dominance', 'dominate', 'dominated', 'dominates', 'dominating', 'domination', 'domino', 'donald', 'donate', 'donated', 'donates', 'donating', 'donation', 'donations', 'done', 'donetsk', 'dong', 'donnell', 'donner', 'donnie', 'donor', 'donors', 'donovan', 'dons', 'doo', 'doodle', 'doom', 'doomed', 'door', 'doors', 'dorchester', 'dorfman', 'dornan', 'dorothy', 'dos', 'dose', 'doses', 'dot', 'dotcom', 'dots', 'double', 'doubled', 'doubles', 'doubling', 'doubt', 'doubters', 'doubtfire', 'doubts', 'doug', 'doughnuts', 'douglas', 'dov', 'dove', 'dovish', 'dow', 'dowd', 'downbeat', 'downed', 'downes', 'downey', 'downgrade', 'downgraded', 'downgrades', 'download', 'downloads', 'downplays', 'downs', 'downside', 'downtown', 'downward', 'dozen', 'dozens', 'dr', 'draft', 'drag', 'dragged', 'draghi', 'dragon', 'dragons', 'drags', 'drain', 'drake', 'drama', 'dramatic', 'dramatically', 'draper', 'drastic', 'drastically', 'draw', 'drawing', 'drawn', 'draws', 'dre', 'dreadful', 'dream', 'dreaming', 'dreamliner', 'dreams', 'dreamworks', 'dress', 'dressed', 'dresses', 'dressing', 'drew', 'dreyfus', 'dri', 'drift', 'drifting', 'drifts', 'drill', 'drilling', 'drills', 'drink', 'drinkable', 'drinker', 'drinkers', 'drinking', 'drinks', 'drive', 'driven', 'driver', 'driverless', 'drivers', 'drives', 'driving', 'drone', 'drones', 'drop', 'dropbox', 'dropcam', 'dropped', 'dropping', 'drops', 'drought', 'drove', 'drowsy', 'drug', 'drugging', 'drugmaker', 'drugs', 'drugstore', 'drum', 'drummer', 'drunk', 'drunken', 'dry', 'ds', 'dsk', 'dsw', 'dtv', 'dual', 'duane', 'dubai', 'dubbed', 'dubious', 'dublin', 'duchenne', 'duchess', 'duck', 'dud', 'dude', 'dudley', 'due', 'duel', 'duet', 'duets', 'duff', 'dug', 'dui', 'duke', 'dull', 'dumb', 'dump', 'dumped', 'dumping', 'dumps', 'duncan', 'dunham', 'duo', 'duos', 'dupont', 'durable', 'duracell', 'durata', 'durbin', 'durham', 'dust', 'dutch', 'duties', 'duty', 'dvd', 'dvf', 'dvr', 'dwarf', 'dwayne', 'dwi', 'dwts', 'dx', 'dyes', 'dying', 'dyken', 'dylan', 'dynamic', 'dynasty', 'dysfunction', 'dystrophy', 'ea', 'eaccess', 'eager', 'eagle', 'ear', 'earbuds', 'earlier', 'early', 'earn', 'earned', 'earning', 'earnings', 'earns', 'earp', 'earphones', 'earpods', 'ears', 'earth', 'earthquake', 'earthquakes', 'earthrise', 'earths', 'ease', 'eased', 'eases', 'easier', 'easily', 'easing', 'east', 'easter', 'eastern', 'eastwood', 'easy', 'easyjet', 'eat', 'eaten', 'eating', 'eats', 'eavesdropping', 'eavis', 'eazy', 'ebay', 'ebert', 'ebola', 'ebook', 'ebooks', 'ec', 'ecb', 'eccentric', 'echo', 'echoes', 'eclipse', 'eclipses', 'eco', 'ecoboost', 'economic', 'economics', 'economies', 'economist', 'economists', 'economy', 'ecosystem', 'ecosystems', 'ecowas', 'ecstasy', 'eczema', 'ed', 'eddie', 'eddy', 'edgar', 'edge', 'edged', 'edges', 'edging', 'edie', 'edit', 'editing', 'edition', 'editions', 'editor', 'editorial', 'edt', 'education', 'edward', 'edwards', 'eerie', 'eerily', 'effect', 'effective', 'effectively', 'effectiveness', 'effects', 'efficacy', 'efficiency', 'efficient', 'effort', 'efforts', 'efron', 'egan', 'egg', 'egging', 'eggs', 'ego', 'egypt', 'egyptian', 'eia', 'eich', 'eight', 'eighth', 'either', 'el', 'elaine', 'elba', 'elder', 'elderly', 'elec', 'elected', 'election', 'elections', 'electric', 'electrical', 'electricity', 'electro', 'electron', 'electronic', 'electronics', 'elegant', 'element', 'elementary', 'elephant', 'elephants', 'elevated', 'elevator', 'eleven', 'elgort', 'eli', 'eligible', 'eliminate', 'eliminated', 'eliminates', 'elimination', 'eliminations', 'elin', 'elisabeth', 'elite', 'elizabeth', 'elle', 'ellen', 'ellie', 'elliot', 'elliott', 'elon', 'elop', 'elope', 'elr', 'elsa', 'else', 'elsewhere', 'elton', 'elusive', 'elvis', 'em', 'email', 'emails', 'emanuel', 'embark', 'embarks', 'embarrassed', 'embarrassing', 'embassy', 'embattled', 'embrace', 'embraced', 'embraces', 'embracing', 'embryonic', 'emc', 'emerge', 'emergency', 'emerges', 'emerging', 'emilia', 'emily', 'eminem', 'emirates', 'emission', 'emissions', 'emma', 'emmy', 'emmys', 'emoji', 'emojis', 'emotion', 'emotional', 'emotionally', 'emotions', 'emperor', 'emphasizes', 'empire', 'employee', 'employees', 'employer', 'employers', 'employment', 'empower', 'empowerment', 'empty', 'emt', 'en', 'enable', 'enabled', 'enables', 'encana', 'encounter', 'encourage', 'encouraged', 'encourages', 'encouraging', 'encrypted', 'encryption', 'encrypts', 'end', 'endangered', 'endangers', 'ended', 'ending', 'endless', 'endocyte', 'endorses', 'ends', 'enemies', 'enemy', 'energy', 'enforce', 'enforcement', 'engage', 'engaged', 'engagement', 'engaging', 'engine', 'engineer', 'engineered', 'engineering', 'engineers', 'engines', 'england', 'english', 'enhance', 'enhanced', 'enhancements', 'enhances', 'eni', 'enjoy', 'enjoyed', 'enjoys', 'enlisted', 'enlists', 'enormous', 'enough', 'enovance', 'enroll', 'enrolled', 'enrollees', 'enrollment', 'ensure', 'enter', 'entered', 'entering', 'enterprise', 'enterprises', 'enters', 'entertainer', 'entertaining', 'entertainment', 'enthusiasts', 'entire', 'entirely', 'entrance', 'entrepreneur', 'entrepreneurs', 'entries', 'entry', 'entwistle', 'entyvio', 'envelopes', 'environment', 'environmental', 'envoy', 'envy', 'ep', 'epa', 'epic', 'epidemic', 'epilepsy', 'episcopal', 'episode', 'episodes', 'eps', 'equal', 'equality', 'equalizer', 'equals', 'equinox', 'equipment', 'equipped', 'equities', 'equity', 'er', 'era', 'eradicate', 'erase', 'erased', 'erases', 'erdogan', 'erectile', 'eric', 'ericsson', 'erie', 'error', 'errors', 'ers', 'erste', 'erupting', 'eruption', 'erupts', 'erykah', 'esa', 'escalate', 'escalates', 'escalating', 'escape', 'escapes', 'escaping', 'escort', 'escorted', 'especially', 'espionage', 'esposito', 'espresso', 'espy', 'espys', 'esque', 'essay', 'essence', 'essential', 'est', 'establish', 'estate', 'estimate', 'estimated', 'estimates', 'estranged', 'et', 'eta', 'eteplirsen', 'eternal', 'etf', 'etfs', 'ethanol', 'ethereal', 'ethical', 'ethics', 'etihad', 'eu', 'eur', 'euro', 'europe', 'european', 'europeans', 'euros', 'eurosceptic', 'eurostar', 'eurotunnel', 'eurovision', 'eurozone', 'eurusd', 'ev', 'eva', 'evacuate', 'evacuated', 'evacuates', 'evade', 'evaluate', 'evaluation', 'evans', 'evansville', 'evasion', 'eve', 'even', 'evening', 'event', 'events', 'eventually', 'ever', 'everest', 'every', 'everybody', 'everyday', 'everyone', 'everything', 'everywhere', 'eviction', 'evidence', 'evil', 'evolution', 'evolutionary', 'evolved', 'ew', 'ex', 'exact', 'exactly', 'exaggerated', 'exam', 'examine', 'examined', 'examiner', 'examines', 'examining', 'example', 'exams', 'exceed', 'exceeds', 'excel', 'excellent', 'except', 'excerpt', 'excess', 'excessive', 'exchange', 'exchanges', 'excited', 'excitement', 'exciting', 'exclusive', 'exclusively', 'excuse', 'exec', 'execs', 'executive', 'executives', 'exelon', 'exercise', 'exhausting', 'exhibit', 'exhibition', 'exist', 'existence', 'existing', 'exists', 'exit', 'exiting', 'exits', 'exodus', 'exomoon', 'exoplanet', 'exoskeleton', 'exotic', 'expand', 'expanded', 'expanding', 'expands', 'expansion', 'expect', 'expectancy', 'expectations', 'expected', 'expecting', 'expects', 'expedition', 'expendables', 'expense', 'expenses', 'expensive', 'experience', 'experiences', 'experiencing', 'experiment', 'experimental', 'experimented', 'experimenting', 'experiments', 'expert', 'experts', 'expires', 'explain', 'explained', 'explainer', 'explaining', 'explains', 'explanation', 'expletive', 'explicit', 'explode', 'explodes', 'exploding', 'exploit', 'exploited', 'exploiting', 'exploits', 'exploration', 'explore', 'explored', 'explorer', 'explorers', 'explores', 'exploring', 'explosion', 'explosions', 'explosive', 'expo', 'export', 'exporting', 'exports', 'expose', 'exposed', 'exposes', 'exposure', 'expr', 'express', 'expresses', 'expression', 'expressions', 'expressway', 'extant', 'extend', 'extended', 'extending', 'extends', 'extension', 'extensions', 'extensive', 'external', 'extinct', 'extinction', 'extortion', 'extra', 'extract', 'extradited', 'extradition', 'extraordinary', 'extravaganza', 'extreme', 'extremely', 'exxon', 'exynos', 'eye', 'eyebrows', 'eyed', 'eyeing', 'eyes', 'eyewear', 'faa', 'fab', 'fabien', 'fabricated', 'fabulous', 'face', 'facebook', 'faced', 'facelift', 'faces', 'facetime', 'facial', 'facilities', 'facility', 'facing', 'fact', 'factbox', 'factor', 'factories', 'factors', 'factory', 'facts', 'fad', 'fade', 'fades', 'fading', 'fail', 'failed', 'failing', 'failings', 'fails', 'failure', 'failures', 'faint', 'fair', 'fairfax', 'fairly', 'fairness', 'fairy', 'fairytale', 'faith', 'faithful', 'fake', 'faked', 'fakes', 'faking', 'falcon', 'falcone', 'fall', 'fallen', 'falling', 'fallon', 'fallout', 'falls', 'false', 'falsified', 'falter', 'falters', 'fame', 'famed', 'famer', 'familiar', 'families', 'family', 'famous', 'fan', 'fancy', 'fandango', 'fanless', 'fannie', 'fanning', 'fans', 'fantastic', 'fantasy', 'faq', 'far', 'farce', 'fare', 'fared', 'fares', 'farewell', 'fargo', 'farley', 'farm', 'farmer', 'farmers', 'farming', 'farmland', 'farms', 'farmville', 'fascinating', 'fashion', 'fashionable', 'fashioned', 'fast', 'faster', 'fastest', 'fasting', 'fat', 'fatal', 'fatality', 'fatburger', 'fate', 'father', 'fathers', 'fatigue', 'fats', 'fatter', 'fattest', 'fatty', 'fault', 'faults', 'faulty', 'faux', 'favor', 'favorable', 'favorite', 'favorites', 'favors', 'favour', 'favourite', 'favourites', 'favreau', 'fb', 'fbi', 'fca', 'fcc', 'fda', 'fdr', 'fear', 'feared', 'fears', 'feast', 'feat', 'feathers', 'feature', 'featured', 'features', 'featurette', 'featuring', 'feb', 'february', 'fed', 'federal', 'fedex', 'feds', 'fee', 'feed', 'feedback', 'feeding', 'feeds', 'feel', 'feeling', 'feelings', 'feels', 'feely', 'fees', 'feet', 'fell', 'fellow', 'felony', 'felt', 'female', 'feminism', 'feminist', 'fence', 'fend', 'ferguson', 'ferrari', 'ferras', 'ferrell', 'ferrera', 'ferry', 'fertility', 'fertilization', 'fest', 'festival', 'festivals', 'festivities', 'fetch', 'fetches', 'feud', 'feuding', 'fever', 'fewer', 'fey', 'fha', 'fhfa', 'fi', 'fianc', 'fiance', 'fiancee', 'fiasco', 'fiat', 'fiber', 'fibroid', 'fiction', 'fidelity', 'field', 'fields', 'fierce', 'fiery', 'fifa', 'fifi', 'fifth', 'fifty', 'fight', 'fightback', 'fighter', 'fighters', 'fighting', 'fights', 'figure', 'figured', 'figures', 'figurine', 'file', 'filed', 'filers', 'files', 'filing', 'filipino', 'filipinos', 'fill', 'filled', 'filling', 'fills', 'film', 'filmed', 'filming', 'filmmaker', 'filmmakers', 'films', 'filters', 'final', 'finale', 'finalise', 'finalises', 'finalist', 'finalists', 'finalize', 'finalized', 'finalizes', 'finally', 'finals', 'finance', 'finances', 'financial', 'financials', 'financier', 'financing', 'fincher', 'find', 'finding', 'findings', 'finds', 'fine', 'fined', 'fines', 'finest', 'finger', 'fingerprint', 'fingerreader', 'finish', 'finished', 'finishes', 'finland', 'finnish', 'fio', 'fire', 'firearms', 'fireball', 'fired', 'firefighters', 'firefly', 'firefox', 'fires', 'firestorm', 'firewalls', 'firework', 'fireworks', 'firing', 'firm', 'firmer', 'firming', 'firmly', 'firms', 'firmware', 'first', 'firsttweet', 'firth', 'fiscal', 'fischer', 'fish', 'fisher', 'fisheries', 'fishermen', 'fishing', 'fist', 'fit', 'fitbit', 'fitch', 'fitness', 'fittest', 'fitting', 'fitz', 'fitzpatrick', 'five', 'fives', 'fix', 'fixed', 'fixes', 'fixing', 'fizzle', 'fizzles', 'fl', 'fla', 'flag', 'flagged', 'flagging', 'flags', 'flagship', 'flagships', 'flame', 'flames', 'flaming', 'flap', 'flappy', 'flare', 'flares', 'flash', 'flashback', 'flashes', 'flat', 'flaunt', 'flaunts', 'flavor', 'flavors', 'flaw', 'flawed', 'flawless', 'flaws', 'flee', 'fleet', 'fleetwood', 'flesh', 'flew', 'flex', 'flexes', 'flexibility', 'flexible', 'flick', 'flickr', 'flier', 'flies', 'flight', 'flights', 'fling', 'flip', 'flipkart', 'flipped', 'flipping', 'flips', 'flirt', 'flirting', 'flirts', 'flirty', 'float', 'floating', 'floats', 'flock', 'flood', 'flooded', 'flooding', 'floods', 'floor', 'flop', 'floppy', 'flops', 'floral', 'florence', 'florida', 'floridians', 'flounder', 'flow', 'flowers', 'flown', 'flows', 'floyd', 'flu', 'flub', 'flubs', 'fluctuate', 'fluid', 'flurry', 'flush', 'fly', 'flyers', 'flying', 'fm', 'focus', 'focused', 'focuses', 'focusing', 'foe', 'foes', 'foil', 'fold', 'folders', 'folks', 'follow', 'followed', 'following', 'follows', 'fomc', 'fonda', 'font', 'foo', 'food', 'foodborne', 'foods', 'fool', 'fooled', 'fools', 'foot', 'footage', 'football', 'footing', 'footloose', 'footprint', 'footprints', 'footsie', 'footsteps', 'foray', 'forbes', 'force', 'forced', 'forces', 'forcing', 'ford', 'forecast', 'forecasts', 'foreign', 'foresees', 'forest', 'forever', 'forex', 'forfour', 'forge', 'forget', 'forgets', 'forgetting', 'forgiveness', 'forgot', 'forgotten', 'fork', 'form', 'formal', 'formally', 'format', 'former', 'formerly', 'forms', 'formula', 'fort', 'forthcoming', 'fortified', 'fortress', 'fortune', 'fortunes', 'fortwo', 'forum', 'forward', 'fossil', 'fossils', 'foster', 'fought', 'foul', 'found', 'foundation', 'founder', 'founders', 'fountain', 'four', 'foursquare', 'fourth', 'fox', 'foxcatcher', 'foxconn', 'foxx', 'fps', 'fracking', 'fracture', 'frame', 'frames', 'franc', 'france', 'frances', 'franchise', 'franchisees', 'francis', 'francisco', 'franco', 'frank', 'franken', 'frankie', 'franklin', 'frat', 'fraud', 'fraudulent', 'fray', 'freak', 'freaking', 'freaks', 'freaky', 'fred', 'freddie', 'free', 'freebies', 'freed', 'freedom', 'freeman', 'freepalestine', 'frees', 'freeway', 'freeze', 'frehley', 'freida', 'freight', 'french', 'frenzy', 'frequency', 'frequent', 'frequently', 'fresh', 'fresno', 'fret', 'friday', 'fridge', 'fried', 'friend', 'friendly', 'friends', 'friendship', 'frieze', 'fringe', 'frog', 'front', 'frontier', 'frontman', 'fronts', 'frostie', 'frozen', 'fruit', 'fruits', 'frustrated', 'frustration', 'fry', 'ft', 'fta', 'ftc', 'ftse', 'fuel', 'fuelband', 'fueled', 'fueling', 'fuelled', 'fuels', 'fugitive', 'fukushima', 'full', 'fully', 'fun', 'function', 'functional', 'functionality', 'functioning', 'fund', 'fundamental', 'fundamentals', 'funded', 'funding', 'fundraiser', 'fundraising', 'funds', 'funeral', 'fungus', 'funk', 'funky', 'funniest', 'funny', 'furious', 'furnish', 'furniture', 'furor', 'furstenberg', 'fury', 'fusion', 'future', 'futures', 'futuristic', 'fx', 'fy', 'fyffes', 'fyq', 'ga', 'gaap', 'gabbana', 'gabriel', 'gadget', 'gadgets', 'gaffe', 'gag', 'gaga', 'gags', 'gain', 'gained', 'gaining', 'gains', 'gal', 'gala', 'galactic', 'galavis', 'galaxy', 'galifianakis', 'gall', 'gallbladder', 'gallery', 'gallon', 'gallons', 'gallup', 'gambit', 'gamble', 'gambling', 'game', 'gameover', 'gameplay', 'gamer', 'gamers', 'games', 'gamestop', 'gaming', 'gandhi', 'gang', 'gangsta', 'gangster', 'gao', 'gap', 'gaps', 'garbage', 'garc', 'garcetti', 'garcia', 'garden', 'gareth', 'garfield', 'garment', 'garmin', 'garner', 'garners', 'garth', 'gartner', 'gary', 'gas', 'gases', 'gasoline', 'gastineau', 'gastric', 'gate', 'gates', 'gather', 'gathering', 'gathers', 'gauge', 'gave', 'gawker', 'gay', 'gays', 'gaza', 'gazers', 'gazprom', 'gb', 'gbp', 'gchq', 'gdc', 'gdp', 'ge', 'gear', 'gearing', 'gears', 'geek', 'geeks', 'geforce', 'geithner', 'gel', 'geldof', 'gellar', 'gen', 'gender', 'gene', 'genentech', 'general', 'generally', 'generate', 'generates', 'generation', 'generations', 'generic', 'genes', 'genesis', 'genetic', 'genetically', 'genetics', 'genghis', 'genius', 'genome', 'genre', 'gentiva', 'gentleman', 'genuine', 'geologists', 'geopolitical', 'george', 'georgia', 'georgina', 'gerard', 'gere', 'german', 'germany', 'germs', 'germy', 'gervais', 'gestational', 'gesture', 'get', 'getaway', 'gets', 'getting', 'getty', 'geysers', 'ghana', 'ghost', 'ghostbusters', 'ghosts', 'ghz', 'gi', 'gia', 'giant', 'giants', 'gibson', 'gif', 'gifs', 'gift', 'gifts', 'gig', 'gigabit', 'gigafactory', 'gigantic', 'giger', 'gigolo', 'gigs', 'gilbert', 'gild', 'gilead', 'gillan', 'gilmour', 'gimmick', 'gin', 'ginnifer', 'giraffe', 'girl', 'girlfriend', 'girlfriends', 'girls', 'gisele', 'give', 'giveaway', 'given', 'givenchy', 'gives', 'giving', 'glaad', 'glacier', 'glaciers', 'glad', 'glam', 'glamorous', 'glamour', 'glance', 'glasgow', 'glass', 'glasses', 'glasshole', 'glassware', 'glastonbury', 'glaxo', 'glaxosmithkline', 'glee', 'gleeson', 'glen', 'glencore', 'glenn', 'gliese', 'glimpse', 'glitch', 'glitches', 'glittering', 'global', 'globally', 'globe', 'gloom', 'gloomy', 'glorious', 'glory', 'glove', 'gloves', 'glow', 'glowing', 'glows', 'glucose', 'gluten', 'gm', 'gma', 'gmail', 'gme', 'gmo', 'gmos', 'gnip', 'go', 'goal', 'goals', 'goat', 'goblin', 'god', 'godard', 'goddard', 'goddess', 'godfather', 'gods', 'godzilla', 'goers', 'goes', 'gog', 'goggles', 'gogh', 'going', 'gold', 'goldberg', 'golden', 'goldilocks', 'goldman', 'golf', 'gomez', 'gone', 'gonna', 'gonzalez', 'good', 'goodbye', 'goodies', 'goods', 'goodwill', 'goodwin', 'goog', 'googl', 'google', 'goonies', 'goop', 'gop', 'gopro', 'gordimer', 'gordon', 'gore', 'gorgeous', 'gorilla', 'gorillas', 'gosling', 'gospel', 'goss', 'gossip', 'got', 'gotham', 'gotta', 'gotten', 'goulding', 'gov', 'governance', 'government', 'governments', 'governor', 'governors', 'govt', 'gowex', 'gown', 'gowns', 'gox', 'gp', 'gpe', 'gpro', 'gps', 'gpu', 'gq', 'grab', 'grabs', 'grace', 'graces', 'graco', 'grad', 'grade', 'grader', 'grades', 'grads', 'gradual', 'graduate', 'graduates', 'graduation', 'graffiti', 'graft', 'graham', 'grail', 'grain', 'grains', 'gram', 'grammar', 'grammy', 'grams', 'granada', 'grand', 'grande', 'grandfather', 'grandma', 'grandmother', 'grandson', 'grant', 'granted', 'grants', 'graphene', 'graphic', 'graphics', 'grass', 'grateful', 'gratitude', 'grave', 'graves', 'gravitational', 'gravity', 'gray', 'grease', 'great', 'greater', 'greatest', 'greatly', 'greece', 'greek', 'green', 'greenback', 'greenhouse', 'greening', 'greenland', 'greenlights', 'greenpeace', 'greet', 'greets', 'greg', 'gregg', 'grenada', 'grew', 'grey', 'gridlock', 'grief', 'griesa', 'grieving', 'griffin', 'grill', 'grilled', 'grilling', 'grills', 'grim', 'grimes', 'grimmie', 'grind', 'grinds', 'grint', 'grip', 'grips', 'gritty', 'groceries', 'grocery', 'grodd', 'grohl', 'groot', 'groove', 'gross', 'grossing', 'ground', 'groundbreaking', 'grounded', 'grounds', 'groundwater', 'group', 'groupon', 'groups', 'grove', 'grow', 'growing', 'grown', 'grows', 'growth', 'grpn', 'grumpy', 'gs', 'gse', 'gsk', 'gt', 'gta', 'guarantee', 'guarantees', 'guard', 'guardian', 'guardians', 'guardianship', 'guards', 'gucci', 'guess', 'guessing', 'guest', 'guests', 'guidance', 'guide', 'guided', 'guideline', 'guidelines', 'guides', 'guillon', 'guilt', 'guilty', 'guinea', 'guinness', 'guitar', 'guitarist', 'gujarat', 'gulf', 'gun', 'gundotra', 'gunman', 'gunn', 'gunpoint', 'guns', 'gupta', 'gurlitt', 'guru', 'gushes', 'gustin', 'gut', 'gutted', 'guy', 'guys', 'gwar', 'gwen', 'gwyneth', 'gym', 'gymnast', 'haagen', 'habit', 'habitable', 'habits', 'hachette', 'hack', 'hacked', 'hacker', 'hackers', 'hacking', 'hacks', 'hague', 'haig', 'hail', 'hailed', 'hails', 'hair', 'haircut', 'hairstyle', 'hairy', 'haiti', 'haj', 'hajj', 'half', 'hall', 'halle', 'halley', 'halliburton', 'halo', 'halston', 'halt', 'halted', 'halting', 'halts', 'ham', 'hamill', 'hamilton', 'hamm', 'hammer', 'hammered', 'hamper', 'hampered', 'hampshire', 'hampton', 'hamptons', 'han', 'hand', 'handcuffs', 'handed', 'handful', 'handheld', 'handing', 'handle', 'handled', 'handler', 'handles', 'handling', 'hands', 'handset', 'handsets', 'handshake', 'handshakes', 'handwritten', 'handy', 'hang', 'hanging', 'hangout', 'hangouts', 'hangover', 'hangry', 'hangs', 'hank', 'hanks', 'hannah', 'hanoi', 'hans', 'happen', 'happened', 'happening', 'happens', 'happier', 'happily', 'happiness', 'happy', 'harassment', 'hard', 'hardcore', 'harder', 'hardest', 'hardly', 'hardware', 'hardy', 'harington', 'harley', 'harm', 'harmful', 'harmon', 'harms', 'harness', 'harper', 'harris', 'harrisburg', 'harrison', 'harry', 'harsh', 'hart', 'hartford', 'hartnett', 'harvard', 'harvest', 'hasbro', 'hashtag', 'hashtags', 'hasselbeck', 'hastings', 'haswell', 'hat', 'hatch', 'hatches', 'hatchet', 'hate', 'hated', 'hateful', 'haters', 'hates', 'hathaway', 'hating', 'haul', 'haunt', 'haunted', 'haunting', 'haute', 'havoc', 'hawaii', 'hawking', 'hawkish', 'hawks', 'hayden', 'hayes', 'hazard', 'hazardous', 'hazards', 'hbo', 'hd', 'head', 'headache', 'headaches', 'headband', 'headbanging', 'headed', 'headey', 'heading', 'headlights', 'headline', 'headlines', 'headlining', 'headphone', 'headphones', 'headquarters', 'heads', 'headset', 'headsets', 'heal', 'healing', 'health', 'healthcare', 'healthier', 'healthiest', 'healthkit', 'healthy', 'hear', 'heard', 'hearing', 'hearings', 'hears', 'heart', 'heartbleed', 'heartbreak', 'heartbreaking', 'heartbroken', 'heartfelt', 'heartland', 'hearts', 'heartwarming', 'heat', 'heated', 'heathers', 'heating', 'heats', 'heaven', 'heavier', 'heavily', 'heavy', 'heavyweight', 'heck', 'heckler', 'hedge', 'hedgehog', 'hedison', 'hedwig', 'hee', 'heels', 'hefty', 'heidi', 'heightened', 'heights', 'heigl', 'heir', 'heirs', 'heist', 'held', 'helicopter', 'helion', 'helium', 'hell', 'hellcat', 'hello', 'helm', 'help', 'helped', 'helpful', 'helping', 'helps', 'hemingway', 'hemophilia', 'hemorrhagic', 'hemp', 'hemsworth', 'hendricks', 'henry', 'hep', 'hepatitis', 'hepburn', 'herald', 'heralds', 'herbalife', 'hercules', 'hero', 'heroes', 'heroic', 'heroin', 'hertz', 'hess', 'heuer', 'hewitt', 'hewlett', 'hey', 'hft', 'hgtv', 'hhs', 'hi', 'hiatus', 'hidden', 'hide', 'hides', 'hiding', 'higgs', 'high', 'higher', 'highest', 'highlight', 'highlighted', 'highlights', 'highly', 'highs', 'highway', 'hijack', 'hijacked', 'hike', 'hikes', 'hiking', 'hilarious', 'hilariously', 'hilary', 'hill', 'hillary', 'hills', 'hillshire', 'hilton', 'himym', 'hinder', 'hinges', 'hint', 'hinted', 'hints', 'hip', 'hipster', 'hire', 'hired', 'hires', 'hiring', 'hishammuddin', 'historic', 'historical', 'history', 'hit', 'hitch', 'hitched', 'hits', 'hitting', 'hiv', 'hk', 'hlf', 'ho', 'hoard', 'hoarded', 'hoarder', 'hoax', 'hobbit', 'hobie', 'hockey', 'hog', 'hogwarts', 'holbrook', 'holcim', 'hold', 'holden', 'holder', 'holders', 'holding', 'holdings', 'holdout', 'holdouts', 'holds', 'hole', 'holes', 'holiday', 'holidays', 'hollaback', 'hollande', 'holler', 'hollow', 'hollywood', 'holmes', 'holocaust', 'hologram', 'holograms', 'holy', 'homage', 'home', 'homebuilder', 'homekit', 'homeland', 'homeless', 'homeowners', 'homer', 'homes', 'homesman', 'hometown', 'homophobic', 'homosexual', 'homosexuality', 'honda', 'honduran', 'honduras', 'honest', 'honey', 'honeymoon', 'honeymooning', 'honeywell', 'hong', 'honor', 'honorary', 'honored', 'honoring', 'honors', 'honour', 'honoured', 'honours', 'hood', 'hook', 'hookah', 'hooked', 'hooking', 'hooks', 'hookup', 'hop', 'hope', 'hoped', 'hopeful', 'hopefully', 'hopefuls', 'hopes', 'hoping', 'hopkins', 'horan', 'horizon', 'horizons', 'hormel', 'hormone', 'horn', 'hornaday', 'horns', 'horrendous', 'horrible', 'horribly', 'horrific', 'horror', 'horse', 'horses', 'horton', 'hortons', 'hospital', 'hospitalised', 'hospitality', 'hospitalization', 'hospitalized', 'hospitals', 'host', 'hostage', 'hosted', 'hostile', 'hosting', 'hosts', 'hot', 'hotel', 'hotels', 'hotmail', 'hotter', 'hottest', 'hough', 'hoult', 'hound', 'hour', 'hourly', 'hours', 'house', 'household', 'households', 'housekeeper', 'houses', 'housewives', 'housing', 'houston', 'hover', 'hovers', 'howard', 'hp', 'hpq', 'hpv', 'hq', 'hr', 'hsbc', 'hsh', 'htc', 'http', 'https', 'huawei', 'hub', 'hubble', 'hubby', 'hudgens', 'hudl', 'hudson', 'huebl', 'hug', 'huge', 'hugging', 'hugh', 'hugs', 'hulk', 'hulu', 'human', 'humanity', 'humanoid', 'humans', 'humble', 'humid', 'hummus', 'humor', 'humour', 'humphries', 'hundred', 'hundreds', 'hungary', 'hunger', 'hungry', 'hunt', 'hunter', 'hunting', 'huntington', 'hunts', 'huntsman', 'hurdle', 'hurdles', 'hurt', 'hurtful', 'hurting', 'hurts', 'husband', 'hustle', 'hutcherson', 'hybrid', 'hybrids', 'hydrogen', 'hygienic', 'hype', 'hypersonic', 'hypertension', 'hypocrisy', 'hypocrite', 'hysterectomy', 'hyundai', 'iac', 'ian', 'iata', 'ibiza', 'ibm', 'icahn', 'icann', 'icd', 'ice', 'iceland', 'icelandic', 'ichi', 'icj', 'icloud', 'icon', 'iconic', 'icons', 'icu', 'icy', 'icymi', 'id', 'idaho', 'idea', 'ideal', 'ideas', 'idec', 'identical', 'identified', 'identifies', 'identify', 'identity', 'idina', 'idiot', 'idol', 'idoltop', 'idris', 'ie', 'ifa', 'ifixit', 'ifo', 'iggy', 'ignite', 'ignites', 'ignition', 'ignorance', 'ignore', 'ignored', 'ignores', 'ignoring', 'ii', 'iii', 'ikea', 'il', 'iliad', 'ill', 'illegal', 'illegally', 'illinois', 'illmatic', 'illness', 'illnesses', 'illum', 'illustrates', 'im', 'imac', 'image', 'imagery', 'images', 'imagination', 'imagine', 'imaging', 'imax', 'imessage', 'imf', 'immediate', 'immediately', 'immigration', 'imminent', 'immune', 'immunity', 'immunization', 'immunotherapy', 'impact', 'impacted', 'impacting', 'impacts', 'impaired', 'impairment', 'impasse', 'impending', 'imperial', 'implant', 'implanted', 'implants', 'implement', 'implementation', 'implications', 'implies', 'import', 'importance', 'important', 'imported', 'imports', 'impose', 'imposed', 'imposes', 'impossible', 'impress', 'impressed', 'impresses', 'impression', 'impressions', 'impressive', 'impromptu', 'improper', 'improve', 'improved', 'improvement', 'improvements', 'improves', 'improving', 'inaccurate', 'inaction', 'inadequate', 'inadvertently', 'inappropriate', 'inarritu', 'inbox', 'inc', 'incentive', 'incentives', 'inception', 'inch', 'inches', 'incidence', 'incident', 'incidents', 'inciting', 'include', 'included', 'includes', 'including', 'income', 'incomes', 'incoming', 'increase', 'increased', 'increases', 'increasing', 'increasingly', 'incredible', 'incredibles', 'incredibly', 'ind', 'indecent', 'indeed', 'indefinitely', 'independence', 'independent', 'index', 'indexes', 'india', 'indian', 'indiana', 'indians', 'indicate', 'indicates', 'indicator', 'indicators', 'indices', 'indicted', 'indictment', 'indicts', 'indie', 'indio', 'individual', 'individuals', 'indonesia', 'indonesian', 'indoor', 'induce', 'induced', 'induct', 'inducted', 'inductees', 'induction', 'industrial', 'industrials', 'industries', 'industry', 'ineffective', 'inequality', 'inevitable', 'inexcusable', 'infamous', 'infant', 'infants', 'infect', 'infected', 'infecting', 'infection', 'infections', 'infectious', 'infects', 'infertility', 'infidelity', 'infinite', 'inflammation', 'inflatable', 'inflation', 'influence', 'influential', 'influenza', 'info', 'infographic', 'information', 'infrared', 'infrastructure', 'infringed', 'infringement', 'infringing', 'ing', 'ingredient', 'ingredients', 'inhaled', 'inherited', 'inishmaan', 'initial', 'initially', 'initiates', 'initiative', 'initiatives', 'injecting', 'injection', 'injections', 'injunction', 'injured', 'injures', 'injuries', 'injury', 'ink', 'inks', 'inmarsat', 'inner', 'innocent', 'innovation', 'innovations', 'innovative', 'innovator', 'input', 'inquiry', 'inr', 'ins', 'insane', 'insecurity', 'insensitive', 'inside', 'insider', 'insiders', 'insight', 'insights', 'insist', 'insists', 'inspection', 'inspections', 'inspectors', 'inspiration', 'inspirational', 'inspire', 'inspired', 'inspires', 'inspiring', 'instagram', 'instagrams', 'install', 'installed', 'installment', 'installs', 'instant', 'instead', 'institute', 'instruments', 'insufficient', 'insulin', 'insult', 'insulting', 'insults', 'insurance', 'insured', 'insurer', 'insurers', 'insurgency', 'int', 'intact', 'intake', 'intc', 'integrate', 'integrated', 'integrates', 'integration', 'integrity', 'integrys', 'intel', 'intellectual', 'intelligence', 'intelligent', 'intended', 'intends', 'intense', 'intensifies', 'intensify', 'intensity', 'intent', 'intention', 'intentions', 'interaction', 'interactive', 'intercloud', 'interconnect', 'interest', 'interested', 'interesting', 'interests', 'interface', 'interfered', 'interference', 'interim', 'interior', 'interiors', 'intermune', 'intern', 'internal', 'international', 'internet', 'interrupt', 'interrupted', 'interrupts', 'intervene', 'intervenes', 'intervention', 'interview', 'interviews', 'intimate', 'intl', 'intoxicated', 'intoxication', 'intraday', 'intrigue', 'intriguing', 'intro', 'introduce', 'introduced', 'introduces', 'introducing', 'introduction', 'intros', 'intruder', 'intuit', 'intuitive', 'invade', 'invades', 'invasion', 'invasive', 'invented', 'invention', 'inventor', 'inventories', 'inventory', 'invents', 'inversion', 'inversions', 'invest', 'investigate', 'investigated', 'investigates', 'investigating', 'investigation', 'investigations', 'investigator', 'investigators', 'investing', 'investment', 'investments', 'investor', 'investors', 'invests', 'invitation', 'invite', 'invited', 'invites', 'involuntary', 'involve', 'involved', 'involvement', 'involves', 'involving', 'io', 'iodine', 'ion', 'ios', 'iot', 'iovine', 'iowa', 'ip', 'ipad', 'ipads', 'ipcc', 'iphone', 'iphones', 'ipo', 'ipod', 'ipos', 'iran', 'iranian', 'iranians', 'iraq', 'iraqi', 'ire', 'ireland', 'irene', 'iris', 'irish', 'iron', 'irrational', 'irresponsible', 'irreverent', 'irreversible', 'irritation', 'irs', 'isaac', 'ish', 'isight', 'isis', 'isla', 'islamic', 'island', 'islanders', 'islands', 'ism', 'isolated', 'isolation', 'isp', 'isps', 'israel', 'israeli', 'iss', 'isspresso', 'issue', 'issued', 'issues', 'issuing', 'italia', 'italian', 'italy', 'item', 'items', 'itunes', 'ivan', 'ivf', 'ivory', 'ivy', 'iwatch', 'jab', 'jabs', 'jace', 'jack', 'jackman', 'jackson', 'jacksonville', 'jacques', 'jada', 'jagger', 'jail', 'jailbreak', 'jailed', 'jails', 'jaime', 'jaitley', 'jakarta', 'jake', 'jam', 'james', 'jamie', 'jams', 'jan', 'jana', 'jane', 'janelle', 'janet', 'january', 'japan', 'japanese', 'jar', 'jared', 'jason', 'java', 'jaw', 'jaxon', 'jay', 'jazz', 'jazzman', 'jc', 'jcp', 'jd', 'jealous', 'jean', 'jeans', 'jeddah', 'jedi', 'jeep', 'jeeps', 'jeezy', 'jeff', 'jefferies', 'jefferson', 'jeffries', 'jelena', 'jelly', 'jem', 'jena', 'jenkins', 'jenna', 'jenner', 'jennette', 'jennifer', 'jenny', 'jeopardy', 'jepsen', 'jeremiah', 'jeremy', 'jerk', 'jerky', 'jermaine', 'jerry', 'jersey', 'jerusalem', 'jesse', 'jessica', 'jessie', 'jesus', 'jet', 'jetblue', 'jetliner', 'jets', 'jett', 'jetta', 'jew', 'jewelry', 'jewish', 'jews', 'jill', 'jim', 'jimmy', 'jitters', 'jj', 'jk', 'jm', 'jmp', 'jnj', 'joan', 'joaquin', 'job', 'jobless', 'jobs', 'jock', 'jodie', 'joe', 'joel', 'joey', 'joffrey', 'johannes', 'johansson', 'john', 'johnny', 'johns', 'johnson', 'join', 'joined', 'joining', 'joins', 'joint', 'joke', 'joker', 'jokes', 'joking', 'jolie', 'jolt', 'jolts', 'jon', 'jonah', 'jonathan', 'jones', 'joneses', 'jong', 'jordan', 'jos', 'jose', 'joseph', 'josh', 'joss', 'journal', 'journalism', 'journalist', 'journalists', 'journey', 'joy', 'jp', 'jpm', 'jpmorgan', 'jpy', 'jr', 'juan', 'judd', 'jude', 'judge', 'judges', 'judging', 'judgment', 'juggalos', 'juice', 'juicy', 'jul', 'julia', 'julian', 'julianna', 'julianne', 'julie', 'july', 'jumbo', 'jump', 'jumped', 'jumping', 'jumps', 'jumpsuit', 'jun', 'june', 'jungle', 'junior', 'juniper', 'junk', 'juno', 'jupiter', 'jurassic', 'jurors', 'jury', 'justice', 'justices', 'justified', 'justify', 'justin', 'justina', 'kacy', 'kaepernick', 'kagan', 'kaiser', 'kakao', 'kaley', 'kaling', 'kane', 'kanojia', 'kansas', 'kanye', 'karaoke', 'kardashian', 'kardashians', 'karen', 'karl', 'karma', 'karrueche', 'kart', 'kasem', 'kashi', 'kat', 'kate', 'katherine', 'katheryn', 'kathleen', 'kathryn', 'kathy', 'katie', 'katniss', 'katt', 'katy', 'katz', 'kaufman', 'kazakhstan', 'kc', 'kctv', 'keaton', 'kebbell', 'keen', 'keep', 'keeping', 'keeps', 'keibler', 'keira', 'keith', 'kellogg', 'kelly', 'ken', 'kendall', 'kendra', 'kendrick', 'kennedy', 'kenny', 'kent', 'kentucky', 'kentz', 'kenya', 'kepler', 'kept', 'kerala', 'keri', 'kermit', 'kerr', 'kerry', 'kevin', 'key', 'keyboard', 'keyboards', 'keynote', 'keys', 'kfc', 'khalifa', 'khan', 'khlo', 'khloe', 'kick', 'kicked', 'kicking', 'kickoff', 'kicks', 'kickstarter', 'kid', 'kidding', 'kidman', 'kidnap', 'kidnapped', 'kidnapping', 'kidney', 'kids', 'kiefer', 'kiev', 'kill', 'killed', 'killer', 'killers', 'killing', 'killings', 'kills', 'kim', 'kimmel', 'kimye', 'kin', 'kind', 'kinda', 'kindle', 'kindness', 'kindred', 'kinds', 'kinect', 'king', 'kingdom', 'kingfisher', 'kings', 'kinnear', 'kinney', 'kirkland', 'kirstie', 'kiss', 'kissed', 'kisser', 'kisses', 'kissing', 'kit', 'kitimat', 'kitkat', 'kits', 'kitsap', 'kitt', 'kitty', 'kiwi', 'kiwis', 'kizashi', 'kkk', 'klan', 'klein', 'kleiner', 'klitschko', 'klm', 'klout', 'klum', 'klux', 'km', 'kmph', 'knee', 'knees', 'knew', 'knife', 'knight', 'knightley', 'knock', 'knocked', 'knocks', 'knot', 'knots', 'know', 'knowingly', 'knowledge', 'knowles', 'known', 'knows', 'knox', 'knuckles', 'ko', 'koalas', 'kocherlakota', 'kodiak', 'komodo', 'kong', 'kopelman', 'korea', 'korean', 'kourtney', 'kraft', 'kramer', 'kreme', 'kris', 'krispy', 'kristen', 'kristin', 'kristoff', 'kroeger', 'kroger', 'krugman', 'ktul', 'ktvn', 'ku', 'kudrow', 'kun', 'kunis', 'kurdish', 'kurdistan', 'kuroda', 'kurt', 'kutcher', 'kuwtk', 'kwwl', 'ky', 'kylie', 'la', 'lab', 'label', 'labeled', 'labeling', 'labels', 'labeouf', 'labor', 'laboratories', 'laboratory', 'labour', 'labs', 'lachey', 'lachlan', 'lack', 'lacking', 'lackluster', 'lacklustre', 'lacks', 'lacrosse', 'ladder', 'ladee', 'laden', 'ladies', 'lady', 'lafarge', 'lag', 'lagarde', 'lagging', 'lags', 'laid', 'lake', 'lakshmi', 'lamar', 'lambert', 'lambesis', 'lame', 'lana', 'lancet', 'lancetfish', 'land', 'landed', 'lander', 'landfill', 'landing', 'landmark', 'landmarks', 'lands', 'landscape', 'lane', 'lanes', 'language', 'languages', 'lannister', 'lap', 'lapd', 'lapse', 'lapses', 'laptop', 'laptops', 'large', 'largely', 'larger', 'largest', 'larry', 'larson', 'las', 'laser', 'lasers', 'lashes', 'lassa', 'last', 'lasting', 'late', 'lately', 'later', 'latest', 'latin', 'latinos', 'lauds', 'lauer', 'laugh', 'laughing', 'laughs', 'laughter', 'launch', 'launched', 'launcher', 'launches', 'launching', 'laura', 'laureate', 'lauren', 'laurent', 'lavalin', 'laverne', 'lavigne', 'lavish', 'lavrov', 'law', 'lawmaker', 'lawmakers', 'lawn', 'lawrence', 'laws', 'lawsuit', 'lawsuits', 'lawyer', 'lawyers', 'lax', 'lay', 'layer', 'laying', 'layoff', 'layoffs', 'lays', 'lazaretto', 'lb', 'lbs', 'ld', 'le', 'lea', 'lead', 'leader', 'leaders', 'leadership', 'leading', 'leads', 'league', 'leak', 'leaked', 'leaker', 'leakes', 'leaking', 'leaks', 'lean', 'leans', 'leap', 'leaps', 'learn', 'learned', 'learning', 'learns', 'learnt', 'lease', 'least', 'leather', 'leave', 'leaves', 'leaving', 'lebanon', 'lebeouf', 'lebron', 'led', 'lee', 'left', 'leftovers', 'leg', 'legacy', 'legal', 'legalization', 'legalize', 'legalized', 'legalizing', 'legally', 'legend', 'legendary', 'legends', 'legere', 'legislation', 'legislative', 'legislators', 'legislature', 'legit', 'lego', 'legs', 'lehman', 'leia', 'leibovitz', 'leigh', 'leitch', 'len', 'lena', 'lend', 'lender', 'lenders', 'lending', 'lends', 'length', 'lengthy', 'lenient', 'lennar', 'leno', 'lenovo', 'lens', 'lenses', 'leo', 'leonardo', 'leone', 'les', 'lesbian', 'leslie', 'lesnar', 'less', 'lesser', 'lesson', 'lessons', 'let', 'lethal', 'leto', 'lets', 'letter', 'letterman', 'letters', 'letting', 'leung', 'levar', 'level', 'levels', 'leverage', 'levi', 'levine', 'levy', 'lew', 'lewd', 'lewis', 'lexicon', 'lg', 'lgbt', 'li', 'liability', 'liable', 'liam', 'liar', 'liars', 'liberal', 'liberals', 'liberia', 'liberian', 'liberty', 'library', 'libya', 'libyan', 'licence', 'licences', 'license', 'licenses', 'licensing', 'lid', 'lie', 'lied', 'lies', 'life', 'lifeline', 'lifelong', 'lifespan', 'lifestyle', 'lifetime', 'lift', 'lifted', 'lifting', 'lifts', 'light', 'lighter', 'lighting', 'lightning', 'lights', 'like', 'liked', 'likely', 'likeness', 'likes', 'liking', 'lil', 'lilies', 'lilly', 'lilo', 'lily', 'lima', 'limbaugh', 'limbo', 'lime', 'limelight', 'limes', 'limit', 'limitations', 'limited', 'limiting', 'limits', 'limo', 'lincoln', 'linda', 'lindelof', 'lindsay', 'lindsey', 'lindt', 'line', 'lines', 'lineup', 'linger', 'lingerie', 'lining', 'link', 'linked', 'linkedin', 'linking', 'linklater', 'links', 'linn', 'linux', 'lion', 'lionel', 'lions', 'lionsgate', 'lip', 'lips', 'liquid', 'liquidity', 'liquor', 'lirr', 'lisa', 'list', 'listed', 'listen', 'listeners', 'listening', 'listeria', 'listing', 'listings', 'lists', 'lit', 'literacy', 'literally', 'literary', 'lithium', 'lithuania', 'litigation', 'litter', 'little', 'littlefinger', 'live', 'lived', 'lively', 'liver', 'liverail', 'lives', 'livestock', 'livestream', 'livewire', 'living', 'liza', 'lizard', 'lizzy', 'llc', 'lloyd', 'lloyds', 'llp', 'lng', 'lnkd', 'lo', 'loach', 'load', 'loaded', 'loan', 'loaner', 'loaners', 'loans', 'lobby', 'lobbying', 'lobster', 'local', 'locally', 'locals', 'locate', 'location', 'locations', 'loch', 'lock', 'locked', 'lockheed', 'locking', 'lockout', 'locks', 'lockup', 'loeb', 'log', 'logan', 'logic', 'login', 'logo', 'logs', 'lohan', 'loko', 'lol', 'lollipop', 'london', 'lone', 'lonely', 'long', 'longer', 'longest', 'longevity', 'longlegs', 'longoria', 'longtime', 'longview', 'look', 'lookalike', 'looked', 'looking', 'lookout', 'looks', 'loom', 'looming', 'looms', 'loonie', 'loop', 'loophole', 'loose', 'loosen', 'loosens', 'loot', 'looted', 'lopez', 'lord', 'lorde', 'lorenzo', 'lorillard', 'los', 'lose', 'loser', 'losers', 'loses', 'losing', 'loss', 'losses', 'lost', 'lot', 'lots', 'lottery', 'lou', 'loud', 'louie', 'louis', 'louisiana', 'louisville', 'lousy', 'louvre', 'lovato', 'love', 'loved', 'lovely', 'lover', 'lovers', 'loves', 'lovin', 'loving', 'low', 'lowe', 'lower', 'lowered', 'lowering', 'lowers', 'lowest', 'lows', 'loyal', 'lp', 'lse', 'ltd', 'lte', 'lucas', 'lucasfilm', 'lucent', 'lucid', 'luck', 'lucky', 'lucy', 'lufthansa', 'luke', 'lukewarm', 'lukyanova', 'lulu', 'lululemon', 'lumia', 'lunar', 'lunch', 'lunches', 'lundberg', 'lunden', 'lung', 'lupita', 'lure', 'lurks', 'luxembourg', 'luxottica', 'luxury', 'lyft', 'lying', 'lyme', 'lynch', 'lynn', 'lyric', 'lyrics', 'lyrid', 'lytro', 'mac', 'macaulay', 'macbook', 'macfarlane', 'machine', 'machinery', 'machines', 'macho', 'macklemore', 'macro', 'macs', 'macy', 'mad', 'made', 'madison', 'madly', 'madness', 'madoff', 'madonna', 'mae', 'maersk', 'mafia', 'mag', 'magazine', 'maggie', 'magic', 'magical', 'magna', 'magnetic', 'magnificent', 'mahone', 'maid', 'mail', 'mailbox', 'mails', 'main', 'maine', 'mainland', 'mainly', 'mainstream', 'maintain', 'maintains', 'maintenance', 'maisie', 'majesty', 'major', 'majority', 'majors', 'make', 'makeover', 'maker', 'makerbot', 'makers', 'makes', 'makeup', 'making', 'maks', 'maksim', 'malaria', 'malaya', 'malaysia', 'malaysian', 'malcolm', 'maldives', 'male', 'maleficent', 'malfunction', 'malia', 'malibu', 'malicious', 'malik', 'mall', 'malpractice', 'malta', 'malware', 'mama', 'mammals', 'mammogram', 'mammograms', 'mammography', 'man', 'manage', 'managed', 'management', 'manager', 'managers', 'manages', 'managing', 'manchester', 'mandate', 'mandatory', 'maneuvers', 'manganiello', 'mangoes', 'mangos', 'manhattan', 'mania', 'manifesto', 'manipulate', 'manipulated', 'manipulates', 'manipulating', 'manipulation', 'manipulator', 'mann', 'manned', 'mannkind', 'manny', 'mansfield', 'mansion', 'mansions', 'manslaughter', 'mantis', 'mantra', 'manuel', 'manufacture', 'manufacturer', 'manufacturers', 'manufacturing', 'manuscript', 'many', 'manziel', 'map', 'mapping', 'maps', 'mar', 'mara', 'marathon', 'marc', 'march', 'marches', 'marchionne', 'marco', 'marcus', 'margin', 'marginally', 'margins', 'margulies', 'maria', 'mariah', 'marie', 'marijuana', 'marilyn', 'marin', 'marine', 'mario', 'marion', 'marissa', 'marital', 'maritime', 'mark', 'marked', 'market', 'marketers', 'marketing', 'marketplace', 'markets', 'marketwired', 'marking', 'markit', 'marks', 'marlboro', 'maroon', 'marquez', 'marred', 'marriage', 'married', 'marries', 'marriott', 'marrow', 'marry', 'marrying', 'mars', 'marshal', 'marshall', 'marshals', 'mart', 'martha', 'martian', 'martin', 'marvel', 'marx', 'mary', 'maryland', 'mas', 'mascot', 'maserati', 'mash', 'mashup', 'mask', 'maslany', 'maslow', 'mason', 'mass', 'massachusetts', 'massacre', 'masses', 'massimo', 'massive', 'mastectomies', 'mastectomy', 'master', 'mastercard', 'mastering', 'mastermind', 'masterpiece', 'masters', 'mastodon', 'mat', 'match', 'matched', 'matches', 'matching', 'mate', 'material', 'materials', 'maternal', 'maternity', 'math', 'mathematical', 'matisse', 'matrix', 'matt', 'mattel', 'matter', 'matters', 'matthew', 'mature', 'mauled', 'maundy', 'maureen', 'max', 'maxim', 'maximillion', 'maximum', 'may', 'maya', 'maybe', 'mayer', 'mayhew', 'mayo', 'mayor', 'mayors', 'mayweather', 'mazda', 'mazursky', 'mcadams', 'mcafee', 'mcauliffe', 'mccain', 'mccarron', 'mccarthy', 'mccartney', 'mccaskill', 'mcchrystal', 'mcconaughey', 'mccreery', 'mccurdy', 'mcd', 'mcdermott', 'mcdonald', 'mcdonalds', 'mcfadden', 'mcgregor', 'mchale', 'mckellar', 'mckenzie', 'mclarty', 'mcmahon', 'mcvie', 'md', 'mdt', 'meadow', 'meager', 'meal', 'meals', 'mean', 'meaning', 'means', 'meant', 'measles', 'measure', 'measurement', 'measures', 'measuring', 'meat', 'mechanical', 'med', 'medal', 'media', 'median', 'mediatek', 'mediator', 'medicaid', 'medical', 'medicare', 'medication', 'medications', 'medicine', 'medics', 'meditation', 'mediterranean', 'medium', 'medley', 'meds', 'medtronic', 'meet', 'meeting', 'meetings', 'meets', 'meg', 'mega', 'megan', 'megapixel', 'megaupload', 'mel', 'melanoma', 'melbourne', 'melissa', 'mellon', 'melt', 'meltdown', 'melting', 'melts', 'member', 'members', 'membership', 'memes', 'memo', 'memoir', 'memorabilia', 'memorable', 'memorial', 'memories', 'memory', 'memphis', 'men', 'mend', 'mendes', 'menino', 'mental', 'mentally', 'mention', 'mentioned', 'mentions', 'mentor', 'menu', 'menzel', 'mercedes', 'merciless', 'merck', 'mercury', 'mercy', 'mere', 'merge', 'merged', 'merger', 'mergers', 'merges', 'merit', 'merkel', 'merlin', 'mermaid', 'meron', 'merrill', 'mers', 'mersch', 'meryl', 'meshach', 'mess', 'message', 'messages', 'messaging', 'messed', 'messenger', 'messing', 'messy', 'met', 'metal', 'metallica', 'metals', 'metamorphosis', 'meteor', 'meteorite', 'meteors', 'meth', 'methane', 'method', 'methodist', 'methods', 'metro', 'metropolitan', 'metso', 'meuse', 'mexican', 'mexico', 'meyers', 'mh', 'mi', 'mia', 'miami', 'mice', 'mich', 'michael', 'michaels', 'michele', 'michelle', 'michigan', 'michod', 'mick', 'mickelson', 'mickey', 'micro', 'microbeads', 'microbes', 'microcap', 'microchip', 'microphone', 'micros', 'microsoft', 'mid', 'midair', 'midday', 'middle', 'middleton', 'mideast', 'midland', 'midnight', 'midseason', 'midsize', 'midst', 'midstream', 'midwest', 'might', 'mighty', 'migraine', 'migraines', 'migration', 'mike', 'mil', 'mila', 'milan', 'mild', 'mile', 'mileage', 'miles', 'milestone', 'milestones', 'miley', 'milhiser', 'miliband', 'militants', 'military', 'milk', 'mill', 'millennials', 'millennium', 'miller', 'millers', 'million', 'millionaire', 'millions', 'mills', 'milsap', 'milwaukee', 'min', 'minaj', 'mind', 'mindfulness', 'minds', 'mindy', 'mine', 'minecraft', 'miner', 'mineral', 'miners', 'ming', 'mini', 'minimal', 'minimum', 'mining', 'miniseries', 'minister', 'ministers', 'ministry', 'minivan', 'minivans', 'mink', 'minneapolis', 'minnelli', 'minnesota', 'minnillo', 'minor', 'minority', 'minors', 'mint', 'minus', 'minute', 'minutes', 'miracle', 'miranda', 'mirror', 'miscarriage', 'misconduct', 'misdiagnosed', 'miserable', 'misery', 'misfit', 'misguided', 'mishap', 'misleading', 'misled', 'mismanagement', 'mismanagment', 'miss', 'missed', 'misses', 'missile', 'missing', 'mission', 'missionary', 'missions', 'mississippi', 'missouri', 'misspelled', 'missy', 'mistake', 'mistakes', 'misused', 'mit', 'mite', 'mitigate', 'mitsubishi', 'mix', 'mixed', 'mixing', 'mixtape', 'mizkan', 'mj', 'mk', 'mlb', 'mln', 'mls', 'mm', 'mmva', 'mmvas', 'mn', 'mnkd', 'mo', 'moab', 'mob', 'mobil', 'mobile', 'mobiles', 'mobileye', 'mobility', 'moby', 'mock', 'mocked', 'mocking', 'mockingbird', 'mockingjay', 'mocks', 'mode', 'model', 'models', 'moderate', 'modern', 'modes', 'modest', 'modestly', 'modi', 'modified', 'modular', 'mogul', 'moises', 'mojo', 'mold', 'mole', 'moles', 'molestation', 'molested', 'molly', 'molner', 'mom', 'moma', 'moment', 'moments', 'momentum', 'mommy', 'momoa', 'moms', 'mon', 'monae', 'monday', 'mondays', 'monet', 'monetary', 'money', 'moneybeat', 'monica', 'monitor', 'monitored', 'monitoring', 'monitors', 'monkey', 'monkeys', 'mono', 'monolith', 'monologue', 'monopoly', 'monroe', 'monsanto', 'monster', 'monsters', 'montana', 'monteith', 'monterey', 'montgomery', 'month', 'monthly', 'months', 'montreal', 'monty', 'mood', 'moods', 'moody', 'moon', 'moonie', 'moonlight', 'moons', 'moonshot', 'moore', 'mooted', 'mopub', 'moral', 'morale', 'morcellation', 'moretz', 'morgan', 'mormon', 'morning', 'morpheus', 'morphin', 'morris', 'morrison', 'morrissey', 'morse', 'mortality', 'mortdecai', 'mortem', 'mortgage', 'mortgages', 'mosaic', 'moscow', 'mosquito', 'mosquitoes', 'mosquitos', 'moss', 'mostly', 'mot', 'motel', 'mother', 'mothercare', 'motherhood', 'mothers', 'motion', 'motivation', 'motive', 'moto', 'motogp', 'motor', 'motorcycle', 'motorcycling', 'motorhead', 'motorists', 'motorola', 'motors', 'mount', 'mountain', 'mounting', 'mounts', 'mourn', 'mourned', 'mourning', 'mourns', 'mouse', 'mouth', 'move', 'moved', 'movement', 'movers', 'moves', 'movie', 'movies', 'moving', 'mowat', 'moyer', 'moz', 'mozilla', 'mp', 'mpc', 'mpg', 'mph', 'mps', 'mr', 'mrs', 'mrsa', 'ms', 'msf', 'msft', 'msg', 'msnbc', 'mt', 'mta', 'mtgox', 'mth', 'mtv', 'much', 'muchmusic', 'mud', 'mudslide', 'mug', 'mugshot', 'muir', 'mulally', 'mulberry', 'mull', 'mulling', 'mulls', 'multi', 'multibillion', 'multiplayer', 'multiple', 'mum', 'mumps', 'mums', 'mumsnet', 'muppet', 'muppets', 'mural', 'murder', 'murderer', 'murdoch', 'murphy', 'murray', 'muscle', 'muscles', 'muscular', 'muse', 'museum', 'mushrooms', 'music', 'musical', 'musician', 'musicians', 'musk', 'muslim', 'must', 'mustang', 'mustangs', 'mutant', 'mutants', 'mutations', 'mute', 'muted', 'mutual', 'mw', 'mya', 'myers', 'myntra', 'myrtle', 'mysteries', 'mysterious', 'mystery', 'myth', 'mythical', 'myths', 'nab', 'nabbed', 'nabs', 'nadella', 'nadine', 'naftogaz', 'nail', 'nails', 'naked', 'name', 'named', 'names', 'naming', 'nancy', 'nanowires', 'naomi', 'narendra', 'narrative', 'narrator', 'narrow', 'narrowed', 'narrower', 'narrowly', 'narrows', 'nas', 'nasa', 'nasal', 'nascar', 'nasdaq', 'nash', 'nashville', 'nasty', 'natalie', 'natco', 'nate', 'nation', 'national', 'nationally', 'nationals', 'nations', 'nationwide', 'native', 'natural', 'naturally', 'nature', 'naughty', 'naval', 'navigate', 'navigation', 'navy', 'nazi', 'nba', 'nbc', 'nbcuniversal', 'nc', 'ncaa', 'nd', 'nda', 'neal', 'neanderthal', 'neanderthals', 'near', 'nearby', 'nearing', 'nearly', 'nears', 'nebraska', 'nebula', 'necessary', 'neck', 'need', 'needed', 'needs', 'neeson', 'negative', 'negligence', 'negotiate', 'negotiating', 'negotiation', 'negotiations', 'neighbor', 'neighborhood', 'neighbors', 'neighbours', 'neil', 'neill', 'neither', 'nelson', 'nene', 'neo', 'nephew', 'neptune', 'nerd', 'nerds', 'nerves', 'nervous', 'ness', 'nest', 'nestle', 'net', 'netapp', 'netflix', 'netherlands', 'nets', 'network', 'networking', 'networks', 'neuroscientists', 'neutral', 'neutrality', 'nevada', 'neve', 'never', 'new', 'newark', 'newbies', 'newborn', 'newborns', 'newcomers', 'newest', 'newfound', 'newly', 'newman', 'news', 'newscast', 'newson', 'newspaper', 'newsroom', 'newswire', 'next', 'nexus', 'nfc', 'nfl', 'nflx', 'nfp', 'nguyen', 'nh', 'nhl', 'nhs', 'nhtsa', 'nia', 'niall', 'nic', 'nice', 'niche', 'nicholas', 'nick', 'nickel', 'nickelodeon', 'nicki', 'nickname', 'nicks', 'nicola', 'nicole', 'nicotine', 'niederauer', 'nielsen', 'nigeria', 'nigerian', 'nigh', 'night', 'nightclub', 'nightmare', 'nights', 'nightsnake', 'nih', 'nike', 'nikkei', 'nikki', 'nile', 'nine', 'ninja', 'nintendo', 'ninth', 'nip', 'nipple', 'nipples', 'niro', 'nirvana', 'nissan', 'nixes', 'nj', 'nlrb', 'nm', 'noaa', 'noah', 'nobel', 'noble', 'nobody', 'nod', 'nods', 'noise', 'nok', 'nokia', 'nollywood', 'nominate', 'nominated', 'nominates', 'nomination', 'nominations', 'nominee', 'nominees', 'noms', 'nomura', 'non', 'none', 'nonfarm', 'nonsense', 'nonstop', 'nonsurgical', 'nook', 'nope', 'nordegren', 'nordstrom', 'norfolk', 'noriega', 'normal', 'norovirus', 'north', 'northeast', 'northern', 'northwest', 'northwestern', 'norton', 'norway', 'nose', 'nosed', 'nostalgia', 'nostalgic', 'nostrils', 'notable', 'notch', 'notches', 'note', 'notebook', 'noted', 'notes', 'nothing', 'notice', 'noticed', 'notices', 'notifications', 'notify', 'notifyr', 'noto', 'novartis', 'novel', 'novelist', 'novell', 'novels', 'november', 'nowhere', 'nowotny', 'noyer', 'npd', 'nsa', 'nsfw', 'ntsb', 'ntt', 'nuance', 'nuclear', 'nude', 'nudge', 'nudity', 'nuggets', 'nuisance', 'nuke', 'number', 'numbers', 'numerous', 'numsa', 'nuptials', 'nurse', 'nurses', 'nutrients', 'nutrition', 'nutritional', 'nutritious', 'nuts', 'nutter', 'nuveen', 'nv', 'nvda', 'nvidia', 'nw', 'nwa', 'ny', 'nyc', 'nymex', 'nyong', 'nypd', 'nyse', 'nyt', 'nyu', 'nz', 'nzd', 'oak', 'oakland', 'oakley', 'oarfish', 'oates', 'oathkeeper', 'oats', 'obama', 'obamacare', 'obamas', 'obese', 'obesity', 'object', 'objection', 'objects', 'obokata', 'obscene', 'obscure', 'observatory', 'observe', 'observed', 'observes', 'obsessed', 'obsession', 'obstruction', 'obtain', 'obvious', 'obviously', 'occupy', 'occur', 'ocean', 'oceans', 'oco', 'octa', 'october', 'octopus', 'octopuses', 'oculus', 'od', 'odd', 'odds', 'ode', 'oderus', 'odom', 'odor', 'odors', 'odyssey', 'oecd', 'offended', 'offender', 'offenders', 'offends', 'offensive', 'offer', 'offered', 'offering', 'offerings', 'offers', 'office', 'officer', 'officers', 'offices', 'official', 'officially', 'officials', 'offline', 'offroad', 'offs', 'offset', 'offsets', 'offshore', 'often', 'oh', 'ohio', 'ohioans', 'oil', 'oilfield', 'ois', 'ok', 'okay', 'okcupid', 'oklahoma', 'oks', 'old', 'older', 'oldest', 'oldman', 'oled', 'oleg', 'oligarch', 'olive', 'oliver', 'olivia', 'olivier', 'olsen', 'olson', 'olufsen', 'olympian', 'olympic', 'omaha', 'omega', 'omg', 'omnicom', 'omsignal', 'onboard', 'oncology', 'one', 'onedrive', 'onenote', 'oneplus', 'ones', 'ongoing', 'online', 'ono', 'ons', 'onscreen', 'onset', 'onstage', 'ontario', 'onto', 'oops', 'op', 'opec', 'open', 'opened', 'opener', 'opening', 'openings', 'openly', 'opens', 'openssl', 'openstack', 'opentable', 'opera', 'operating', 'operation', 'operations', 'operator', 'operators', 'opie', 'opinion', 'opinions', 'opioid', 'oppo', 'opponents', 'opportunities', 'opportunity', 'oppose', 'opposed', 'opposes', 'opposing', 'opposite', 'opposition', 'oprah', 'ops', 'opt', 'optical', 'optimism', 'optimistic', 'optimus', 'option', 'options', 'opts', 'ora', 'oracle', 'oral', 'orange', 'orbit', 'orbital', 'orbiting', 'orbitz', 'orcl', 'ordeal', 'order', 'ordered', 'ordering', 'orders', 'ordinary', 'oregon', 'org', 'organ', 'organic', 'organics', 'organisation', 'organism', 'organization', 'organizations', 'organize', 'organizers', 'organs', 'origin', 'original', 'originally', 'originals', 'origins', 'orion', 'orkut', 'orlando', 'orleans', 'orphan', 'orthodox', 'os', 'osborne', 'osbourne', 'oscar', 'oscars', 'oslo', 'osmo', 'osteoarthritis', 'osu', 'ota', 'otc', 'otcmkts', 'otezla', 'others', 'otis', 'ottawa', 'ouch', 'ounce', 'oust', 'ousted', 'ouster', 'ousting', 'ousts', 'outage', 'outbreak', 'outbreaks', 'outburst', 'outcome', 'outcomes', 'outcry', 'outdoor', 'outed', 'outer', 'outfit', 'outfits', 'outfitters', 'outflows', 'outing', 'outkast', 'outlander', 'outlines', 'outlook', 'outpace', 'outperform', 'outperforms', 'output', 'outrage', 'outraged', 'outrageous', 'outs', 'outsell', 'outselling', 'outsells', 'outside', 'outsider', 'outsold', 'outstanding', 'outta', 'ovarian', 'overage', 'overall', 'overcome', 'overdose', 'overdoses', 'overdraft', 'overflow', 'overhaul', 'overhauled', 'overhauls', 'overheating', 'overload', 'overloaded', 'overnight', 'overseas', 'oversee', 'overshadow', 'oversight', 'oversold', 'overstated', 'overtake', 'overtakes', 'overturns', 'overview', 'overweight', 'overwhelmed', 'overwhelming', 'owe', 'owed', 'owes', 'owl', 'owned', 'owner', 'owners', 'ownership', 'owns', 'oxford', 'oxygen', 'oy', 'oyj', 'oyster', 'oz', 'pa', 'pablo', 'paccar', 'pace', 'pacemaker', 'pacemakers', 'pacific', 'pack', 'package', 'packaged', 'packaging', 'packard', 'packed', 'packer', 'packing', 'packs', 'pact', 'pad', 'paddington', 'padfone', 'padma', 'paedophile', 'paetz', 'page', 'pages', 'paid', 'pain', 'painful', 'painkiller', 'painkillers', 'paint', 'painted', 'painting', 'paints', 'pair', 'paired', 'pairs', 'paisley', 'pakistan', 'pal', 'palace', 'palbociclib', 'palcohol', 'paleontologists', 'palermo', 'palestinian', 'paleyfest', 'palin', 'palladium', 'palm', 'palme', 'palmer', 'palo', 'pals', 'paltrow', 'pam', 'pamela', 'pamplona', 'pan', 'panama', 'panasonic', 'pancreas', 'pancreatic', 'panda', 'pandemic', 'pandora', 'panel', 'panels', 'panem', 'panera', 'panettiere', 'panic', 'pants', 'pap', 'paparazzi', 'paparazzo', 'paper', 'papers', 'papyrus', 'paquin', 'parachute', 'parade', 'parades', 'paradise', 'paragliding', 'paralysed', 'paralysis', 'paralyzed', 'paramedic', 'paramount', 'paranoia', 'paranoid', 'paraplegic', 'paraplegics', 'parasailing', 'parasite', 'pare', 'parent', 'parenthood', 'parenting', 'parents', 'paribas', 'paris', 'park', 'parked', 'parker', 'parking', 'parkinson', 'parks', 'parliament', 'parodies', 'parody', 'parrot', 'parsons', 'part', 'partial', 'partially', 'participants', 'participate', 'participating', 'particle', 'particularly', 'partied', 'parties', 'parting', 'partly', 'partner', 'partnering', 'partners', 'partnership', 'parton', 'parts', 'party', 'partying', 'pas', 'pascal', 'paso', 'pass', 'passed', 'passenger', 'passengers', 'passes', 'passing', 'passion', 'passionate', 'passover', 'password', 'passwords', 'past', 'pastor', 'pat', 'pataky', 'patch', 'patches', 'patent', 'patents', 'path', 'paths', 'patience', 'patient', 'patients', 'patricia', 'patrick', 'patriotism', 'patrol', 'patrols', 'pattern', 'patterson', 'pattinson', 'patton', 'paul', 'paula', 'pauley', 'paulson', 'pause', 'pauses', 'pave', 'paves', 'pavilion', 'pay', 'paycheck', 'payday', 'paying', 'payment', 'payments', 'payoff', 'payout', 'payouts', 'paypal', 'payroll', 'payrolls', 'pays', 'pboc', 'pc', 'pcs', 'pct', 'pda', 'peabody', 'peace', 'peaceful', 'peaches', 'peak', 'peaks', 'peanut', 'peanuts', 'pearce', 'pebble', 'pedal', 'pedals', 'pedophile', 'pee', 'peek', 'peeks', 'peeples', 'peeps', 'peer', 'peering', 'peers', 'peeta', 'peg', 'pegg', 'pegged', 'peggy', 'pegs', 'pelagornis', 'pelletier', 'pelt', 'pelted', 'peltz', 'pelvic', 'pen', 'penalties', 'penalty', 'pending', 'penelope', 'penguin', 'penguins', 'penis', 'penn', 'penney', 'pennsylvania', 'penny', 'pens', 'pension', 'pensions', 'pentagon', 'people', 'pepco', 'pepper', 'peppers', 'pepsi', 'pepsico', 'per', 'percent', 'percentage', 'perception', 'perch', 'peregrym', 'perfect', 'perfection', 'perfectly', 'perform', 'performance', 'performances', 'performed', 'performer', 'performers', 'performing', 'performs', 'perhaps', 'peril', 'perils', 'period', 'periodic', 'peripheral', 'perk', 'perkins', 'perks', 'permanent', 'permanente', 'permanently', 'permission', 'permit', 'permits', 'perrotta', 'perry', 'pershing', 'persist', 'persists', 'person', 'personal', 'personality', 'personalized', 'perspective', 'perth', 'peru', 'pesticide', 'pesticides', 'pet', 'petco', 'pete', 'peter', 'petition', 'petitions', 'petrol', 'petroleum', 'pets', 'petsmart', 'pew', 'pf', 'pfe', 'pfister', 'pfizer', 'pg', 'ph', 'phablet', 'pharma', 'pharmaceutical', 'pharmaceuticals', 'pharmacies', 'pharmacists', 'pharmacy', 'pharrell', 'phase', 'phenomenal', 'phenomenon', 'phh', 'phil', 'philadelphia', 'philae', 'philip', 'philippine', 'philippines', 'philips', 'philly', 'phoenix', 'phone', 'phones', 'phony', 'photo', 'photograph', 'photographed', 'photographer', 'photographers', 'photography', 'photos', 'photoshoot', 'photoshop', 'photoshopped', 'physical', 'physically', 'physician', 'physicians', 'physics', 'pi', 'pia', 'pic', 'picasso', 'pichai', 'pick', 'picked', 'picket', 'picking', 'picks', 'pickup', 'pickups', 'pics', 'picture', 'pictured', 'pictures', 'pie', 'piece', 'pieces', 'pierce', 'pierced', 'piers', 'pig', 'piggy', 'pigs', 'pike', 'pikes', 'piketty', 'pile', 'piles', 'pilgrim', 'pilgrims', 'pill', 'pillinger', 'pills', 'pilot', 'pilots', 'pimco', 'pin', 'pine', 'pinette', 'ping', 'pings', 'pink', 'pinkett', 'pinnacle', 'pinned', 'pinocchio', 'pins', 'pinterest', 'pinto', 'pioneer', 'pioneering', 'pip', 'pipe', 'pipeline', 'piper', 'pippa', 'piracy', 'pissed', 'pistorius', 'pit', 'pitbull', 'pitch', 'pitches', 'pits', 'pitt', 'pittsburgh', 'pivot', 'pivotal', 'pixar', 'pixel', 'pixies', 'pizza', 'place', 'placed', 'placement', 'placenta', 'placentas', 'places', 'plagiarism', 'plague', 'plagued', 'plain', 'plan', 'plane', 'planes', 'planet', 'planetary', 'planets', 'planned', 'planning', 'plano', 'plans', 'plant', 'planting', 'plants', 'plastic', 'plate', 'platform', 'platforms', 'platinum', 'play', 'playable', 'playback', 'playbook', 'playboy', 'played', 'player', 'players', 'playing', 'playlist', 'playoffs', 'plays', 'playstation', 'plaza', 'plc', 'plea', 'plead', 'pleads', 'please', 'pleased', 'pledge', 'pledges', 'plenty', 'plight', 'pliss', 'plosser', 'plot', 'plots', 'plotting', 'plow', 'plug', 'plugs', 'plummet', 'plummets', 'plunge', 'plunged', 'plunges', 'plunging', 'plus', 'pluto', 'pm', 'pmi', 'pmis', 'pnc', 'poaches', 'poaching', 'pobre', 'pocket', 'pockets', 'podcast', 'poet', 'poignant', 'point', 'pointing', 'points', 'poised', 'poison', 'poisoning', 'pok', 'poke', 'pokemon', 'poker', 'pokerstars', 'pokes', 'poland', 'polar', 'pole', 'police', 'policies', 'policy', 'policymakers', 'polio', 'political', 'politician', 'politicians', 'politics', 'poll', 'pollen', 'pollinator', 'pollinators', 'polls', 'polluted', 'pollution', 'polo', 'ponder', 'pono', 'ponomusic', 'ponoplayer', 'pony', 'poo', 'pool', 'pools', 'poolside', 'poop', 'poor', 'poorly', 'pop', 'popcorn', 'pope', 'popeyes', 'popping', 'pops', 'popular', 'popularity', 'population', 'pork', 'porn', 'pornographic', 'poroshenko', 'porsche', 'port', 'portable', 'portal', 'porter', 'portfolio', 'portia', 'portion', 'portions', 'portland', 'portrait', 'portray', 'portrayal', 'portraying', 'ports', 'portugal', 'portuguese', 'pose', 'posed', 'poses', 'posing', 'position', 'positioned', 'positions', 'positive', 'posse', 'possession', 'possibility', 'possible', 'possibly', 'post', 'postal', 'posted', 'poster', 'posters', 'posthumous', 'posting', 'postpartum', 'postpone', 'postponed', 'postpones', 'posts', 'pot', 'potato', 'potential', 'potentially', 'potter', 'pottermore', 'poultry', 'pound', 'pounds', 'pour', 'poverty', 'powder', 'powdered', 'powell', 'power', 'powerade', 'powerbeats', 'powered', 'powerful', 'powerhouse', 'powermat', 'powerpoint', 'powerpuff', 'powers', 'ppg', 'ppi', 'ppv', 'pr', 'practice', 'practices', 'prairie', 'praise', 'praised', 'praises', 'prank', 'pranks', 'prankster', 'pratt', 'pray', 'prayer', 'prayers', 'praying', 'prays', 'pre', 'preacher', 'precautions', 'precious', 'predator', 'predators', 'predatory', 'predecessor', 'predict', 'predictable', 'predicted', 'predicting', 'prediction', 'predictions', 'predicts', 'preeclampsia', 'prefer', 'pregnancy', 'pregnant', 'prehistoric', 'preliminary', 'premarket', 'premature', 'prematurely', 'premier', 'premiere', 'premieres', 'premise', 'premium', 'premiums', 'prenatal', 'prenup', 'preorder', 'preorders', 'prep', 'prepaid', 'preparation', 'preparations', 'prepare', 'prepared', 'prepares', 'preparing', 'prepayment', 'prepon', 'prepping', 'preps', 'prequel', 'presbyterian', 'prescribe', 'prescribed', 'prescribing', 'prescription', 'prescriptions', 'presence', 'present', 'presentation', 'presented', 'presenter', 'presents', 'preservation', 'preserve', 'president', 'presidential', 'press', 'presses', 'pressure', 'pressured', 'pressures', 'preston', 'pretend', 'preterm', 'pretty', 'prevails', 'prevalence', 'prevent', 'preventable', 'prevented', 'preventing', 'prevention', 'prevents', 'preview', 'previews', 'previous', 'previously', 'price', 'priced', 'priceless', 'priceline', 'prices', 'pricey', 'pricing', 'pride', 'primary', 'prime', 'primed', 'primer', 'primetime', 'prince', 'princess', 'print', 'printed', 'printer', 'printing', 'prints', 'prinze', 'prior', 'priorities', 'priority', 'prison', 'prisons', 'pritzker', 'privacy', 'private', 'privatization', 'prix', 'prize', 'prizes', 'pro', 'probable', 'probably', 'probation', 'probe', 'probed', 'probes', 'probing', 'problem', 'problems', 'procedure', 'procedures', 'proceeds', 'process', 'processed', 'processing', 'procession', 'processor', 'processors', 'procter', 'produce', 'produced', 'producer', 'producers', 'produces', 'producing', 'product', 'production', 'productive', 'productivity', 'products', 'professional', 'professionals', 'professor', 'profile', 'profiles', 'profit', 'profitability', 'profitable', 'profits', 'program', 'programme', 'programmer', 'programming', 'programs', 'progress', 'progresses', 'progression', 'project', 'projected', 'projections', 'projects', 'prolific', 'prolonged', 'prom', 'promaster', 'promise', 'promised', 'promises', 'promising', 'promo', 'promos', 'promote', 'promoted', 'promoter', 'promotes', 'promoting', 'promotion', 'promotional', 'promotions', 'prompt', 'prompted', 'prompts', 'prone', 'pronounce', 'proof', 'prop', 'propaganda', 'propel', 'propels', 'proper', 'properties', 'property', 'proportions', 'proposal', 'proposals', 'propose', 'proposed', 'proposes', 'proposing', 'pros', 'prosecution', 'prosecutor', 'prosecutors', 'prospect', 'prospects', 'prostate', 'prosthetic', 'protect', 'protected', 'protecting', 'protection', 'protections', 'protective', 'protects', 'protein', 'protest', 'protesters', 'protesting', 'protestors', 'protests', 'prototype', 'prototypes', 'proud', 'prove', 'proven', 'proves', 'provide', 'provided', 'providence', 'provider', 'providers', 'provides', 'providing', 'province', 'proving', 'provisions', 'provocative', 'proxy', 'pryte', 'ps', 'psa', 'psn', 'psoriatic', 'psp', 'psych', 'psychedelic', 'psychiatric', 'psychiatrist', 'psychological', 'psychology', 'pt', 'ptc', 'ptsd', 'public', 'publication', 'publicis', 'publicist', 'publicity', 'publicly', 'publish', 'published', 'publisher', 'publishers', 'publishes', 'publishing', 'puerto', 'puff', 'puking', 'pulaski', 'pulitzer', 'pull', 'pullback', 'pulled', 'pulling', 'pulls', 'pulp', 'pulse', 'pump', 'pumps', 'punch', 'punched', 'punches', 'punching', 'punish', 'punished', 'punishment', 'punk', 'puppy', 'purchase', 'purchased', 'purchases', 'purchasing', 'purdy', 'pure', 'purge', 'purple', 'purported', 'purpose', 'purposes', 'pursue', 'pursues', 'pursuing', 'pursuit', 'push', 'pushed', 'pushes', 'pushing', 'pussy', 'put', 'putin', 'puts', 'putting', 'puzzle', 'puzzled', 'puzzles', 'pv', 'pyramid', 'python', 'pythons', 'qatar', 'qb', 'qcom', 'qe', 'qhd', 'qtr', 'quad', 'quadrant', 'quadruples', 'quake', 'quakes', 'qualcomm', 'qualify', 'qualifying', 'quality', 'quantitative', 'quantum', 'quarantine', 'quarantined', 'quarantines', 'quarter', 'quarterback', 'quarterly', 'quartz', 'quebec', 'queen', 'queens', 'quentin', 'quest', 'question', 'questionable', 'questioned', 'questioning', 'questions', 'quick', 'quicken', 'quickens', 'quickly', 'quicksilver', 'quiet', 'quietly', 'quincy', 'quinn', 'quinta', 'quintuplets', 'quirky', 'quit', 'quite', 'quits', 'quitting', 'quiz', 'quiznos', 'quo', 'quot', 'quote', 'quoted', 'quotes', 'rabbi', 'raccoon', 'race', 'races', 'rachel', 'racial', 'racially', 'racing', 'racism', 'racist', 'racists', 'racy', 'radar', 'radcliffe', 'radiation', 'radical', 'radio', 'rae', 'raft', 'rage', 'rages', 'raghuram', 'raging', 'ragu', 'raid', 'raided', 'raids', 'rail', 'railgun', 'railroad', 'rails', 'railway', 'rain', 'rainbow', 'rains', 'raise', 'raised', 'raises', 'raisin', 'raising', 'rajan', 'rajat', 'rajeev', 'rakes', 'raknet', 'raleigh', 'rallies', 'rally', 'rallying', 'ralph', 'ram', 'ramp', 'rampage', 'ramping', 'ramps', 'ran', 'rana', 'ranbaxy', 'rand', 'randall', 'random', 'randy', 'range', 'rangers', 'rank', 'ranked', 'ranking', 'rankings', 'ranks', 'rannells', 'ransom', 'ransomware', 'rant', 'rants', 'rap', 'rape', 'raped', 'rapid', 'rapidly', 'raping', 'rapper', 'rappers', 'rapping', 'raps', 'rapture', 'rare', 'rash', 'rashes', 'rat', 'rate', 'rated', 'rates', 'rather', 'rating', 'ratings', 'ratio', 'rational', 'rats', 'rattler', 'rattles', 'raunchy', 'rave', 'raves', 'raw', 'ray', 'raymond', 'rays', 'razor', 'rba', 'rbc', 'rbi', 'rbnz', 'rbs', 'rcmp', 'rd', 'rdio', 'reach', 'reached', 'reaches', 'reaching', 'react', 'reacted', 'reaction', 'reactions', 'reacts', 'read', 'reade', 'reader', 'readers', 'readies', 'reading', 'reads', 'ready', 'readying', 'reaffirmed', 'reaffirms', 'real', 'realism', 'realistic', 'reality', 'realize', 'really', 'reaps', 'rear', 'rearview', 'reason', 'reasonable', 'reasons', 'reassurance', 'reassures', 'reattach', 'rebasing', 'rebecca', 'rebel', 'rebellion', 'rebels', 'rebhorn', 'reboot', 'rebooted', 'rebooting', 'reborn', 'rebound', 'rebounding', 'rebounds', 'rebrand', 'rebuffed', 'rebuild', 'rebuilt', 'recall', 'recalled', 'recalling', 'recalls', 'recap', 'recaps', 'recast', 'receive', 'received', 'receives', 'receiving', 'recent', 'recently', 'reception', 'recession', 'recipe', 'recipes', 'reckless', 'reckoning', 'reclaims', 'recluse', 'reclusive', 'recognise', 'recognition', 'recognize', 'recognized', 'recognizes', 'recommend', 'recommendation', 'recommendations', 'recommended', 'recommends', 'reconciliation', 'reconsider', 'record', 'recorded', 'recording', 'recordings', 'records', 'recover', 'recoverable', 'recovered', 'recovering', 'recovers', 'recovery', 'recreate', 'recreates', 'recreational', 'recruits', 'recycling', 'red', 'reddit', 'redefine', 'redefines', 'redemption', 'redesign', 'redesigned', 'redesigns', 'rediscovered', 'redskins', 'reduce', 'reduced', 'reduces', 'reducing', 'reduction', 'reductions', 'reed', 'reef', 'reefs', 'reel', 'reese', 'reeva', 'reeves', 'reference', 'references', 'referendum', 'referral', 'refile', 'refinance', 'refinery', 'reflect', 'reflection', 'reflections', 'reflects', 'refocus', 'reform', 'reforms', 'refrains', 'refresh', 'refreshed', 'refreshes', 'refugees', 'refund', 'refunds', 'refuse', 'refused', 'refuses', 'refusing', 'refutes', 'regain', 'regains', 'regarding', 'regime', 'regimen', 'region', 'regional', 'regions', 'register', 'registered', 'registers', 'registration', 'regret', 'regrets', 'regs', 'regular', 'regulars', 'regulate', 'regulated', 'regulating', 'regulation', 'regulations', 'regulator', 'regulators', 'regulatory', 'rehab', 'rehearsal', 'reid', 'reign', 'reigns', 'reilly', 'rein', 'reins', 'reinstate', 'reinvent', 'reissue', 'reiterated', 'reiterates', 'reitman', 'reject', 'rejected', 'rejection', 'rejects', 'rejoice', 'rejoins', 'rejuvenates', 'relapse', 'related', 'relations', 'relationship', 'relationships', 'relative', 'relatively', 'relatives', 'relativity', 'relaunch', 'relaunches', 'relax', 'relaxes', 'relay', 'release', 'released', 'releases', 'releasing', 'relents', 'relenza', 'relevant', 'reliability', 'reliable', 'reliance', 'reliant', 'relief', 'relieved', 'religion', 'religious', 'relive', 'remain', 'remainder', 'remained', 'remaining', 'remains', 'remake', 'remarkable', 'remarks', 'remastered', 'remember', 'remembered', 'remembering', 'remembers', 'remind', 'reminder', 'reminders', 'reminds', 'reminiscent', 'remix', 'remote', 'remotely', 'removal', 'remove', 'removed', 'removes', 'removing', 'renaissance', 'rename', 'renamed', 'renault', 'render', 'renders', 'renegade', 'renesas', 'renew', 'renewable', 'renewables', 'renewal', 'renewals', 'renewed', 'renews', 'reno', 'renowned', 'rent', 'rental', 'reopen', 'reopens', 'reorganization', 'rep', 'repair', 'repairs', 'repay', 'repeal', 'repeat', 'repeats', 'replace', 'replaced', 'replacement', 'replacements', 'replaces', 'replacing', 'replica', 'replies', 'repo', 'report', 'reported', 'reportedly', 'reporter', 'reporters', 'reporting', 'reports', 'representative', 'reprieve', 'reprise', 'reprises', 'republic', 'republican', 'republicans', 'reputation', 'request', 'requested', 'requests', 'require', 'required', 'requirement', 'requirements', 'requires', 'requiring', 'res', 'rescheduled', 'reschedules', 'rescue', 'rescued', 'rescuers', 'rescues', 'research', 'researcher', 'researchers', 'resembles', 'resembling', 'resentment', 'reservations', 'reserve', 'reserves', 'reservoir', 'reset', 'resets', 'residency', 'resident', 'residential', 'residents', 'resign', 'resignation', 'resigns', 'resilience', 'resist', 'resistance', 'resistant', 'resolution', 'resolve', 'resort', 'resorts', 'resources', 'respawn', 'respect', 'respectfully', 'respiratory', 'respite', 'respond', 'responders', 'responding', 'responds', 'response', 'responses', 'responsibility', 'responsible', 'rest', 'restart', 'restarts', 'restaurant', 'restaurants', 'resting', 'restore', 'restored', 'restores', 'restraining', 'restraint', 'restrict', 'restricted', 'restriction', 'restrictions', 'restricts', 'restructuring', 'result', 'results', 'resume', 'resumes', 'resupply', 'resurfaces', 'resurgence', 'resurrection', 'resurrects', 'resveratrol', 'retail', 'retailer', 'retailers', 'retain', 'retains', 'retaliation', 'retardant', 'reteam', 'rethink', 'retina', 'retinal', 'retire', 'retired', 'retiree', 'retirees', 'retirement', 'retires', 'retiring', 'retracted', 'retraction', 'retracts', 'retreat', 'retreats', 'retrial', 'retro', 'retrospective', 'return', 'returned', 'returning', 'returns', 'retweet', 'reunion', 'reunite', 'reunited', 'reunites', 'reuniting', 'reusable', 'reuters', 'rev', 'revamp', 'revamped', 'revamps', 'reveal', 'revealed', 'revealing', 'reveals', 'revelation', 'revelations', 'revenant', 'revenge', 'revenue', 'revenues', 'reversal', 'reverse', 'reversed', 'reverses', 'reversing', 'review', 'reviewed', 'reviewing', 'reviews', 'revise', 'revised', 'revises', 'revising', 'revision', 'revisions', 'revisit', 'revisited', 'revisits', 'revival', 'revive', 'revived', 'revives', 'reviving', 'revolt', 'revolution', 'revolutionary', 'revolutionize', 'revs', 'revue', 'rewalk', 'reward', 'rewards', 'rewrite', 'rex', 'rey', 'reynolds', 'rhapsody', 'rhcp', 'rhead', 'rhimes', 'rhode', 'rhonda', 'ri', 'ricci', 'rice', 'rich', 'richard', 'richards', 'richardson', 'richer', 'richie', 'richman', 'richmond', 'rick', 'ricky', 'rico', 'rid', 'riddle', 'ride', 'rider', 'riders', 'rides', 'ridesharing', 'ridiculous', 'ridiculously', 'riding', 'ridley', 'riff', 'rifle', 'rift', 'rig', 'rigged', 'rigging', 'right', 'rights', 'rigs', 'rihanna', 'riken', 'riley', 'ring', 'ringling', 'rings', 'rio', 'riot', 'riots', 'rip', 'ripe', 'ripley', 'ripoff', 'ripped', 'ripping', 'ripple', 'ripples', 'rips', 'rise', 'risen', 'rises', 'rising', 'risk', 'risks', 'risky', 'rita', 'rival', 'rivalry', 'rivals', 'river', 'rivers', 'riverside', 'rixson', 'rk', 'road', 'roadmap', 'roads', 'roanoke', 'roar', 'roaring', 'rob', 'robach', 'robbed', 'robbers', 'robbery', 'robert', 'roberts', 'robertson', 'robin', 'robonaut', 'robot', 'robotic', 'robots', 'robust', 'roche', 'rochester', 'rock', 'rockchip', 'rocked', 'rocker', 'rockers', 'rocket', 'rockets', 'rockford', 'rocking', 'rocks', 'rockstar', 'rockwood', 'rocky', 'rodger', 'rodgers', 'rodriguez', 'rogan', 'rogen', 'roger', 'rogers', 'rogue', 'roku', 'role', 'roles', 'rolf', 'roll', 'rolled', 'roller', 'rolling', 'rollins', 'rollout', 'rolls', 'rom', 'romance', 'romantic', 'romeo', 'romp', 'ron', 'ronald', 'ronnie', 'roof', 'rookie', 'room', 'roombots', 'rooms', 'rooney', 'root', 'roots', 'rope', 'ropes', 'rosamund', 'rose', 'roseland', 'rosemary', 'roses', 'rosetta', 'rosie', 'rosneft', 'ross', 'rossi', 'rosy', 'roth', 'rotten', 'rouen', 'rouge', 'rough', 'roughly', 'rouhani', 'round', 'rounded', 'rounds', 'roundup', 'rout', 'route', 'routes', 'routine', 'rover', 'rovio', 'row', 'rowe', 'rowghani', 'rowland', 'rowling', 'roy', 'royal', 'royals', 'royalties', 'royalty', 'royce', 'rpt', 'rquez', 'rr', 'rs', 'rt', 'rubble', 'rubik', 'rubio', 'ruble', 'ruby', 'rudd', 'rude', 'rudolph', 'ruffalo', 'ruin', 'ruined', 'ruining', 'ruins', 'rule', 'ruled', 'rules', 'ruling', 'rumor', 'rumored', 'rumors', 'rumour', 'rumoured', 'rumours', 'run', 'runaway', 'runaways', 'rundown', 'runkeeper', 'runner', 'runners', 'running', 'runs', 'runway', 'rupee', 'rupert', 'rural', 'rush', 'rushed', 'rushes', 'rushing', 'russell', 'russia', 'russian', 'russians', 'rust', 'rwe', 'ryan', 'ryanair', 'rybolovlev', 'rza', 'sa', 'saban', 'sabotage', 'sac', 'sachs', 'sack', 'sacked', 'sacks', 'sacramento', 'sacred', 'sacrifice', 'sad', 'saddened', 'sadly', 'sadness', 'safari', 'safe', 'safely', 'safer', 'safety', 'safran', 'sag', 'saga', 'sage', 'sags', 'sahara', 'said', 'sail', 'sailing', 'sailor', 'sails', 'saint', 'sajak', 'sake', 'salad', 'salary', 'saldana', 'sale', 'sales', 'salesforce', 'sally', 'salmon', 'salmonella', 'salomon', 'salon', 'salt', 'salty', 'salute', 'sam', 'samaritan', 'samba', 'samberg', 'sample', 'samples', 'samsung', 'samuel', 'san', 'sanchez', 'sanction', 'sanctioned', 'sanctions', 'sand', 'sandberg', 'sanders', 'sandisk', 'sandler', 'sandra', 'sands', 'sandwich', 'sandy', 'sane', 'sang', 'sank', 'sanofi', 'sanrio', 'sans', 'sansa', 'santa', 'sap', 'sapphire', 'sara', 'sarah', 'sarandon', 'sarasota', 'sardinia', 'sarepta', 'sars', 'sasha', 'saskatoon', 'sat', 'satellite', 'satellites', 'satire', 'satisfaction', 'satisfied', 'satisfying', 'saturated', 'saturday', 'saturn', 'saturns', 'satya', 'sauce', 'saucer', 'saudi', 'saudis', 'savage', 'savannah', 'save', 'saved', 'savers', 'saves', 'savile', 'saving', 'savings', 'savior', 'savvy', 'saw', 'sawyer', 'say', 'saying', 'sayings', 'says', 'sbarro', 'sc', 'scale', 'scaled', 'scales', 'scam', 'scammers', 'scams', 'scan', 'scandal', 'scandalous', 'scania', 'scanner', 'scanning', 'scans', 'scare', 'scared', 'scares', 'scarlet', 'scarlett', 'scary', 'scenario', 'scene', 'scenes', 'scents', 'schedule', 'scheduled', 'schedules', 'scheme', 'schmidt', 'schneiderman', 'school', 'schools', 'schumacher', 'schumer', 'schwarzenegger', 'sci', 'science', 'sciences', 'scientific', 'scientist', 'scientists', 'sclerosis', 'scolded', 'scolds', 'scooby', 'scoop', 'scoops', 'scooter', 'scope', 'score', 'scorecard', 'scores', 'scotland', 'scott', 'scottish', 'scotty', 'scotus', 'scout', 'scouts', 'scramble', 'scrambles', 'scrap', 'scrape', 'scrapping', 'scraps', 'scratch', 'scratching', 'scream', 'screaming', 'screams', 'screen', 'screened', 'screening', 'screenings', 'screens', 'screenshot', 'screenshots', 'screenwriter', 'screw', 'screwed', 'screwing', 'screws', 'script', 'scripts', 'scrubbed', 'scrubs', 'scrutiny', 'scty', 'scuffle', 'sd', 'sdcc', 'sdk', 'se', 'sea', 'seabed', 'seacrest', 'seafood', 'seal', 'sealed', 'seals', 'sean', 'search', 'searched', 'searchers', 'searches', 'searching', 'sears', 'seas', 'season', 'seasonal', 'seasons', 'seat', 'seats', 'seattle', 'seaworld', 'sebelius', 'sec', 'second', 'seconds', 'secret', 'secretary', 'secretly', 'secrets', 'section', 'sections', 'sector', 'sectors', 'secure', 'secures', 'securing', 'securities', 'security', 'secusmart', 'sedan', 'sedans', 'seder', 'sediuk', 'see', 'seed', 'seeds', 'seeing', 'seek', 'seeking', 'seeks', 'seem', 'seemingly', 'seems', 'seen', 'sees', 'segel', 'segment', 'segway', 'seinfeld', 'seismic', 'seize', 'seized', 'seizes', 'seizure', 'seizures', 'select', 'selected', 'selection', 'selects', 'selena', 'self', 'selfie', 'selfies', 'sell', 'seller', 'sellers', 'selling', 'selloff', 'sells', 'semen', 'semi', 'semifinals', 'semitic', 'semitism', 'sen', 'senate', 'senator', 'senators', 'send', 'sending', 'sendoff', 'sends', 'senegal', 'seng', 'senior', 'seniors', 'sensation', 'sense', 'sensing', 'sensitive', 'sensor', 'sensors', 'sent', 'sentence', 'sentenced', 'sentences', 'sentencing', 'sentiment', 'sentinel', 'sentinels', 'seoul', 'separate', 'separated', 'separates', 'separating', 'separation', 'separatists', 'sept', 'septa', 'september', 'sequel', 'sequels', 'sequence', 'seragon', 'sergey', 'serial', 'series', 'serious', 'seriously', 'serkis', 'sermon', 'serum', 'serve', 'served', 'server', 'servers', 'serves', 'service', 'serviceman', 'services', 'serving', 'session', 'sessions', 'set', 'setback', 'seth', 'seti', 'sets', 'setting', 'settings', 'settle', 'settlement', 'settlements', 'settles', 'settling', 'setup', 'seven', 'seventeen', 'seventh', 'several', 'severance', 'severe', 'severed', 'severely', 'severs', 'sex', 'sexiest', 'sexism', 'sexist', 'sexting', 'sexual', 'sexuality', 'sexually', 'sexy', 'sf', 'sfr', 'sgr', 'sgt', 'sh', 'shade', 'shades', 'shadow', 'shady', 'shae', 'shaggy', 'shailene', 'shake', 'shakedown', 'shakes', 'shakespeare', 'shakeup', 'shaking', 'shakira', 'shakur', 'shaky', 'shale', 'shame', 'shamed', 'shameless', 'shames', 'shaming', 'shane', 'shanghai', 'shape', 'shaped', 'shaquille', 'share', 'shared', 'sharefactory', 'shareholder', 'shareholders', 'shares', 'sharia', 'sharing', 'shark', 'sharknado', 'sharp', 'sharply', 'shatner', 'shattered', 'shatters', 'shaun', 'shaved', 'shaves', 'shaving', 'shazam', 'shed', 'sheds', 'sheen', 'sheer', 'sheeran', 'sheet', 'sheets', 'sheffield', 'shell', 'shells', 'shelter', 'shelton', 'shelves', 'shepard', 'shepherd', 'sheriff', 'sherlock', 'sherman', 'sherri', 'sheryl', 'shia', 'shield', 'shields', 'shift', 'shifted', 'shifting', 'shifts', 'shigeru', 'shiller', 'shine', 'shines', 'shining', 'shiny', 'ship', 'shipment', 'shipments', 'shipped', 'shipping', 'ships', 'shipwreck', 'shire', 'shirt', 'shirtless', 'shirts', 'shock', 'shocked', 'shocker', 'shockers', 'shocking', 'shockingly', 'shocks', 'shoe', 'shoes', 'shonda', 'shoot', 'shooter', 'shooting', 'shootings', 'shootout', 'shoots', 'shop', 'shoppers', 'shopping', 'shoprunner', 'shops', 'shore', 'shores', 'short', 'shortage', 'shortages', 'shortened', 'shorter', 'shortlist', 'shortly', 'shorts', 'shot', 'shots', 'shovel', 'show', 'showbiz', 'showcase', 'showcases', 'showdown', 'showed', 'shower', 'showers', 'showing', 'shown', 'showrunner', 'showrunners', 'shows', 'showtime', 'shpg', 'shrank', 'shredder', 'shrew', 'shrine', 'shrink', 'shrinking', 'shrinks', 'shrug', 'shrugs', 'shrunk', 'shulgin', 'shun', 'shut', 'shutdown', 'shuts', 'shutter', 'shutters', 'shutting', 'shy', 'sia', 'siberia', 'siblings', 'sick', 'sickened', 'sickens', 'sickle', 'sid', 'side', 'sided', 'sidelines', 'sides', 'sideshow', 'sideways', 'siding', 'siemens', 'sierra', 'sigh', 'sight', 'sighted', 'sighting', 'sightings', 'sights', 'sign', 'signal', 'signals', 'signature', 'signed', 'significance', 'significant', 'significantly', 'signing', 'signs', 'signup', 'signups', 'sigourney', 'sikka', 'sikorsky', 'silence', 'silent', 'silevo', 'silicon', 'siliconangle', 'silk', 'silly', 'sils', 'silver', 'silverman', 'sim', 'simband', 'similar', 'similarities', 'simmons', 'simon', 'simple', 'simpler', 'simplified', 'simply', 'simpson', 'simpsons', 'simulation', 'simulator', 'simulcast', 'sin', 'sina', 'since', 'sinead', 'sing', 'singapore', 'singer', 'singers', 'singing', 'single', 'singles', 'singpost', 'sings', 'sinister', 'sink', 'sinkhole', 'sinking', 'sinks', 'sino', 'sins', 'sioux', 'sir', 'siri', 'sirius', 'siriusxm', 'sis', 'sisaundra', 'sister', 'sisters', 'sit', 'sitcom', 'site', 'sites', 'sits', 'sitting', 'situation', 'six', 'sixth', 'size', 'sized', 'sizes', 'sizzle', 'sizzles', 'sizzurp', 'skarsgard', 'skeleton', 'skeptical', 'skepticism', 'skeptics', 'sketch', 'sketches', 'sketchy', 'skid', 'skidmore', 'skids', 'skies', 'skills', 'skin', 'skinny', 'skip', 'skipped', 'skipping', 'skips', 'skirt', 'skit', 'sky', 'skybridge', 'skylanders', 'skype', 'skyrocket', 'skyrocketing', 'skyrockets', 'skyway', 'slack', 'slam', 'slammed', 'slams', 'slap', 'slapped', 'slaps', 'slash', 'slashed', 'slashes', 'slashing', 'slate', 'slated', 'slates', 'slave', 'slavery', 'slaying', 'slays', 'sleek', 'sleep', 'sleeping', 'sleeps', 'sleepy', 'sleeve', 'slept', 'slew', 'slice', 'sliced', 'slide', 'slides', 'slideshow', 'sliding', 'slight', 'slightly', 'slim', 'slime', 'slimed', 'slimmer', 'slingshot', 'slip', 'slipped', 'slips', 'slit', 'sloppy', 'slot', 'slow', 'slowdown', 'slowed', 'slower', 'slowest', 'slowing', 'slowly', 'slows', 'sluggish', 'slump', 'slumping', 'slumps', 'slur', 'slut', 'sm', 'smackdown', 'smacked', 'small', 'smaller', 'smallest', 'smallpox', 'smart', 'smarter', 'smartphone', 'smartphones', 'smartwatch', 'smartwatches', 'smash', 'smashes', 'smashing', 'smear', 'smell', 'smells', 'smile', 'smiles', 'smiling', 'smith', 'smithsonian', 'smitten', 'smog', 'smoke', 'smokers', 'smokes', 'smoking', 'smooth', 'sms', 'smucker', 'snack', 'snacks', 'snafu', 'snag', 'snags', 'snake', 'snap', 'snapchat', 'snapdragon', 'snapped', 'snaps', 'snapshot', 'snares', 'snatches', 'snc', 'sne', 'sneak', 'sneakers', 'sneaking', 'sneaks', 'sneaky', 'sniff', 'sniffing', 'snl', 'snooki', 'snoop', 'snooping', 'snoopy', 'snow', 'snowden', 'snowy', 'snub', 'snubbed', 'snubs', 'snyder', 'soaked', 'soap', 'soaps', 'soar', 'soared', 'soaring', 'soars', 'sober', 'sobriety', 'sobs', 'soc', 'soccer', 'social', 'society', 'sociology', 'soda', 'sodas', 'sodium', 'sofia', 'soft', 'softbank', 'softer', 'software', 'soho', 'soil', 'solange', 'solar', 'solarcity', 'sold', 'soldier', 'soldiers', 'sole', 'solid', 'solo', 'solution', 'solutions', 'solve', 'solved', 'solves', 'soma', 'somehow', 'someone', 'something', 'sometimes', 'somewhere', 'son', 'sonata', 'sonatas', 'song', 'songs', 'songwriter', 'songza', 'sonic', 'sons', 'sony', 'sookie', 'soon', 'sooner', 'soprano', 'sopranos', 'sorkin', 'sorrentino', 'sorry', 'sort', 'sotheby', 'sought', 'soul', 'soules', 'souls', 'sound', 'sounds', 'soundtrack', 'soup', 'sour', 'source', 'sources', 'sourcing', 'south', 'southeast', 'southern', 'southwest', 'sovaldi', 'sovereign', 'soviet', 'soy', 'soybean', 'soybeans', 'soyuz', 'sp', 'space', 'spacecraft', 'spaces', 'spaceship', 'spacetime', 'spacewalk', 'spacewalking', 'spacex', 'spain', 'spam', 'spammy', 'span', 'spangled', 'spanish', 'spans', 'spare', 'spark', 'sparked', 'sparkles', 'sparks', 'spat', 'spawns', 'spdr', 'speak', 'speaker', 'speakers', 'speaking', 'speaks', 'spears', 'spec', 'special', 'specialist', 'specialties', 'specialty', 'species', 'specific', 'specification', 'specifications', 'specs', 'spectacle', 'spectacular', 'spectrum', 'speculation', 'speech', 'speed', 'speeding', 'speeds', 'speedway', 'spell', 'spelling', 'spells', 'spencer', 'spend', 'spending', 'spends', 'spent', 'sperm', 'spf', 'spice', 'spider', 'spiderman', 'spiders', 'spidey', 'spielberg', 'spies', 'spike', 'spikes', 'spill', 'spilled', 'spills', 'spin', 'spinal', 'spine', 'spinning', 'spinoff', 'spins', 'spiral', 'spirit', 'spiritual', 'splash', 'splashes', 'split', 'splits', 'splitting', 'spoil', 'spoiler', 'spoilers', 'spoils', 'spokane', 'spoke', 'spoken', 'spokesman', 'spokesperson', 'sponge', 'spongebob', 'sponsored', 'spoof', 'spoofed', 'spoofs', 'spooked', 'spooks', 'sport', 'sporting', 'sports', 'spot', 'spotify', 'spotlight', 'spotlights', 'spots', 'spotted', 'spouse', 'spouses', 'spray', 'spraying', 'spread', 'spreading', 'spreads', 'spree', 'spring', 'springfield', 'springs', 'springsteen', 'sprint', 'spritz', 'sprouts', 'spur', 'spurs', 'spurt', 'spwr', 'spy', 'spying', 'squad', 'square', 'squarepants', 'squeeze', 'squeezed', 'squibb', 'squirrel', 'sr', 'srpt', 'srt', 'srx', 'ssl', 'st', 'stab', 'stabbing', 'stability', 'stabilize', 'stabilizes', 'stabilizing', 'stable', 'stacey', 'stack', 'stacks', 'stacy', 'stadium', 'staff', 'stage', 'staged', 'stages', 'staggering', 'stagnant', 'stairway', 'stake', 'stakes', 'stale', 'stalker', 'stalking', 'stalks', 'stall', 'stalled', 'stalling', 'stallone', 'stalls', 'stamos', 'stamp', 'stamps', 'stan', 'stance', 'stand', 'standalone', 'standard', 'standards', 'standing', 'standoff', 'stands', 'standstill', 'stanford', 'stanley', 'stap', 'staples', 'star', 'starbucks', 'stargazers', 'stargazing', 'stark', 'starring', 'stars', 'start', 'started', 'starter', 'starting', 'starts', 'startup', 'startups', 'starwood', 'starz', 'state', 'statement', 'statements', 'states', 'statewide', 'statins', 'station', 'stations', 'statistics', 'stats', 'statue', 'status', 'stave', 'stay', 'staying', 'stays', 'std', 'steadies', 'steady', 'steak', 'steal', 'stealing', 'steals', 'stealth', 'steam', 'steamy', 'steel', 'steenkamp', 'steep', 'steering', 'stefani', 'steinberg', 'steinhafel', 'stella', 'stellar', 'stem', 'step', 'stepbrother', 'stephen', 'stepped', 'stepper', 'stepping', 'steps', 'stereotype', 'sterling', 'stern', 'steroid', 'steve', 'steven', 'stevens', 'stevie', 'stewart', 'stick', 'sticker', 'stickers', 'sticking', 'sticks', 'sticky', 'stigma', 'still', 'stills', 'stimulant', 'stimulation', 'stimulus', 'sting', 'stint', 'stipe', 'stir', 'stirs', 'stock', 'stockholder', 'stockpile', 'stockpiles', 'stockpiling', 'stocks', 'stocktwits', 'stokes', 'stole', 'stolen', 'stoll', 'stomach', 'stomps', 'stone', 'stoneheart', 'stones', 'stooges', 'stop', 'stopped', 'stopping', 'stops', 'storage', 'store', 'stored', 'stores', 'stories', 'storm', 'storms', 'story', 'storyful', 'storyline', 'storytelling', 'stover', 'strahan', 'straight', 'strain', 'strait', 'stranded', 'strange', 'stranger', 'strangers', 'strapless', 'strategic', 'strategies', 'strategy', 'strauss', 'strawberry', 'streak', 'stream', 'streamed', 'streaming', 'streams', 'street', 'streets', 'streisand', 'strength', 'strengthen', 'strengthening', 'strengthens', 'stress', 'stressed', 'stresses', 'stressful', 'stretch', 'stricken', 'strict', 'stricter', 'strife', 'strike', 'strikes', 'striking', 'string', 'strip', 'striped', 'stripes', 'stripped', 'strips', 'stritch', 'stroke', 'strokes', 'stroll', 'strong', 'stronger', 'strongest', 'strongly', 'struck', 'structure', 'struggle', 'struggles', 'struggling', 'stuck', 'studded', 'student', 'students', 'studied', 'studies', 'studio', 'studios', 'study', 'studying', 'stuff', 'stumble', 'stumbles', 'stung', 'stunned', 'stunning', 'stuns', 'stunt', 'stunts', 'stupid', 'stupidity', 'style', 'styles', 'stylish', 'stylus', 'sub', 'subcompacts', 'subdued', 'subject', 'submarine', 'submissive', 'submit', 'submits', 'submitted', 'subpoena', 'subpoenaed', 'subprime', 'subrata', 'subs', 'subscriber', 'subscribers', 'subscription', 'subscriptions', 'subsidiary', 'subsidies', 'subsidy', 'substance', 'substantial', 'subtle', 'suburban', 'subway', 'succeed', 'succeeds', 'success', 'successful', 'successfully', 'succession', 'successor', 'succumbs', 'suck', 'sucks', 'sudan', 'sudden', 'suddenly', 'sudeikis', 'sue', 'sued', 'sues', 'suffer', 'suffered', 'sufferers', 'suffering', 'suffers', 'sugar', 'sugary', 'suggest', 'suggested', 'suggesting', 'suggestions', 'suggests', 'suicidal', 'suicide', 'suing', 'suisse', 'suit', 'suite', 'suites', 'suitor', 'suitors', 'suits', 'sultan', 'sulzberger', 'sum', 'summary', 'summer', 'summers', 'summerslam', 'summertime', 'summit', 'summoned', 'summons', 'sun', 'sunday', 'sunny', 'sunpower', 'sunrise', 'sunscreen', 'sunscreens', 'sunset', 'sunshine', 'suntrust', 'super', 'superb', 'superbug', 'superbugs', 'supercharger', 'superfund', 'superhero', 'superheroes', 'superior', 'superman', 'supermarket', 'supermassive', 'supermodel', 'supermoon', 'supermoons', 'supersonic', 'superstar', 'supper', 'supplement', 'supplements', 'supplier', 'suppliers', 'supplies', 'supply', 'support', 'supported', 'supporters', 'supporting', 'supports', 'supposed', 'supposedly', 'supreme', 'sure', 'surface', 'surfaced', 'surfaces', 'surfboard', 'surfing', 'surge', 'surged', 'surgeon', 'surgeons', 'surgery', 'surges', 'surgical', 'surging', 'suri', 'surpass', 'surpasses', 'surplus', 'surprise', 'surprised', 'surprises', 'surprising', 'surprisingly', 'surrender', 'surrounded', 'surrounding', 'surveillance', 'survey', 'surveys', 'survival', 'survive', 'survived', 'survives', 'surviving', 'survivor', 'survivors', 'susan', 'sushi', 'sushma', 'suspect', 'suspected', 'suspects', 'suspend', 'suspended', 'suspends', 'suspension', 'suspicion', 'suspicious', 'sustain', 'sustained', 'sutherland', 'sutton', 'suv', 'suvs', 'suzuki', 'swan', 'swanepoel', 'swap', 'swaps', 'swaraj', 'swarm', 'swartz', 'swatch', 'swayze', 'swearing', 'swears', 'sweat', 'swedish', 'sweeney', 'sweep', 'sweeping', 'sweeps', 'sweet', 'sweetened', 'sweetener', 'sweetens', 'sweeting', 'sweets', 'swell', 'swhc', 'swift', 'swim', 'swimming', 'swims', 'swimsuit', 'swing', 'swings', 'swipe', 'swirl', 'swiss', 'switch', 'switches', 'switching', 'switzerland', 'swizz', 'swoops', 'swords', 'sxsw', 'sycamore', 'sydney', 'syfy', 'sylvia', 'symantec', 'symbol', 'symc', 'symptoms', 'sync', 'syncing', 'syndrome', 'synopsis', 'synthetic', 'syphilis', 'syria', 'syrian', 'system', 'systems', 'tab', 'table', 'tablet', 'tablets', 'tabloid', 'tabloids', 'tabs', 'tackle', 'tackles', 'tackling', 'tacky', 'taco', 'tactics', 'tag', 'tagging', 'tags', 'tahoe', 'tail', 'tailored', 'tainted', 'taiwan', 'taiwanese', 'takata', 'take', 'takeaways', 'takeda', 'taken', 'takeoff', 'takeover', 'takes', 'taking', 'tale', 'talent', 'talents', 'tales', 'talk', 'talked', 'talker', 'talking', 'talks', 'tall', 'tallahassee', 'tallest', 'tally', 'tame', 'tamiflu', 'tammy', 'tampa', 'tampering', 'tan', 'tang', 'tangled', 'tango', 'tank', 'tankan', 'tanker', 'tanks', 'tanning', 'tap', 'tape', 'taper', 'tapering', 'tapes', 'tapped', 'taps', 'tar', 'tara', 'tarantino', 'targaryen', 'target', 'targeted', 'targeting', 'targets', 'tariffs', 'task', 'taste', 'tasty', 'tate', 'tatiana', 'tattoo', 'tattooed', 'tattoos', 'tatum', 'taught', 'taunts', 'tax', 'taxable', 'taxed', 'taxes', 'taxi', 'taxing', 'taxis', 'taxpayer', 'taxpayers', 'taylor', 'tb', 'tbt', 'tca', 'td', 'te', 'tea', 'teach', 'teacher', 'teachers', 'teaches', 'teaching', 'team', 'teaming', 'teams', 'tear', 'teardown', 'tearful', 'tears', 'tease', 'teased', 'teaser', 'teasers', 'teases', 'teasing', 'tech', 'technical', 'technique', 'techniques', 'technologies', 'technology', 'techs', 'techsystems', 'ted', 'teddy', 'teen', 'teenage', 'teenager', 'teenagers', 'teens', 'teeth', 'teething', 'tegra', 'tehran', 'tel', 'tele', 'telecast', 'telecom', 'telecoms', 'telescope', 'television', 'teliasonera', 'tell', 'telling', 'tells', 'telus', 'temper', 'temperature', 'temperatures', 'tempers', 'temporarily', 'temporary', 'ten', 'tencent', 'tend', 'tender', 'tenders', 'tenn', 'tennessee', 'tennis', 'tens', 'tense', 'tension', 'tensions', 'tentative', 'tepco', 'tepid', 'tequila', 'term', 'terminal', 'terminally', 'terminals', 'terminates', 'termination', 'terminator', 'terminus', 'termite', 'terms', 'terrible', 'terrific', 'terrified', 'terrifying', 'territorial', 'territory', 'terror', 'terrorism', 'terrorist', 'terry', 'tesco', 'tesla', 'tess', 'test', 'tested', 'testers', 'testifies', 'testify', 'testimony', 'testing', 'testosterone', 'tests', 'teva', 'texas', 'text', 'texting', 'texts', 'tgt', 'th', 'thai', 'thailand', 'thank', 'thankful', 'thanks', 'thanos', 'thaw', 'theater', 'theaters', 'theatre', 'theatres', 'theatrical', 'theft', 'theme', 'themed', 'theo', 'theories', 'theory', 'therapeutic', 'therapeutics', 'therapy', 'thermostat', 'thermostats', 'theron', 'theroux', 'thevoice', 'thi', 'thicke', 'thieves', 'thigh', 'thin', 'thing', 'things', 'think', 'thinking', 'thinkpad', 'thinks', 'thinner', 'thinnest', 'thinspiration', 'third', 'thirds', 'thirty', 'thomas', 'thor', 'thorne', 'thornton', 'though', 'thought', 'thoughts', 'thousand', 'thousands', 'thread', 'threat', 'threaten', 'threatened', 'threatening', 'threatens', 'threats', 'three', 'threes', 'threshold', 'threw', 'thrill', 'thrilled', 'thriller', 'thrilling', 'thrills', 'thrive', 'throat', 'throne', 'thrones', 'throttle', 'throughout', 'throw', 'throwback', 'throwing', 'thrown', 'throws', 'thru', 'thumbs', 'thunder', 'thurman', 'thursday', 'thwart', 'ti', 'tiaa', 'tibetans', 'tick', 'ticker', 'ticket', 'tickets', 'ticking', 'ticks', 'ticon', 'tide', 'tie', 'tied', 'tier', 'ties', 'tif', 'tiffany', 'tiger', 'tight', 'tighten', 'tightening', 'tightens', 'tighter', 'tightrope', 'til', 'tila', 'till', 'tilt', 'tim', 'timberlake', 'time', 'timeline', 'times', 'timing', 'timothy', 'tina', 'tinder', 'tiny', 'tip', 'tipped', 'tipping', 'tips', 'tirade', 'tired', 'tissue', 'tissues', 'titan', 'titanfall', 'titanic', 'titanium', 'titanosaur', 'titans', 'title', 'titled', 'titles', 'tivo', 'tizen', 'tjx', 'tln', 'tm', 'tmnt', 'tmus', 'tmz', 'tn', 'toast', 'tobacco', 'toby', 'today', 'toddler', 'toe', 'together', 'toilet', 'tokyo', 'told', 'toledo', 'tolerance', 'toll', 'tom', 'tomb', 'tomlin', 'tomlinson', 'tommy', 'tomodachi', 'tomorrow', 'ton', 'tone', 'toned', 'tongue', 'toni', 'tonight', 'tons', 'tony', 'took', 'tool', 'tools', 'tooth', 'top', 'topanga', 'topic', 'topics', 'topless', 'topped', 'topping', 'topples', 'tops', 'topshop', 'tori', 'torn', 'toronto', 'torrent', 'torture', 'toss', 'tossed', 'tosses', 'total', 'totally', 'totals', 'touch', 'touches', 'touching', 'touchy', 'tough', 'tougher', 'toughest', 'tour', 'touring', 'tourism', 'tourist', 'tourists', 'tournament', 'tours', 'tout', 'touts', 'tow', 'toward', 'towards', 'tower', 'towers', 'town', 'towns', 'townsend', 'township', 'toxic', 'toy', 'toyota', 'toys', 'tpg', 'trace', 'traced', 'traces', 'track', 'tracked', 'tracker', 'tracking', 'tracks', 'traction', 'tracy', 'trade', 'traded', 'trademark', 'trademarks', 'trader', 'traders', 'trades', 'trading', 'tradition', 'traditional', 'traditions', 'traffic', 'tragedies', 'tragedy', 'tragic', 'trail', 'trailer', 'trailers', 'trails', 'train', 'trainer', 'training', 'trains', 'trainwreck', 'trampled', 'tramples', 'tran', 'trans', 'transaction', 'transactions', 'transcend', 'transcendence', 'transcends', 'transcript', 'transfer', 'transfers', 'transform', 'transformation', 'transformed', 'transformers', 'transforms', 'transgender', 'transit', 'transition', 'translate', 'translates', 'translation', 'translator', 'transmission', 'transmit', 'transmitted', 'transparency', 'transparent', 'transplant', 'transplants', 'transport', 'transportation', 'transsexual', 'trap', 'trapped', 'traps', 'trash', 'trashes', 'trauma', 'traumatic', 'travel', 'traveled', 'traveler', 'travelers', 'traveling', 'travellers', 'travels', 'travis', 'travolta', 'trax', 'treasure', 'treasuries', 'treasury', 'treasurys', 'treat', 'treated', 'treating', 'treatment', 'treatments', 'treats', 'trebek', 'tree', 'trees', 'trek', 'tremendous', 'trench', 'trend', 'trending', 'trends', 'trial', 'trials', 'triangle', 'tribeca', 'tribune', 'tribute', 'tributes', 'triceratops', 'trick', 'tricks', 'tricky', 'triclosan', 'tried', 'tries', 'trigger', 'triggered', 'triggers', 'trillion', 'trilogy', 'trim', 'trimester', 'trims', 'trio', 'trip', 'triple', 'tripled', 'triples', 'trippy', 'trips', 'tristan', 'triton', 'triumph', 'triumphant', 'triumphs', 'trl', 'trla', 'troian', 'troll', 'trolling', 'trolls', 'troop', 'troops', 'trophy', 'trouble', 'troubled', 'troubles', 'troubling', 'trousers', 'trove', 'truce', 'truck', 'trucking', 'trucks', 'true', 'truecar', 'trulia', 'truly', 'trump', 'trumps', 'trust', 'trustees', 'truth', 'truths', 'try', 'trying', 'tsla', 'tsn', 'tsx', 'tt', 'tube', 'tuberculosis', 'tucson', 'tuesday', 'tulsa', 'tumble', 'tumbles', 'tumbling', 'tumblr', 'tune', 'tunes', 'tuning', 'tunnel', 'tupac', 'turkey', 'turkish', 'turks', 'turlock', 'turmoil', 'turn', 'turnaround', 'turned', 'turner', 'turning', 'turnover', 'turns', 'turtle', 'turtles', 'tv', 'tvs', 'tvtype', 'tw', 'twain', 'twc', 'tweak', 'tweaks', 'tweet', 'tweetdeck', 'tweeted', 'tweeters', 'tweeting', 'tweets', 'twenty', 'twerk', 'twerking', 'twerks', 'twice', 'twilight', 'twin', 'twins', 'twist', 'twisted', 'twists', 'twitch', 'twitter', 'two', 'twtr', 'tx', 'txu', 'tycoon', 'tying', 'tyler', 'type', 'typeface', 'types', 'typical', 'typo', 'tyrannosaurus', 'tyrant', 'tyrese', 'tyrion', 'tyson', 'tywin', 'uae', 'uber', 'uberx', 'ubisoft', 'ubs', 'uc', 'ucla', 'ufo', 'uganda', 'ugly', 'uh', 'uhd', 'ui', 'uk', 'ukraine', 'ukrainian', 'ula', 'ultimate', 'ultra', 'ultrasound', 'ultraviolence', 'ultron', 'um', 'uma', 'un', 'unable', 'unacceptable', 'unaffected', 'unanimous', 'unanimously', 'unannounced', 'unanswered', 'unapproved', 'unauthorized', 'unaware', 'unbelievable', 'unborn', 'unboxing', 'unbroken', 'uncarrier', 'uncertain', 'uncertainty', 'unchanged', 'uncle', 'unclear', 'uncomfortable', 'uncouple', 'uncoupling', 'uncover', 'uncovered', 'uncovers', 'underage', 'underbody', 'undercover', 'underestimate', 'underestimated', 'undergo', 'undergoes', 'undergoing', 'underground', 'undermine', 'underperform', 'underscores', 'undersea', 'understand', 'understanding', 'undervalued', 'underwater', 'underway', 'underwear', 'underweight', 'underwood', 'undisclosed', 'undo', 'unearth', 'unearthed', 'unearths', 'unedited', 'unemployed', 'unemployment', 'unethical', 'uneven', 'unexpected', 'unexpectedly', 'unexplained', 'unfair', 'unfazed', 'unfollows', 'unforgettable', 'unh', 'unhappy', 'unhealthiest', 'unhealthy', 'unheard', 'unicef', 'unicode', 'unicredit', 'uniform', 'uniforms', 'unilever', 'uninsured', 'unintended', 'union', 'unions', 'unique', 'unit', 'unite', 'united', 'unitedhealth', 'unites', 'units', 'unity', 'universal', 'universe', 'university', 'unknown', 'unknowns', 'unleash', 'unleashed', 'unleashes', 'unless', 'unlike', 'unlikely', 'unlimited', 'unloads', 'unlock', 'unlocked', 'unlocking', 'unlocks', 'unmanned', 'unnecessary', 'unneeded', 'unofficial', 'unpaid', 'unpatriotic', 'unprecedented', 'unprepared', 'unprofessional', 'unpublished', 'unradio', 'unreasonable', 'unrelated', 'unreleased', 'unrest', 'unsafe', 'unseated', 'unseats', 'unsecured', 'unseen', 'unsolicited', 'unstable', 'unstoppable', 'unsure', 'untitled', 'untouched', 'untreatable', 'unused', 'unusual', 'unusually', 'unveil', 'unveiled', 'unveiling', 'unveils', 'unwanted', 'unwraps', 'upbeat', 'upcoming', 'update', 'updated', 'updates', 'updating', 'upfront', 'upfronts', 'upgrade', 'upgraded', 'upgrades', 'upgrading', 'upheaval', 'upheld', 'uphold', 'upholds', 'uplay', 'upload', 'uploads', 'upon', 'uproar', 'ups', 'upscale', 'upset', 'upsetting', 'upside', 'upstart', 'uptick', 'upton', 'upward', 'upwards', 'uranium', 'urban', 'urbanization', 'urbn', 'urge', 'urged', 'urgency', 'urgent', 'urges', 'urging', 'urinate', 'urinates', 'urine', 'url', 'urungus', 'us', 'usa', 'usage', 'usb', 'usd', 'usda', 'use', 'used', 'useful', 'user', 'users', 'uses', 'usher', 'ushers', 'using', 'usps', 'usual', 'utah', 'uterine', 'utilities', 'utility', 'utterly', 'va', 'vacancy', 'vacation', 'vaccination', 'vaccinations', 'vaccine', 'vaccines', 'vagina', 'vaginal', 'vaginas', 'vaio', 'val', 'valderrama', 'valeant', 'valentino', 'valeria', 'valerie', 'valley', 'valuable', 'valuation', 'valuations', 'value', 'valued', 'values', 'valve', 'vampire', 'vampires', 'van', 'vancouver', 'vandalism', 'vandenberg', 'vanessa', 'vanguard', 'vanity', 'vans', 'vaping', 'vardalos', 'variant', 'variants', 'varies', 'variety', 'various', 'vary', 'vast', 'vatican', 'vavi', 'vc', 'veep', 'veg', 'vegan', 'vegas', 'vegetable', 'vegetables', 'vegetative', 'veggies', 'vehicle', 'vehicles', 'vending', 'vendor', 'vengeance', 'venice', 'venom', 'vent', 'venture', 'ventures', 'venue', 'verdict', 'vergara', 'verge', 'verified', 'verizon', 'vermont', 'veronica', 'versa', 'versace', 'versailles', 'versatile', 'verse', 'version', 'versions', 'versus', 'vessel', 'vessels', 'vessyl', 'vet', 'veteran', 'veterans', 'vets', 'vh', 'via', 'viacom', 'viago', 'viagra', 'viall', 'vials', 'vibe', 'viber', 'vibrant', 'vibrating', 'vibrio', 'vic', 'vice', 'vicious', 'victim', 'victims', 'victor', 'victoria', 'victory', 'vid', 'vidcon', 'video', 'videogame', 'videos', 'vie', 'vietnam', 'vietnamese', 'view', 'viewed', 'viewer', 'viewers', 'viewership', 'viewing', 'views', 'vigil', 'vigilance', 'vigilant', 'vignelli', 'vii', 'village', 'villain', 'villains', 'vimeo', 'vin', 'vince', 'vincent', 'vinci', 'vine', 'vintage', 'vinyl', 'violate', 'violated', 'violates', 'violating', 'violation', 'violations', 'violence', 'violent', 'viper', 'viral', 'virgin', 'virginia', 'virtu', 'virtual', 'virus', 'viruses', 'visa', 'visas', 'visibility', 'visible', 'vision', 'visionary', 'visit', 'visited', 'visiting', 'visitors', 'visits', 'vista', 'visual', 'visuals', 'vita', 'vitacost', 'vital', 'vitalii', 'vitamin', 'vitamins', 'vivendi', 'vivienne', 'vix', 'vlc', 'vma', 'vmas', 'vmware', 'vocals', 'vodafone', 'vodka', 'vogue', 'voice', 'voiced', 'voices', 'void', 'volantis', 'volatile', 'volatility', 'volcanic', 'volcano', 'volcanoes', 'volkswagen', 'volt', 'volte', 'volume', 'volumes', 'voluntarily', 'voluntary', 'volunteers', 'volvo', 'von', 'vonn', 'voronov', 'vortex', 'vote', 'voted', 'voter', 'voters', 'votes', 'voting', 'vow', 'vows', 'voyager', 'vp', 'vr', 'vrx', 'vs', 'vt', 'vu', 'vudu', 'vulnerabilities', 'vulnerability', 'vulnerable', 'vulture', 'vw', 'wachowskis', 'waffle', 'wag', 'wage', 'wages', 'wagner', 'wagon', 'wahlberg', 'waist', 'wait', 'waited', 'waiting', 'waits', 'wake', 'wal', 'wale', 'wales', 'walgreen', 'walgreens', 'walk', 'walkable', 'walked', 'walker', 'walkers', 'walking', 'walks', 'wall', 'wallach', 'wallet', 'wallets', 'wally', 'walmart', 'walnuts', 'walsh', 'walt', 'walter', 'walters', 'wand', 'wandering', 'wanes', 'wang', 'waning', 'wanna', 'want', 'wanted', 'wanting', 'wants', 'war', 'warcraft', 'ward', 'wardrobe', 'warehouse', 'warfare', 'warhol', 'warm', 'warmer', 'warming', 'warms', 'warn', 'warned', 'warner', 'warning', 'warnings', 'warns', 'warrant', 'warranty', 'warren', 'warrior', 'wars', 'wary', 'wasde', 'wash', 'washer', 'washes', 'washing', 'washington', 'waste', 'wasted', 'wasters', 'wastewater', 'wasting', 'watch', 'watchdog', 'watched', 'watchers', 'watches', 'watching', 'water', 'waterloo', 'waters', 'watsa', 'watson', 'wave', 'waver', 'waves', 'way', 'wayne', 'ways', 'wb', 'wboc', 'wcbd', 'weak', 'weaken', 'weakening', 'weakens', 'weaker', 'weakest', 'weakness', 'wealth', 'wealthy', 'weapon', 'weapons', 'wear', 'wearable', 'wearables', 'wearhouse', 'wearing', 'wears', 'weather', 'weaver', 'web', 'webb', 'webby', 'webcam', 'webcast', 'webs', 'website', 'websites', 'wed', 'wedbush', 'wedding', 'weddings', 'wednesday', 'weds', 'weed', 'week', 'weekend', 'weekly', 'weeks', 'weev', 'weibo', 'weidmann', 'weigh', 'weighed', 'weighing', 'weighs', 'weight', 'weiner', 'weir', 'weird', 'weirdest', 'welcome', 'welcomed', 'welcomes', 'welfare', 'well', 'wellness', 'wells', 'went', 'wes', 'wesfarmers', 'wesson', 'west', 'westboro', 'western', 'westeros', 'wet', 'wetlands', 'wfc', 'wfm', 'wfsb', 'wh', 'whale', 'whales', 'whaling', 'whatever', 'whatsapp', 'whatson', 'wheat', 'whedon', 'wheel', 'wheelan', 'wheelchair', 'wheeler', 'wheels', 'whether', 'whibley', 'whig', 'whilst', 'whips', 'whistleblower', 'whitbread', 'white', 'whiteface', 'whitey', 'whiting', 'whitman', 'whitney', 'whlt', 'whoa', 'whole', 'wholesale', 'whoopi', 'whooping', 'whopper', 'whopping', 'whose', 'wi', 'wichita', 'wicked', 'wide', 'widely', 'widen', 'widening', 'widens', 'wider', 'widespread', 'widow', 'wielding', 'wieners', 'wife', 'wifi', 'wig', 'wiggle', 'wigig', 'wii', 'wikipedia', 'wild', 'wilde', 'wildfires', 'wildlife', 'wildly', 'wilkinson', 'william', 'williams', 'willing', 'willis', 'willow', 'wilmer', 'wilmore', 'wilocity', 'wilson', 'wimbledon', 'win', 'winchester', 'wind', 'windfall', 'window', 'windows', 'winds', 'windshield', 'wine', 'winfrey', 'wing', 'wings', 'wingspan', 'winner', 'winners', 'winning', 'winnipeg', 'wins', 'winslet', 'winston', 'winter', 'winters', 'wintour', 'wipe', 'wiped', 'wipes', 'wiping', 'wire', 'wireless', 'wirelessly', 'wisconsin', 'wisdom', 'wise', 'wiseman', 'wish', 'wishes', 'witch', 'witchcraft', 'withdraw', 'withdrawal', 'withdrawn', 'withdraws', 'witherspoon', 'within', 'without', 'witness', 'wives', 'wiz', 'wizard', 'wizarding', 'wladimir', 'wmt', 'wncn', 'wnem', 'wobble', 'woes', 'wolf', 'wolfson', 'wolverine', 'wolves', 'womack', 'woman', 'womb', 'women', 'wonder', 'wondercon', 'wonderful', 'wondering', 'wonderland', 'wonders', 'woo', 'wood', 'wooden', 'woodley', 'woods', 'woodside', 'woody', 'wooing', 'woolf', 'woos', 'wop', 'word', 'words', 'wore', 'work', 'worked', 'worker', 'workers', 'workforce', 'working', 'workout', 'workplace', 'works', 'world', 'worlds', 'worldwide', 'worn', 'worried', 'worries', 'worry', 'worrying', 'worse', 'worsen', 'worsening', 'worsens', 'worst', 'worth', 'worthington', 'worthless', 'worthy', 'would', 'wounded', 'wow', 'wows', 'wrap', 'wraps', 'wrapup', 'wrath', 'wreck', 'wreckage', 'wrecking', 'wren', 'wrestlemania', 'wrestler', 'wrestles', 'wrestling', 'wright', 'wrinkly', 'wrist', 'wristband', 'write', 'writer', 'writers', 'writes', 'writethru', 'writing', 'written', 'wrong', 'wrote', 'wsfa', 'wshm', 'wsj', 'wsop', 'wsvn', 'wtc', 'wtf', 'wti', 'wto', 'wu', 'wurst', 'wv', 'wvir', 'ww', 'wwdc', 'wwe', 'wwii', 'www', 'wxow', 'wyatt', 'wynn', 'wyoming', 'wzvn', 'xbox', 'xcom', 'xiaomi', 'xiii', 'xinhua', 'xlte', 'xp', 'xperia', 'xscape', 'xss', 'xstrata', 'xtreme', 'ya', 'yacht', 'yahoo', 'yakima', 'yale', 'yang', 'yanked', 'yankovic', 'yanks', 'yard', 'yasukuni', 'yates', 'yawn', 'yawning', 'yeager', 'yeah', 'year', 'yearly', 'years', 'yellen', 'yellow', 'yelp', 'yen', 'yes', 'yesterday', 'yet', 'yeti', 'yhoo', 'yield', 'yields', 'yikes', 'ymca', 'yo', 'yoga', 'yogurt', 'york', 'yorkers', 'yosemite', 'young', 'younger', 'youth', 'youths', 'youtube', 'yr', 'yrs', 'yuan', 'yukos', 'yum', 'zac', 'zach', 'zachary', 'zack', 'zacks', 'zadan', 'zambia', 'zamperini', 'zara', 'zayn', 'zealand', 'zebra', 'zebras', 'zedd', 'zendaya', 'zenimax', 'zeppelin', 'zero', 'zeus', 'zew', 'ziering', 'zillow', 'zimmerman', 'zionist', 'zions', 'zip', 'zoe', 'zombie', 'zombies', 'zone', 'zones', 'zonkey', 'zoo', 'zoom', 'zte', 'zuckerberg', 'zynga']\n"
     ]
    }
   ],
   "source": [
    "#number of tokens\n",
    "print(len(parseur.get_feature_names()))\n",
    "#list of tokens\n",
    "print(parseur.get_feature_names())"
   ]
  },
  {
   "cell_type": "markdown",
   "metadata": {
    "collapsed": true
   },
   "source": [
    "> Nous observons 13649 termes."
   ]
  },
  {
   "cell_type": "markdown",
   "metadata": {},
   "source": [
    "# b) Des occurrences aux fréquences \n",
    "### Le nombre d'occurrences est un bon début, mais il y a un problème: les documents plus longs auront des valeurs moyennes plus élevées que les documents plus courts, même s'ils peuvent parler des mêmes sujets.\n",
    "\n",
    "### Pour éviter ces divergences potentielles, il suffit de diviser le nombre d'occurrences de chaque mot d'un document par le nombre total de mots du document: ces nouvelles fonctionnalités sont appelées tf (fréquences de terme).\n",
    "\n",
    "### Un autre raffinement de tf consiste à réduire les poids pour les mots qui apparaissent dans de nombreux documents du corpus et sont donc moins informatifs que ceux qui ne se produisent que dans une petite partie du corpus.\n",
    "\n",
    "### Cette réduction est appelée tf-idf (la fréquence d'un terme (TF) multipliée par la fréquence de document inverse (IDF) ).\n",
    "\n",
    "### En d'autres termes, plus le score TF * IDF (poids) est élevé, plus le terme est rare et inversement.\n",
    "\n",
    "### Les deux tf et tf-idf peut être calculée comme suit:"
   ]
  },
  {
   "cell_type": "code",
   "execution_count": 9,
   "metadata": {},
   "outputs": [
    {
     "data": {
      "text/plain": [
       "(270968, 13649)"
      ]
     },
     "execution_count": 9,
     "metadata": {},
     "output_type": "execute_result"
    }
   ],
   "source": [
    "from sklearn.feature_extraction.text import TfidfTransformer\n",
    "tfidf_transformer = TfidfTransformer()\n",
    "tf_transformer = tfidf_transformer.fit(XTrain) #méthode pour adapter notre estimateur aux données\n",
    "X_train_tf = tf_transformer.transform(XTrain) #méthode pour transformer notre matrice de comptage en une représentation tf-idf\n",
    "X_train_tf.shape"
   ]
  },
  {
   "cell_type": "markdown",
   "metadata": {},
   "source": [
    "### Pour la base d'apprentissage, nous avons obtenu une matrice tf-idf de dimension (270968, 13649)"
   ]
  },
  {
   "cell_type": "markdown",
   "metadata": {},
   "source": [
    "# 6) Former un classificateur \n",
    "\n",
    "### Maintenant que nous avons nos fonctionnalités, nous pouvons former un classificateur pour essayer de prédire la catégorie d'un article. \n",
    "### Différents algorithmes peuvent être utilisés pour la classification de texte. Commençons par un classificateur Naives Bayes , qui fournit une base de référence intéressante pour cette tâche.\n",
    "\n",
    "# 1) Multinomial Naive Bayes \n",
    "\n",
    "## *Parlons un peu sur l'algorithme Naive Bayes * \n",
    "\n",
    "### **C'est une technique de classification basée sur le  théorème de Bayes avec une hypothèse d'indépendance parmi les prédicteurs. En termes simples, un classificateur Naive Bayes suppose que la présence d'une entité particulière dans une classe n'est pas liée à la présence d'une autre entité. Par exemple, un fruit peut être considéré comme une pomme s'il est rouge, rond et d'environ 3 pouces de diamètre. Même si ces caractéristiques dépendent les unes des autres ou sur l'existence des autres caractéristiques, toutes ces propriétés contribuent indépendamment à la probabilité que ce fruit soit une pomme et c'est pourquoi on l'appelle «Naive».**\n",
    "\n",
    "### Le modèle Naive Bayes est facile à construire et particulièrement utile pour les très grands ensembles de données. En plus de la simplicité, Naive Bayes est connue pour surpasser les méthodes de classification les plus sophistiquées.\n",
    "\n",
    "\n",
    "### scikit-learn comprend plusieurs variantes de ce classificateur; le plus approprié pour le compte de mots est la variante multinomiale:\n",
    "\n",
    "### Vous pouvez facilement construire un NBclassifier dans scikit en utilisant 2 lignes de code ci-dessous:"
   ]
  },
  {
   "cell_type": "code",
   "execution_count": 10,
   "metadata": {
    "collapsed": true
   },
   "outputs": [],
   "source": [
    "#import the class LogistiRegression\n",
    "from sklearn.naive_bayes import MultinomialNB\n",
    "#instatiate the object\n",
    "modelFirst = MultinomialNB()"
   ]
  },
  {
   "cell_type": "code",
   "execution_count": 11,
   "metadata": {
    "collapsed": true
   },
   "outputs": [],
   "source": [
    "#perform the training process\n",
    "clf= modelFirst.fit(X_train_tf,y_train)"
   ]
  },
  {
   "cell_type": "code",
   "execution_count": 12,
   "metadata": {},
   "outputs": [
    {
     "data": {
      "text/plain": [
       "MultinomialNB(alpha=1.0, class_prior=None, fit_prior=True)"
      ]
     },
     "execution_count": 12,
     "metadata": {},
     "output_type": "execute_result"
    }
   ],
   "source": [
    "clf"
   ]
  },
  {
   "cell_type": "markdown",
   "metadata": {},
   "source": [
    "> **Paramètres de MultinomialNB**\n",
    "\n",
    "#### *alpha* : paramètre de lissage additif (1: par défaut, 0 pour aucun lissage)\n",
    "\n",
    "#### *fit_prior* : permet d'apprendre les classes antérieures (true: par défaut, false: signifie q'un uniforme antérieur sera utilisé) \n",
    "\n",
    "#### *class_prior* : taille(n_classes) : probabilités antérieures de classes (aucun: par défaut, si spécifié: les valeurs antérieures ne sont pas ajustées en fonction des données) "
   ]
  },
  {
   "cell_type": "markdown",
   "metadata": {},
   "source": [
    "## Evaluation sur l’échantillon test\n",
    "\n",
    "### Pour appliquer le modèle sur le corpus de texte, nous devons construire la matrice documents termes correspondante, en utilisant le dictionnaire issu de l’apprentissage.\n",
    "### Nous appliquons la méthode transform() de l’objet parseur instancié lors de la phase d’apprentissage sur le corpus de test issu de la partition aléatoire des données ."
   ]
  },
  {
   "cell_type": "code",
   "execution_count": 13,
   "metadata": {},
   "outputs": [
    {
     "data": {
      "text/plain": [
       "(135485, 13649)"
      ]
     },
     "execution_count": 13,
     "metadata": {},
     "output_type": "execute_result"
    }
   ],
   "source": [
    "X_test=parseur.transform(x_test)\n",
    "X_test_tf= tf_transformer.transform(X_test)\n",
    "X_test_tf.shape"
   ]
  },
  {
   "cell_type": "markdown",
   "metadata": {
    "collapsed": true
   },
   "source": [
    "> Nous avons une matrice (135485, 13649) cette fois-ci :\n",
    "135485 lignes parce qu’il y a 135485 documents dans le corpus de test, \n",
    "13649 colonnes parce que 13649 termes ont été extraits du corpus d’apprentissage.\n",
    "\n",
    "> Nous calculons les prédictions du modèle sur les documents de l’échantillon test…"
   ]
  },
  {
   "cell_type": "code",
   "execution_count": 14,
   "metadata": {
    "collapsed": true
   },
   "outputs": [],
   "source": [
    "#prediction for the test set\n",
    "predTest = clf.predict(X_test_tf)"
   ]
  },
  {
   "cell_type": "markdown",
   "metadata": {
    "collapsed": true
   },
   "source": [
    "## Performance du classificateur NB: \n",
    "### Nous allons maintenant tester les performances du classificateur NB sur l’ ensemble de test et déduisons les différents indicateurs de performances en les confrontant avec lesvaleurs observées de l’attribut cible sur l’échantillon test.\n",
    "### Nous utilisons les procédures dumodule metrics de scikit-learn."
   ]
  },
  {
   "cell_type": "code",
   "execution_count": 15,
   "metadata": {},
   "outputs": [
    {
     "name": "stdout",
     "output_type": "stream",
     "text": [
      "[[47389   639   157   767]\n",
      " [  786 33703   311  2378]\n",
      " [  714   733 12716   386]\n",
      " [  826  2388   201 31391]]\n",
      "0.924080156475\n",
      "             precision    recall  f1-score   support\n",
      "\n",
      "          0       0.95      0.97      0.96     48952\n",
      "          1       0.90      0.91      0.90     37178\n",
      "          2       0.95      0.87      0.91     14549\n",
      "          3       0.90      0.90      0.90     34806\n",
      "\n",
      "avg / total       0.92      0.92      0.92    135485\n",
      "\n"
     ]
    }
   ],
   "source": [
    "#import the metrics class for the performance measurement\n",
    "from sklearn import metrics\n",
    "#confusion matrix\n",
    "mcTest = metrics.confusion_matrix(y_test,predTest)\n",
    "print(mcTest)\n",
    "\n",
    "#accuracy rate\n",
    "print(metrics.accuracy_score(y_test,predTest))\n",
    "\n",
    "print(metrics.classification_report(y_test, predTest))       "
   ]
  },
  {
   "cell_type": "markdown",
   "metadata": {},
   "source": [
    "####################################################################################################\""
   ]
  },
  {
   "cell_type": "markdown",
   "metadata": {},
   "source": [
    "### Voilà! Voici un résumé de ce que j'ai fait: j'ai chargé les données, les ai divisées en formations et tests, ajusté un modèle aux données d'entraînement, fait des prédictions basées sur ces données et testé les prédictions sur les données de test. Semble bon, non? Mais la séparation train / test présente des dangers - et si la scission que nous faisons n'est pas aléatoire ? Que se passe-t-il si un sous-ensemble de nos données ne comprend que des article d'une certaie catégorie mais pas d'autres catégories. Cela se traduira par un ajustement excessif, même si nous essayons de l'éviter! C'est là qu'intervient la validation croisée.\n",
    "\n",
    "### Le schéma apprentissage-test n’est pas adapté lorsque nous traitons des bases de taille réduite. Donc, il est plus judicieux dans ce cas d’utiliser la totalité de la base pour élaborer le modèle prédictif, puis de passer par une technique de rééchantillonnage pour en évaluer les performances, typiquement la validation croisée ou le bootstrap.\n",
    "\n",
    "### La validation croisée est très similaire à la séparation train / test, mais il s’applique à plus de sous-ensembles. Cela signifie que nous divisons nos données en k sous-ensembles et que nous nous entraînons sur l'un de ces sous-ensembles. Ce que nous faisons est de tenir le dernier sous-ensemble pour le test. Nous sommes en mesure de le faire pour chacun des sous-ensembles.\n",
    "\n",
    "### Il y a un tas de méthodes de validation croisée ; Pour les problèmes de classification, on utilise généralement la validation croisée par k-fois stratifiée, dans laquelle les plis sont sélectionnés de sorte que chaque pli contient à peu près les mêmes proportions d'étiquettes de classe. \n",
    "\n",
    "###  *Validation croisée K-Folds en plus de détails *\n",
    "> l'échantillon original est partitionné au hasard en k sous-échantillons de taille égale. Parmi les k sous-échantillons, un seul sous-échantillon est retenu comme données de validation pour tester le modèle et les sous-échantillons k-1 restants sont utilisés comme données d'apprentissage. Le processus de validation croisée est ensuite répété k fois (les plis), chacun des k sous-échantillons étant utilisé exactement une fois comme données de validation. Les k résultats des plis peuvent ensuite être moyennés (ou combinés autrement) pour produire une estimation unique. L'avantage de cette méthode est que toutes les observations sont utilisées à la fois pour l'entraînement et la validation, et chaque observation est utilisée pour la validation une seule fois."
   ]
  },
  {
   "cell_type": "markdown",
   "metadata": {},
   "source": [
    "### J'ai pensé que l'utilisation de l'itérateur de validation croisée comme une boucle externe est une bonne idée et un point de départ qui rendrait mes étapes claires et lisibles:"
   ]
  },
  {
   "cell_type": "code",
   "execution_count": 44,
   "metadata": {},
   "outputs": [
    {
     "name": "stderr",
     "output_type": "stream",
     "text": [
      "C:\\Users\\User\\Anaconda3\\lib\\site-packages\\sklearn\\cross_validation.py:41: DeprecationWarning: This module was deprecated in version 0.18 in favor of the model_selection module into which all the refactored classes and functions are moved. Also note that the interface of the new CV iterators are different from that of this module. This module will be removed in 0.20.\n",
      "  \"This module will be removed in 0.20.\", DeprecationWarning)\n"
     ]
    }
   ],
   "source": [
    "from sklearn.cross_validation import KFold\n",
    "kf = KFold(y.shape[0], n_folds=10) # j'ai choisi 10 comme nombre de folds\n",
    "for train_index, test_index in kf:\n",
    "    x_train_cv, y_train_cv = X[train_index], y[train_index] \n",
    "    x_test_cv, y_test_cv = X[test_index], y[test_index]\n",
    "    #Now continue with your pre-processing steps.."
   ]
  },
  {
   "cell_type": "code",
   "execution_count": 45,
   "metadata": {
    "collapsed": true
   },
   "outputs": [],
   "source": [
    "#import the CountVectorizer tool\n",
    "from sklearn.feature_extraction.text import CountVectorizer\n",
    "parseur = CountVectorizer(min_df=10)\n",
    "# ngram_range=(1, 2)\n",
    "#create the document term matrix\n",
    "XTrain_cv = parseur.fit_transform(x_train_cv)"
   ]
  },
  {
   "cell_type": "code",
   "execution_count": 46,
   "metadata": {},
   "outputs": [
    {
     "data": {
      "text/plain": [
       "(365808, 15593)"
      ]
     },
     "execution_count": 46,
     "metadata": {},
     "output_type": "execute_result"
    }
   ],
   "source": [
    "from sklearn.feature_extraction.text import TfidfTransformer\n",
    "tfidf_transformer = TfidfTransformer()\n",
    "tf_transformer_cv = tfidf_transformer.fit(XTrain_cv) #méthode pour adapter notre estimateur aux données\n",
    "X_train_tf_cv = tf_transformer_cv.transform(XTrain_cv) #méthode pour transformer notre matrice de comptage en une représentation tf-idf\n",
    "X_train_tf_cv.shape"
   ]
  },
  {
   "cell_type": "code",
   "execution_count": 47,
   "metadata": {
    "collapsed": true
   },
   "outputs": [],
   "source": [
    "#perform the training process\n",
    "clf_cv= modelFirst.fit(X_train_tf_cv,y_train_cv)"
   ]
  },
  {
   "cell_type": "code",
   "execution_count": 48,
   "metadata": {},
   "outputs": [
    {
     "data": {
      "text/plain": [
       "(40645, 15593)"
      ]
     },
     "execution_count": 48,
     "metadata": {},
     "output_type": "execute_result"
    }
   ],
   "source": [
    "X_test_cv=parseur.transform(x_test_cv)\n",
    "X_test_tf_cv= tf_transformer_cv.transform(X_test_cv)\n",
    "X_test_tf_cv.shape"
   ]
  },
  {
   "cell_type": "code",
   "execution_count": 49,
   "metadata": {
    "collapsed": true
   },
   "outputs": [],
   "source": [
    "#prediction for the test set\n",
    "predTest_cv = clf_cv.predict(X_test_tf_cv)"
   ]
  },
  {
   "cell_type": "code",
   "execution_count": 50,
   "metadata": {},
   "outputs": [
    {
     "name": "stdout",
     "output_type": "stream",
     "text": [
      "[[47389   639   157   767]\n",
      " [  786 33703   311  2378]\n",
      " [  714   733 12716   386]\n",
      " [  826  2388   201 31391]]\n",
      "0.927346537089\n",
      "             precision    recall  f1-score   support\n",
      "\n",
      "          0       0.96      0.97      0.96     14734\n",
      "          1       0.91      0.91      0.91     11058\n",
      "          2       0.95      0.89      0.92      4371\n",
      "          3       0.90      0.91      0.91     10482\n",
      "\n",
      "avg / total       0.93      0.93      0.93     40645\n",
      "\n"
     ]
    }
   ],
   "source": [
    "#import the metrics class for the performance measurement\n",
    "from sklearn import metrics\n",
    "#confusion matrix\n",
    "mcTest_cv = metrics.confusion_matrix(y_test_cv,predTest_cv)\n",
    "print(mcTest)\n",
    "\n",
    "#accuracy rate\n",
    "print(metrics.accuracy_score(y_test_cv,predTest_cv))\n",
    "\n",
    "print(metrics.classification_report(y_test_cv, predTest_cv)) "
   ]
  },
  {
   "cell_type": "markdown",
   "metadata": {},
   "source": [
    "### Le taux de succès en validation croisée annoncé est de 93%, celui mesuré par la méthode train_test_split était de 92.4%. Tout cela est très cohérent. Donc, on aurait pu se passer de la subdivision des données en apprentissage-test dans notre étude."
   ]
  },
  {
   "cell_type": "markdown",
   "metadata": {},
   "source": [
    "################################################################################################"
   ]
  },
  {
   "cell_type": "markdown",
   "metadata": {
    "collapsed": true
   },
   "source": [
    "## Construire un pipeline \n",
    "\n",
    "### Nous pouvons écrire moins de code et faire tout ce qui précède (vectorizer => transformer => modelisation), en construisant un pipeline qui se comporte comme un classificateur composé.\n",
    "### La solution scikit-learn à ce problème consiste à valider de manière croisée un Pipeline estimateur"
   ]
  },
  {
   "cell_type": "code",
   "execution_count": 16,
   "metadata": {
    "collapsed": true
   },
   "outputs": [],
   "source": [
    "#pipeline of feature engineering and model\n",
    "from sklearn.pipeline import Pipeline\n",
    "text_clf = Pipeline([('vect', CountVectorizer()),\n",
    "                     ('tfidf', TfidfTransformer()),\n",
    "                     ('clf', MultinomialNB())\n",
    "])"
   ]
  },
  {
   "cell_type": "markdown",
   "metadata": {
    "collapsed": true
   },
   "source": [
    "> Les noms vect, tfidf et clf(classificateur) sont arbitraires. Nous verrons leur utilisation dans la section sur la recherche de grille ci-dessous. Nous pouvons maintenant former le modèle avec une seule commande:"
   ]
  },
  {
   "cell_type": "code",
   "execution_count": 17,
   "metadata": {
    "collapsed": true
   },
   "outputs": [],
   "source": [
    "clf_pip1=text_clf.fit(x_train, y_train)"
   ]
  },
  {
   "cell_type": "code",
   "execution_count": 18,
   "metadata": {},
   "outputs": [
    {
     "data": {
      "text/plain": [
       "0.92552681108609813"
      ]
     },
     "execution_count": 18,
     "metadata": {},
     "output_type": "execute_result"
    }
   ],
   "source": [
    "import numpy as np\n",
    "predicted1 = clf_pip1.predict(x_test)\n",
    "np.mean(predicted1 == y_test)"
   ]
  },
  {
   "cell_type": "markdown",
   "metadata": {},
   "source": [
    "# 2) Support Vector Machine\n",
    "### nous avons atteint une précision de 0.925%. Voyons si nous pouvons faire mieux avec une machine à vecteurs de support linéaire (SVM) , qui est largement considérée comme l'un des meilleurs algorithmes de classification de texte (même si c'est un peu plus lent que Bayes naïf). Nous pouvons changer l'apprenant en branchant simplement un objet classificateur différent dans notre pipeline\n",
    "\n",
    "\n",
    "> Afin de préparer la production de la conception du classificateur, nous pouvons créer un pipeline de tous ces processus décrits ci-dessus, facilitant ainsi le passage à d'autres systèmes."
   ]
  },
  {
   "cell_type": "code",
   "execution_count": null,
   "metadata": {
    "collapsed": true
   },
   "outputs": [],
   "source": [
    "### Formons le classifieur"
   ]
  },
  {
   "cell_type": "code",
   "execution_count": 54,
   "metadata": {
    "collapsed": true
   },
   "outputs": [],
   "source": [
    "import numpy as np\n",
    "from sklearn.linear_model import SGDClassifier\n",
    "modelSecond=SGDClassifier(loss='hinge', penalty='l2', n_iter =5, alpha=1e-3, random_state=42)"
   ]
  },
  {
   "cell_type": "code",
   "execution_count": 55,
   "metadata": {},
   "outputs": [
    {
     "name": "stderr",
     "output_type": "stream",
     "text": [
      "C:\\Users\\User\\Anaconda3\\lib\\site-packages\\sklearn\\linear_model\\stochastic_gradient.py:117: DeprecationWarning: n_iter parameter is deprecated in 0.19 and will be removed in 0.21. Use max_iter and tol instead.\n",
      "  DeprecationWarning)\n"
     ]
    }
   ],
   "source": [
    "#perform the training process\n",
    "clf2= modelSecond.fit(X_train_tf,y_train)"
   ]
  },
  {
   "cell_type": "code",
   "execution_count": 56,
   "metadata": {
    "collapsed": true
   },
   "outputs": [],
   "source": [
    "#prediction for the test set\n",
    "predTest2 = clf2.predict(X_test_tf)"
   ]
  },
  {
   "cell_type": "code",
   "execution_count": 57,
   "metadata": {
    "collapsed": true
   },
   "outputs": [],
   "source": [
    "## Performance du classifieur SVM"
   ]
  },
  {
   "cell_type": "code",
   "execution_count": 58,
   "metadata": {},
   "outputs": [
    {
     "name": "stdout",
     "output_type": "stream",
     "text": [
      "[[48019   555    95   283]\n",
      " [ 3683 30783   347  2365]\n",
      " [ 3810  1297  8986   456]\n",
      " [ 4654  2759   195 27198]]\n",
      "0.848699117984\n",
      "             precision    recall  f1-score   support\n",
      "\n",
      "          0       0.80      0.98      0.88     48952\n",
      "          1       0.87      0.83      0.85     37178\n",
      "          2       0.93      0.62      0.74     14549\n",
      "          3       0.90      0.78      0.84     34806\n",
      "\n",
      "avg / total       0.86      0.85      0.85    135485\n",
      "\n"
     ]
    }
   ],
   "source": [
    "#import the metrics class for the performance measurement\n",
    "from sklearn import metrics\n",
    "#confusion matrix\n",
    "mcTest = metrics.confusion_matrix(y_test,predTest2)\n",
    "print(mcTest)\n",
    "\n",
    "#accuracy rate\n",
    "print(metrics.accuracy_score(y_test,predTest2))\n",
    "\n",
    "print(metrics.classification_report(y_test, predTest2)) "
   ]
  },
  {
   "cell_type": "code",
   "execution_count": null,
   "metadata": {
    "collapsed": true
   },
   "outputs": [],
   "source": [
    "# Ici, on va construire un Pipeline à l'aide de scikit learn "
   ]
  },
  {
   "cell_type": "code",
   "execution_count": 59,
   "metadata": {},
   "outputs": [
    {
     "data": {
      "text/plain": [
       "0.8453260508543381"
      ]
     },
     "execution_count": 59,
     "metadata": {},
     "output_type": "execute_result"
    }
   ],
   "source": [
    "import numpy as np\n",
    "from sklearn.pipeline import Pipeline\n",
    "from sklearn.linear_model import SGDClassifier\n",
    "text_clf_svm = Pipeline([('vect', CountVectorizer()),\n",
    "                     ('tfidf', TfidfTransformer()),\n",
    "                     ('clf', SGDClassifier(loss='hinge', penalty='l2',\n",
    "                                           alpha=1e-3, random_state=42,\n",
    "                                           max_iter=5, tol=None)),\n",
    " ])\n",
    "clf_pip2 = text_clf_svm.fit(x_train, y_train)\n",
    "predicted2 = clf_pip2.predict(x_test)\n",
    "np.mean(predicted2 == y_test)"
   ]
  },
  {
   "cell_type": "code",
   "execution_count": 60,
   "metadata": {},
   "outputs": [
    {
     "data": {
      "text/plain": [
       "array([[48033,   547,    90,   282],\n",
       "       [ 3903, 30579,   334,  2362],\n",
       "       [ 3955,  1275,  8886,   433],\n",
       "       [ 4836,  2751,   188, 27031]], dtype=int64)"
      ]
     },
     "execution_count": 60,
     "metadata": {},
     "output_type": "execute_result"
    }
   ],
   "source": [
    "metrics.confusion_matrix(y_test, predicted2)"
   ]
  },
  {
   "cell_type": "markdown",
   "metadata": {
    "collapsed": true
   },
   "source": [
    "> scikit-learn fournit en outre des utilitaires pour une analyse plus détaillée des performances des résultats à l'aide d'un rapport:"
   ]
  },
  {
   "cell_type": "code",
   "execution_count": 61,
   "metadata": {},
   "outputs": [
    {
     "name": "stdout",
     "output_type": "stream",
     "text": [
      "             precision    recall  f1-score   support\n",
      "\n",
      "          0       0.79      0.98      0.88     48952\n",
      "          1       0.87      0.82      0.85     37178\n",
      "          2       0.94      0.61      0.74     14549\n",
      "          3       0.90      0.78      0.83     34806\n",
      "\n",
      "avg / total       0.86      0.85      0.84    135485\n",
      "\n"
     ]
    }
   ],
   "source": [
    "from sklearn import metrics\n",
    "print(metrics.classification_report(y_test, predicted2))       "
   ]
  },
  {
   "cell_type": "markdown",
   "metadata": {},
   "source": [
    "# 7) Paramétrage en utilisant la recherche de grille\n",
    "\n",
    "### Pour chaque algorithme d'apprentissage automatique utilisé, le réglage des paramètres joue un rôle important. Il a été observé qu'avec des valeurs de paramètres correctes définies, les performances du modèle augmentent raisonnablement. Nous pouvons trouver les paramètres appropriés dans notre cas en utilisant la recherche de grille.\n",
    "\n",
    "### Nous avons déjà rencontré certains paramètres tels que min_df dans CountVectorizer Les classificateurs ont également tendance à avoir beaucoup de paramètres. par exemple, MultinomialNB inclut un paramètre de lissage alpha et SGDClassifier comporte un paramètre de pénalité alpha et des termes de perte et de pénalité configurables dans la fonction objectif.\n",
    "\n",
    "### Au lieu de modifier les paramètres des différents composants de la chaîne, il est possible d'effectuer une recherche exhaustive des meilleurs paramètres sur une grille de valeurs possibles. Nous essayons tous les classificateurs sur des mots ou des bigrammes, avec ou sans idf, et avec un paramètre de pénalité de 0.01 ou 0.001 pour le Naive Bayes: "
   ]
  },
  {
   "cell_type": "code",
   "execution_count": 19,
   "metadata": {
    "collapsed": true
   },
   "outputs": [],
   "source": [
    "from sklearn.model_selection import GridSearchCV\n",
    "parameters = {'vect__ngram_range': [(1, 1), (1, 2)],\n",
    "              'tfidf__use_idf': (True, False),\n",
    "               'clf__alpha': (1e-2, 1e-3)\n",
    " }"
   ]
  },
  {
   "cell_type": "markdown",
   "metadata": {},
   "source": [
    "> De toute évidence, une recherche aussi exhaustive peut être coûteuse. Si nous avons plusieurs cœurs de CPU à notre disposition, nous pouvons demander au chercheur de la grille d'essayer ces huit combinaisons de paramètres en parallèle avec le n_jobs paramètre. Si nous donnons à ce paramètre une valeur de -1, la recherche par grille détectera le nombre de cœurs installés et les utilisera tous:"
   ]
  },
  {
   "cell_type": "code",
   "execution_count": 20,
   "metadata": {
    "collapsed": true
   },
   "outputs": [],
   "source": [
    "gs_clf = GridSearchCV(text_clf, parameters, n_jobs=-1)"
   ]
  },
  {
   "cell_type": "code",
   "execution_count": 21,
   "metadata": {
    "collapsed": true
   },
   "outputs": [],
   "source": [
    "gs_clf = gs_clf.fit(x_train, y_train)"
   ]
  },
  {
   "cell_type": "markdown",
   "metadata": {},
   "source": [
    "### Enfin, pour voir le meilleur score moyen et les paramètres, exécutez le code suivant:"
   ]
  },
  {
   "cell_type": "code",
   "execution_count": 65,
   "metadata": {},
   "outputs": [
    {
     "data": {
      "text/plain": [
       "0.94832600159428415"
      ]
     },
     "execution_count": 65,
     "metadata": {},
     "output_type": "execute_result"
    }
   ],
   "source": [
    "gs_clf.best_score_ "
   ]
  },
  {
   "cell_type": "code",
   "execution_count": 66,
   "metadata": {},
   "outputs": [
    {
     "data": {
      "text/plain": [
       "{'clf__alpha': 0.01, 'tfidf__use_idf': False, 'vect__ngram_range': (1, 2)}"
      ]
     },
     "execution_count": 66,
     "metadata": {},
     "output_type": "execute_result"
    }
   ],
   "source": [
    "gs_clf.best_params_"
   ]
  },
  {
   "cell_type": "markdown",
   "metadata": {},
   "source": [
    "> La précision a maintenant augmenté à ~ 95% pour le classificateur NB (il n'est plus si naïf! 😄) et les paramètres correspondants sont:  {'clf__alpha': 0.01, 'tfidf__use_idf': False, 'vect__ngram_range': (1, 2)}"
   ]
  },
  {
   "cell_type": "markdown",
   "metadata": {},
   "source": [
    "### De même, nous obtenons une précision très peu améliorée ~ 86,48% pour le classificateur SVM avec le code ci-dessous. "
   ]
  },
  {
   "cell_type": "code",
   "execution_count": 67,
   "metadata": {
    "collapsed": true
   },
   "outputs": [],
   "source": [
    "from sklearn.model_selection import GridSearchCV\n",
    "parameters_svm = {'vect__ngram_range': [(1, 1), (1, 2)],\n",
    "              'tfidf__use_idf': (True, False),\n",
    "              'clf__alpha': (1e-2, 1e-3)\n",
    " }"
   ]
  },
  {
   "cell_type": "code",
   "execution_count": 68,
   "metadata": {
    "collapsed": true
   },
   "outputs": [],
   "source": [
    "gs_clf_svm = GridSearchCV(text_clf_svm, parameters_svm, n_jobs = -1) "
   ]
  },
  {
   "cell_type": "code",
   "execution_count": 70,
   "metadata": {
    "collapsed": true
   },
   "outputs": [],
   "source": [
    "gs_clf_svm = gs_clf_svm.fit(x_train, y_train)"
   ]
  },
  {
   "cell_type": "code",
   "execution_count": 71,
   "metadata": {},
   "outputs": [
    {
     "data": {
      "text/plain": [
       "0.8648142954149568"
      ]
     },
     "execution_count": 71,
     "metadata": {},
     "output_type": "execute_result"
    }
   ],
   "source": [
    "gs_clf_svm.best_score_ "
   ]
  },
  {
   "cell_type": "code",
   "execution_count": 72,
   "metadata": {},
   "outputs": [
    {
     "data": {
      "text/plain": [
       "{'clf__alpha': 0.001, 'tfidf__use_idf': True, 'vect__ngram_range': (1, 2)}"
      ]
     },
     "execution_count": 72,
     "metadata": {},
     "output_type": "execute_result"
    }
   ],
   "source": [
    "gs_clf_svm .best_params_"
   ]
  },
  {
   "cell_type": "markdown",
   "metadata": {},
   "source": [
    "> La précision n'a pas trop augmenté  pour le classificateur SVM et les paramètres correspondants sont:  {'clf__alpha': 0.001, 'tfidf__use_idf': True, 'vect__ngram_range': (1, 2)}\n"
   ]
  },
  {
   "cell_type": "markdown",
   "metadata": {},
   "source": [
    "## Donc , on va continuer à travailler avec le modèle Naive Bayes"
   ]
  },
  {
   "cell_type": "markdown",
   "metadata": {},
   "source": [
    "# 8)  Remarques et une touche de NLTK."
   ]
  },
  {
   "cell_type": "markdown",
   "metadata": {},
   "source": [
    "### 1. fit_prior = False: Lorsque cette option est définie sur false pour MultinomialNB , un préalable uniforme sera utilisé. Cela n'a pas aidé dans mon cas . "
   ]
  },
  {
   "cell_type": "markdown",
   "metadata": {},
   "source": [
    "### 2. Stemming:  À partir de Wikipedia , le processus consiste à réduire les mots fléchis (ou parfois dérivés) à leur forme de mot, de base ou de racine. Par exemple, un algorithme de réduction réduit les mots “fishing”, “fished” et “fisher” au mot racine \"fish\".\n",
    "\n",
    "### Nous avons besoin de NLTK qui peut être installé à partir d' ici . NLTK est livré avec divers stemmers , ce qui peut aider à réduire les mots à leur forme racine. Encore une fois, utilisez ceci, si cela a du sens pour votre problème.\n",
    "\n",
    "### Ci-dessous, j'ai utilisé le logiciel Snowball qui fonctionne très bien pour l'anglais.\n",
    "\n",
    "### *Remarque*: J'ai du utilisé le stemming dès le début dans le pré-traitement de la base de données , mais j'ai voulu le faire à la fin pour savoir de combien cette méthode augmente la précision de mon modèle."
   ]
  },
  {
   "cell_type": "code",
   "execution_count": 22,
   "metadata": {
    "collapsed": true
   },
   "outputs": [],
   "source": [
    "import nltk\n",
    "#nltk.download()\n",
    "from nltk.stem.snowball import SnowballStemmer\n",
    "stemmer = SnowballStemmer(\"english\", ignore_stopwords=True)\n",
    "class StemmedCountVectorizer(CountVectorizer):\n",
    "    def build_analyzer(self):\n",
    "        analyzer = super(StemmedCountVectorizer, self).build_analyzer()\n",
    "        return lambda doc: ([stemmer.stem(w) for w in analyzer(doc)])"
   ]
  },
  {
   "cell_type": "markdown",
   "metadata": {},
   "source": [
    "### Ainsi, nous avons maintenant les paramètres appropriés de la recherche de grille. Il est temps de préparer le pipeline final en utilisant les paramètres les mieux adaptés. "
   ]
  },
  {
   "cell_type": "code",
   "execution_count": 23,
   "metadata": {
    "collapsed": true
   },
   "outputs": [],
   "source": [
    "stemmed_count_vect = StemmedCountVectorizer(stop_words='english', ngram_range=(1,2))\n",
    "text_mnb_stemmed = Pipeline([('vect', stemmed_count_vect),\n",
    "                     ('tfidf', TfidfTransformer(use_idf=False)),\n",
    "                      ('mnb', MultinomialNB(alpha=0.01))\n",
    " ])"
   ]
  },
  {
   "cell_type": "code",
   "execution_count": 24,
   "metadata": {
    "collapsed": true
   },
   "outputs": [],
   "source": [
    "text_mnb_stemmed = text_mnb_stemmed.fit(x_train,y_train)"
   ]
  },
  {
   "cell_type": "markdown",
   "metadata": {},
   "source": [
    "### Le résultat de l'appel fitsur un GridSearchCVobjet est un classificateur que nous pouvons utiliser pour predict:"
   ]
  },
  {
   "cell_type": "code",
   "execution_count": 76,
   "metadata": {
    "collapsed": true
   },
   "outputs": [],
   "source": [
    "predicted_mnb_stemmed = text_mnb_stemmed.predict(x_test)"
   ]
  },
  {
   "cell_type": "code",
   "execution_count": 77,
   "metadata": {},
   "outputs": [
    {
     "data": {
      "text/plain": [
       "0.95236373030224752"
      ]
     },
     "execution_count": 77,
     "metadata": {},
     "output_type": "execute_result"
    }
   ],
   "source": [
    "np.mean(predicted_mnb_stemmed == y_test) "
   ]
  },
  {
   "cell_type": "code",
   "execution_count": null,
   "metadata": {
    "collapsed": true
   },
   "outputs": [],
   "source": [
    "### exemple"
   ]
  },
  {
   "cell_type": "code",
   "execution_count": 27,
   "metadata": {},
   "outputs": [
    {
     "data": {
      "text/plain": [
       "array([2], dtype=int64)"
      ]
     },
     "execution_count": 27,
     "metadata": {},
     "output_type": "execute_result"
    }
   ],
   "source": [
    "text_mnb_stemmed.predict([\"Thyroid Medications Are Being Recalled Here’s What You Need to Know\"])"
   ]
  },
  {
   "cell_type": "code",
   "execution_count": null,
   "metadata": {
    "collapsed": true
   },
   "outputs": [],
   "source": [
    "# 0: e:  Entertainment\n",
    "# 1: b: business \n",
    "# 2: m: health\n",
    "# 3: t: Science and technology"
   ]
  },
  {
   "cell_type": "code",
   "execution_count": 28,
   "metadata": {},
   "outputs": [
    {
     "name": "stdout",
     "output_type": "stream",
     "text": [
      "health\n"
     ]
    }
   ],
   "source": [
    "if text_mnb_stemmed.predict([\"Thyroid Medications Are Being Recalled Here’s What You Need to Know\"])==0:\n",
    "   print(\"entertainment\")\n",
    "elif text_mnb_stemmed.predict([\"Thyroid Medications Are Being Recalled Here’s What You Need to Know\"])==1:\n",
    "   print(\"business\")\n",
    "elif text_mnb_stemmed.predict([\"Thyroid Medications Are Being Recalled Here’s What You Need to Know\"])==2:\n",
    "   print(\"health\")\n",
    "else:\n",
    "   print(\"science and technology\")"
   ]
  },
  {
   "cell_type": "markdown",
   "metadata": {},
   "source": [
    "### => La précision avec laquelle nous obtenons est de ~ 95,24%. Amélioration marginale dans notre cas avec le classificateur NB. Nous pouvons également essayer avec SVM et d'autres algorithmes."
   ]
  },
  {
   "cell_type": "markdown",
   "metadata": {},
   "source": [
    "#  9) Déploiement \n",
    "## Une des finalités de la catégorisation de textes est de produire une fonction permettant d’assigner automatiquement une classe (la catégorie) à un nouveau document. "
   ]
  },
  {
   "cell_type": "markdown",
   "metadata": {},
   "source": [
    "## Donc, nous allons enregistrer le modèle de préparation dans un fichier de pickle, afin qu'il puisse être déployé du côté de la production. "
   ]
  },
  {
   "cell_type": "markdown",
   "metadata": {},
   "source": [
    "## La bibliothèque pickle facilite la sérialisation des modèles en fichiers que je crée. \n",
    "## Je suis également capable de charger le modèle dans mon code. Cela me permet de garder mon code d’entraînement du modèle séparé du code qui déploie mon modèle.\n",
    "\n",
    "## Je peux importer ou exporter mon modèle Python pour l'utiliser dans d'autres scripts Python avec le code ci-dessous:"
   ]
  },
  {
   "cell_type": "code",
   "execution_count": 78,
   "metadata": {
    "collapsed": true
   },
   "outputs": [],
   "source": [
    "# Save a dictionary into a pickle file.\n",
    "import pickle\n",
    "\n",
    "\n",
    "pickle.dump(text_mnb_stemmed, open(\"C:/Users/User/Desktop/finalmodel2.pkl\", \"wb\"))  # save it into a file named save.p\n",
    "\n",
    "\n",
    "\n",
    "text_mnb_stemmed = pickle.load(open(\"C:/Users/User/Desktop/finalmodel2.pkl\", \"rb\"))\n"
   ]
  },
  {
   "cell_type": "code",
   "execution_count": 122,
   "metadata": {
    "collapsed": true
   },
   "outputs": [],
   "source": [
    "## Créer un simple serveur web"
   ]
  },
  {
   "cell_type": "markdown",
   "metadata": {},
   "source": [
    "Pour déployer mon modèle, je dois d'abord créer un serveur. Les serveurs écoutent le trafic Web et exécutent des fonctions lorsqu'ils trouvent une demande qui leur est adressée. La fonction qui s'exécute peut dépendre de l'itinéraire de la requête et des autres données dont elle dispose. Ensuite, le serveur peut renvoyer un message de confirmation au demandeur.\n",
    "\n",
    "Le framework Flask me permet de créer des serveurs Web en un temps record.\n",
    "\n",
    "Dans le code ci-dessous, j'utilise Flask pour exécuter un serveur Web simple à une route. Mon seul itinéraire écoute les requêtes POST et renvoie un salut. Les requêtes POST sont un type spécial de requête qui transporte des données dans un objet JSON."
   ]
  },
  {
   "cell_type": "code",
   "execution_count": null,
   "metadata": {
    "collapsed": true
   },
   "outputs": [],
   "source": [
    "from flask import Flask\n",
    "from flask import request\n",
    "\n",
    "#code which helps initialize our server\n",
    "app = flask.Flask(__name__)\n",
    "\n",
    "#defining a /hello route for only post requests\n",
    "@app.route('/hello', methods=['POST'])\n",
    "def index():\n",
    "    #grabs the data tagged as 'name'\n",
    "    name = request.get_json()['name']\n",
    "    \n",
    "    #sending a hello back to the requester\n",
    "    return \"Hello \" + name"
   ]
  },
  {
   "cell_type": "markdown",
   "metadata": {},
   "source": [
    "Ajout du modèle à mon serveur\n",
    "Avec la bibliothèque de cornichons, je peux charger notre modèle formé sur mon serveur Web.\n",
    "\n",
    "Notre serveur charge maintenant le modèle formé lors de son initialisation. Je peux y accéder en envoyant une demande de post à mon itinéraire \"/ echo\". La route saisit un tableau de caractéristiques du corps de la requête et le donne au modèle. La prédiction du modèle est ensuite renvoyée au demandeur."
   ]
  },
  {
   "cell_type": "code",
   "execution_count": null,
   "metadata": {
    "collapsed": true
   },
   "outputs": [],
   "source": [
    "import pickle\n",
    "import flask\n",
    "\n",
    "app = flask.Flask(__name__)\n",
    "\n",
    "#getting our trained model from a file we created earlier\n",
    "model = pickle.load(open(\"C:/Users/User/Desktop/finalmodel2.pkl\",\"r\"))\n",
    "\n",
    "@app.route('/predict', methods=['POST'])\n",
    "def predict():\n",
    "    #grabbing a set of wine features from the request's body\n",
    "    feature_array = request.get_json()['feature_array']\n",
    "    \n",
    "    #our model rates the wine based on the input array\n",
    "    prediction = model.predict([feature_array]).tolist()\n",
    "    \n",
    "    #preparing a response object and storing the model's predictions\n",
    "    response = {}\n",
    "    response['predictions'] = prediction\n",
    "    \n",
    "    #sending our response object back as json\n",
    "    return flask.jsonify(response)"
   ]
  },
  {
   "cell_type": "markdown",
   "metadata": {},
   "source": [
    "# 10) Conclusion"
   ]
  },
  {
   "cell_type": "markdown",
   "metadata": {
    "collapsed": true
   },
   "source": [
    "## Nous avons appris le problème classique de la NLP, la classification des textes. Nous avons appris des concepts importants comme le sac de mots, TF-IDF et 2 algorithmes importants multinomial Naive Bayes et SVM. Nous avons vu que pour notre ensemble de données, les deux algorithmes étaient quasiment identiques lorsqu'ils étaient optimisés. Parfois , si nous disposons d’un ensemble de données suffisant, le choix de l’algorithme ne fait guère de différence. Nous avons également vu comment effectuer une recherche de grille pour optimiser les performances et utiliser l'approche de NLTK.\n",
    "## Bref, l’analyse statistique des données textuelles est une branche passionnante du data mining.\n",
    "## Elle met à l’épreuve à la fois nos connaissances en statistique et en informatique. Cette section trace dans ses grandes lignes le processus de catégorisation de textes sur un problème de détection de catégories dans des articles.\n",
    "## Le problème est suffisamment réaliste pour qu’on se rende compte à la fois de la saveur du domaine et des difficultés qu’elle représente.\n",
    "## Et encore, nous avons fait simple. Les pistes de développement sont nombreuses : réduire la dimensionnalité via des techniques basées sur les caractéristiques des termes (ex.  lemmatisation, …), via de techniques statistiques de sélection plus agressives ou plus sophistiquées (ex. méthodes de ranking basées sur la corrélation), via des méthodes de changement de représentation (ex. topic modeling ) ;  utiliser d’autres méthodes prédictives (ex.  random forest, gradient boosting, etc.) ou étendre la liste des stopwords."
   ]
  },
  {
   "cell_type": "markdown",
   "metadata": {},
   "source": [
    "#####################################################################################################"
   ]
  },
  {
   "cell_type": "markdown",
   "metadata": {},
   "source": [
    "#####################################################################################################"
   ]
  },
  {
   "cell_type": "markdown",
   "metadata": {
    "collapsed": true
   },
   "source": [
    "# Dans cette section, nous allons nous intéresser à la modélisation des sujets  (Topic Modeling)\n",
    "## Nous verrons comment:\n",
    "## 1) Pré-traiter les données\n",
    "## 2) Extraire des vecteurs caractéristiques (créer le dictionnaire et le corpus nécessaires à la modélisation du sujet)\n",
    "## 3) Construire le modèle (LDA)\n",
    "## 4) Voir les sujets dans le modèle LDA\n",
    "## 5) Calculer le score de perplexité et de cohérence du modèle\n",
    "## 6) Visualiser les sujets-mots-clés\n",
    "## 7) Trouver le nombre optimal de sujets\n",
    "## 8) Trouver le sujet dominant dans chaque phrase\n",
    "## 9) Trouver le document le plus représentatif pour chaque sujet\n",
    "## 10) Voir la distribution de sujets entre documents\n",
    "## 11) Conclusion"
   ]
  },
  {
   "cell_type": "markdown",
   "metadata": {},
   "source": [
    "### La modélisation de sujets\n",
    "> ### est une technique permettant d'extraire les sujets cachés de grands volumes de texte. Latent Dirichlet Allocation (LDA) est un algorithme populaire pour la modélisation de sujets avec d'excellentes implémentations dans le package Gensim de Python. Le défi, cependant, est de savoir comment extraire des sujets de qualité, clairs, distincts et significatifs . Cela dépend fortement de la qualité du prétraitement du texte et de la stratégie de recherche du nombre optimal de sujets. Ce tutoriel tente de résoudre ces deux problèmes."
   ]
  },
  {
   "cell_type": "markdown",
   "metadata": {},
   "source": [
    "### Introduction"
   ]
  },
  {
   "cell_type": "markdown",
   "metadata": {},
   "source": [
    "### L'une des principales applications du traitement du langage naturel consiste à extraire automatiquement les sujets dont les gens discutent à partir de gros volumes de texte. Certains exemples de texte de grande taille peuvent être des flux provenant de médias sociaux, des critiques de clients sur des hôtels, des films, etc.\n",
    "\n",
    "### Savoir ce que les gens parlent et comprendre leurs problèmes et leurs opinions est très précieux pour les entreprises, les administrateurs et les campagnes politiques. Et il est vraiment difficile de lire manuellement de si gros volumes et de compiler les sujets.\n",
    "\n",
    "### Il faut donc un algorithme automatisé capable de lire les documents texte et de générer automatiquement les sujets abordés.\n",
    "\n",
    "> ### Dans cette section , nous allons prendre la meme base de données de la section précédente et utiliser LDA pour extraire les sujets naturellement abordés.\n",
    "\n",
    "> ### J'utiliserai l'allocation de Dirichlet Latent (LDA) de Gensim \n",
    "\n",
    "> ### Nous allons également extraire le volume et le pourcentage de contribution de chaque sujet pour avoir une idée de l’importance d’un sujet.\n",
    "\n",
    "># Commençons!"
   ]
  },
  {
   "cell_type": "markdown",
   "metadata": {},
   "source": [
    "# Importations des packages "
   ]
  },
  {
   "cell_type": "markdown",
   "metadata": {},
   "source": [
    "Les packages de base utilisés dans ce tutoriel sont re, gensim, spacyet pyLDAvis. En plus de cela , nous allons également d' utiliser matplotlib, numpyet pandaspour la manipulation et la visualisation des données. Importons-les."
   ]
  },
  {
   "cell_type": "code",
   "execution_count": 7,
   "metadata": {},
   "outputs": [
    {
     "name": "stderr",
     "output_type": "stream",
     "text": [
      "C:\\Users\\User\\Anaconda3\\lib\\site-packages\\gensim\\utils.py:1197: UserWarning: detected Windows; aliasing chunkize to chunkize_serial\n",
      "  warnings.warn(\"detected Windows; aliasing chunkize to chunkize_serial\")\n"
     ]
    }
   ],
   "source": [
    "import re\n",
    "import numpy as np\n",
    "import pandas as pd\n",
    "from pprint import pprint\n",
    "\n",
    "# Gensim\n",
    "import gensim\n",
    "import gensim.corpora as corpora\n",
    "from gensim.utils import simple_preprocess\n",
    "from gensim.models import CoherenceModel\n",
    "\n",
    "# spacy for lemmatization\n",
    "import spacy\n",
    "\n",
    "# Plotting tools\n",
    "import pyLDAvis\n",
    "import pyLDAvis.gensim  # don't skip this\n",
    "import matplotlib.pyplot as plt\n",
    "%matplotlib inline\n",
    "\n",
    "# Enable logging for gensim - optional\n",
    "import logging\n",
    "logging.basicConfig(format='%(asctime)s : %(levelname)s : %(message)s', level=logging.ERROR)\n",
    "\n",
    "import warnings\n",
    "warnings.filterwarnings(\"ignore\",category=DeprecationWarning)"
   ]
  },
  {
   "cell_type": "markdown",
   "metadata": {},
   "source": [
    "# Que fait LDA?"
   ]
  },
  {
   "cell_type": "markdown",
   "metadata": {},
   "source": [
    "L'approche de LDA en matière de modélisation de sujets consiste à considérer chaque document comme un ensemble de sujets dans une certaine proportion. Et chaque sujet comme une collection de mots-clés, encore une fois, dans une certaine proportion.\n",
    "\n",
    "Une fois que vous avez fourni l'algorithme avec le nombre de rubriques, il suffit de réorganiser la distribution des rubriques dans les documents et la distribution des mots-clés dans les rubriques pour obtenir une bonne composition de la distribution des mots-clés de rubrique.\n",
    "\n",
    "Quand je parle de sujet, qu'est-ce que c'est réellement et comment il est représenté?\n",
    "\n",
    "Un sujet n'est rien d'autre qu'une collection de mots-clés dominants qui sont des représentants typiques. Juste en regardant les mots-clés, vous pouvez identifier le sujet.\n",
    "\n",
    "Les éléments suivants sont essentiels pour obtenir de bonnes rubriques de séparation:\n",
    "\n",
    "_ La qualité du traitement de texte.\n",
    "\n",
    "_ La variété des sujets dont parle le texte.\n",
    "\n",
    "_ Le choix de l'algorithme de modélisation de sujet.\n",
    "\n",
    "_ Le nombre de sujets alimentés par l'algorithme.\n",
    "\n",
    "_ Les paramètres de réglage des algorithmes."
   ]
  },
  {
   "cell_type": "markdown",
   "metadata": {},
   "source": [
    "# 1) Pré_traitement de la base"
   ]
  },
  {
   "cell_type": "markdown",
   "metadata": {},
   "source": [
    "### Nous allos travailler avec les anciens nouvelles sauf que en raison de contraintes de mémoire sur certains packages utilisés dans cette section, nous limiterons l'analyse à 10 000 nouvelles.\n",
    "\n",
    "### Obtenons juste quelques nouvelles aléatoires:"
   ]
  },
  {
   "cell_type": "code",
   "execution_count": 28,
   "metadata": {},
   "outputs": [
    {
     "data": {
      "text/plain": [
       "0      spoiler free business lessons take game thrones\n",
       "1    robin williams enters treatment fine tune comm...\n",
       "Name: cleaned_text, dtype: object"
      ]
     },
     "execution_count": 28,
     "metadata": {},
     "output_type": "execute_result"
    }
   ],
   "source": [
    "#X=data.cleaned_text.fillna('')\n",
    "cleaned_column= X.sample(10000, random_state=42)\n",
    "cleaned_column.reset_index(inplace=True, drop=True)\n",
    "cleaned_column.head(2)"
   ]
  },
  {
   "cell_type": "markdown",
   "metadata": {},
   "source": [
    "## Création de modèles Bigram "
   ]
  },
  {
   "cell_type": "markdown",
   "metadata": {},
   "source": [
    "Les bigrammes sont deux mots qui apparaissent fréquemment ensemble dans le document. (Les trigrammes sont 3 mots fréquents.)\n",
    "\n",
    "Quelques exemples sont: 'front_bumper', 'oil_leak', 'maryland_college_park' etc.\n",
    "\n",
    "Le modèle Phrases de Gensim peut construire et implémenter les bigrammes, les trigrammes, les quadgrammes, etc. Les deux arguments importants à Phrases sont min_count et threshold. Plus les valeurs de ces paramètres sont élevées, plus il est difficile de combiner des mots avec des bigrammes."
   ]
  },
  {
   "cell_type": "code",
   "execution_count": 9,
   "metadata": {
    "collapsed": true
   },
   "outputs": [],
   "source": [
    "# Build the bigram and trigram models\n",
    "from gensim.models import Phrases\n",
    "# Add bigrams and trigrams to docs (only ones that appear 10 times or more).\n",
    "bigram = Phrases(cleaned_column, min_count=10)"
   ]
  },
  {
   "cell_type": "markdown",
   "metadata": {},
   "source": [
    "## faire des bigrammes et des lemmatiseurs"
   ]
  },
  {
   "cell_type": "markdown",
   "metadata": {},
   "source": [
    "> ### Le modèle bigrams est prêt. \n",
    "> ### Ici, on va créer des bigrammes et une fonction pour la  lemmatisation "
   ]
  },
  {
   "cell_type": "code",
   "execution_count": 10,
   "metadata": {},
   "outputs": [
    {
     "name": "stderr",
     "output_type": "stream",
     "text": [
      "C:\\Users\\User\\Anaconda3\\lib\\site-packages\\gensim\\models\\phrases.py:494: UserWarning: For a faster implementation, use the gensim.models.phrases.Phraser class\n",
      "  warnings.warn(\"For a faster implementation, use the gensim.models.phrases.Phraser class\")\n"
     ]
    }
   ],
   "source": [
    "# Define  bigrams\n",
    "for idx in range(len(cleaned_column)):\n",
    "    for token in bigram[cleaned_column[idx]]:\n",
    "        if '_' in token:\n",
    "            # Token is a bigram, add to document.\n",
    "            cleaned_column[idx].append(token) "
   ]
  },
  {
   "cell_type": "code",
   "execution_count": 29,
   "metadata": {
    "collapsed": true
   },
   "outputs": [],
   "source": [
    "import gensim\n",
    "from gensim.utils import simple_preprocess\n",
    "from gensim.parsing.preprocessing import STOPWORDS\n",
    "from nltk.stem import WordNetLemmatizer, SnowballStemmer\n",
    "from nltk.stem.porter import *\n",
    "import numpy as np\n",
    "np.random.seed(2018)"
   ]
  },
  {
   "cell_type": "code",
   "execution_count": 30,
   "metadata": {
    "collapsed": true
   },
   "outputs": [],
   "source": [
    "#  define lemmatization\n",
    "stemmer = SnowballStemmer('english')\n",
    "def lemmatize_stemming(text):\n",
    "    return stemmer.stem(WordNetLemmatizer().lemmatize(text, pos='v'))"
   ]
  },
  {
   "cell_type": "code",
   "execution_count": 31,
   "metadata": {
    "collapsed": true
   },
   "outputs": [],
   "source": [
    "# la fonction finale de pre_processing\n",
    "def preprocess(text):\n",
    "    result = []\n",
    "    for token in gensim.utils.simple_preprocess(text):\n",
    "        if token not in gensim.parsing.preprocessing.STOPWORDS:\n",
    "            result.append(lemmatize_stemming(token))\n",
    "    return result"
   ]
  },
  {
   "cell_type": "code",
   "execution_count": 32,
   "metadata": {
    "collapsed": true
   },
   "outputs": [],
   "source": [
    "cleaned_column= cleaned_column.map(preprocess)"
   ]
  },
  {
   "cell_type": "code",
   "execution_count": 33,
   "metadata": {},
   "outputs": [
    {
     "data": {
      "text/plain": [
       "0          [spoiler, free, busi, lesson, game, throne]\n",
       "1    [robin, william, enter, treatment, fine, tune,...\n",
       "2                [fact, american, creep, googl, glass]\n",
       "3               [ail, space, telescop, get, nd, chanc]\n",
       "4    [jack, white, reveal, detail, new, album, laza...\n",
       "5                                 [king, crush, debut]\n",
       "6                    [woman, help, appl, save, planet]\n",
       "7    [merger, domin, wall, street, trade, durabl, g...\n",
       "8             [rumor, appl, unveil, home, autom, week]\n",
       "9    [conscious, uncoupl, pretenti, defens, word, w...\n",
       "Name: cleaned_text, dtype: object"
      ]
     },
     "execution_count": 33,
     "metadata": {},
     "output_type": "execute_result"
    }
   ],
   "source": [
    "cleaned_column[:10]"
   ]
  },
  {
   "cell_type": "code",
   "execution_count": 34,
   "metadata": {},
   "outputs": [
    {
     "data": {
      "text/plain": [
       "10000"
      ]
     },
     "execution_count": 34,
     "metadata": {},
     "output_type": "execute_result"
    }
   ],
   "source": [
    "len(cleaned_column)"
   ]
  },
  {
   "cell_type": "markdown",
   "metadata": {},
   "source": [
    "# 2) Créer le dictionnaire et le corpus nécessaires à la modélisation du sujet"
   ]
  },
  {
   "cell_type": "markdown",
   "metadata": {
    "collapsed": true
   },
   "source": [
    "Le dictionnaire ( id2word) et le corpus sont les deux principaux intrants du modèle de sujet LDA . Créons-les."
   ]
  },
  {
   "cell_type": "code",
   "execution_count": 35,
   "metadata": {
    "collapsed": true
   },
   "outputs": [],
   "source": [
    "# turn our tokenized documents into a id <-> term dictionary\n",
    "dictionary = corpora.Dictionary(cleaned_column)"
   ]
  },
  {
   "cell_type": "code",
   "execution_count": 36,
   "metadata": {
    "collapsed": true
   },
   "outputs": [],
   "source": [
    "# convert tokenized documents into a document-term matrix\n",
    "corpus = [dictionary.doc2bow(text) for text in cleaned_column]"
   ]
  },
  {
   "cell_type": "code",
   "execution_count": 37,
   "metadata": {},
   "outputs": [
    {
     "data": {
      "text/plain": [
       "[[(0, 1), (1, 1), (2, 1), (3, 1), (4, 1), (5, 1)]]"
      ]
     },
     "execution_count": 37,
     "metadata": {},
     "output_type": "execute_result"
    }
   ],
   "source": [
    "corpus[:1]"
   ]
  },
  {
   "cell_type": "markdown",
   "metadata": {},
   "source": [
    "Gensim crée un identifiant unique pour chaque mot du document. Le corpus produit ci-dessus est un mappage de (word_id, word_frequency).\n",
    "\n",
    "Par exemple, (0, 1) ci-dessus implique que le mot id 0 apparaît une fois dans le premier document. De même, le mot id 1 apparaît une fois et ainsi de suite.\n",
    "\n",
    "Ceci est utilisé comme entrée par le modèle LDA.\n",
    "\n",
    "Si vous voulez voir à quel mot correspond un identifiant donné, transmettez-le comme clé du dictionnaire."
   ]
  },
  {
   "cell_type": "code",
   "execution_count": 38,
   "metadata": {},
   "outputs": [
    {
     "name": "stdout",
     "output_type": "stream",
     "text": [
      "Number of unique tokens: 8925\n",
      "Number of documents: 10000\n"
     ]
    }
   ],
   "source": [
    "print('Number of unique tokens: %d' % len(dictionary))\n",
    "print('Number of documents: %d' % len(corpus))"
   ]
  },
  {
   "cell_type": "markdown",
   "metadata": {},
   "source": [
    "### Nous avons tout ce qu'il faut pour former le modèle LDA. En plus du corpus et du dictionnaire, nous devons également indiquer le nombre de sujets. J'ai choisi 20 comme nombre de sujets. "
   ]
  },
  {
   "cell_type": "markdown",
   "metadata": {},
   "source": [
    "# 3) Construire le modèle "
   ]
  },
  {
   "cell_type": "code",
   "execution_count": 52,
   "metadata": {},
   "outputs": [
    {
     "name": "stdout",
     "output_type": "stream",
     "text": [
      "Wall time: 6min 40s\n"
     ]
    }
   ],
   "source": [
    "from gensim.models import LdaModel\n",
    "\n",
    "# Set training parameters.\n",
    "num_topics = 20\n",
    "chunksize = 500 # size of the doc looked at every pass\n",
    "passes = 20 # number of passes through documents\n",
    "iterations = 400\n",
    "eval_every = 1  # Don't evaluate model perplexity, takes too much time.\n",
    "\n",
    "# Make a index to word dictionary.\n",
    "temp = dictionary[0]  # This is only to \"load\" the dictionary.\n",
    "id2word = dictionary.id2token\n",
    "\n",
    "%time model = LdaModel(corpus=corpus, id2word=id2word, chunksize=chunksize, \\\n",
    "                       alpha='auto', eta='auto', \\\n",
    "                       iterations=iterations, num_topics=num_topics, \\\n",
    "                       passes=passes, eval_every=eval_every)"
   ]
  },
  {
   "cell_type": "markdown",
   "metadata": {},
   "source": [
    "## *Paramètres de LDA model*\n",
    "\n",
    "_ alpha et eta sont des hyperparamètres qui affectent la rareté des sujets. Selon les documents de Gensim, les deux valeurs par défaut sont 1.0 / num_topics.\n",
    "\n",
    "_ chunksize est le nombre de documents à utiliser dans chaque bloc de formation.\n",
    "\n",
    "_ update_every détermine la fréquence à laquelle les paramètres du modèle doivent être mis à jour\n",
    "\n",
    "_ passes est le nombre total de passages d’entraînement."
   ]
  },
  {
   "cell_type": "markdown",
   "metadata": {},
   "source": [
    "# 4)  Voir les sujets dans le modèle LDA"
   ]
  },
  {
   "cell_type": "markdown",
   "metadata": {},
   "source": [
    "Le modèle LDA ci-dessus est composé de 20 sujets différentes où chaque sujet est une combinaison de mots-clés et chaque mot-clé apporte un certain poids au sujet.\n",
    "\n",
    "Vous pouvez voir les mots-clés de chaque sujet et la pondération (importance) de chaque mot-clé, comme indiqué ci-après.lda_model.print_topics()"
   ]
  },
  {
   "cell_type": "code",
   "execution_count": 53,
   "metadata": {},
   "outputs": [
    {
     "name": "stdout",
     "output_type": "stream",
     "text": [
      "[(0,\n",
      "  '0.037*\"music\" + 0.032*\"talk\" + 0.029*\"photo\" + 0.028*\"man\" + 0.028*\"tv\" + '\n",
      "  '0.027*\"profit\" + 0.021*\"uk\" + 0.020*\"week\" + 0.018*\"night\" + 0.016*\"add\"'),\n",
      " (1,\n",
      "  '0.063*\"say\" + 0.040*\"million\" + 0.035*\"recal\" + 0.026*\"gm\" + 0.019*\"ceo\" + '\n",
      "  '0.018*\"internet\" + 0.016*\"award\" + 0.016*\"lead\" + 0.015*\"scott\" + '\n",
      "  '0.012*\"dress\"'),\n",
      " (2,\n",
      "  '0.057*\"stock\" + 0.044*\"buy\" + 0.038*\"deal\" + 0.034*\"billion\" + 0.030*\"like\" '\n",
      "  '+ 0.029*\"sell\" + 0.024*\"compani\" + 0.021*\"pay\" + 0.019*\"street\" + '\n",
      "  '0.017*\"voic\"'),\n",
      " (3,\n",
      "  '0.056*\"star\" + 0.031*\"time\" + 0.023*\"war\" + 0.022*\"join\" + 0.021*\"cast\" + '\n",
      "  '0.018*\"return\" + 0.017*\"window\" + 0.015*\"celebr\" + 0.015*\"propos\" + '\n",
      "  '0.014*\"fight\"'),\n",
      " (4,\n",
      "  '0.058*\"video\" + 0.044*\"season\" + 0.044*\"game\" + 0.043*\"new\" + 0.031*\"final\" '\n",
      "  '+ 0.028*\"announc\" + 0.025*\"throne\" + 0.023*\"dead\" + 0.021*\"beyonc\" + '\n",
      "  '0.021*\"month\"'),\n",
      " (5,\n",
      "  '0.036*\"rise\" + 0.034*\"world\" + 0.032*\"die\" + 0.030*\"googl\" + 0.022*\"open\" + '\n",
      "  '0.021*\"go\" + 0.021*\"babi\" + 0.019*\"glass\" + 0.016*\"offici\" + 0.015*\"miss\"'),\n",
      " (6,\n",
      "  '0.047*\"kardashian\" + 0.042*\"kim\" + 0.042*\"west\" + 0.029*\"kany\" + '\n",
      "  '0.018*\"stream\" + 0.016*\"chris\" + 0.016*\"netflix\" + 0.015*\"marri\" + '\n",
      "  '0.015*\"russia\" + 0.013*\"nokia\"'),\n",
      " (7,\n",
      "  '0.065*\"report\" + 0.039*\"amazon\" + 0.037*\"microsoft\" + 0.028*\"movi\" + '\n",
      "  '0.023*\"offic\" + 0.022*\"health\" + 0.021*\"drop\" + 0.020*\"america\" + '\n",
      "  '0.020*\"servic\" + 0.020*\"offer\"'),\n",
      " (8,\n",
      "  '0.054*\"facebook\" + 0.031*\"miley\" + 0.031*\"cyrus\" + 0.028*\"high\" + '\n",
      "  '0.028*\"plan\" + 0.026*\"big\" + 0.022*\"bring\" + 0.016*\"approv\" + '\n",
      "  '0.016*\"target\" + 0.015*\"fda\"'),\n",
      " (9,\n",
      "  '0.038*\"end\" + 0.037*\"home\" + 0.024*\"phone\" + 0.023*\"expect\" + '\n",
      "  '0.023*\"smartphon\" + 0.022*\"quarter\" + 0.022*\"air\" + 0.022*\"near\" + '\n",
      "  '0.021*\"know\" + 0.018*\"confirm\"'),\n",
      " (10,\n",
      "  '0.051*\"updat\" + 0.035*\"market\" + 0.033*\"fall\" + 0.027*\"rat\" + 0.024*\"wed\" + '\n",
      "  '0.023*\"oil\" + 0.021*\"case\" + 0.020*\"date\" + 0.018*\"april\" + 0.018*\"head\"'),\n",
      " (11,\n",
      "  '0.054*\"day\" + 0.026*\"chang\" + 0.025*\"futur\" + 0.021*\"best\" + 0.020*\"drug\" + '\n",
      "  '0.020*\"unveil\" + 0.019*\"post\" + 0.018*\"hold\" + 0.016*\"climat\" + '\n",
      "  '0.015*\"face\"'),\n",
      " (12,\n",
      "  '0.035*\"look\" + 0.031*\"bank\" + 0.029*\"record\" + 0.024*\"help\" + 0.023*\"warn\" '\n",
      "  '+ 0.021*\"rate\" + 0.021*\"men\" + 0.019*\"need\" + 0.019*\"feed\" + 0.018*\"fox\"'),\n",
      " (13,\n",
      "  '0.033*\"studi\" + 0.029*\"death\" + 0.027*\"ebola\" + 0.022*\"second\" + '\n",
      "  '0.022*\"take\" + 0.020*\"rule\" + 0.018*\"risk\" + 0.018*\"attack\" + 0.018*\"net\" + '\n",
      "  '0.017*\"virus\"'),\n",
      " (14,\n",
      "  '0.056*\"price\" + 0.047*\"sale\" + 0.034*\"news\" + 0.032*\"releas\" + 0.032*\"data\" '\n",
      "  '+ 0.031*\"reveal\" + 0.027*\"new\" + 0.021*\"gas\" + 0.016*\"lose\" + '\n",
      "  '0.015*\"iphon\"'),\n",
      " (15,\n",
      "  '0.054*\"year\" + 0.036*\"share\" + 0.033*\"hit\" + 0.030*\"twitter\" + 0.029*\"car\" '\n",
      "  '+ 0.028*\"mobil\" + 0.025*\"state\" + 0.021*\"cut\" + 0.020*\"start\" + '\n",
      "  '0.019*\"today\"'),\n",
      " (16,\n",
      "  '0.064*\"appl\" + 0.049*\"samsung\" + 0.041*\"watch\" + 0.038*\"galaxi\" + '\n",
      "  '0.024*\"review\" + 0.022*\"film\" + 0.018*\"want\" + 0.017*\"life\" + 0.016*\"cost\" '\n",
      "  '+ 0.012*\"alleg\"'),\n",
      " (17,\n",
      "  '0.070*\"googl\" + 0.038*\"launch\" + 0.036*\"android\" + 0.031*\"set\" + '\n",
      "  '0.020*\"call\" + 0.018*\"loss\" + 0.016*\"heartble\" + 0.015*\"tech\" + 0.014*\"ban\" '\n",
      "  '+ 0.014*\"walk\"'),\n",
      " (18,\n",
      "  '0.031*\"american\" + 0.029*\"bieber\" + 0.027*\"live\" + 0.025*\"justin\" + '\n",
      "  '0.020*\"close\" + 0.017*\"issu\" + 0.017*\"claim\" + 0.015*\"tesla\" + '\n",
      "  '0.015*\"increas\" + 0.015*\"play\"'),\n",
      " (19,\n",
      "  '0.032*\"china\" + 0.031*\"app\" + 0.022*\"growth\" + 0.021*\"show\" + 0.020*\"xbox\" '\n",
      "  '+ 0.020*\"dollar\" + 0.019*\"busi\" + 0.019*\"work\" + 0.016*\"rais\" + '\n",
      "  '0.015*\"real\"')]\n"
     ]
    }
   ],
   "source": [
    "# Print the Keyword in the 10 topics\n",
    "pprint(model.print_topics())\n",
    "doc_lda = model[corpus]"
   ]
  },
  {
   "cell_type": "markdown",
   "metadata": {},
   "source": [
    "Comment interpréter cela?\n",
    "\n",
    "Le sujet 0 est représenté par '0.037*\"music\" + 0.032*\"talk\" + 0.029*\"photo\" + 0.028*\"man\" + 0.028*\"tv\" + '\n",
    "  '0.027*\"profit\" + 0.021*\"uk\" + 0.020*\"week\" + 0.018*\"night\" + 0.016*\"add\"').\n",
    "\n",
    "Cela signifie que les 10 principaux mots-clés qui contribuent à ce sujet sont: «music», «talk», «photo», etc., et le poids de «music» sur le sujet 0 est de 0.037.\n",
    "\n",
    "Les pondérations reflètent l'importance d'un mot clé pour ce sujet.\n",
    "\n",
    "En regardant ces mots-clés, pouvez-vous deviner ce que ce sujet pourrait être? \n",
    "\n",
    "De même, pouvez-vous parcourir les mots-clés restants et déterminer quel est le sujet?"
   ]
  },
  {
   "cell_type": "markdown",
   "metadata": {},
   "source": [
    "# 5) Calculer le score de perplexité et de cohérence du modèle"
   ]
  },
  {
   "cell_type": "markdown",
   "metadata": {},
   "source": [
    "LDA est une technique non supervisée, ce qui signifie que nous ne savons pas, avant de lancer le modèle, combien de sujets se trouvent dans notre corpus. Nous pouvons utiliser l'outil de visualisation LDA pyLDAvis, essayer un certain nombre de sujets et comparer les résultats. La cohérence des thèmes est l'une des principales techniques utilisées pour estimer le nombre de sujets. Nous utiliserons les mesures UMass et c_v pour voir le score de cohérence de notre modèle LDA\n",
    "\n",
    "La perplexité du modèle et la cohérence du sujet fournissent une mesure pratique pour juger de la qualité d'un modèle de sujet donné. Dans mon expérience, le score de cohérence du sujet, en particulier, a été plus utile."
   ]
  },
  {
   "cell_type": "code",
   "execution_count": 54,
   "metadata": {},
   "outputs": [
    {
     "name": "stdout",
     "output_type": "stream",
     "text": [
      "\n",
      "Perplexity:  -8.59661152494\n",
      "\n",
      "Coherence Score c_v:  0.577330695308\n",
      "\n",
      "Coherence Score u_mass:  -16.7285355906\n"
     ]
    }
   ],
   "source": [
    "# Compute Perplexity\n",
    "print('\\nPerplexity: ', model.log_perplexity(corpus))  # a measure of how good the model is. lower the better.\n",
    "\n",
    "# Compute Coherence Score using c_v \n",
    "coherence_model_lda = CoherenceModel(model=model, texts=cleaned_column, dictionary=dictionary, coherence='c_v')\n",
    "coherence_lda = coherence_model_lda.get_coherence()\n",
    "print('\\nCoherence Score c_v: ', coherence_lda)\n",
    "\n",
    "# Compute Coherence Score using UMass\n",
    "coherence_model_lda_umass = CoherenceModel(model=model, texts=cleaned_column, dictionary=dictionary, coherence=\"u_mass\")\n",
    "coherence_lda_umass = coherence_model_lda_umass.get_coherence()\n",
    "print('\\nCoherence Score u_mass: ', coherence_lda_umass)"
   ]
  },
  {
   "cell_type": "markdown",
   "metadata": {
    "collapsed": true
   },
   "source": [
    "> ### Nous avons un score de cohérence  de mesure c_v de 0,577."
   ]
  },
  {
   "cell_type": "markdown",
   "metadata": {},
   "source": [
    "# 6) Visualiser les sujets-mots-clés"
   ]
  },
  {
   "cell_type": "markdown",
   "metadata": {},
   "source": [
    "Maintenant que le modèle LDA est créé, l'étape suivante consiste à examiner les sujets produites et les mots clés associés. Il n'y a pas de meilleur outil que le tableau interactif du package pyLDAvis et est conçu pour bien fonctionner avec les ordinateurs portables jupyter."
   ]
  },
  {
   "cell_type": "code",
   "execution_count": 55,
   "metadata": {},
   "outputs": [
    {
     "name": "stderr",
     "output_type": "stream",
     "text": [
      "C:\\Users\\User\\Anaconda3\\lib\\site-packages\\pyLDAvis\\_prepare.py:257: FutureWarning: Sorting because non-concatenation axis is not aligned. A future version\n",
      "of pandas will change to not sort by default.\n",
      "\n",
      "To accept the future behavior, pass 'sort=False'.\n",
      "\n",
      "To retain the current behavior and silence the warning, pass 'sort=True'.\n",
      "\n",
      "  return pd.concat([default_term_info] + list(topic_dfs))\n"
     ]
    },
    {
     "data": {
      "text/html": [
       "\n",
       "<link rel=\"stylesheet\" type=\"text/css\" href=\"https://cdn.rawgit.com/bmabey/pyLDAvis/files/ldavis.v1.0.0.css\">\n",
       "\n",
       "\n",
       "<div id=\"ldavis_el49729395457028322276668529\"></div>\n",
       "<script type=\"text/javascript\">\n",
       "\n",
       "var ldavis_el49729395457028322276668529_data = {\"mdsDat\": {\"x\": [0.014835784120932534, -0.14243606352207952, -0.06169910710789651, 0.10990300429265445, -0.11917618432925786, 0.18067939093900398, -0.230269604911254, 0.05399895991300541, 0.022087088793186157, -0.2160353773300382, -0.014333130403234341, -0.05427481092271678, 0.0798954618162998, 0.06021323801226015, 0.051756252066958996, 0.10425755323907104, 0.04349688433583062, -0.04928558034512624, 0.08913564744616716, 0.07725059389623294], \"y\": [0.1574164931700728, 0.12335223906455392, 0.06868803847896385, 0.006398685784041357, 0.19560488471450463, -0.06454756948875345, -0.19010206340231423, 0.0242652281808216, 0.023668965121060884, -0.20310617563040967, 0.005555581028565862, 0.1329255529210048, 0.009286912866941591, -0.040588394952007265, -0.05327494198256346, -0.08926804945027074, -0.12409444304913993, 0.08505707561159304, 0.008530354853412279, -0.07576837384007883], \"topics\": [1, 2, 3, 4, 5, 6, 7, 8, 9, 10, 11, 12, 13, 14, 15, 16, 17, 18, 19, 20], \"cluster\": [1, 1, 1, 1, 1, 1, 1, 1, 1, 1, 1, 1, 1, 1, 1, 1, 1, 1, 1, 1], \"Freq\": [6.052037239074707, 5.698091983795166, 5.509017467498779, 5.506718635559082, 5.394176006317139, 5.378656387329102, 5.356625556945801, 5.251200199127197, 5.132934093475342, 5.091818332672119, 4.905791282653809, 4.777092933654785, 4.765855312347412, 4.630756855010986, 4.573609828948975, 4.547237396240234, 4.444822788238525, 4.420022487640381, 4.2870774269104, 4.276451587677002]}, \"tinfo\": {\"Category\": [\"Default\", \"Default\", \"Default\", \"Default\", \"Default\", \"Default\", \"Default\", \"Default\", \"Default\", \"Default\", \"Default\", \"Default\", \"Default\", \"Default\", \"Default\", \"Default\", \"Default\", \"Default\", \"Default\", \"Default\", \"Default\", \"Default\", \"Default\", \"Default\", \"Default\", \"Default\", \"Default\", \"Default\", \"Default\", \"Default\", \"Topic1\", \"Topic1\", \"Topic1\", \"Topic1\", \"Topic1\", \"Topic1\", \"Topic1\", \"Topic1\", \"Topic1\", \"Topic1\", \"Topic1\", \"Topic1\", \"Topic1\", \"Topic1\", \"Topic1\", \"Topic1\", \"Topic1\", \"Topic1\", \"Topic1\", \"Topic1\", \"Topic1\", \"Topic1\", \"Topic1\", \"Topic1\", \"Topic1\", \"Topic1\", \"Topic1\", \"Topic1\", \"Topic1\", \"Topic1\", \"Topic1\", \"Topic1\", \"Topic2\", \"Topic2\", \"Topic2\", \"Topic2\", \"Topic2\", \"Topic2\", \"Topic2\", \"Topic2\", \"Topic2\", \"Topic2\", \"Topic2\", \"Topic2\", \"Topic2\", \"Topic2\", \"Topic2\", \"Topic2\", \"Topic2\", \"Topic2\", \"Topic2\", \"Topic2\", \"Topic2\", \"Topic2\", \"Topic2\", \"Topic2\", \"Topic2\", \"Topic2\", \"Topic2\", \"Topic2\", \"Topic2\", \"Topic2\", \"Topic2\", \"Topic2\", \"Topic3\", \"Topic3\", \"Topic3\", \"Topic3\", \"Topic3\", \"Topic3\", \"Topic3\", \"Topic3\", \"Topic3\", \"Topic3\", \"Topic3\", \"Topic3\", \"Topic3\", \"Topic3\", \"Topic3\", \"Topic3\", \"Topic3\", \"Topic3\", \"Topic3\", \"Topic3\", \"Topic3\", \"Topic3\", \"Topic3\", \"Topic3\", \"Topic3\", \"Topic3\", \"Topic3\", \"Topic3\", \"Topic3\", \"Topic3\", \"Topic3\", \"Topic3\", \"Topic4\", \"Topic4\", \"Topic4\", \"Topic4\", \"Topic4\", \"Topic4\", \"Topic4\", \"Topic4\", \"Topic4\", \"Topic4\", \"Topic4\", \"Topic4\", \"Topic4\", \"Topic4\", \"Topic4\", \"Topic4\", \"Topic4\", \"Topic4\", \"Topic4\", \"Topic4\", \"Topic4\", \"Topic4\", \"Topic4\", \"Topic4\", \"Topic4\", \"Topic4\", \"Topic4\", \"Topic4\", \"Topic4\", \"Topic4\", \"Topic4\", \"Topic4\", \"Topic5\", \"Topic5\", \"Topic5\", \"Topic5\", \"Topic5\", \"Topic5\", \"Topic5\", \"Topic5\", \"Topic5\", \"Topic5\", \"Topic5\", \"Topic5\", \"Topic5\", \"Topic5\", \"Topic5\", \"Topic5\", \"Topic5\", \"Topic5\", \"Topic5\", \"Topic5\", \"Topic5\", \"Topic5\", \"Topic5\", \"Topic5\", \"Topic5\", \"Topic5\", \"Topic5\", \"Topic5\", \"Topic5\", \"Topic5\", \"Topic5\", \"Topic5\", \"Topic5\", \"Topic6\", \"Topic6\", \"Topic6\", \"Topic6\", \"Topic6\", \"Topic6\", \"Topic6\", \"Topic6\", \"Topic6\", \"Topic6\", \"Topic6\", \"Topic6\", \"Topic6\", \"Topic6\", \"Topic6\", \"Topic6\", \"Topic6\", \"Topic6\", \"Topic6\", \"Topic6\", \"Topic6\", \"Topic6\", \"Topic6\", \"Topic6\", \"Topic6\", \"Topic6\", \"Topic6\", \"Topic6\", \"Topic6\", \"Topic6\", \"Topic6\", \"Topic6\", \"Topic6\", \"Topic6\", \"Topic7\", \"Topic7\", \"Topic7\", \"Topic7\", \"Topic7\", \"Topic7\", \"Topic7\", \"Topic7\", \"Topic7\", \"Topic7\", \"Topic7\", \"Topic7\", \"Topic7\", \"Topic7\", \"Topic7\", \"Topic7\", \"Topic7\", \"Topic7\", \"Topic7\", \"Topic7\", \"Topic7\", \"Topic7\", \"Topic7\", \"Topic7\", \"Topic7\", \"Topic7\", \"Topic7\", \"Topic7\", \"Topic7\", \"Topic7\", \"Topic7\", \"Topic8\", \"Topic8\", \"Topic8\", \"Topic8\", \"Topic8\", \"Topic8\", \"Topic8\", \"Topic8\", \"Topic8\", \"Topic8\", \"Topic8\", \"Topic8\", \"Topic8\", \"Topic8\", \"Topic8\", \"Topic8\", \"Topic8\", \"Topic8\", \"Topic8\", \"Topic8\", \"Topic8\", \"Topic8\", \"Topic8\", \"Topic8\", \"Topic8\", \"Topic8\", \"Topic8\", \"Topic8\", \"Topic8\", \"Topic8\", \"Topic8\", \"Topic8\", \"Topic8\", \"Topic9\", \"Topic9\", \"Topic9\", \"Topic9\", \"Topic9\", \"Topic9\", \"Topic9\", \"Topic9\", \"Topic9\", \"Topic9\", \"Topic9\", \"Topic9\", \"Topic9\", \"Topic9\", \"Topic9\", \"Topic9\", \"Topic9\", \"Topic9\", \"Topic9\", \"Topic9\", \"Topic9\", \"Topic9\", \"Topic9\", \"Topic9\", \"Topic9\", \"Topic9\", \"Topic9\", \"Topic9\", \"Topic9\", \"Topic9\", \"Topic9\", \"Topic9\", \"Topic10\", \"Topic10\", \"Topic10\", \"Topic10\", \"Topic10\", \"Topic10\", \"Topic10\", \"Topic10\", \"Topic10\", \"Topic10\", \"Topic10\", \"Topic10\", \"Topic10\", \"Topic10\", \"Topic10\", \"Topic10\", \"Topic10\", \"Topic10\", \"Topic10\", \"Topic10\", \"Topic10\", \"Topic10\", \"Topic10\", \"Topic10\", \"Topic10\", \"Topic10\", \"Topic10\", \"Topic10\", \"Topic10\", \"Topic10\", \"Topic10\", \"Topic11\", \"Topic11\", \"Topic11\", \"Topic11\", \"Topic11\", \"Topic11\", \"Topic11\", \"Topic11\", \"Topic11\", \"Topic11\", \"Topic11\", \"Topic11\", \"Topic11\", \"Topic11\", \"Topic11\", \"Topic11\", \"Topic11\", \"Topic11\", \"Topic11\", \"Topic11\", \"Topic11\", \"Topic11\", \"Topic11\", \"Topic11\", \"Topic11\", \"Topic11\", \"Topic11\", \"Topic11\", \"Topic11\", \"Topic11\", \"Topic11\", \"Topic11\", \"Topic12\", \"Topic12\", \"Topic12\", \"Topic12\", \"Topic12\", \"Topic12\", \"Topic12\", \"Topic12\", \"Topic12\", \"Topic12\", \"Topic12\", \"Topic12\", \"Topic12\", \"Topic12\", \"Topic12\", \"Topic12\", \"Topic12\", \"Topic12\", \"Topic12\", \"Topic12\", \"Topic12\", \"Topic12\", \"Topic12\", \"Topic12\", \"Topic12\", \"Topic12\", \"Topic12\", \"Topic12\", \"Topic12\", \"Topic12\", \"Topic12\", \"Topic12\", \"Topic12\", \"Topic13\", \"Topic13\", \"Topic13\", \"Topic13\", \"Topic13\", \"Topic13\", \"Topic13\", \"Topic13\", \"Topic13\", \"Topic13\", \"Topic13\", \"Topic13\", \"Topic13\", \"Topic13\", \"Topic13\", \"Topic13\", \"Topic13\", \"Topic13\", \"Topic13\", \"Topic13\", \"Topic13\", \"Topic13\", \"Topic13\", \"Topic13\", \"Topic13\", \"Topic13\", \"Topic13\", \"Topic13\", \"Topic13\", \"Topic13\", \"Topic13\", \"Topic13\", \"Topic14\", \"Topic14\", \"Topic14\", \"Topic14\", \"Topic14\", \"Topic14\", \"Topic14\", \"Topic14\", \"Topic14\", \"Topic14\", \"Topic14\", \"Topic14\", \"Topic14\", \"Topic14\", \"Topic14\", \"Topic14\", \"Topic14\", \"Topic14\", \"Topic14\", \"Topic14\", \"Topic14\", \"Topic14\", \"Topic14\", \"Topic14\", \"Topic14\", \"Topic14\", \"Topic14\", \"Topic14\", \"Topic14\", \"Topic14\", \"Topic14\", \"Topic14\", \"Topic15\", \"Topic15\", \"Topic15\", \"Topic15\", \"Topic15\", \"Topic15\", \"Topic15\", \"Topic15\", \"Topic15\", \"Topic15\", \"Topic15\", \"Topic15\", \"Topic15\", \"Topic15\", \"Topic15\", \"Topic15\", \"Topic15\", \"Topic15\", \"Topic15\", \"Topic15\", \"Topic15\", \"Topic15\", \"Topic15\", \"Topic15\", \"Topic15\", \"Topic15\", \"Topic15\", \"Topic15\", \"Topic15\", \"Topic15\", \"Topic16\", \"Topic16\", \"Topic16\", \"Topic16\", \"Topic16\", \"Topic16\", \"Topic16\", \"Topic16\", \"Topic16\", \"Topic16\", \"Topic16\", \"Topic16\", \"Topic16\", \"Topic16\", \"Topic16\", \"Topic16\", \"Topic16\", \"Topic16\", \"Topic16\", \"Topic16\", \"Topic16\", \"Topic16\", \"Topic16\", \"Topic16\", \"Topic16\", \"Topic16\", \"Topic16\", \"Topic16\", \"Topic16\", \"Topic16\", \"Topic16\", \"Topic16\", \"Topic17\", \"Topic17\", \"Topic17\", \"Topic17\", \"Topic17\", \"Topic17\", \"Topic17\", \"Topic17\", \"Topic17\", \"Topic17\", \"Topic17\", \"Topic17\", \"Topic17\", \"Topic17\", \"Topic17\", \"Topic17\", \"Topic17\", \"Topic17\", \"Topic17\", \"Topic17\", \"Topic17\", \"Topic17\", \"Topic17\", \"Topic17\", \"Topic17\", \"Topic17\", \"Topic17\", \"Topic17\", \"Topic17\", \"Topic17\", \"Topic17\", \"Topic17\", \"Topic18\", \"Topic18\", \"Topic18\", \"Topic18\", \"Topic18\", \"Topic18\", \"Topic18\", \"Topic18\", \"Topic18\", \"Topic18\", \"Topic18\", \"Topic18\", \"Topic18\", \"Topic18\", \"Topic18\", \"Topic18\", \"Topic18\", \"Topic18\", \"Topic18\", \"Topic18\", \"Topic18\", \"Topic18\", \"Topic18\", \"Topic18\", \"Topic18\", \"Topic18\", \"Topic18\", \"Topic18\", \"Topic18\", \"Topic18\", \"Topic18\", \"Topic18\", \"Topic18\", \"Topic19\", \"Topic19\", \"Topic19\", \"Topic19\", \"Topic19\", \"Topic19\", \"Topic19\", \"Topic19\", \"Topic19\", \"Topic19\", \"Topic19\", \"Topic19\", \"Topic19\", \"Topic19\", \"Topic19\", \"Topic19\", \"Topic19\", \"Topic19\", \"Topic19\", \"Topic19\", \"Topic19\", \"Topic19\", \"Topic19\", \"Topic19\", \"Topic19\", \"Topic19\", \"Topic19\", \"Topic19\", \"Topic19\", \"Topic19\", \"Topic19\", \"Topic20\", \"Topic20\", \"Topic20\", \"Topic20\", \"Topic20\", \"Topic20\", \"Topic20\", \"Topic20\", \"Topic20\", \"Topic20\", \"Topic20\", \"Topic20\", \"Topic20\", \"Topic20\", \"Topic20\", \"Topic20\", \"Topic20\", \"Topic20\", \"Topic20\", \"Topic20\", \"Topic20\", \"Topic20\", \"Topic20\", \"Topic20\", \"Topic20\", \"Topic20\", \"Topic20\", \"Topic20\", \"Topic20\", \"Topic20\", \"Topic20\", \"Topic20\"], \"Freq\": [337.0, 255.0, 231.0, 221.0, 215.0, 206.0, 196.0, 181.0, 187.0, 169.0, 177.0, 164.0, 165.0, 152.0, 164.0, 163.0, 159.0, 152.0, 147.0, 136.0, 148.0, 140.0, 137.0, 135.0, 123.0, 122.0, 125.0, 124.0, 121.0, 123.0, 255.6142578125, 147.84457397460938, 152.42398071289062, 110.00865173339844, 91.62881469726562, 84.15547943115234, 80.07071685791016, 77.00125885009766, 77.2835464477539, 66.02923583984375, 59.971595764160156, 57.12312698364258, 88.03364562988281, 54.72259521484375, 58.20146560668945, 51.09659194946289, 46.03715133666992, 45.68891906738281, 42.40702438354492, 40.26533508300781, 39.78678894042969, 39.34626007080078, 37.799583435058594, 35.59698486328125, 30.485273361206055, 29.829879760742188, 29.358922958374023, 28.552331924438477, 27.928133010864258, 27.221206665039062, 27.368846893310547, 48.72075271606445, 164.02789306640625, 163.43922424316406, 214.6201171875, 116.4394302368164, 104.04228973388672, 91.89124298095703, 86.38459014892578, 79.41748046875, 78.82526397705078, 78.14116668701172, 76.42102813720703, 52.29302215576172, 52.31276321411133, 49.724525451660156, 43.65241622924805, 40.47225570678711, 38.907615661621094, 37.25311279296875, 36.667724609375, 34.56233596801758, 32.719058990478516, 31.555322647094727, 30.192651748657227, 30.085407257080078, 31.411252975463867, 28.333820343017578, 28.266950607299805, 25.75786590576172, 24.663896560668945, 24.540395736694336, 63.0208854675293, 158.7522735595703, 177.3341064453125, 147.02943420410156, 137.6050262451172, 230.401611328125, 80.14363861083984, 63.81182861328125, 60.93437576293945, 56.12448501586914, 44.8459358215332, 43.001983642578125, 42.887855529785156, 40.983001708984375, 40.86252975463867, 40.88007736206055, 40.416133880615234, 37.600955963134766, 37.054290771484375, 37.112945556640625, 36.655731201171875, 33.03881072998047, 31.498071670532227, 29.74957275390625, 29.26593780517578, 28.501237869262695, 27.18016815185547, 25.748762130737305, 25.516313552856445, 24.29175567626953, 24.13507080078125, 24.446096420288086, 87.72673034667969, 34.75212860107422, 159.57562255859375, 205.900390625, 122.50454711914062, 103.81315612792969, 135.43087768554688, 87.8996810913086, 107.88577270507812, 76.2523193359375, 67.05210876464844, 60.507049560546875, 54.69352340698242, 48.582618713378906, 47.89128112792969, 47.930137634277344, 40.455223083496094, 39.6506233215332, 40.035606384277344, 38.94975662231445, 35.647254943847656, 35.468711853027344, 29.51203155517578, 29.523174285888672, 29.325054168701172, 29.018491744995117, 28.45498275756836, 27.056245803833008, 26.824941635131836, 25.716745376586914, 25.327699661254883, 25.20905303955078, 25.229522705078125, 35.27002716064453, 195.78248596191406, 118.45182037353516, 107.73643493652344, 112.35509490966797, 165.04933166503906, 72.86137390136719, 55.717674255371094, 53.717620849609375, 53.04642105102539, 52.146949768066406, 51.45606231689453, 50.1907958984375, 44.352325439453125, 42.773014068603516, 33.56208038330078, 33.08368682861328, 33.18026351928711, 33.050411224365234, 30.571983337402344, 29.93769645690918, 29.58839988708496, 28.560073852539062, 26.60778045654297, 23.105716705322266, 22.84116554260254, 22.213945388793945, 22.07657241821289, 21.7818546295166, 21.381053924560547, 21.575227737426758, 113.09879302978516, 45.062110900878906, 93.43254852294922, 221.1903839111328, 140.164306640625, 123.14764404296875, 90.34656524658203, 64.20344543457031, 54.83278274536133, 41.46116256713867, 41.257747650146484, 41.43708801269531, 40.29742431640625, 36.333091735839844, 34.690059661865234, 34.50119400024414, 33.93052291870117, 33.95199966430664, 32.665077209472656, 32.56001663208008, 32.704383850097656, 31.440982818603516, 30.159364700317383, 30.031415939331055, 28.686838150024414, 28.847415924072266, 27.256948471069336, 26.384071350097656, 25.966577529907227, 25.767183303833008, 25.374523162841797, 24.90428924560547, 24.85716438293457, 52.77003479003906, 67.09601593017578, 57.455406188964844, 32.9026985168457, 116.98469543457031, 111.09708404541016, 76.98632049560547, 124.08016204833984, 74.61961364746094, 72.3916244506836, 66.43043518066406, 56.839622497558594, 52.38608169555664, 48.36959457397461, 47.483367919921875, 45.02418899536133, 42.86601257324219, 42.33232116699219, 40.368534088134766, 37.53078842163086, 36.40092849731445, 36.62966537475586, 35.94929122924805, 34.0708122253418, 33.312660217285156, 30.584232330322266, 30.161354064941406, 29.414913177490234, 29.326614379882812, 27.768417358398438, 27.943031311035156, 27.508594512939453, 27.221378326416016, 26.36574935913086, 104.57154083251953, 112.16263580322266, 91.69255828857422, 98.76223754882812, 74.58334350585938, 67.33976745605469, 60.26617431640625, 57.04059982299805, 74.89803314208984, 51.476627349853516, 49.375152587890625, 60.30527877807617, 43.681427001953125, 40.928985595703125, 40.534053802490234, 40.43170928955078, 51.34061813354492, 39.35184860229492, 37.41152572631836, 36.22526168823242, 29.48712730407715, 27.32073211669922, 26.293039321899414, 26.150976181030273, 25.92431640625, 25.282419204711914, 25.33367347717285, 24.884429931640625, 24.34148406982422, 23.641817092895508, 23.57720375061035, 60.30814743041992, 54.060630798339844, 28.794912338256836, 180.808837890625, 121.36605072021484, 108.95816040039062, 99.6929702758789, 96.31558990478516, 94.17584991455078, 83.30094909667969, 69.55766296386719, 68.01211547851562, 65.07601165771484, 61.19047164916992, 64.03309631347656, 57.01141357421875, 54.86320114135742, 52.46422576904297, 53.89519500732422, 40.52114486694336, 39.3565559387207, 38.75629806518555, 38.21154022216797, 36.34210968017578, 31.88619041442871, 30.496110916137695, 29.426416397094727, 28.84433364868164, 27.546018600463867, 27.479328155517578, 27.3121395111084, 25.002668380737305, 24.13802146911621, 58.69776916503906, 32.98503112792969, 119.33930206298828, 125.46585083007812, 103.59919738769531, 65.0130615234375, 61.005340576171875, 51.75905990600586, 49.07098388671875, 46.68193435668945, 45.120243072509766, 44.00537872314453, 43.093902587890625, 38.62178039550781, 36.385440826416016, 36.66413879394531, 33.970455169677734, 32.69407653808594, 32.3939323425293, 32.363746643066406, 31.657590866088867, 31.476991653442383, 30.80033302307129, 30.77701187133789, 30.547147750854492, 29.582992553710938, 28.827571868896484, 27.846088409423828, 27.464784622192383, 26.852886199951172, 26.805004119873047, 26.12040901184082, 232.203369140625, 164.20260620117188, 112.62605285644531, 106.09814453125, 86.95421600341797, 75.35049438476562, 73.87692260742188, 66.81456756591797, 64.6226577758789, 58.55186462402344, 57.30614471435547, 54.745391845703125, 54.93354415893555, 53.49241256713867, 41.90132522583008, 39.74770736694336, 38.07945251464844, 37.3636360168457, 30.750545501708984, 28.374176025390625, 27.51785659790039, 27.1206111907959, 25.653526306152344, 25.37297248840332, 24.17986297607422, 24.03361701965332, 24.152198791503906, 23.285993576049805, 22.43920135498047, 20.901094436645508, 20.799808502197266, 32.163143157958984, 27.330121994018555, 168.8851318359375, 80.2275619506836, 77.532958984375, 62.68194580078125, 62.020938873291016, 55.70201873779297, 58.74400329589844, 64.72523498535156, 49.612735748291016, 44.363216400146484, 44.422523498535156, 44.19633865356445, 39.49924087524414, 39.18483352661133, 37.61942672729492, 37.21887969970703, 34.20814895629883, 33.40087890625, 45.80159378051758, 28.4903621673584, 28.328704833984375, 27.89040756225586, 25.68532371520996, 25.259685516357422, 23.640605926513672, 22.443666458129883, 21.818998336791992, 21.56098175048828, 21.62905502319336, 21.378482818603516, 36.262306213378906, 42.76125717163086, 37.4104118347168, 95.32319641113281, 69.66178131103516, 66.52970123291016, 63.58025360107422, 61.57887268066406, 59.847991943359375, 58.98857879638672, 50.41074752807617, 48.08738708496094, 47.922935485839844, 47.37115478515625, 46.710269927978516, 44.19557571411133, 42.651546478271484, 34.187252044677734, 32.963645935058594, 32.72974395751953, 31.438007354736328, 29.21170425415039, 28.284683227539062, 26.393552780151367, 25.631637573242188, 25.46491050720215, 25.686386108398438, 25.103702545166016, 25.122825622558594, 25.094791412353516, 23.42326545715332, 23.192174911499023, 21.57559585571289, 100.17083740234375, 46.168312072753906, 92.37726593017578, 70.70736694335938, 64.1761474609375, 66.04161071777344, 53.255714416503906, 49.889400482177734, 45.14103698730469, 44.12228775024414, 43.72182083129883, 40.63157653808594, 36.72246170043945, 32.06020736694336, 25.551944732666016, 23.948591232299805, 21.933767318725586, 21.605361938476562, 20.93463134765625, 20.772844314575195, 20.2208251953125, 19.39011001586914, 18.83370018005371, 18.257360458374023, 18.229827880859375, 17.801593780517578, 17.59666633605957, 17.073875427246094, 16.924596786499023, 16.976808547973633, 16.787660598754883, 16.019023895263672, 169.56321716308594, 19.632600784301758, 92.56997680664062, 85.49224853515625, 80.80673217773438, 73.0760269165039, 59.2072868347168, 49.75277328491211, 50.01801300048828, 45.81022262573242, 45.00901794433594, 43.260860443115234, 42.60313034057617, 40.14420700073242, 39.425994873046875, 38.68112564086914, 36.35684585571289, 34.17366027832031, 33.496910095214844, 32.9261360168457, 31.403839111328125, 31.319473266601562, 28.079627990722656, 27.676612854003906, 27.56840705871582, 26.656667709350586, 26.456275939941406, 26.12348175048828, 25.60458755493164, 25.284826278686523, 24.204586029052734, 22.682540893554688, 108.4362564086914, 93.87635040283203, 84.28358459472656, 82.37987518310547, 80.1168441772461, 85.11846160888672, 62.279422760009766, 59.03893280029297, 52.626686096191406, 48.61980438232422, 46.49086380004883, 46.06140899658203, 42.874855041503906, 35.04726791381836, 32.385562896728516, 31.556652069091797, 31.070842742919922, 30.01348304748535, 28.944995880126953, 28.882299423217773, 28.342836380004883, 28.244604110717773, 27.295543670654297, 24.7305850982666, 24.645198822021484, 24.757099151611328, 23.87411117553711, 22.7352352142334, 21.90617561340332, 21.4385986328125, 39.910221099853516, 30.76362419128418, 136.26219177246094, 122.99986267089844, 121.94854736328125, 83.20993041992188, 52.573638916015625, 44.93545913696289, 44.82770919799805, 42.339176177978516, 37.11011505126953, 36.91667938232422, 36.856571197509766, 35.269344329833984, 32.58737564086914, 32.21944808959961, 31.218507766723633, 30.240049362182617, 29.683311462402344, 29.661319732666016, 29.36418914794922, 29.72582244873047, 29.09831428527832, 28.030921936035156, 27.65458869934082, 26.089632034301758, 25.119667053222656, 23.55575180053711, 23.383623123168945, 22.931049346923828, 22.345874786376953, 22.12647819519043, 22.28605079650879, 46.096492767333984, 101.23603057861328, 90.2641830444336, 83.7074203491211, 67.38435363769531, 70.10649108886719, 61.62245559692383, 54.53532409667969, 52.80315399169922, 53.71493148803711, 44.39175033569336, 42.028682708740234, 43.57167434692383, 37.68571090698242, 36.084754943847656, 35.13224792480469, 34.46433639526367, 32.791561126708984, 28.36200714111328, 25.931772232055664, 25.419523239135742, 24.847726821899414, 23.387697219848633, 23.416128158569336, 20.85176658630371, 20.66686248779297, 19.578977584838867, 18.821128845214844, 17.82329750061035, 17.483028411865234, 17.399076461791992, 17.454408645629883, 60.96773147583008, 38.898834228515625, 152.06280517578125, 86.75178527832031, 85.92789459228516, 78.32373046875, 77.32308197021484, 72.35502624511719, 60.63418197631836, 44.95738220214844, 44.1689338684082, 42.421104431152344, 40.55501174926758, 39.88767623901367, 30.05067253112793, 28.165929794311523, 27.71627426147461, 27.14687156677246, 25.002912521362305, 24.7053279876709, 23.7211971282959, 23.714082717895508, 23.31343650817871, 23.30499267578125, 23.06300163269043, 22.87797737121582, 22.265275955200195, 21.878934860229492, 21.763044357299805, 20.89198875427246, 20.347246170043945, 20.347246170043945, 35.51164627075195, 104.95404815673828, 103.5910415649414, 67.390380859375, 63.24686813354492, 61.80075454711914, 61.222145080566406, 61.180023193359375, 58.514102935791016, 46.95988082885742, 42.74586868286133, 42.95126724243164, 42.747337341308594, 40.17634582519531, 38.80137252807617, 36.818092346191406, 35.070945739746094, 34.56524658203125, 33.58400344848633, 33.521915435791016, 30.77981948852539, 27.90557098388672, 24.32379722595215, 22.831945419311523, 22.168827056884766, 20.56839942932129, 20.010759353637695, 19.68922996520996, 19.073932647705078, 18.156543731689453, 18.33078956604004, 64.05635833740234, 50.269676208496094], \"Term\": [\"googl\", \"report\", \"appl\", \"say\", \"video\", \"stock\", \"price\", \"year\", \"star\", \"day\", \"samsung\", \"updat\", \"sale\", \"facebook\", \"season\", \"game\", \"buy\", \"amazon\", \"watch\", \"kardashian\", \"microsoft\", \"million\", \"galaxi\", \"deal\", \"kim\", \"west\", \"launch\", \"rise\", \"share\", \"recal\", \"report\", \"microsoft\", \"amazon\", \"movi\", \"offic\", \"drop\", \"america\", \"offer\", \"servic\", \"make\", \"box\", \"come\", \"health\", \"surfac\", \"beat\", \"th\", \"product\", \"space\", \"stop\", \"number\", \"run\", \"mer\", \"energi\", \"ahead\", \"pro\", \"noah\", \"captain\", \"earli\", \"weekend\", \"winter\", \"intern\", \"earn\", \"season\", \"game\", \"video\", \"final\", \"announc\", \"throne\", \"dead\", \"beyonc\", \"month\", \"higher\", \"jay\", \"featur\", \"tour\", \"earth\", \"win\", \"leav\", \"oculus\", \"mar\", \"latest\", \"danc\", \"design\", \"mark\", \"ad\", \"realiti\", \"secret\", \"surg\", \"true\", \"smart\", \"sector\", \"pharrel\", \"trailer\", \"new\", \"samsung\", \"watch\", \"galaxi\", \"appl\", \"film\", \"want\", \"life\", \"cost\", \"alleg\", \"director\", \"vs\", \"develop\", \"lg\", \"soni\", \"age\", \"probe\", \"doubl\", \"sex\", \"jump\", \"parti\", \"imag\", \"crash\", \"govern\", \"fast\", \"scene\", \"mini\", \"project\", \"display\", \"presid\", \"macbook\", \"review\", \"new\", \"buy\", \"stock\", \"billion\", \"sell\", \"deal\", \"compani\", \"like\", \"pay\", \"street\", \"voic\", \"wall\", \"see\", \"nasa\", \"good\", \"late\", \"law\", \"famili\", \"improv\", \"comment\", \"acquir\", \"acquisit\", \"order\", \"edg\", \"cigarett\", \"india\", \"friend\", \"care\", \"directv\", \"note\", \"monday\", \"jennif\", \"earn\", \"price\", \"news\", \"reveal\", \"data\", \"sale\", \"gas\", \"lose\", \"iphon\", \"hous\", \"support\", \"spoiler\", \"gain\", \"andi\", \"reach\", \"album\", \"card\", \"boy\", \"white\", \"children\", \"trial\", \"littl\", \"yellen\", \"emerg\", \"speak\", \"long\", \"tell\", \"detail\", \"aim\", \"wait\", \"smoke\", \"releas\", \"free\", \"new\", \"say\", \"million\", \"recal\", \"gm\", \"internet\", \"lead\", \"dress\", \"general\", \"view\", \"research\", \"public\", \"mad\", \"cancel\", \"australia\", \"instagram\", \"custom\", \"young\", \"problem\", \"wear\", \"wren\", \"motor\", \"allow\", \"women\", \"concert\", \"marijuana\", \"worth\", \"light\", \"cann\", \"alibaba\", \"worst\", \"scott\", \"ceo\", \"award\", \"ipo\", \"world\", \"die\", \"open\", \"rise\", \"go\", \"babi\", \"glass\", \"offici\", \"miss\", \"debut\", \"girl\", \"food\", \"battl\", \"inflat\", \"march\", \"boost\", \"stori\", \"way\", \"eye\", \"arriv\", \"disney\", \"right\", \"countri\", \"name\", \"maker\", \"iraq\", \"possibl\", \"sequel\", \"youtub\", \"planet\", \"googl\", \"studi\", \"ebola\", \"death\", \"take\", \"rule\", \"net\", \"virus\", \"second\", \"find\", \"outbreak\", \"attack\", \"test\", \"mean\", \"grow\", \"sue\", \"hospit\", \"step\", \"heart\", \"result\", \"money\", \"hill\", \"polici\", \"rank\", \"discov\", \"accus\", \"spread\", \"strike\", \"investor\", \"import\", \"soar\", \"risk\", \"cancer\", \"blood\", \"year\", \"share\", \"hit\", \"twitter\", \"car\", \"mobil\", \"state\", \"cut\", \"start\", \"today\", \"drive\", \"user\", \"fan\", \"ipad\", \"job\", \"michael\", \"old\", \"citi\", \"give\", \"mother\", \"disappoint\", \"bet\", \"fix\", \"success\", \"estim\", \"doctor\", \"flight\", \"self\", \"jackson\", \"yahoo\", \"meet\", \"new\", \"android\", \"launch\", \"set\", \"call\", \"loss\", \"heartble\", \"tech\", \"ban\", \"walk\", \"patent\", \"break\", \"firm\", \"neutral\", \"bid\", \"son\", \"challeng\", \"apolog\", \"lower\", \"ice\", \"io\", \"martin\", \"mortgag\", \"split\", \"mom\", \"htc\", \"fear\", \"mh\", \"kick\", \"pfizer\", \"bug\", \"googl\", \"updat\", \"market\", \"fall\", \"rat\", \"wed\", \"oil\", \"case\", \"date\", \"april\", \"head\", \"peopl\", \"low\", \"euro\", \"list\", \"love\", \"screen\", \"ecb\", \"crisi\", \"boe\", \"french\", \"minut\", \"jenner\", \"experi\", \"dark\", \"draghi\", \"diseas\", \"european\", \"creator\", \"bear\", \"dip\", \"georg\", \"new\", \"day\", \"chang\", \"futur\", \"drug\", \"unveil\", \"hold\", \"post\", \"best\", \"climat\", \"airlin\", \"global\", \"tweet\", \"king\", \"secur\", \"actor\", \"link\", \"power\", \"credit\", \"face\", \"ftc\", \"past\", \"threat\", \"nation\", \"host\", \"ignit\", \"away\", \"com\", \"billboard\", \"breach\", \"fund\", \"wife\", \"charg\", \"new\", \"app\", \"growth\", \"show\", \"xbox\", \"dollar\", \"busi\", \"work\", \"rais\", \"real\", \"bachelorett\", \"search\", \"shoot\", \"june\", \"recap\", \"continu\", \"gay\", \"despit\", \"store\", \"anti\", \"jet\", \"industri\", \"brand\", \"dorfman\", \"forecast\", \"interview\", \"plant\", \"catch\", \"kati\", \"lawsuit\", \"manufactur\", \"china\", \"episod\", \"time\", \"war\", \"cast\", \"join\", \"return\", \"window\", \"celebr\", \"propos\", \"fight\", \"use\", \"obama\", \"paul\", \"fcc\", \"easter\", \"actress\", \"campaign\", \"fake\", \"vote\", \"xp\", \"dinosaur\", \"remain\", \"think\", \"key\", \"scam\", \"warner\", \"weight\", \"deni\", \"reason\", \"ticket\", \"comcast\", \"star\", \"episod\", \"american\", \"bieber\", \"live\", \"justin\", \"close\", \"claim\", \"issu\", \"tesla\", \"increas\", \"play\", \"retail\", \"sign\", \"lohan\", \"lindsay\", \"idol\", \"tri\", \"selena\", \"model\", \"nasdaq\", \"scientist\", \"johnni\", \"revenu\", \"patient\", \"gomez\", \"morgan\", \"action\", \"surpris\", \"learn\", \"seri\", \"song\", \"music\", \"talk\", \"man\", \"tv\", \"profit\", \"photo\", \"uk\", \"week\", \"night\", \"add\", \"japan\", \"caus\", \"premier\", \"strong\", \"file\", \"focus\", \"crush\", \"consum\", \"major\", \"kid\", \"critic\", \"spider\", \"analyst\", \"coachella\", \"festiv\", \"robert\", \"child\", \"begin\", \"amaz\", \"smartwatch\", \"arrest\", \"meet\", \"kardashian\", \"kim\", \"west\", \"kany\", \"stream\", \"netflix\", \"marri\", \"russia\", \"nokia\", \"north\", \"book\", \"st\", \"regul\", \"impact\", \"black\", \"soon\", \"south\", \"bad\", \"brown\", \"cover\", \"tablet\", \"hour\", \"seek\", \"africa\", \"role\", \"museum\", \"amid\", \"birthday\", \"exclus\", \"team\", \"ladi\", \"chris\", \"look\", \"bank\", \"record\", \"warn\", \"help\", \"rate\", \"need\", \"fox\", \"feed\", \"red\", \"perform\", \"tax\", \"happi\", \"transform\", \"jam\", \"york\", \"ford\", \"winner\", \"dow\", \"let\", \"barclay\", \"speed\", \"hike\", \"protect\", \"send\", \"oscar\", \"labeouf\", \"quit\", \"broadway\", \"shia\", \"bitcoin\", \"men\", \"new\", \"facebook\", \"miley\", \"cyrus\", \"high\", \"plan\", \"big\", \"bring\", \"approv\", \"target\", \"fda\", \"trade\", \"investig\", \"devic\", \"push\", \"group\", \"fee\", \"turn\", \"brad\", \"control\", \"delay\", \"defend\", \"onlin\", \"lab\", \"insid\", \"engag\", \"pitt\", \"comic\", \"concern\", \"wal\", \"mart\", \"china\", \"end\", \"home\", \"phone\", \"smartphon\", \"quarter\", \"air\", \"near\", \"know\", \"court\", \"leak\", \"juli\", \"harri\", \"stone\", \"thing\", \"economi\", \"gold\", \"kill\", \"percent\", \"roll\", \"pregnant\", \"europ\", \"slam\", \"forc\", \"switch\", \"suprem\", \"central\", \"size\", \"kuni\", \"destini\", \"emma\", \"expect\", \"confirm\"], \"Total\": [337.0, 255.0, 231.0, 221.0, 215.0, 206.0, 196.0, 181.0, 187.0, 169.0, 177.0, 164.0, 165.0, 152.0, 164.0, 163.0, 159.0, 152.0, 147.0, 136.0, 148.0, 140.0, 137.0, 135.0, 123.0, 122.0, 125.0, 124.0, 121.0, 123.0, 255.99160766601562, 148.19332885742188, 152.80068969726562, 110.36457061767578, 91.96928405761719, 84.4898681640625, 80.40876007080078, 77.33849334716797, 77.65928649902344, 66.36575317382812, 60.30574035644531, 57.46050262451172, 88.56212615966797, 55.05523681640625, 58.56123733520508, 51.43083190917969, 46.36825942993164, 46.022274017333984, 42.74081039428711, 40.59571075439453, 40.11876678466797, 39.67778778076172, 38.1301155090332, 35.928890228271484, 30.814729690551758, 30.15938377380371, 29.690561294555664, 28.883991241455078, 28.259370803833008, 27.550373077392578, 27.700525283813477, 84.64530944824219, 164.37010192871094, 163.78219604492188, 215.10842895507812, 116.78115844726562, 104.38288879394531, 92.22904205322266, 86.72286224365234, 79.75413513183594, 79.15995025634766, 78.4781265258789, 76.75814056396484, 52.62870788574219, 52.6488151550293, 50.057796478271484, 43.989295959472656, 40.8037109375, 39.2425537109375, 37.5837287902832, 36.997894287109375, 34.895973205566406, 33.047035217285156, 31.8875732421875, 30.522653579711914, 30.417049407958984, 31.758220672607422, 28.662944793701172, 28.597618103027344, 26.088029861450195, 24.992280960083008, 24.86900520324707, 75.59526062011719, 546.044189453125, 177.6795196533203, 147.3950653076172, 137.94744873046875, 231.05111694335938, 80.48332977294922, 64.14859771728516, 61.26955032348633, 56.463462829589844, 45.17696762084961, 43.33285140991211, 43.22235870361328, 41.31326675415039, 41.19194412231445, 41.211299896240234, 40.750343322753906, 37.93306350708008, 37.3838005065918, 37.446372985839844, 36.98908996582031, 33.37152862548828, 31.828201293945312, 30.079299926757812, 29.594602584838867, 28.83272933959961, 27.509794235229492, 26.078819274902344, 25.84618377685547, 24.620010375976562, 24.462968826293945, 24.790945053100586, 106.20513153076172, 546.044189453125, 159.9163055419922, 206.41746520996094, 122.8456802368164, 104.1518783569336, 135.89495849609375, 88.23485565185547, 108.37460327148438, 76.59906005859375, 67.38882446289062, 60.84471130371094, 55.02581787109375, 48.9148063659668, 48.22614288330078, 48.26576232910156, 40.78525161743164, 39.98009490966797, 40.36933517456055, 39.28031539916992, 35.9787712097168, 35.79951477050781, 29.842605590820312, 29.854068756103516, 29.653776168823242, 29.349239349365234, 28.784835815429688, 27.387304306030273, 27.15592384338379, 26.045005798339844, 25.657258987426758, 25.538002014160156, 25.55908203125, 84.64530944824219, 196.12632751464844, 118.78987884521484, 108.07575988769531, 112.7369384765625, 165.61326599121094, 73.19829559326172, 56.053646087646484, 54.05231857299805, 53.379966735839844, 52.4808349609375, 51.78871154785156, 50.52542495727539, 44.68326950073242, 43.104000091552734, 33.892269134521484, 33.41234588623047, 33.51068115234375, 33.382240295410156, 30.899314880371094, 30.267641067504883, 29.92034339904785, 28.889190673828125, 26.935441970825195, 23.431257247924805, 23.1722469329834, 22.54244613647461, 22.405284881591797, 22.110214233398438, 21.70452117919922, 21.904638290405273, 115.3465347290039, 66.31014251708984, 546.044189453125, 221.58636474609375, 140.50650024414062, 123.48789978027344, 90.68634033203125, 64.53824615478516, 55.167842864990234, 41.79338455200195, 41.59002685546875, 41.77137756347656, 40.632354736328125, 36.66551208496094, 35.0202522277832, 34.8333625793457, 34.25865173339844, 34.2828483581543, 32.99495315551758, 32.891963958740234, 33.03953552246094, 31.77348518371582, 30.48856544494629, 30.36316680908203, 29.01363182067871, 29.178136825561523, 27.5867919921875, 26.712671279907227, 26.292442321777344, 26.095569610595703, 25.703014373779297, 25.23540687561035, 25.187742233276367, 58.399925231933594, 81.14178466796875, 79.82001495361328, 45.769569396972656, 117.32600402832031, 111.43396759033203, 77.32162475585938, 124.6337890625, 74.95958709716797, 72.7552490234375, 66.76915740966797, 57.17292022705078, 52.7188606262207, 48.70188522338867, 47.81866455078125, 45.36001205444336, 43.19673156738281, 42.665748596191406, 40.702369689941406, 37.862274169921875, 36.731040954589844, 36.961952209472656, 36.27922821044922, 34.398956298828125, 33.64284133911133, 30.916656494140625, 30.48976707458496, 29.744319915771484, 29.65765380859375, 28.096288681030273, 28.27692222595215, 27.83740997314453, 27.549434661865234, 26.696889877319336, 337.697998046875, 112.50732421875, 92.02838897705078, 99.19434356689453, 74.92167663574219, 67.67432403564453, 60.59796142578125, 57.37384796142578, 75.36079406738281, 51.81141662597656, 49.70804214477539, 60.7689208984375, 44.023311614990234, 41.25752258300781, 40.86466598510742, 40.76252746582031, 51.76929473876953, 39.683441162109375, 37.743499755859375, 36.55850601196289, 29.816038131713867, 27.648059844970703, 26.621780395507812, 26.48089599609375, 26.252609252929688, 25.609739303588867, 25.66392707824707, 25.21318817138672, 24.673480987548828, 23.9699764251709, 23.905139923095703, 69.43912506103516, 71.15803527832031, 40.931724548339844, 181.15255737304688, 121.70756530761719, 109.30921173095703, 100.03262329101562, 96.65403747558594, 94.51425170898438, 83.63734436035156, 69.89178466796875, 68.34801483154297, 65.41252136230469, 61.5245361328125, 64.38890075683594, 57.34624481201172, 55.19648742675781, 52.79806900024414, 54.253265380859375, 40.85502243041992, 39.686683654785156, 39.08848190307617, 38.542724609375, 36.67141342163086, 32.214900970458984, 30.824867248535156, 29.753629684448242, 29.17225456237793, 27.873197555541992, 27.807029724121094, 27.640859603881836, 25.3298397064209, 24.464689254760742, 90.11629486083984, 546.044189453125, 119.67984771728516, 125.86241149902344, 103.93697357177734, 65.34648132324219, 61.340091705322266, 52.0914192199707, 49.40556716918945, 47.016685485839844, 45.45096206665039, 44.336063385009766, 43.42550277709961, 38.958656311035156, 36.71487808227539, 36.996341705322266, 34.302650451660156, 33.026878356933594, 32.72547149658203, 32.695068359375, 31.990020751953125, 31.81001853942871, 31.12886619567871, 31.108013153076172, 30.877525329589844, 29.91322898864746, 29.158987045288086, 28.177152633666992, 27.79408836364746, 27.18166732788086, 27.13675308227539, 26.45087242126465, 337.697998046875, 164.58290100097656, 112.98719787597656, 106.43869018554688, 87.28911590576172, 75.6880111694336, 74.2161865234375, 67.15347290039062, 64.9572982788086, 58.88880157470703, 57.640987396240234, 55.079681396484375, 55.27064895629883, 53.8285026550293, 42.23429489135742, 40.07938003540039, 38.408321380615234, 37.697608947753906, 31.079078674316406, 28.701702117919922, 27.846818923950195, 27.447717666625977, 25.981172561645508, 25.70037078857422, 24.506628036499023, 24.35956573486328, 24.48050308227539, 23.614479064941406, 22.76555061340332, 21.228761672973633, 21.12677001953125, 34.32648849487305, 546.044189453125, 169.2292022705078, 80.5650863647461, 77.87158966064453, 63.01559066772461, 62.35387420654297, 56.03718948364258, 59.102806091308594, 65.13362121582031, 49.944950103759766, 44.694236755371094, 44.75522994995117, 44.529029846191406, 39.83087921142578, 39.517303466796875, 37.9516487121582, 37.55001449584961, 34.540435791015625, 33.732147216796875, 46.259769439697266, 28.817352294921875, 28.65989112854004, 28.21949005126953, 26.017908096313477, 25.588388442993164, 23.968299865722656, 22.77365493774414, 22.147417068481445, 21.88608169555664, 21.957534790039062, 21.706214904785156, 43.15462112426758, 55.21992874145508, 546.044189453125, 95.66195678710938, 69.9977035522461, 66.86961364746094, 63.915504455566406, 61.91642379760742, 60.18269348144531, 59.324981689453125, 50.74657440185547, 48.419437408447266, 48.25849533081055, 47.70505142211914, 47.0419921875, 44.52906036376953, 42.98423385620117, 34.521156311035156, 33.29640197753906, 33.061439514160156, 31.768980026245117, 29.54351806640625, 28.6174373626709, 26.723962783813477, 25.959529876708984, 25.792272567749023, 26.01738929748535, 25.429901123046875, 25.451173782348633, 25.42369270324707, 23.74931526184082, 23.520971298217773, 21.906293869018555, 136.34933471679688, 66.4452133178711, 92.71843719482422, 71.04525756835938, 64.50977325439453, 66.43572998046875, 53.591670989990234, 50.225486755371094, 45.4771728515625, 44.45401382446289, 44.057010650634766, 40.964820861816406, 37.05644226074219, 32.392303466796875, 25.87932777404785, 24.277748107910156, 22.262107849121094, 21.934656143188477, 21.262662887573242, 21.09923553466797, 20.54813575744629, 19.71489906311035, 19.161428451538086, 18.585906982421875, 18.558181762695312, 18.126867294311523, 17.92522430419922, 17.402515411376953, 17.25100326538086, 17.305389404296875, 17.11394500732422, 16.346603393554688, 187.78768920898438, 66.4452133178711, 92.91070556640625, 85.82862854003906, 81.14642333984375, 73.41241455078125, 59.54326248168945, 50.08738327026367, 50.355560302734375, 46.1452751159668, 45.34075927734375, 43.59358215332031, 42.93470001220703, 40.47724533081055, 39.75819396972656, 39.013065338134766, 36.6884880065918, 34.50505447387695, 33.82633972167969, 33.25654220581055, 31.735322952270508, 31.65263557434082, 28.409618377685547, 28.007253646850586, 27.89923667907715, 26.985729217529297, 26.785194396972656, 26.454818725585938, 25.934762954711914, 25.61415672302246, 24.53584098815918, 23.0107421875, 108.7722396850586, 94.21430206298828, 84.6211929321289, 82.71707153320312, 80.45557403564453, 85.51665496826172, 62.61246109008789, 59.37822723388672, 52.95924758911133, 48.95246887207031, 46.82128143310547, 46.39339828491211, 43.205963134765625, 35.378082275390625, 32.71599578857422, 31.88521957397461, 31.399887084960938, 30.343910217285156, 29.274906158447266, 29.21185302734375, 28.670509338378906, 28.574031829833984, 27.62223243713379, 25.05562973022461, 24.972702026367188, 25.088781356811523, 24.199115753173828, 23.062122344970703, 22.236194610595703, 21.765419006347656, 55.953067779541016, 90.11629486083984, 136.60565185546875, 123.34305572509766, 122.29074096679688, 83.55017852783203, 52.909664154052734, 45.26731491088867, 45.16060256958008, 42.67460632324219, 37.44182205200195, 37.24787521362305, 37.18907928466797, 35.601314544677734, 32.916831970214844, 32.54972839355469, 31.549341201782227, 30.5716609954834, 30.014019012451172, 29.994192123413086, 29.69452476501465, 30.060365676879883, 29.430225372314453, 28.359872817993164, 27.987520217895508, 26.42231559753418, 25.452791213989258, 23.885339736938477, 23.71607780456543, 23.259546279907227, 22.67620277404785, 22.455318450927734, 22.617568969726562, 59.19162368774414, 101.57613372802734, 90.60381317138672, 84.04733276367188, 67.71954345703125, 70.47589111328125, 61.95817184448242, 54.87141799926758, 53.137123107910156, 54.063751220703125, 44.727088928222656, 42.35988235473633, 43.9315299987793, 38.01788330078125, 36.4174690246582, 35.46458053588867, 34.79758834838867, 33.124237060546875, 28.692697525024414, 26.261655807495117, 25.749229431152344, 25.17799949645996, 23.717334747314453, 23.746362686157227, 21.18128204345703, 20.994537353515625, 19.906129837036133, 19.149368286132812, 18.150821685791016, 17.809606552124023, 17.72584342956543, 17.782943725585938, 78.84757232666016, 546.044189453125, 152.40682983398438, 87.08920288085938, 86.2652359008789, 78.665771484375, 77.66213989257812, 72.69245910644531, 60.96845626831055, 45.29169845581055, 44.50455856323242, 42.7540168762207, 40.892765045166016, 40.29233932495117, 30.381250381469727, 28.497339248657227, 28.048137664794922, 27.476329803466797, 25.33504867553711, 25.033536911010742, 24.051239013671875, 24.048038482666016, 23.64242172241211, 23.63540267944336, 23.392669677734375, 23.207191467285156, 22.59313201904297, 22.206043243408203, 22.09282112121582, 21.223657608032227, 20.671768188476562, 20.671768188476562, 136.34933471679688, 105.29205322265625, 103.94491577148438, 67.727294921875, 63.58488082885742, 62.13896942138672, 61.558555603027344, 61.518089294433594, 58.848697662353516, 47.29433059692383, 43.077964782714844, 43.286338806152344, 43.0822639465332, 40.508670806884766, 39.13593292236328, 37.14839172363281, 35.40623092651367, 34.90057373046875, 33.91701126098633, 33.85490417480469, 31.109634399414062, 28.235246658325195, 24.652820587158203, 23.16635513305664, 22.499284744262695, 20.89522361755371, 20.337982177734375, 20.01738739013672, 19.4000244140625, 18.481653213500977, 18.660104751586914, 81.95401000976562, 71.00210571289062], \"loglift\": [30.0, 29.0, 28.0, 27.0, 26.0, 25.0, 24.0, 23.0, 22.0, 21.0, 20.0, 19.0, 18.0, 17.0, 16.0, 15.0, 14.0, 13.0, 12.0, 11.0, 10.0, 9.0, 8.0, 7.0, 6.0, 5.0, 4.0, 3.0, 2.0, 1.0, 2.803299903869629, 2.8024001121520996, 2.802299976348877, 2.801500082015991, 2.801100015640259, 2.800800085067749, 2.800600051879883, 2.8004000186920166, 2.7999000549316406, 2.7997000217437744, 2.7992000579833984, 2.7988998889923096, 2.798799991607666, 2.7987000942230225, 2.7985999584198, 2.79830002784729, 2.797600030899048, 2.797499895095825, 2.7969000339508057, 2.796600103378296, 2.7964999675750732, 2.7964000701904297, 2.796099901199341, 2.7955000400543213, 2.7939999103546143, 2.793800115585327, 2.7934999465942383, 2.7932000160217285, 2.7929999828338623, 2.792799949645996, 2.7927000522613525, 2.2523999214172363, 2.86299991607666, 2.8629000186920166, 2.862799882888794, 2.8620998859405518, 2.861799955368042, 2.8613998889923096, 2.8610999584198, 2.86080002784729, 2.86080002784729, 2.8606998920440674, 2.860599994659424, 2.858599901199341, 2.858599901199341, 2.8584001064300537, 2.8573999404907227, 2.8568999767303467, 2.8564999103546143, 2.8561999797821045, 2.856100082397461, 2.8554000854492188, 2.85509991645813, 2.854599952697754, 2.8541998863220215, 2.854099988937378, 2.854099988937378, 2.8534998893737793, 2.8533999919891357, 2.852299928665161, 2.851799964904785, 2.8517000675201416, 2.6830999851226807, 1.629699945449829, 2.8968000411987305, 2.8963000774383545, 2.8963000774383545, 2.8959999084472656, 2.8945999145507812, 2.8935000896453857, 2.8933000564575195, 2.8928000926971436, 2.891400098800659, 2.8910999298095703, 2.8910000324249268, 2.8907999992370605, 2.8907999992370605, 2.890700101852417, 2.890500068664551, 2.890000104904175, 2.889899969100952, 2.8898000717163086, 2.889699935913086, 2.8887999057769775, 2.888400077819824, 2.8877999782562256, 2.8875999450683594, 2.887200117111206, 2.886699914932251, 2.885999917984009, 2.8859000205993652, 2.8854000568389893, 2.8852999210357666, 2.8847999572753906, 2.7076001167297363, 0.14429999887943268, 2.8970999717712402, 2.896699905395508, 2.896399974822998, 2.895900011062622, 2.8958001136779785, 2.895400047302246, 2.894700050354004, 2.894700050354004, 2.894200086593628, 2.8935999870300293, 2.8931000232696533, 2.892400026321411, 2.892199993133545, 2.892199993133545, 2.8910999298095703, 2.890899896621704, 2.890899896621704, 2.8907999992370605, 2.889899969100952, 2.889899969100952, 2.8880999088287354, 2.8880999088287354, 2.8880999088287354, 2.8879001140594482, 2.887700080871582, 2.88700008392334, 2.886899948120117, 2.8864998817443848, 2.8863000869750977, 2.886199951171875, 2.886199951171875, 2.0237998962402344, 2.918100118637085, 2.9170000553131104, 2.9166998863220215, 2.9165000915527344, 2.9163999557495117, 2.9151999950408936, 2.913800001144409, 2.913599967956543, 2.913599967956543, 2.9135000705718994, 2.9133999347686768, 2.9131999015808105, 2.912400007247925, 2.912100076675415, 2.910099983215332, 2.9100000858306885, 2.909899950027466, 2.909899950027466, 2.9091999530792236, 2.908900022506714, 2.9086999893188477, 2.908400058746338, 2.907599925994873, 2.905900001525879, 2.9054999351501465, 2.9052000045776367, 2.905100107192993, 2.904900074005127, 2.9047999382019043, 2.9047000408172607, 2.9001998901367188, 2.5334999561309814, 1.1543999910354614, 2.9209001064300537, 2.920300006866455, 2.9200000762939453, 2.9189999103546143, 2.9175000190734863, 2.916599988937378, 2.914799928665161, 2.9147000312805176, 2.9147000312805176, 2.9144999980926514, 2.913599967956543, 2.913300037384033, 2.913100004196167, 2.913100004196167, 2.9130001068115234, 2.9126999378204346, 2.912600040435791, 2.9124999046325684, 2.9121999740600586, 2.911900043487549, 2.9117000102996826, 2.911400079727173, 2.91129994392395, 2.9107000827789307, 2.910399913787842, 2.9103000164031982, 2.910099983215332, 2.909899950027466, 2.9094998836517334, 2.9094998836517334, 2.8213999271392822, 2.7327001094818115, 2.5940001010894775, 2.5927000045776367, 2.9238998889923096, 2.923799991607666, 2.922499895095825, 2.9223999977111816, 2.922300100326538, 2.921799898147583, 2.921799898147583, 2.9210000038146973, 2.9205000400543213, 2.9200000762939453, 2.919800043106079, 2.9193999767303467, 2.9191999435424805, 2.9189999103546143, 2.918600082397461, 2.9179999828338623, 2.917799949645996, 2.917799949645996, 2.9177000522613525, 2.91729998588562, 2.9170000553131104, 2.9159998893737793, 2.9159998893737793, 2.9156999588012695, 2.915600061416626, 2.91510009765625, 2.9149999618530273, 2.9149999618530273, 2.914900064468384, 2.914400100708008, 1.7546000480651855, 2.9435999393463135, 2.9430999755859375, 2.9423000812530518, 2.942199945449829, 2.941800117492676, 2.941200017929077, 2.9409000873565674, 2.9405999183654785, 2.940200090408325, 2.940000057220459, 2.9391000270843506, 2.9388999938964844, 2.938699960708618, 2.9386000633239746, 2.9386000633239746, 2.9384000301361084, 2.9382998943328857, 2.9379000663757324, 2.9375998973846436, 2.9356000423431396, 2.934799909591675, 2.934299945831299, 2.9342000484466553, 2.9340999126434326, 2.933799982070923, 2.933799982070923, 2.9335999488830566, 2.933199882507324, 2.9328999519348145, 2.9328999519348145, 2.8057000637054443, 2.6719000339508057, 2.5950000286102295, 2.967600107192993, 2.9667000770568848, 2.9663000106811523, 2.966099977493286, 2.9660000801086426, 2.96589994430542, 2.9655001163482666, 2.9646999835968018, 2.964600086212158, 2.9642999172210693, 2.9639999866485596, 2.9639999866485596, 2.963599920272827, 2.963399887084961, 2.963099956512451, 2.962899923324585, 2.9612998962402344, 2.9611001014709473, 2.9609999656677246, 2.960900068283081, 2.9605000019073486, 2.959199905395508, 2.9588000774383545, 2.958400011062622, 2.958199977874756, 2.95770001411438, 2.9576001167297363, 2.9574999809265137, 2.9565000534057617, 2.9560999870300293, 2.540800094604492, 0.16279999911785126, 2.9746999740600586, 2.974400043487549, 2.974299907684326, 2.972399950027466, 2.972100019454956, 2.971100091934204, 2.9707000255584717, 2.970400094985962, 2.9702000617980957, 2.9700000286102295, 2.969899892807007, 2.968899965286255, 2.9684998989105225, 2.9684998989105225, 2.9677999019622803, 2.967400074005127, 2.967400074005127, 2.9672999382019043, 2.967099905014038, 2.9670000076293945, 2.966900110244751, 2.9667999744415283, 2.9667999744415283, 2.966399908065796, 2.966099977493286, 2.9656999111175537, 2.96560001373291, 2.965399980545044, 2.9651999473571777, 2.9649999141693115, 2.6029999256134033, 3.012399911880493, 3.0116000175476074, 3.0114998817443848, 3.0109000205993652, 3.0102999210357666, 3.010200023651123, 3.009700059890747, 3.0095999240875244, 3.009000062942505, 3.0088999271392822, 3.008699893951416, 3.0085999965667725, 3.008500099182129, 3.0067999362945557, 3.0064001083374023, 3.006200075149536, 3.0058999061584473, 3.0041000843048096, 3.0032999515533447, 3.0028998851776123, 3.0027999877929688, 3.0020999908447266, 3.0018999576568604, 3.001300096511841, 3.001300096511841, 3.001300096511841, 3.000699996948242, 3.0002999305725098, 2.9992001056671143, 2.9992001056671143, 2.949700117111206, 0.019999999552965164, 3.039299964904785, 3.037100076675415, 3.0369999408721924, 3.0360000133514404, 3.0360000133514404, 3.0353000164031982, 3.0352001190185547, 3.0350000858306885, 3.0346999168395996, 3.033900022506714, 3.033900022506714, 3.033799886703491, 3.0329999923706055, 3.032900094985962, 3.0325000286102295, 3.0325000286102295, 3.0316998958587646, 3.0315001010894775, 3.031399965286255, 3.029900074005127, 3.0297000408172607, 3.029599905014038, 3.0285000801086426, 3.02839994430542, 3.027600049972534, 3.026700019836426, 3.026400089263916, 3.026400089263916, 3.0262999534606934, 3.026099920272827, 2.867300033569336, 2.785599946975708, 0.36059999465942383, 3.04010009765625, 3.0388998985290527, 3.038599967956543, 3.0383999347686768, 3.0381999015808105, 3.038100004196167, 3.0380001068115234, 3.037100076675415, 3.036799907684326, 3.0367000102996826, 3.0367000102996826, 3.036600112915039, 3.0362000465393066, 3.035900115966797, 3.0339999198913574, 3.033600091934204, 3.033600091934204, 3.0332000255584717, 3.032399892807007, 3.0320000648498535, 3.0313000679016113, 3.0309998989105225, 3.030900001525879, 3.030900001525879, 3.0308001041412354, 3.0306999683380127, 3.0306999683380127, 3.029900074005127, 3.029599905014038, 3.0285000801086426, 2.7353999614715576, 2.6796000003814697, 3.0687999725341797, 3.067699909210205, 3.0673000812530518, 3.066499948501587, 3.066200017929077, 3.065700054168701, 3.065000057220459, 3.065000057220459, 3.0648000240325928, 3.064300060272217, 3.0634000301361084, 3.0620999336242676, 3.0597000122070312, 3.058799982070923, 3.0576000213623047, 3.057300090789795, 3.0569000244140625, 3.0569000244140625, 3.0564000606536865, 3.055799961090088, 3.0552000999450684, 3.0546000003814697, 3.0546000003814697, 3.05430006980896, 3.053999900817871, 3.0534000396728516, 3.053299903869629, 3.053299903869629, 3.0532000064849854, 3.0522000789642334, 2.970400094985962, 1.8532999753952026, 3.081199884414673, 3.080899953842163, 3.080699920654297, 3.0803000926971436, 3.079200029373169, 3.078200101852417, 3.0780999660491943, 3.0776000022888184, 3.077500104904175, 3.077199935913086, 3.0771000385284424, 3.0766000747680664, 3.0764999389648438, 3.0762999057769775, 3.0757999420166016, 3.075200080871582, 3.0750999450683594, 3.074899911880493, 3.074399948120117, 3.0743000507354736, 3.073199987411499, 3.072999954223633, 3.0729000568389893, 3.0725998878479004, 3.072499990463257, 3.0722999572753906, 3.0720999240875244, 3.071899890899658, 3.0713000297546387, 3.070499897003174, 3.087599992752075, 3.087100028991699, 3.086699962615967, 3.0866000652313232, 3.086400032043457, 3.0859999656677246, 3.0852999687194824, 3.08489990234375, 3.084399938583374, 3.0838000774383545, 3.0836000442504883, 3.0834999084472656, 3.0829999446868896, 3.0813000202178955, 3.0804998874664307, 3.0803000926971436, 3.0801000595092773, 3.079699993133545, 3.0792999267578125, 3.0792999267578125, 3.079200029373169, 3.0790998935699463, 3.0787999629974365, 3.0776000022888184, 3.077399969100952, 3.0773000717163086, 3.0771000385284424, 3.0764000415802, 3.075700044631958, 3.075500011444092, 2.7527999877929688, 2.015899896621704, 3.1108999252319336, 3.110599994659424, 3.110599994659424, 3.109299898147583, 3.107100009918213, 3.106100082397461, 3.1059999465942383, 3.1054999828338623, 3.1045000553131104, 3.1045000553131104, 3.1043999195098877, 3.104099988937378, 3.1033999919891357, 3.1031999588012695, 3.1029000282287598, 3.1024999618530273, 3.102400064468384, 3.102299928665161, 3.1022000312805176, 3.1022000312805176, 3.102099895477295, 3.101799964904785, 3.1015000343322754, 3.100800037384033, 3.1003000736236572, 3.0994999408721924, 3.099299907684326, 3.0992000102996826, 3.09879994392395, 3.0987000465393066, 3.0987000465393066, 2.8633999824523926, 3.1157000064849854, 3.115299940109253, 3.115000009536743, 3.1140999794006348, 3.113800048828125, 3.113600015640259, 3.1129000186920166, 3.1126999855041504, 3.112600088119507, 3.1115000247955322, 3.1112000942230225, 3.11080002784729, 3.1101999282836914, 3.109800100326538, 3.109600067138672, 3.1094000339508057, 3.1089000701904297, 3.1073999404907227, 3.1064000129699707, 3.106100082397461, 3.105799913406372, 3.1050000190734863, 3.1050000190734863, 3.103300094604492, 3.103300094604492, 3.1024999618530273, 3.1017000675201416, 3.100800037384033, 3.1005001068115234, 3.100399971008301, 3.100399971008301, 2.8619000911712646, 0.4772999882698059, 3.1473000049591064, 3.145699977874756, 3.1456000804901123, 3.14520001411438, 3.14520001411438, 3.14490008354187, 3.1440999507904053, 3.142199993133545, 3.1419999599456787, 3.141700029373169, 3.1412999629974365, 3.1394999027252197, 3.1386001110076904, 3.1379001140594482, 3.137700080871582, 3.137500047683716, 3.136399984359741, 3.136399984359741, 3.135699987411499, 3.1356000900268555, 3.1356000900268555, 3.135499954223633, 3.1354000568389893, 3.1352999210357666, 3.1349000930786133, 3.134700059890747, 3.134500026702881, 3.1338000297546387, 3.133699893951416, 3.133699893951416, 1.8042000532150269, 3.1487998962402344, 3.1486001014709473, 3.1470999717712402, 3.146699905395508, 3.1466000080108643, 3.1466000080108643, 3.1465001106262207, 3.1463000774383545, 3.14490008354187, 3.1442999839782715, 3.1442999839782715, 3.144200086593628, 3.1438000202178955, 3.1435000896453857, 3.1431000232696533, 3.1424999237060547, 3.142400026321411, 3.142199993133545, 3.142199993133545, 3.141400098800659, 3.1403000354766846, 3.1386001110076904, 3.137500047683716, 3.1373000144958496, 3.1363000869750977, 3.1357998847961426, 3.135499954223633, 3.1350998878479004, 3.1342999935150146, 3.134200096130371, 2.9056999683380127, 2.8066999912261963], \"logprob\": [30.0, 29.0, 28.0, 27.0, 26.0, 25.0, 24.0, 23.0, 22.0, 21.0, 20.0, 19.0, 18.0, 17.0, 16.0, 15.0, 14.0, 13.0, 12.0, 11.0, 10.0, 9.0, 8.0, 7.0, 6.0, 5.0, 4.0, 3.0, 2.0, 1.0, -2.736599922180176, -3.28410005569458, -3.2535998821258545, -3.579699993133545, -3.762500047683716, -3.847599983215332, -3.8973000049591064, -3.9363999366760254, -3.932800054550171, -4.090199947357178, -4.186399936676025, -4.235000133514404, -3.802500009536743, -4.2779998779296875, -4.216300010681152, -4.346499919891357, -4.450799942016602, -4.458399772644043, -4.532899856567383, -4.584799766540527, -4.596700191497803, -4.607900142669678, -4.6479997634887695, -4.708000183105469, -4.86299991607666, -4.884699821472168, -4.900700092315674, -4.928500175476074, -4.9506001472473145, -4.97629976272583, -4.970799922943115, -4.394100189208984, -3.119999885559082, -3.123500108718872, -2.851099967956543, -3.462599992752075, -3.575200080871582, -3.699399948120117, -3.761199951171875, -3.8452999591827393, -3.852799892425537, -3.8615000247955322, -3.883699893951416, -4.2631001472473145, -4.262700080871582, -4.313499927520752, -4.443699836730957, -4.519400119781494, -4.558800220489502, -4.60230016708374, -4.618100166320801, -4.677199840545654, -4.73199987411499, -4.768199920654297, -4.812399864196777, -4.815899848937988, -4.772799968719482, -4.875899791717529, -4.878300189971924, -4.971199989318848, -5.014599800109863, -5.019700050354004, -4.076499938964844, -3.152600049972534, -3.00819993019104, -3.1956000328063965, -3.261899948120117, -2.7464001178741455, -3.8024001121520996, -4.030300140380859, -4.076399803161621, -4.158699989318848, -4.382999897003174, -4.425000190734863, -4.427700042724609, -4.473100185394287, -4.47599983215332, -4.475599765777588, -4.486999988555908, -4.559199810028076, -4.57390022277832, -4.572299957275391, -4.584700107574463, -4.688600063323975, -4.736299991607666, -4.793399810791016, -4.809800148010254, -4.836299896240234, -4.883800029754639, -4.937900066375732, -4.946899890899658, -4.996099948883057, -5.002600193023682, -4.989799976348877, -3.7119998931884766, -4.638000011444092, -3.113300085067749, -2.8584001064300537, -3.377700090408325, -3.5432000160217285, -3.277400016784668, -3.7095999717712402, -3.5048000812530518, -3.851799964904785, -3.9804000854492188, -4.083099842071533, -4.184100151062012, -4.302599906921387, -4.31689977645874, -4.316100120544434, -4.485599994659424, -4.50570011138916, -4.496099948883057, -4.523600101470947, -4.612199783325195, -4.617199897766113, -4.801000118255615, -4.8007001876831055, -4.807400226593018, -4.81790018081665, -4.837500095367432, -4.887899875640869, -4.896500110626221, -4.938700199127197, -4.95389986038208, -4.958600044250488, -4.957799911499023, -4.622799873352051, -2.888200044631958, -3.390700101852417, -3.4855000972747803, -3.44350004196167, -3.0589001178741455, -3.8766000270843506, -4.144899845123291, -4.181399822235107, -4.193999767303467, -4.211100101470947, -4.224400043487549, -4.249300003051758, -4.373000144958496, -4.409299850463867, -4.651800155639648, -4.666100025177002, -4.6631999015808105, -4.667099952697754, -4.745100021362305, -4.76609992980957, -4.7778000831604, -4.813199996948242, -4.883999824523926, -5.025100231170654, -5.036600112915039, -5.064499855041504, -5.070700168609619, -5.084099769592285, -5.102700233459473, -5.093599796295166, -3.4368999004364014, -4.357100009918213, -3.6278998851776123, -2.7632999420166016, -3.2195000648498535, -3.348900079727173, -3.658600091934204, -4.000199794769287, -4.1579999923706055, -4.4375, -4.442500114440918, -4.4380998611450195, -4.466000080108643, -4.5696001052856445, -4.615799903869629, -4.621300220489502, -4.638000011444092, -4.63730001449585, -4.676000118255615, -4.679200172424316, -4.674799919128418, -4.714200019836426, -4.755799770355225, -4.7600998878479, -4.8059000968933105, -4.800300121307373, -4.85699987411499, -4.889500141143799, -4.9054999351501465, -4.9131999015808105, -4.928599834442139, -4.947299957275391, -4.94920015335083, -4.196400165557861, -3.956199884414673, -4.111299991607666, -4.668700218200684, -3.3961000442504883, -3.4477999210357666, -3.8145999908447266, -3.3373000621795654, -3.8457999229431152, -3.8761000633239746, -3.9619998931884766, -4.118000030517578, -4.1996002197265625, -4.279300212860107, -4.297800064086914, -4.35099983215332, -4.400100231170654, -4.412600040435791, -4.460100173950195, -4.5329999923706055, -4.563600063323975, -4.557300090789795, -4.576099872589111, -4.629799842834473, -4.652299880981445, -4.73769998550415, -4.7515997886657715, -4.776700019836426, -4.779699802398682, -4.8343000411987305, -4.828000068664551, -4.843699932098389, -4.8541998863220215, -4.886099815368652, -3.5083000659942627, -3.4184000492095947, -3.6198999881744385, -3.545599937438965, -3.8264000415802, -3.9286000728607178, -4.0395002365112305, -4.094600200653076, -3.822200059890747, -4.197199821472168, -4.238900184631348, -4.038899898529053, -4.361400127410889, -4.426499843597412, -4.436200141906738, -4.438700199127197, -4.19980001449585, -4.465799808502197, -4.516300201416016, -4.548600196838379, -4.75439977645874, -4.830699920654297, -4.86899995803833, -4.8744001388549805, -4.8831000328063965, -4.908199787139893, -4.906199932098389, -4.924099922180176, -4.946100234985352, -4.975299835205078, -4.978000164031982, -4.03879976272583, -4.148200035095215, -4.77810001373291, -2.918100118637085, -3.316699981689453, -3.4245998859405518, -3.513400077819824, -3.5478999614715576, -3.5703999996185303, -3.6930999755859375, -3.8733999729156494, -3.8958001136779785, -3.940000057220459, -4.001500129699707, -3.9560999870300293, -4.072299957275391, -4.1107001304626465, -4.155399799346924, -4.128499984741211, -4.413700103759766, -4.44290018081665, -4.458199977874756, -4.472400188446045, -4.522600173950195, -4.65339994430542, -4.69789981842041, -4.73360013961792, -4.753600120544434, -4.799699783325195, -4.80210018157959, -4.808199882507324, -4.896599769592285, -4.931700229644775, -4.043099880218506, -4.619500160217285, -3.325500011444092, -3.2755000591278076, -3.4670000076293945, -3.9328999519348145, -3.996500015258789, -4.160900115966797, -4.214200019836426, -4.264100074768066, -4.2982001304626465, -4.323200225830078, -4.344099998474121, -4.453700065612793, -4.513299942016602, -4.50570011138916, -4.581999778747559, -4.620299816131592, -4.629499912261963, -4.630499839782715, -4.652500152587891, -4.658199787139893, -4.679999828338623, -4.680699825286865, -4.688199996948242, -4.720300197601318, -4.746200084686279, -4.780799865722656, -4.794600009918213, -4.8171000480651855, -4.818900108337402, -4.844799995422363, -2.659899950027466, -2.9691998958587646, -3.3461999893188477, -3.405900001525879, -3.6048998832702637, -3.7481000423431396, -3.767899990081787, -3.8684000968933105, -3.901700019836426, -4.000400066375732, -4.021900177001953, -4.067599773406982, -4.064199924468994, -4.090700149536133, -4.335000038146973, -4.387700080871582, -4.430600166320801, -4.4496002197265625, -4.644400119781494, -4.724800109863281, -4.75540018081665, -4.769999980926514, -4.8256001472473145, -4.836599826812744, -4.884799957275391, -4.8907999992370605, -4.885900020599365, -4.922399997711182, -4.959499835968018, -5.0304999351501465, -5.035299777984619, -4.5995001792907715, -4.76230001449585, -2.9144999980926514, -3.658799886703491, -3.693000078201294, -3.905600070953369, -3.9161999225616455, -4.02370023727417, -3.9704999923706055, -3.873500108718872, -4.139400005340576, -4.251299858093262, -4.249899864196777, -4.255000114440918, -4.367400169372559, -4.375400066375732, -4.416200160980225, -4.4268999099731445, -4.511199951171875, -4.535099983215332, -4.219399929046631, -4.6940999031066895, -4.69980001449585, -4.715400218963623, -4.797800064086914, -4.814499855041504, -4.88070011138916, -4.932700157165527, -4.960899829864502, -4.972799777984619, -4.969699859619141, -4.981299877166748, -4.452899932861328, -4.288099765777588, -4.4217000007629395, -3.484100103378296, -3.7976999282836914, -3.8436999320983887, -3.8889999389648438, -3.9210000038146973, -3.94950008392334, -3.9639999866485596, -4.121099948883057, -4.168300151824951, -4.1717000007629395, -4.183300018310547, -4.197400093078613, -4.252699851989746, -4.288300037384033, -4.509500026702881, -4.545899868011475, -4.552999973297119, -4.593299865722656, -4.666800022125244, -4.698999881744385, -4.768199920654297, -4.797500133514404, -4.803999900817871, -4.795400142669678, -4.818299770355225, -4.817599773406982, -4.818699836730957, -4.887599945068359, -4.897500038146973, -4.969799995422363, -3.434499979019165, -4.209000110626221, -3.4867000579833984, -3.753999948501587, -3.8508999347686768, -3.8222999572753906, -4.037499904632568, -4.102799892425537, -4.2027997970581055, -4.225599765777588, -4.2347002029418945, -4.308000087738037, -4.409200191497803, -4.545000076293945, -4.771900177001953, -4.836699962615967, -4.924600124359131, -4.939599990844727, -4.971199989318848, -4.978899955749512, -5.005899906158447, -5.047800064086914, -5.076900005340576, -5.107999801635742, -5.109499931335449, -5.133299827575684, -5.144899845123291, -5.175000190734863, -5.183800220489502, -5.180699825286865, -5.19189977645874, -5.238800048828125, -2.8794000148773193, -5.035399913787842, -3.4721999168395996, -3.5517001152038574, -3.608099937438965, -3.708699941635132, -3.919100046157837, -4.093100070953369, -4.087800025939941, -4.1757001876831055, -4.193299770355225, -4.232900142669678, -4.248199939727783, -4.307700157165527, -4.325699806213379, -4.344799995422363, -4.406799793243408, -4.468699932098389, -4.488699913024902, -4.505899906158447, -4.553199768066406, -4.5559000968933105, -4.66510009765625, -4.679599761962891, -4.683499813079834, -4.717100143432617, -4.724699974060059, -4.737299919128418, -4.757400035858154, -4.769999980926514, -4.813600063323975, -4.878600120544434, -3.308199882507324, -3.452399969100952, -3.5601999759674072, -3.5829999446868896, -3.6108999252319336, -3.550299882888794, -3.8626999855041504, -3.9161999225616455, -4.031199932098389, -4.110300064086914, -4.155099868774414, -4.164400100708008, -4.236100196838379, -4.437699794769287, -4.51669979095459, -4.542600154876709, -4.55810022354126, -4.592700004577637, -4.629000186920166, -4.631100177764893, -4.650000095367432, -4.653500080108643, -4.687699794769287, -4.786300182342529, -4.78980016708374, -4.785299777984619, -4.821599960327148, -4.870500087738037, -4.907599925994873, -4.929200172424316, -4.307700157165527, -4.567999839782715, -3.056999921798706, -3.15939998626709, -3.1679999828338623, -3.5501999855041504, -4.009399890899658, -4.166399955749512, -4.168799877166748, -4.225900173187256, -4.357699871063232, -4.3628997802734375, -4.36460018157959, -4.408599853515625, -4.48769998550415, -4.499000072479248, -4.530600070953369, -4.562399864196777, -4.580999851226807, -4.5817999839782715, -4.591800212860107, -4.579599857330322, -4.600900173187256, -4.638299942016602, -4.651800155639648, -4.710100173950195, -4.747900009155273, -4.81220006942749, -4.8196001052856445, -4.839099884033203, -4.864999771118164, -4.874800205230713, -4.867599964141846, -4.140900135040283, -3.3485000133514404, -3.4632999897003174, -3.5387001037597656, -3.7555999755859375, -3.7160000801086426, -3.8450000286102295, -3.9672000408172607, -3.9993999004364014, -3.982300043106079, -4.172900199890137, -4.22760009765625, -4.1915998458862305, -4.336699962615967, -4.380099773406982, -4.406899929046631, -4.42609977722168, -4.475800037384033, -4.620999813079834, -4.7104997634887695, -4.730500221252441, -4.753200054168701, -4.813799858093262, -4.812600135803223, -4.928599834442139, -4.9375, -4.991499900817871, -5.031000137329102, -5.0854997634887695, -5.104800224304199, -5.109600067138672, -5.106400012969971, -3.8557000160217285, -4.304999828338623, -2.9112000465393066, -3.472399950027466, -3.4820001125335693, -3.5745999813079834, -3.5875000953674316, -3.653899908065796, -3.8306000232696533, -4.129700183868408, -4.14739990234375, -4.18779993057251, -4.232800006866455, -4.2494001388549805, -4.532599925994873, -4.597300052642822, -4.613399982452393, -4.634200096130371, -4.7164998054504395, -4.728400230407715, -4.769100189208984, -4.769400119781494, -4.786399841308594, -4.786799907684326, -4.7972002029418945, -4.805300235748291, -4.832399845123291, -4.849899768829346, -4.855199813842773, -4.896100044250488, -4.922500133514404, -4.922500133514404, -4.365600109100342, -3.2795000076293945, -3.2925000190734863, -3.7225000858306885, -3.785900115966797, -3.8090999126434326, -3.81850004196167, -3.819200038909912, -3.8636999130249023, -4.083700180053711, -4.177700042724609, -4.172900199890137, -4.177700042724609, -4.239699840545654, -4.274499893188477, -4.327000141143799, -4.3755998611450195, -4.390100002288818, -4.418900012969971, -4.42080020904541, -4.506100177764893, -4.6041998863220215, -4.741499900817871, -4.804800033569336, -4.8343000411987305, -4.909200191497803, -4.936699867248535, -4.952899932861328, -4.9847002029418945, -5.033999919891357, -5.024400234222412, -3.773200035095215, -4.015600204467773]}, \"token.table\": {\"Topic\": [8, 4, 4, 15, 12, 14, 2, 16, 17, 3, 1, 5, 20, 12, 5, 6, 3, 6, 16, 1, 1, 15, 17, 16, 5, 10, 2, 13, 10, 13, 3, 19, 11, 16, 18, 7, 8, 6, 6, 9, 12, 7, 13, 17, 10, 18, 18, 7, 11, 1, 16, 12, 9, 2, 10, 15, 19, 12, 4, 17, 18, 17, 2, 8, 11, 17, 7, 1, 5, 19, 13, 12, 10, 19, 18, 17, 10, 13, 4, 10, 14, 6, 6, 8, 6, 1, 9, 5, 4, 11, 14, 13, 16, 14, 20, 6, 19, 10, 12, 12, 19, 16, 5, 13, 19, 10, 17, 4, 9, 15, 12, 15, 16, 12, 14, 1, 19, 4, 4, 19, 6, 11, 20, 16, 13, 19, 3, 7, 20, 17, 3, 11, 12, 11, 16, 16, 6, 9, 19, 2, 11, 5, 11, 12, 2, 4, 8, 7, 19, 19, 14, 2, 13, 20, 5, 3, 19, 7, 14, 11, 3, 4, 9, 8, 11, 7, 3, 9, 13, 13, 3, 18, 11, 6, 9, 1, 12, 1, 1, 4, 2, 14, 8, 11, 20, 4, 5, 20, 20, 1, 19, 13, 14, 9, 11, 20, 11, 17, 16, 20, 11, 7, 12, 19, 14, 11, 4, 9, 3, 14, 19, 10, 2, 19, 18, 16, 14, 16, 3, 2, 8, 10, 9, 9, 16, 7, 20, 18, 13, 18, 1, 5, 11, 4, 12, 12, 12, 5, 3, 2, 5, 13, 6, 11, 17, 7, 9, 7, 12, 6, 7, 20, 15, 4, 7, 10, 3, 19, 8, 13, 18, 20, 11, 1, 8, 10, 18, 19, 2, 18, 8, 9, 12, 20, 8, 12, 17, 5, 10, 10, 15, 12, 3, 17, 8, 4, 15, 4, 13, 7, 19, 6, 1, 6, 13, 19, 8, 10, 9, 5, 6, 16, 7, 15, 9, 18, 16, 2, 11, 4, 13, 9, 15, 14, 20, 3, 13, 15, 17, 17, 13, 14, 10, 16, 20, 17, 12, 20, 20, 19, 18, 17, 4, 2, 10, 4, 13, 6, 20, 15, 2, 18, 3, 3, 6, 4, 15, 12, 11, 5, 15, 15, 5, 18, 5, 10, 11, 11, 10, 3, 6, 16, 1, 7, 16, 13, 2, 7, 6, 2, 11, 17, 19, 10, 8, 9, 16, 12, 18, 1, 10, 9, 1, 19, 6, 3, 11, 7, 9, 15, 10, 4, 8, 2, 15, 10, 9, 6, 1, 17, 16, 7, 4, 15, 12, 20, 18, 8, 17, 10, 1, 2, 3, 4, 5, 6, 7, 8, 9, 10, 11, 12, 13, 14, 15, 16, 17, 18, 19, 20, 5, 16, 1, 17, 17, 4, 1, 14, 2, 1, 1, 7, 11, 9, 19, 7, 4, 18, 8, 3, 12, 10, 15, 14, 4, 11, 20, 18, 10, 2, 20, 16, 19, 19, 7, 13, 15, 8, 7, 12, 12, 20, 16, 3, 5, 1, 3, 6, 1, 16, 3, 14, 18, 6, 19, 20, 18, 13, 8, 11, 18, 5, 13, 2, 14, 6, 13, 18, 18, 17, 2, 5, 14, 1, 6, 8, 15, 14, 5, 15, 1, 3, 7, 7, 6, 8, 16, 17, 20, 8, 1, 17, 5, 3, 6, 14, 3, 15, 6, 14, 11, 13, 2, 8, 2, 2, 12, 4, 17, 15, 9, 4, 18, 7, 15, 1, 10, 3, 9, 18, 13, 13, 15, 20, 20, 2, 20, 16, 5, 8, 10, 15, 3, 17, 17, 1, 5, 18, 16, 10, 5, 8, 17, 2, 14, 9, 9, 8, 4, 20, 1, 13, 7, 17, 4, 8, 16, 8, 9, 8, 5, 20, 1, 2, 15, 20, 17, 8, 16, 19, 18, 17, 10, 5, 15, 8, 1, 20, 14, 12, 2, 14, 14, 9, 2, 19, 2, 7, 18, 15, 5, 2, 19, 16, 12, 9, 16, 12, 11, 14, 9, 2, 6, 8, 4, 14, 3, 5, 19, 10, 4, 3, 14, 18, 14, 3, 7, 6, 11, 16, 1, 14, 17, 5, 4, 12, 2, 14, 18, 1, 6, 13, 7, 6, 6, 6, 13, 14, 9, 9, 5, 18, 6, 7], \"Freq\": [0.9761911034584045, 0.9776668548583984, 1.0052741765975952, 0.9828076958656311, 1.0012739896774292, 0.9882262945175171, 0.9828765392303467, 1.0009709596633911, 0.9840167164802551, 0.9815868139266968, 1.0019792318344116, 0.9950152635574341, 0.9909264445304871, 0.9844669699668884, 1.003178596496582, 0.9906715750694275, 0.9960827827453613, 0.9995301365852356, 0.9893779158592224, 0.9947599172592163, 0.9949164986610413, 1.0009610652923584, 0.9698062539100647, 0.9774734973907471, 0.9847086071968079, 0.9943194389343262, 0.9963318705558777, 0.9816027879714966, 0.9778316020965576, 0.9930802583694458, 0.9954507350921631, 0.9935595393180847, 1.0018882751464844, 0.7148848176002502, 0.26808181405067444, 0.9884020686149597, 0.9873468279838562, 0.9924500584602356, 0.7141066193580627, 0.27562010288238525, 0.9660285115242004, 0.9896193146705627, 0.99464350938797, 1.0001935958862305, 0.9996451139450073, 0.9933356642723083, 0.9929303526878357, 0.9954456686973572, 0.9892239570617676, 0.9904162287712097, 0.9973062872886658, 0.9979485273361206, 0.9933291673660278, 0.9905442595481873, 1.0000988245010376, 0.9903455376625061, 0.9904741048812866, 1.0052050352096558, 1.0012562274932861, 0.9888412952423096, 0.9559721946716309, 0.9825878739356995, 0.29317113757133484, 0.7084969282150269, 0.9755519032478333, 0.9949157238006592, 1.0036375522613525, 0.9949301481246948, 0.9847606420516968, 0.9986603260040283, 1.0015590190887451, 1.0019339323043823, 0.9902015328407288, 1.0005173683166504, 0.954541027545929, 0.9766110181808472, 0.9829543232917786, 0.9969643354415894, 1.000523328781128, 0.9946978092193604, 1.002979040145874, 1.0047838687896729, 0.22485162317752838, 0.758874237537384, 0.972648561000824, 0.976741373538971, 0.9932332038879395, 0.9876588582992554, 0.9942582249641418, 0.9977145791053772, 0.9920977354049683, 0.9833347201347351, 0.9915204048156738, 0.9895074367523193, 0.9833817481994629, 0.8257151246070862, 0.1602133810520172, 0.9991861581802368, 0.9929859638214111, 0.7787043452262878, 0.21731284260749817, 0.9917717576026917, 1.003258466720581, 0.7334102392196655, 0.2640276849269867, 0.20273138582706451, 0.7771369814872742, 0.9881005883216858, 0.9826973676681519, 0.9982553720474243, 1.0011022090911865, 0.9908761978149414, 0.9977797269821167, 0.9933438301086426, 0.9787966012954712, 0.9919857382774353, 0.9957985877990723, 1.0005900859832764, 0.9973382949829102, 0.9894618988037109, 0.978729248046875, 0.28168177604675293, 0.7042044401168823, 0.9886662364006042, 0.9849032759666443, 0.997869610786438, 0.9917917847633362, 0.9839366674423218, 0.9937766194343567, 0.9979918599128723, 0.9973636269569397, 0.9663724303245544, 0.9782952666282654, 0.9974555373191833, 0.9766132831573486, 0.9872646927833557, 1.0001529455184937, 1.0015482902526855, 0.9969253540039062, 1.0029810667037964, 0.9793269038200378, 0.9934632182121277, 1.0006574392318726, 0.9986456036567688, 0.991664707660675, 0.9934143424034119, 0.9980407953262329, 0.9855881333351135, 0.9728276133537292, 0.9980024099349976, 0.9854499101638794, 0.9985767006874084, 0.9981416463851929, 0.9739388227462769, 0.9819111824035645, 0.9924172759056091, 0.9874511361122131, 0.9961056113243103, 0.9637381434440613, 0.9939995408058167, 0.9923187494277954, 0.9982720017433167, 0.9816911220550537, 0.9903777241706848, 0.9803720116615295, 0.9808921813964844, 0.9748167991638184, 1.004549264907837, 1.0013498067855835, 0.9692825675010681, 0.9897335171699524, 0.9900366067886353, 0.9852392673492432, 0.9810165166854858, 0.9914743304252625, 0.9942020773887634, 0.9997525811195374, 1.004016399383545, 0.5788862109184265, 0.4134901165962219, 0.9988453984260559, 0.9885595440864563, 0.9996915459632874, 0.9814946055412292, 0.9960054159164429, 0.9779530167579651, 1.002396821975708, 0.96462482213974, 0.9972262382507324, 0.9965875744819641, 0.9737472534179688, 0.6922996640205383, 0.30099985003471375, 0.9940952658653259, 0.9846084713935852, 0.9916683435440063, 0.9739786982536316, 0.970180094242096, 0.20743341743946075, 0.7809258103370667, 0.9727486371994019, 0.9923033714294434, 0.9943845272064209, 0.9973306059837341, 0.987646758556366, 0.9958784580230713, 0.990851104259491, 0.9939622282981873, 1.0058014392852783, 1.0046628713607788, 0.9823638200759888, 0.9937129020690918, 0.9880539178848267, 0.9826639890670776, 0.9988208413124084, 1.0010931491851807, 0.9987059831619263, 0.9781147837638855, 0.9939946532249451, 0.9933109283447266, 0.9843390583992004, 1.001061201095581, 0.9732401967048645, 0.9709774851799011, 1.003599762916565, 0.9920632243156433, 0.9928191304206848, 0.9962493777275085, 0.9993316531181335, 0.9974194765090942, 0.31669363379478455, 0.6786292195320129, 1.0055007934570312, 0.9858582615852356, 0.9716367721557617, 0.9674648642539978, 1.001649022102356, 0.9896007776260376, 1.0003809928894043, 0.9952241778373718, 0.9972909688949585, 0.9910981059074402, 0.9858132600784302, 0.932224690914154, 0.05826404318213463, 0.9828798174858093, 0.997736394405365, 0.9884803295135498, 0.9831253290176392, 0.9924317002296448, 1.0005391836166382, 0.9885265827178955, 1.0005288124084473, 0.9944937825202942, 0.31092870235443115, 0.6870043873786926, 0.9799084067344666, 0.9982837438583374, 1.0033117532730103, 1.0000327825546265, 0.9995296001434326, 0.9980905652046204, 0.9888796806335449, 0.9936527609825134, 0.9803012609481812, 0.9982450008392334, 0.9932474493980408, 0.9915367364883423, 0.9939075112342834, 0.9685693979263306, 0.9765604138374329, 0.9971712231636047, 0.9993363618850708, 1.0005298852920532, 0.9851399660110474, 0.977005660533905, 0.9873104691505432, 0.9928818345069885, 0.9945476055145264, 1.0003119707107544, 0.9812341928482056, 1.001322627067566, 0.9739789962768555, 0.9831111431121826, 1.00125253200531, 0.9928637146949768, 0.9924845099449158, 0.9727343916893005, 0.9729096293449402, 0.9843961596488953, 0.9910721182823181, 0.9917495846748352, 0.9747107625007629, 0.9916600584983826, 0.9830946326255798, 0.9927445650100708, 0.9727042317390442, 0.9745357632637024, 0.9964402318000793, 0.9990320801734924, 0.7210030555725098, 0.26218292117118835, 0.9965729117393494, 0.9929389953613281, 0.9869782328605652, 0.9869001507759094, 0.9824592471122742, 0.9901229739189148, 1.0007246732711792, 0.9781258702278137, 0.9784244298934937, 0.98488450050354, 0.9855816960334778, 0.9934413433074951, 0.9933850169181824, 1.0002949237823486, 0.9881187677383423, 0.9943822026252747, 0.9934149980545044, 0.9955664277076721, 0.9684489965438843, 0.9699226021766663, 0.9933165311813354, 0.9927477240562439, 1.0028488636016846, 0.997218668460846, 0.9791398048400879, 1.0025709867477417, 0.979380190372467, 0.9832139611244202, 0.9921998381614685, 0.9726951718330383, 0.9807466864585876, 1.0000568628311157, 0.9931479692459106, 1.000497817993164, 0.9778507947921753, 0.9969576001167297, 0.99819016456604, 0.9760227799415588, 0.9803029894828796, 0.9709028601646423, 0.9953402280807495, 0.9956005811691284, 0.9963377118110657, 0.9965434670448303, 0.9996650815010071, 0.9853524565696716, 0.9944524765014648, 1.0026623010635376, 0.9981955885887146, 0.9809298515319824, 0.9925666451454163, 0.9943280816078186, 0.9990429282188416, 0.9944556355476379, 0.9980194568634033, 0.9951031804084778, 0.9787408709526062, 0.9680954217910767, 0.9994217157363892, 0.9906094670295715, 0.9944888353347778, 0.9778251647949219, 0.9926591515541077, 1.0042775869369507, 0.9844685792922974, 0.9827437400817871, 0.9733208417892456, 1.003525733947754, 1.0001132488250732, 0.9964437484741211, 0.9675031304359436, 0.99586021900177, 0.9937581419944763, 0.6547095775604248, 0.3439999520778656, 0.21560586988925934, 0.7736446261405945, 0.9829177260398865, 0.9714295864105225, 0.9953318238258362, 0.998695433139801, 0.9989757537841797, 0.9963951706886292, 0.9969776272773743, 0.9836883544921875, 0.9863642454147339, 0.9945589900016785, 0.992285966873169, 1.0029007196426392, 0.9789332747459412, 0.9726309180259705, 0.9979794025421143, 0.9706854820251465, 0.9965277910232544, 0.9859188795089722, 0.9880392551422119, 0.9966966509819031, 1.0048004388809204, 0.9929003715515137, 0.9749760627746582, 0.9953107833862305, 0.9768295288085938, 0.9993116855621338, 0.9915782809257507, 1.0023432970046997, 0.9901323318481445, 0.994094729423523, 0.9805289506912231, 0.03662707284092903, 0.2911852300167084, 0.06409737467765808, 0.003662707284092903, 0.17031589150428772, 0.003662707284092903, 0.045783840119838715, 0.03296436369419098, 0.06043466925621033, 0.04212113469839096, 0.04944654926657677, 0.06776008009910583, 0.018313536420464516, 0.003662707284092903, 0.009156768210232258, 0.003662707284092903, 0.003662707284092903, 0.07142279297113419, 0.01648218184709549, 0.003662707284092903, 0.993350625038147, 1.0007694959640503, 0.9947152733802795, 0.988199770450592, 0.9933452606201172, 0.9743831157684326, 0.9853257536888123, 0.9984768629074097, 0.9938191175460815, 0.9956232309341431, 1.0003340244293213, 0.9969754815101624, 0.9970870614051819, 1.0035486221313477, 0.9731164574623108, 0.9958404302597046, 1.0048881769180298, 1.0047156810760498, 0.985755980014801, 0.988866925239563, 0.9769750833511353, 0.9924200773239136, 1.00361168384552, 0.9878889918327332, 0.992179274559021, 0.9985533356666565, 1.0024467706680298, 0.9915041923522949, 0.994960606098175, 1.0052673816680908, 0.9892614483833313, 0.9939584136009216, 0.9907212853431702, 0.9914740920066833, 0.9738962054252625, 0.9822729825973511, 0.9863837361335754, 0.9766439199447632, 0.990206778049469, 0.9982605576515198, 0.9843535423278809, 0.996475875377655, 0.9952329993247986, 0.9810746908187866, 0.9993559122085571, 0.9735603928565979, 1.0017645359039307, 0.9988033771514893, 0.9920579195022583, 0.9943375587463379, 1.005951166152954, 0.9897868633270264, 0.9914414286613464, 0.9818490743637085, 0.9825478792190552, 0.9977635741233826, 0.9916906356811523, 0.9852882027626038, 0.9818398952484131, 0.9966878294944763, 1.000675082206726, 0.9975872039794922, 0.9913374185562134, 0.9862889647483826, 0.9823529124259949, 0.9960489869117737, 1.0003668069839478, 0.9994368553161621, 0.9837439060211182, 1.0025266408920288, 0.017339056357741356, 0.9796566367149353, 0.9915753602981567, 1.0000327825546265, 0.9844371676445007, 0.9847229719161987, 1.0015208721160889, 0.9889596700668335, 0.9992989897727966, 0.9997410178184509, 0.16948333382606506, 0.8285852074623108, 1.0026957988739014, 0.9949147701263428, 0.11520882695913315, 0.8640661835670471, 0.9964613318443298, 0.9822105765342712, 1.0042858123779297, 0.9900357723236084, 0.9970396161079407, 0.9841918349266052, 0.9962970018386841, 0.9961755871772766, 0.9973537921905518, 0.9930011630058289, 0.9814686179161072, 0.9793813228607178, 0.9075354337692261, 0.08561655133962631, 0.9893689155578613, 0.9852206110954285, 0.9977483749389648, 0.9952124357223511, 0.9761252403259277, 1.000308871269226, 0.9869094491004944, 1.001741647720337, 1.0004459619522095, 0.9755710959434509, 0.9768147468566895, 0.9985417723655701, 1.0002602338790894, 1.0058406591415405, 0.9781608581542969, 0.9915105104446411, 1.0006064176559448, 0.9880796670913696, 0.9941863417625427, 0.9590516686439514, 0.9991073608398438, 1.0019499063491821, 0.9882095456123352, 0.9991313815116882, 0.9735194444656372, 0.9966256618499756, 0.9908015727996826, 0.9648332595825195, 1.0043535232543945, 1.0039682388305664, 0.9911770820617676, 0.9995331764221191, 0.9948727488517761, 0.981300950050354, 0.99953293800354, 0.9995160102844238, 0.9815948009490967, 0.9697548151016235, 0.9799107313156128, 1.0039664506912231, 0.9847705960273743, 0.9741299748420715, 0.9831097722053528, 0.09585292637348175, 0.905277669429779, 0.9949082136154175, 0.9923796653747559, 0.9827776551246643, 0.9979775547981262, 0.9874429106712341, 0.9826673865318298, 0.9757946133613586, 0.9800974726676941, 1.0017073154449463, 0.9942301511764526, 0.9915446043014526, 0.9893130660057068, 0.9954907298088074, 0.9746710062026978, 0.9812934398651123, 0.9908378720283508, 1.005014419555664, 0.9989966750144958, 0.9768710136413574, 1.002515435218811, 0.9778088331222534, 0.9853814840316772, 1.0010453462600708, 0.9977253675460815, 0.9886627793312073, 1.001558542251587, 0.979723334312439, 0.9917910695075989, 0.9759366512298584, 0.9968518018722534, 0.9994704723358154, 0.9916231036186218, 0.9965266585350037, 0.9684757590293884, 0.992222011089325, 0.9975165724754333, 0.9933419823646545, 0.9922513961791992, 0.9936935305595398, 0.9876765608787537, 1.002622365951538, 0.8333855867385864, 0.1587401032447815, 0.9885365962982178, 0.9853628873825073, 0.9911575317382812, 0.9791024923324585, 0.986775279045105, 0.9913310408592224, 0.9881194233894348, 0.9996739029884338, 0.9902182221412659, 0.9943247437477112, 0.9964582920074463, 1.0008587837219238, 0.9939601421356201, 0.9994959235191345, 0.9815333485603333, 0.9934840202331543, 1.0025522708892822, 0.9952967166900635, 0.9948554635047913, 0.9675403237342834, 0.9675031304359436, 0.9900780320167542, 0.9995307922363281, 0.9976835250854492, 0.9993630051612854, 0.9893746376037598, 1.0041714906692505, 0.9973196983337402, 1.001029372215271, 0.975656270980835, 0.9909099340438843, 0.9936302304267883, 0.9908217787742615, 0.9768702983856201, 0.997622549533844, 0.9885495901107788, 0.1390349417924881, 0.8342096209526062, 1.0002433061599731, 0.9955105185508728, 0.9758580327033997, 0.9800230264663696, 0.9938948750495911, 0.9945220351219177, 0.9972214102745056, 0.9925462603569031, 0.9888772964477539, 0.9839754700660706, 1.0013220310211182, 0.9733242988586426, 0.9810057282447815, 0.9991578459739685, 1.003835678100586, 0.9770792126655579, 1.0032845735549927, 0.9800564050674438], \"Term\": [\"accus\", \"acquir\", \"acquisit\", \"action\", \"actor\", \"actress\", \"ad\", \"add\", \"africa\", \"age\", \"ahead\", \"aim\", \"air\", \"airlin\", \"album\", \"alibaba\", \"alleg\", \"allow\", \"amaz\", \"amazon\", \"america\", \"american\", \"amid\", \"analyst\", \"andi\", \"android\", \"announc\", \"anti\", \"apolog\", \"app\", \"appl\", \"approv\", \"april\", \"arrest\", \"arrest\", \"arriv\", \"attack\", \"australia\", \"award\", \"award\", \"away\", \"babi\", \"bachelorett\", \"bad\", \"ban\", \"bank\", \"barclay\", \"battl\", \"bear\", \"beat\", \"begin\", \"best\", \"bet\", \"beyonc\", \"bid\", \"bieber\", \"big\", \"billboard\", \"billion\", \"birthday\", \"bitcoin\", \"black\", \"blood\", \"blood\", \"boe\", \"book\", \"boost\", \"box\", \"boy\", \"brad\", \"brand\", \"breach\", \"break\", \"bring\", \"broadway\", \"brown\", \"bug\", \"busi\", \"buy\", \"call\", \"campaign\", \"cancel\", \"cancer\", \"cancer\", \"cann\", \"captain\", \"car\", \"card\", \"care\", \"case\", \"cast\", \"catch\", \"caus\", \"celebr\", \"central\", \"ceo\", \"ceo\", \"challeng\", \"chang\", \"charg\", \"charg\", \"child\", \"children\", \"china\", \"china\", \"chris\", \"chris\", \"cigarett\", \"citi\", \"claim\", \"climat\", \"close\", \"coachella\", \"com\", \"comcast\", \"come\", \"comic\", \"comment\", \"compani\", \"concern\", \"concert\", \"confirm\", \"confirm\", \"consum\", \"continu\", \"control\", \"cost\", \"countri\", \"court\", \"cover\", \"crash\", \"creator\", \"credit\", \"crisi\", \"critic\", \"crush\", \"custom\", \"cut\", \"cyrus\", \"danc\", \"dark\", \"data\", \"date\", \"day\", \"dead\", \"deal\", \"death\", \"debut\", \"defend\", \"delay\", \"deni\", \"design\", \"despit\", \"destini\", \"detail\", \"develop\", \"devic\", \"die\", \"dinosaur\", \"dip\", \"director\", \"directv\", \"disappoint\", \"discov\", \"diseas\", \"disney\", \"display\", \"doctor\", \"dollar\", \"dorfman\", \"doubl\", \"dow\", \"draghi\", \"dress\", \"drive\", \"drop\", \"drug\", \"earli\", \"earn\", \"earn\", \"earth\", \"easter\", \"ebola\", \"ecb\", \"economi\", \"edg\", \"emerg\", \"emma\", \"end\", \"energi\", \"engag\", \"episod\", \"episod\", \"estim\", \"euro\", \"europ\", \"european\", \"exclus\", \"expect\", \"expect\", \"experi\", \"eye\", \"face\", \"facebook\", \"fake\", \"fall\", \"famili\", \"fan\", \"fast\", \"fcc\", \"fda\", \"fear\", \"featur\", \"fee\", \"feed\", \"festiv\", \"fight\", \"file\", \"film\", \"final\", \"find\", \"firm\", \"fix\", \"flight\", \"focus\", \"food\", \"forc\", \"ford\", \"forecast\", \"fox\", \"free\", \"free\", \"french\", \"friend\", \"ftc\", \"fund\", \"futur\", \"gain\", \"galaxi\", \"game\", \"gas\", \"gay\", \"general\", \"georg\", \"georg\", \"girl\", \"give\", \"glass\", \"global\", \"gm\", \"go\", \"gold\", \"gomez\", \"good\", \"googl\", \"googl\", \"govern\", \"group\", \"grow\", \"growth\", \"happi\", \"harri\", \"head\", \"health\", \"heart\", \"heartble\", \"help\", \"high\", \"higher\", \"hike\", \"hill\", \"hit\", \"hold\", \"home\", \"hospit\", \"host\", \"hour\", \"hous\", \"htc\", \"ice\", \"idol\", \"ignit\", \"imag\", \"impact\", \"import\", \"improv\", \"increas\", \"india\", \"industri\", \"inflat\", \"insid\", \"instagram\", \"intern\", \"internet\", \"interview\", \"investig\", \"investor\", \"io\", \"ipad\", \"iphon\", \"ipo\", \"ipo\", \"iraq\", \"issu\", \"jackson\", \"jam\", \"japan\", \"jay\", \"jenner\", \"jennif\", \"jet\", \"job\", \"johnni\", \"join\", \"juli\", \"jump\", \"june\", \"justin\", \"kany\", \"kardashian\", \"kati\", \"key\", \"kick\", \"kid\", \"kill\", \"kim\", \"king\", \"know\", \"kuni\", \"lab\", \"labeouf\", \"ladi\", \"late\", \"latest\", \"launch\", \"law\", \"lawsuit\", \"lead\", \"leak\", \"learn\", \"leav\", \"let\", \"lg\", \"life\", \"light\", \"like\", \"lindsay\", \"link\", \"list\", \"littl\", \"live\", \"lohan\", \"long\", \"look\", \"lose\", \"loss\", \"love\", \"low\", \"lower\", \"macbook\", \"mad\", \"major\", \"make\", \"maker\", \"man\", \"manufactur\", \"mar\", \"march\", \"marijuana\", \"mark\", \"market\", \"marri\", \"mart\", \"martin\", \"mean\", \"meet\", \"meet\", \"men\", \"men\", \"mer\", \"mh\", \"michael\", \"microsoft\", \"miley\", \"million\", \"mini\", \"minut\", \"miss\", \"mobil\", \"model\", \"mom\", \"monday\", \"money\", \"month\", \"morgan\", \"mortgag\", \"mother\", \"motor\", \"movi\", \"museum\", \"music\", \"name\", \"nasa\", \"nasdaq\", \"nation\", \"near\", \"need\", \"net\", \"netflix\", \"neutral\", \"new\", \"new\", \"new\", \"new\", \"new\", \"new\", \"new\", \"new\", \"new\", \"new\", \"new\", \"new\", \"new\", \"new\", \"new\", \"new\", \"new\", \"new\", \"new\", \"new\", \"news\", \"night\", \"noah\", \"nokia\", \"north\", \"note\", \"number\", \"obama\", \"oculus\", \"offer\", \"offic\", \"offici\", \"oil\", \"old\", \"onlin\", \"open\", \"order\", \"oscar\", \"outbreak\", \"parti\", \"past\", \"patent\", \"patient\", \"paul\", \"pay\", \"peopl\", \"percent\", \"perform\", \"pfizer\", \"pharrel\", \"phone\", \"photo\", \"pitt\", \"plan\", \"planet\", \"plant\", \"play\", \"polici\", \"possibl\", \"post\", \"power\", \"pregnant\", \"premier\", \"presid\", \"price\", \"pro\", \"probe\", \"problem\", \"product\", \"profit\", \"project\", \"propos\", \"protect\", \"public\", \"push\", \"quarter\", \"quit\", \"rais\", \"rank\", \"rat\", \"rate\", \"reach\", \"real\", \"realiti\", \"reason\", \"recal\", \"recap\", \"record\", \"red\", \"regul\", \"releas\", \"releas\", \"remain\", \"report\", \"research\", \"result\", \"retail\", \"return\", \"reveal\", \"revenu\", \"review\", \"review\", \"right\", \"rise\", \"risk\", \"risk\", \"robert\", \"role\", \"roll\", \"rule\", \"run\", \"russia\", \"sale\", \"samsung\", \"say\", \"scam\", \"scene\", \"scientist\", \"scott\", \"scott\", \"screen\", \"search\", \"season\", \"second\", \"secret\", \"sector\", \"secur\", \"see\", \"seek\", \"selena\", \"self\", \"sell\", \"send\", \"sequel\", \"seri\", \"servic\", \"set\", \"sex\", \"share\", \"shia\", \"shoot\", \"show\", \"sign\", \"size\", \"slam\", \"smart\", \"smartphon\", \"smartwatch\", \"smoke\", \"soar\", \"son\", \"song\", \"soni\", \"soon\", \"south\", \"space\", \"speak\", \"speed\", \"spider\", \"split\", \"spoiler\", \"spread\", \"st\", \"star\", \"star\", \"start\", \"state\", \"step\", \"stock\", \"stone\", \"stop\", \"store\", \"stori\", \"stream\", \"street\", \"strike\", \"strong\", \"studi\", \"success\", \"sue\", \"support\", \"suprem\", \"surfac\", \"surg\", \"surpris\", \"switch\", \"tablet\", \"take\", \"talk\", \"target\", \"tax\", \"team\", \"tech\", \"tell\", \"tesla\", \"test\", \"th\", \"thing\", \"think\", \"threat\", \"throne\", \"ticket\", \"time\", \"today\", \"tour\", \"trade\", \"trailer\", \"trailer\", \"transform\", \"tri\", \"trial\", \"true\", \"turn\", \"tv\", \"tweet\", \"twitter\", \"uk\", \"unveil\", \"updat\", \"use\", \"user\", \"video\", \"view\", \"virus\", \"voic\", \"vote\", \"vs\", \"wait\", \"wal\", \"walk\", \"wall\", \"want\", \"war\", \"warn\", \"warner\", \"watch\", \"way\", \"wear\", \"wed\", \"week\", \"weekend\", \"weight\", \"west\", \"white\", \"wife\", \"wife\", \"win\", \"window\", \"winner\", \"winter\", \"women\", \"work\", \"world\", \"worst\", \"worth\", \"wren\", \"xbox\", \"xp\", \"yahoo\", \"year\", \"yellen\", \"york\", \"young\", \"youtub\"]}, \"R\": 30, \"lambda.step\": 0.01, \"plot.opts\": {\"xlab\": \"PC1\", \"ylab\": \"PC2\"}, \"topic.order\": [8, 5, 17, 3, 15, 2, 6, 14, 16, 18, 11, 12, 20, 4, 19, 1, 7, 13, 9, 10]};\n",
       "\n",
       "function LDAvis_load_lib(url, callback){\n",
       "  var s = document.createElement('script');\n",
       "  s.src = url;\n",
       "  s.async = true;\n",
       "  s.onreadystatechange = s.onload = callback;\n",
       "  s.onerror = function(){console.warn(\"failed to load library \" + url);};\n",
       "  document.getElementsByTagName(\"head\")[0].appendChild(s);\n",
       "}\n",
       "\n",
       "if(typeof(LDAvis) !== \"undefined\"){\n",
       "   // already loaded: just create the visualization\n",
       "   !function(LDAvis){\n",
       "       new LDAvis(\"#\" + \"ldavis_el49729395457028322276668529\", ldavis_el49729395457028322276668529_data);\n",
       "   }(LDAvis);\n",
       "}else if(typeof define === \"function\" && define.amd){\n",
       "   // require.js is available: use it to load d3/LDAvis\n",
       "   require.config({paths: {d3: \"https://cdnjs.cloudflare.com/ajax/libs/d3/3.5.5/d3.min\"}});\n",
       "   require([\"d3\"], function(d3){\n",
       "      window.d3 = d3;\n",
       "      LDAvis_load_lib(\"https://cdn.rawgit.com/bmabey/pyLDAvis/files/ldavis.v1.0.0.js\", function(){\n",
       "        new LDAvis(\"#\" + \"ldavis_el49729395457028322276668529\", ldavis_el49729395457028322276668529_data);\n",
       "      });\n",
       "    });\n",
       "}else{\n",
       "    // require.js not available: dynamically load d3 & LDAvis\n",
       "    LDAvis_load_lib(\"https://cdnjs.cloudflare.com/ajax/libs/d3/3.5.5/d3.min.js\", function(){\n",
       "         LDAvis_load_lib(\"https://cdn.rawgit.com/bmabey/pyLDAvis/files/ldavis.v1.0.0.js\", function(){\n",
       "                 new LDAvis(\"#\" + \"ldavis_el49729395457028322276668529\", ldavis_el49729395457028322276668529_data);\n",
       "            })\n",
       "         });\n",
       "}\n",
       "</script>"
      ],
      "text/plain": [
       "PreparedData(topic_coordinates=              x         y  topics  cluster      Freq\n",
       "topic                                               \n",
       "7      0.014836  0.157416       1        1  6.052037\n",
       "4     -0.142436  0.123352       2        1  5.698092\n",
       "16    -0.061699  0.068688       3        1  5.509017\n",
       "2      0.109903  0.006399       4        1  5.506719\n",
       "14    -0.119176  0.195605       5        1  5.394176\n",
       "1      0.180679 -0.064548       6        1  5.378656\n",
       "5     -0.230270 -0.190102       7        1  5.356626\n",
       "13     0.053999  0.024265       8        1  5.251200\n",
       "15     0.022087  0.023669       9        1  5.132934\n",
       "17    -0.216035 -0.203106      10        1  5.091818\n",
       "10    -0.014333  0.005556      11        1  4.905791\n",
       "11    -0.054275  0.132926      12        1  4.777093\n",
       "19     0.079895  0.009287      13        1  4.765855\n",
       "3      0.060213 -0.040588      14        1  4.630757\n",
       "18     0.051756 -0.053275      15        1  4.573610\n",
       "0      0.104258 -0.089268      16        1  4.547237\n",
       "6      0.043497 -0.124094      17        1  4.444823\n",
       "12    -0.049286  0.085057      18        1  4.420022\n",
       "8      0.089136  0.008530      19        1  4.287077\n",
       "9      0.077251 -0.075768      20        1  4.276452, topic_info=     Category        Freq        Term       Total  loglift  logprob\n",
       "term                                                               \n",
       "18    Default  337.000000       googl  337.000000  30.0000  30.0000\n",
       "93    Default  255.000000      report  255.000000  29.0000  29.0000\n",
       "37    Default  231.000000        appl  231.000000  28.0000  28.0000\n",
       "83    Default  221.000000         say  221.000000  27.0000  27.0000\n",
       "220   Default  215.000000       video  215.000000  26.0000  26.0000\n",
       "123   Default  206.000000       stock  206.000000  25.0000  25.0000\n",
       "130   Default  196.000000       price  196.000000  24.0000  24.0000\n",
       "301   Default  181.000000        year  181.000000  23.0000  23.0000\n",
       "252   Default  187.000000        star  187.000000  22.0000  22.0000\n",
       "960   Default  169.000000         day  169.000000  21.0000  21.0000\n",
       "197   Default  177.000000     samsung  177.000000  20.0000  20.0000\n",
       "530   Default  164.000000       updat  164.000000  19.0000  19.0000\n",
       "1000  Default  165.000000        sale  165.000000  18.0000  18.0000\n",
       "956   Default  152.000000    facebook  152.000000  17.0000  17.0000\n",
       "142   Default  164.000000      season  164.000000  16.0000  16.0000\n",
       "2     Default  163.000000        game  163.000000  15.0000  15.0000\n",
       "151   Default  159.000000         buy  159.000000  14.0000  14.0000\n",
       "462   Default  152.000000      amazon  152.000000  13.0000  13.0000\n",
       "193   Default  147.000000       watch  147.000000  12.0000  12.0000\n",
       "336   Default  136.000000  kardashian  136.000000  11.0000  11.0000\n",
       "67    Default  148.000000   microsoft  148.000000  10.0000  10.0000\n",
       "258   Default  140.000000     million  140.000000   9.0000   9.0000\n",
       "652   Default  137.000000      galaxi  137.000000   8.0000   8.0000\n",
       "117   Default  135.000000        deal  135.000000   7.0000   7.0000\n",
       "99    Default  123.000000         kim  123.000000   6.0000   6.0000\n",
       "387   Default  122.000000        west  122.000000   5.0000   5.0000\n",
       "890   Default  125.000000      launch  125.000000   4.0000   4.0000\n",
       "48    Default  124.000000        rise  124.000000   3.0000   3.0000\n",
       "32    Default  121.000000       share  121.000000   2.0000   2.0000\n",
       "241   Default  123.000000       recal  123.000000   1.0000   1.0000\n",
       "...       ...         ...         ...         ...      ...      ...\n",
       "285   Topic20   67.390381       phone   67.727295   3.1471  -3.7225\n",
       "287   Topic20   63.246868   smartphon   63.584881   3.1467  -3.7859\n",
       "322   Topic20   61.800755     quarter   62.138969   3.1466  -3.8091\n",
       "1089  Topic20   61.222145         air   61.558556   3.1466  -3.8185\n",
       "729   Topic20   61.180023        near   61.518089   3.1465  -3.8192\n",
       "611   Topic20   58.514103        know   58.848698   3.1463  -3.8637\n",
       "1244  Topic20   46.959881       court   47.294331   3.1449  -4.0837\n",
       "1184  Topic20   42.745869        leak   43.077965   3.1443  -4.1777\n",
       "284   Topic20   42.951267        juli   43.286339   3.1443  -4.1729\n",
       "436   Topic20   42.747337       harri   43.082264   3.1442  -4.1777\n",
       "920   Topic20   40.176346       stone   40.508671   3.1438  -4.2397\n",
       "150   Topic20   38.801373       thing   39.135933   3.1435  -4.2745\n",
       "1610  Topic20   36.818092     economi   37.148392   3.1431  -4.3270\n",
       "672   Topic20   35.070946        gold   35.406231   3.1425  -4.3756\n",
       "127   Topic20   34.565247        kill   34.900574   3.1424  -4.3901\n",
       "128   Topic20   33.584003     percent   33.917011   3.1422  -4.4189\n",
       "919   Topic20   33.521915        roll   33.854904   3.1422  -4.4208\n",
       "2780  Topic20   30.779819    pregnant   31.109634   3.1414  -4.5061\n",
       "1611  Topic20   27.905571       europ   28.235247   3.1403  -4.6042\n",
       "1993  Topic20   24.323797        slam   24.652821   3.1386  -4.7415\n",
       "1903  Topic20   22.831945        forc   23.166355   3.1375  -4.8048\n",
       "288   Topic20   22.168827      switch   22.499285   3.1373  -4.8343\n",
       "1756  Topic20   20.568399      suprem   20.895224   3.1363  -4.9092\n",
       "923   Topic20   20.010759     central   20.337982   3.1358  -4.9367\n",
       "543   Topic20   19.689230        size   20.017387   3.1355  -4.9529\n",
       "741   Topic20   19.073933        kuni   19.400024   3.1351  -4.9847\n",
       "2917  Topic20   18.156544     destini   18.481653   3.1343  -5.0340\n",
       "2957  Topic20   18.330790        emma   18.660105   3.1342  -5.0244\n",
       "1029  Topic20   64.056358      expect   81.954010   2.9057  -3.7732\n",
       "116   Topic20   50.269676     confirm   71.002106   2.8067  -4.0156\n",
       "\n",
       "[671 rows x 6 columns], token_table=      Topic      Freq      Term\n",
       "term                           \n",
       "1804      8  0.976191     accus\n",
       "678       4  0.977667    acquir\n",
       "3213      4  1.005274  acquisit\n",
       "463      15  0.982808    action\n",
       "1123     12  1.001274     actor\n",
       "2809     14  0.988226   actress\n",
       "773       2  0.982877        ad\n",
       "2004     16  1.000971       add\n",
       "2196     17  0.984017    africa\n",
       "132       3  0.981587       age\n",
       "1400      1  1.001979     ahead\n",
       "2756      5  0.995015       aim\n",
       "1089     20  0.990926       air\n",
       "1480     12  0.984467    airlin\n",
       "25        5  1.003179     album\n",
       "669       6  0.990672   alibaba\n",
       "2563      3  0.996083     alleg\n",
       "1212      6  0.999530     allow\n",
       "94       16  0.989378      amaz\n",
       "462       1  0.994760    amazon\n",
       "857       1  0.994916   america\n",
       "14       15  1.000961  american\n",
       "2670     17  0.969806      amid\n",
       "405      16  0.977473   analyst\n",
       "2749      5  0.984709      andi\n",
       "1243     10  0.994319   android\n",
       "326       2  0.996332   announc\n",
       "547      13  0.981603      anti\n",
       "3339     10  0.977832    apolog\n",
       "277      13  0.993080       app\n",
       "...     ...       ...       ...\n",
       "1983     14  1.004171    warner\n",
       "193       3  0.997320     watch\n",
       "545       7  1.001029       way\n",
       "1535      6  0.975656      wear\n",
       "101      11  0.990910       wed\n",
       "56       16  0.993630      week\n",
       "386       1  0.990822   weekend\n",
       "2284     14  0.976870    weight\n",
       "387      17  0.997623      west\n",
       "33        5  0.988550     white\n",
       "1126      4  0.139035      wife\n",
       "1126     12  0.834210      wife\n",
       "300       2  1.000243       win\n",
       "68       14  0.995511    window\n",
       "1530     18  0.975858    winner\n",
       "1441      1  0.980023    winter\n",
       "272       6  0.993895     women\n",
       "1245     13  0.994522      work\n",
       "69        7  0.997221     world\n",
       "3003      6  0.992546     worst\n",
       "671       6  0.988877     worth\n",
       "2300      6  0.983975      wren\n",
       "658      13  1.001322      xbox\n",
       "1490     14  0.973324        xp\n",
       "1009      9  0.981006     yahoo\n",
       "301       9  0.999158      year\n",
       "1205      5  1.003836    yellen\n",
       "994      18  0.977079      york\n",
       "273       6  1.003285     young\n",
       "1651      7  0.980056    youtub\n",
       "\n",
       "[674 rows x 3 columns], R=30, lambda_step=0.01, plot_opts={'xlab': 'PC1', 'ylab': 'PC2'}, topic_order=[8, 5, 17, 3, 15, 2, 6, 14, 16, 18, 11, 12, 20, 4, 19, 1, 7, 13, 9, 10])"
      ]
     },
     "execution_count": 55,
     "metadata": {},
     "output_type": "execute_result"
    }
   ],
   "source": [
    "# Visualize the topics\n",
    "pyLDAvis.enable_notebook()\n",
    "vis = pyLDAvis.gensim.prepare(model, corpus, dictionary)\n",
    "vis"
   ]
  },
  {
   "cell_type": "markdown",
   "metadata": {},
   "source": [
    "Alors, comment déduire les résultats de pyLDAvis?\n",
    "\n",
    "Chaque bulle sur le graphique de gauche représente un sujet. Plus la bulle est grande, plus ce sujet est répandu.\n",
    "\n",
    "Un bon modèle de sujet aura des bulles assez grandes et non chevauchantes dispersées dans le graphique au lieu d'être regroupées dans un quadrant.\n",
    "\n",
    "Un modèle comportant trop de sujets aura généralement de nombreux chevauchements, des bulles de petite taille regroupées dans une région du graphique.\n",
    "\n",
    "Bon, si vous déplacez le curseur sur l'une des bulles, les mots et les barres à droite seront mis à jour. Ces mots sont les mots clés importants qui forment le sujet sélectionné.\n",
    "\n",
    "Nous avons construit avec succès un modèle de sujet intéressant.\n",
    "\n",
    "Étant donné notre connaissance préalable du nombre de sujets naturels dans le document, trouver le meilleur modèle était assez simple.\n",
    "\n",
    "Nous allons maintenant nous concentrer sur la manière de parvenir au nombre optimal de sujets."
   ]
  },
  {
   "cell_type": "markdown",
   "metadata": {},
   "source": [
    "# 7)  Comment trouver le nombre optimal de sujets?"
   ]
  },
  {
   "cell_type": "markdown",
   "metadata": {},
   "source": [
    "Mon approche pour trouver le nombre optimal de sujets consiste à créer de nombreux modèles LDA avec différentes valeurs du nombre de sujets (k) et à choisir celui qui donne la valeur de cohérence la plus élevée.\n",
    "\n",
    "Le choix d'un «k» qui marque la fin d'une croissance rapide de la cohérence des sujets offre généralement des sujets significatifs et interprétables. Choisir une valeur encore plus élevée peut parfois fournir des sous-thèmes plus granulaires.\n",
    "\n",
    "Si vous constatez que les mêmes mots-clés sont répétés sur plusieurs sujets, cela signifie probablement que le «k» est trop grand.\n",
    "\n",
    "Le code ci_dessous forme plusieurs modèles de LDA et fournit les modèles et leurs scores de cohérence correspondants.compute_coherence_values()"
   ]
  },
  {
   "cell_type": "code",
   "execution_count": 56,
   "metadata": {
    "collapsed": true
   },
   "outputs": [],
   "source": [
    "## Using c_v Measure\n",
    "def compute_coherence_values(dictionary, corpus, texts, limit, start=2, step=3):\n",
    "    \"\"\"\n",
    "    Compute c_v coherence for various number of topics\n",
    "\n",
    "    Parameters:\n",
    "    ----------\n",
    "    dictionary : Gensim dictionary\n",
    "    corpus : Gensim corpus\n",
    "    texts : List of input texts\n",
    "    limit : Max num of topics\n",
    "\n",
    "    Returns:\n",
    "    -------\n",
    "    model_list : List of LDA topic models\n",
    "    coherence_values : Coherence values corresponding to the LDA model with respective number of topics\n",
    "    \"\"\"\n",
    "    coherence_values = []\n",
    "    model_list = []\n",
    "    for num_topics in range(start, limit, step):\n",
    "        model=LdaModel(corpus=corpus, id2word=dictionary, num_topics=num_topics)\n",
    "        model_list.append(model)\n",
    "        coherencemodel = CoherenceModel(model=model, texts=texts, dictionary=dictionary, coherence='c_v')\n",
    "        coherence_values.append(coherencemodel.get_coherence())\n",
    "\n",
    "    return model_list, coherence_values"
   ]
  },
  {
   "cell_type": "markdown",
   "metadata": {},
   "source": [
    "## Maintenant, créons une liste de modèles et traçons le score de cohérence par rapport à un certain nombre de sujets."
   ]
  },
  {
   "cell_type": "code",
   "execution_count": 57,
   "metadata": {},
   "outputs": [
    {
     "data": {
      "image/png": "[encoded data removed]",
      "text/plain": [
       "<matplotlib.figure.Figure at 0xdac0f9e358>"
      ]
     },
     "metadata": {},
     "output_type": "display_data"
    }
   ],
   "source": [
    "# Can take a long time to run.\n",
    "model_list, coherence_values = compute_coherence_values(dictionary=dictionary, corpus=corpus, texts=cleaned_column, start=2, limit=40, step=6)\n",
    "# Show graph\n",
    "import matplotlib.pyplot as plt\n",
    "limit=40; start=2; step=6;\n",
    "x = range(start, limit, step)\n",
    "plt.plot(x, coherence_values)\n",
    "plt.xlabel(\"Num Topics\")\n",
    "plt.ylabel(\"Coherence score\")\n",
    "plt.legend((\"coherence_values\"), loc='best')\n",
    "plt.show()"
   ]
  },
  {
   "cell_type": "code",
   "execution_count": 58,
   "metadata": {},
   "outputs": [
    {
     "name": "stdout",
     "output_type": "stream",
     "text": [
      "Num Topics = 2  has Coherence Value of 0.5241\n",
      "Num Topics = 8  has Coherence Value of 0.4618\n",
      "Num Topics = 14  has Coherence Value of 0.5154\n",
      "Num Topics = 20  has Coherence Value of 0.541\n",
      "Num Topics = 26  has Coherence Value of 0.5701\n",
      "Num Topics = 32  has Coherence Value of 0.5872\n",
      "Num Topics = 38  has Coherence Value of 0.5828\n"
     ]
    }
   ],
   "source": [
    "# Print the coherence scores\n",
    "for m, cv in zip(x, coherence_values):\n",
    "    print(\"Num Topics =\", m, \" has Coherence Value of\", round(cv, 4))"
   ]
  },
  {
   "cell_type": "markdown",
   "metadata": {},
   "source": [
    "Si le score de cohérence semble continuer à augmenter, il peut être préférable de choisir le modèle qui a donné le CV le plus élevé avant d'aplatir. C'est exactement le cas ici.\n",
    "\n",
    "Donc, pour les prochaines étapes, je choisirai le modèle avec 20 sujets."
   ]
  },
  {
   "cell_type": "markdown",
   "metadata": {},
   "source": [
    "# *Remarque* : il existe de nombreuses autres approches pour évaluer les modèles de sujets tels que Perplexity, mais son indicateur médiocre de la qualité des sujets. TOPIC COHERENCE MEASURE est également un bon moyen d'évaluer les modèles de sujet. La mesure de la cohérence des sujets est un bon moyen de comparer les modèles de sujets différents en fonction de leur interprétabilité humaine. "
   ]
  },
  {
   "cell_type": "code",
   "execution_count": 59,
   "metadata": {},
   "outputs": [
    {
     "name": "stdout",
     "output_type": "stream",
     "text": [
      "[(9,\n",
      "  '0.018*\"android\" + 0.016*\"music\" + 0.015*\"cyrus\" + 0.014*\"miley\" + '\n",
      "  '0.014*\"play\" + 0.013*\"googl\" + 0.012*\"ceo\" + 0.012*\"mad\" + 0.012*\"app\" + '\n",
      "  '0.012*\"data\"'),\n",
      " (11,\n",
      "  '0.033*\"compani\" + 0.032*\"ebola\" + 0.022*\"outbreak\" + 0.019*\"virus\" + '\n",
      "  '0.018*\"use\" + 0.016*\"propos\" + 0.015*\"grow\" + 0.013*\"public\" + '\n",
      "  '0.011*\"govern\" + 0.011*\"investig\"'),\n",
      " (6,\n",
      "  '0.039*\"amazon\" + 0.028*\"launch\" + 0.022*\"smartphon\" + 0.022*\"death\" + '\n",
      "  '0.017*\"america\" + 0.016*\"life\" + 0.015*\"reach\" + 0.014*\"walk\" + '\n",
      "  '0.014*\"season\" + 0.013*\"new\"'),\n",
      " (3,\n",
      "  '0.020*\"increas\" + 0.018*\"deal\" + 0.017*\"gas\" + 0.015*\"beyonc\" + '\n",
      "  '0.015*\"russia\" + 0.014*\"jay\" + 0.012*\"alleg\" + 0.012*\"latest\" + '\n",
      "  '0.012*\"attack\" + 0.011*\"host\"'),\n",
      " (28,\n",
      "  '0.056*\"samsung\" + 0.046*\"galaxi\" + 0.025*\"facebook\" + 0.019*\"wall\" + '\n",
      "  '0.019*\"featur\" + 0.015*\"street\" + 0.014*\"app\" + 0.012*\"android\" + '\n",
      "  '0.012*\"scientist\" + 0.011*\"note\"'),\n",
      " (21,\n",
      "  '0.025*\"award\" + 0.019*\"japan\" + 0.018*\"second\" + 0.017*\"close\" + '\n",
      "  '0.017*\"fox\" + 0.014*\"happi\" + 0.014*\"bet\" + 0.013*\"video\" + 0.011*\"disney\" '\n",
      "  '+ 0.010*\"comic\"'),\n",
      " (2,\n",
      "  '0.027*\"end\" + 0.017*\"rise\" + 0.016*\"cancer\" + 0.015*\"countri\" + 0.013*\"dow\" '\n",
      "  '+ 0.012*\"team\" + 0.012*\"million\" + 0.012*\"lose\" + 0.011*\"smart\" + '\n",
      "  '0.010*\"profit\"'),\n",
      " (0,\n",
      "  '0.025*\"gm\" + 0.024*\"recal\" + 0.017*\"movi\" + 0.015*\"oil\" + 0.015*\"car\" + '\n",
      "  '0.015*\"drop\" + 0.014*\"buy\" + 0.013*\"paul\" + 0.011*\"thing\" + 0.011*\"man\"'),\n",
      " (26,\n",
      "  '0.029*\"share\" + 0.023*\"th\" + 0.016*\"start\" + 0.014*\"new\" + 0.013*\"ftc\" + '\n",
      "  '0.012*\"worth\" + 0.012*\"industri\" + 0.011*\"grand\" + 0.010*\"scandal\" + '\n",
      "  '0.010*\"boy\"'),\n",
      " (29,\n",
      "  '0.029*\"warn\" + 0.016*\"loss\" + 0.016*\"late\" + 0.013*\"tech\" + 0.013*\"south\" + '\n",
      "  '0.013*\"game\" + 0.013*\"allow\" + 0.012*\"season\" + 0.012*\"spoiler\" + '\n",
      "  '0.012*\"throne\"'),\n",
      " (14,\n",
      "  '0.018*\"dress\" + 0.015*\"space\" + 0.015*\"hit\" + 0.015*\"today\" + 0.015*\"arriv\" '\n",
      "  '+ 0.013*\"lower\" + 0.013*\"maker\" + 0.012*\"intern\" + 0.012*\"sell\" + '\n",
      "  '0.012*\"break\"'),\n",
      " (4,\n",
      "  '0.027*\"plan\" + 0.024*\"rat\" + 0.020*\"rate\" + 0.019*\"arrest\" + 0.017*\"hold\" + '\n",
      "  '0.017*\"euro\" + 0.016*\"bank\" + 0.011*\"higher\" + 0.011*\"fix\" + 0.011*\"son\"'),\n",
      " (19,\n",
      "  '0.020*\"come\" + 0.016*\"know\" + 0.015*\"need\" + 0.014*\"secur\" + 0.014*\"soon\" + '\n",
      "  '0.013*\"stop\" + 0.013*\"ipad\" + 0.012*\"live\" + 0.011*\"counti\" + '\n",
      "  '0.011*\"bieber\"'),\n",
      " (16,\n",
      "  '0.035*\"kim\" + 0.035*\"kardashian\" + 0.026*\"kany\" + 0.023*\"west\" + '\n",
      "  '0.018*\"drive\" + 0.017*\"wed\" + 0.014*\"airlin\" + 0.014*\"economi\" + '\n",
      "  '0.014*\"cancel\" + 0.014*\"impact\"'),\n",
      " (13,\n",
      "  '0.020*\"jam\" + 0.019*\"game\" + 0.015*\"sue\" + 0.014*\"blood\" + 0.014*\"video\" + '\n",
      "  '0.013*\"true\" + 0.013*\"ahead\" + 0.012*\"recap\" + 0.012*\"acquisit\" + '\n",
      "  '0.011*\"juli\"'),\n",
      " (12,\n",
      "  '0.022*\"microsoft\" + 0.015*\"surfac\" + 0.013*\"custom\" + 0.013*\"littl\" + '\n",
      "  '0.011*\"yellen\" + 0.011*\"yahoo\" + 0.011*\"soni\" + 0.011*\"begin\" + '\n",
      "  '0.011*\"design\" + 0.011*\"vs\"'),\n",
      " (24,\n",
      "  '0.019*\"april\" + 0.017*\"head\" + 0.016*\"new\" + 0.013*\"book\" + 0.013*\"face\" + '\n",
      "  '0.013*\"appl\" + 0.013*\"bachelorett\" + 0.013*\"regul\" + 0.013*\"price\" + '\n",
      "  '0.012*\"ban\"'),\n",
      " (15,\n",
      "  '0.030*\"expect\" + 0.022*\"phone\" + 0.022*\"return\" + 0.018*\"retail\" + '\n",
      "  '0.016*\"updat\" + 0.015*\"new\" + 0.014*\"lg\" + 0.013*\"nokia\" + 0.013*\"nasdaq\" + '\n",
      "  '0.013*\"women\"'),\n",
      " (22,\n",
      "  '0.019*\"cast\" + 0.016*\"lohan\" + 0.016*\"real\" + 0.016*\"lindsay\" + '\n",
      "  '0.016*\"west\" + 0.014*\"internet\" + 0.012*\"black\" + 0.012*\"food\" + '\n",
      "  '0.011*\"problem\" + 0.010*\"tablet\"'),\n",
      " (23,\n",
      "  '0.022*\"googl\" + 0.021*\"open\" + 0.020*\"tesla\" + 0.013*\"split\" + '\n",
      "  '0.012*\"mother\" + 0.012*\"model\" + 0.011*\"patent\" + 0.011*\"martin\" + '\n",
      "  '0.011*\"parti\" + 0.010*\"final\"')]\n"
     ]
    }
   ],
   "source": [
    "# Select the model and print the topics\n",
    "optimal_model = model_list[5]\n",
    "model_topics = optimal_model.show_topics(formatted=False)\n",
    "pprint(optimal_model.print_topics(num_words=10))"
   ]
  },
  {
   "cell_type": "code",
   "execution_count": null,
   "metadata": {
    "collapsed": true
   },
   "outputs": [],
   "source": [
    "Ce sont les thèmes du modèle LDA choisi."
   ]
  },
  {
   "cell_type": "markdown",
   "metadata": {},
   "source": [
    "# 8)  Trouver le sujet dominant dans chaque phrase"
   ]
  },
  {
   "cell_type": "markdown",
   "metadata": {},
   "source": [
    "L'une des applications pratiques de la modélisation de sujets consiste à déterminer le sujet d'un document donné.\n",
    "\n",
    "Pour trouver cela, nous trouvons le numéro de sujet qui contient le pourcentage de contribution le plus élevé dans ce document.\n",
    "\n",
    "La fonction ci-dessous agrège bien ces informations dans une table présentable.format_topics_sentences()"
   ]
  },
  {
   "cell_type": "code",
   "execution_count": 60,
   "metadata": {},
   "outputs": [
    {
     "data": {
      "text/html": [
       "<div>\n",
       "<style scoped>\n",
       "    .dataframe tbody tr th:only-of-type {\n",
       "        vertical-align: middle;\n",
       "    }\n",
       "\n",
       "    .dataframe tbody tr th {\n",
       "        vertical-align: top;\n",
       "    }\n",
       "\n",
       "    .dataframe thead th {\n",
       "        text-align: right;\n",
       "    }\n",
       "</style>\n",
       "<table border=\"1\" class=\"dataframe\">\n",
       "  <thead>\n",
       "    <tr style=\"text-align: right;\">\n",
       "      <th></th>\n",
       "      <th>Document_No</th>\n",
       "      <th>Dominant_Topic</th>\n",
       "      <th>Topic_Perc_Contrib</th>\n",
       "      <th>Keywords</th>\n",
       "      <th>Text</th>\n",
       "    </tr>\n",
       "  </thead>\n",
       "  <tbody>\n",
       "    <tr>\n",
       "      <th>0</th>\n",
       "      <td>0</td>\n",
       "      <td>4.0</td>\n",
       "      <td>0.1969</td>\n",
       "      <td>video, season, game, new, final, announc, thro...</td>\n",
       "      <td>[spoiler, free, busi, lesson, game, throne]</td>\n",
       "    </tr>\n",
       "    <tr>\n",
       "      <th>1</th>\n",
       "      <td>1</td>\n",
       "      <td>9.0</td>\n",
       "      <td>0.4395</td>\n",
       "      <td>end, home, phone, expect, smartphon, quarter, ...</td>\n",
       "      <td>[robin, william, enter, treatment, fine, tune,...</td>\n",
       "    </tr>\n",
       "    <tr>\n",
       "      <th>2</th>\n",
       "      <td>2</td>\n",
       "      <td>5.0</td>\n",
       "      <td>0.2051</td>\n",
       "      <td>rise, world, die, googl, open, go, babi, glass...</td>\n",
       "      <td>[fact, american, creep, googl, glass]</td>\n",
       "    </tr>\n",
       "    <tr>\n",
       "      <th>3</th>\n",
       "      <td>3</td>\n",
       "      <td>12.0</td>\n",
       "      <td>0.3285</td>\n",
       "      <td>look, bank, record, help, warn, rate, men, nee...</td>\n",
       "      <td>[ail, space, telescop, get, nd, chanc]</td>\n",
       "    </tr>\n",
       "    <tr>\n",
       "      <th>4</th>\n",
       "      <td>4</td>\n",
       "      <td>14.0</td>\n",
       "      <td>0.5172</td>\n",
       "      <td>price, sale, news, releas, data, reveal, new, ...</td>\n",
       "      <td>[jack, white, reveal, detail, new, album, laza...</td>\n",
       "    </tr>\n",
       "    <tr>\n",
       "      <th>5</th>\n",
       "      <td>5</td>\n",
       "      <td>5.0</td>\n",
       "      <td>0.1489</td>\n",
       "      <td>rise, world, die, googl, open, go, babi, glass...</td>\n",
       "      <td>[king, crush, debut]</td>\n",
       "    </tr>\n",
       "    <tr>\n",
       "      <th>6</th>\n",
       "      <td>6</td>\n",
       "      <td>5.0</td>\n",
       "      <td>0.3059</td>\n",
       "      <td>rise, world, die, googl, open, go, babi, glass...</td>\n",
       "      <td>[woman, help, appl, save, planet]</td>\n",
       "    </tr>\n",
       "    <tr>\n",
       "      <th>7</th>\n",
       "      <td>7</td>\n",
       "      <td>2.0</td>\n",
       "      <td>0.4628</td>\n",
       "      <td>stock, buy, deal, billion, like, sell, compani...</td>\n",
       "      <td>[merger, domin, wall, street, trade, durabl, g...</td>\n",
       "    </tr>\n",
       "    <tr>\n",
       "      <th>8</th>\n",
       "      <td>8</td>\n",
       "      <td>11.0</td>\n",
       "      <td>0.1926</td>\n",
       "      <td>day, chang, futur, best, drug, unveil, post, h...</td>\n",
       "      <td>[rumor, appl, unveil, home, autom, week]</td>\n",
       "    </tr>\n",
       "    <tr>\n",
       "      <th>9</th>\n",
       "      <td>9</td>\n",
       "      <td>15.0</td>\n",
       "      <td>0.3639</td>\n",
       "      <td>year, share, hit, twitter, car, mobil, state, ...</td>\n",
       "      <td>[conscious, uncoupl, pretenti, defens, word, w...</td>\n",
       "    </tr>\n",
       "  </tbody>\n",
       "</table>\n",
       "</div>"
      ],
      "text/plain": [
       "   Document_No  Dominant_Topic  Topic_Perc_Contrib  \\\n",
       "0            0             4.0              0.1969   \n",
       "1            1             9.0              0.4395   \n",
       "2            2             5.0              0.2051   \n",
       "3            3            12.0              0.3285   \n",
       "4            4            14.0              0.5172   \n",
       "5            5             5.0              0.1489   \n",
       "6            6             5.0              0.3059   \n",
       "7            7             2.0              0.4628   \n",
       "8            8            11.0              0.1926   \n",
       "9            9            15.0              0.3639   \n",
       "\n",
       "                                            Keywords  \\\n",
       "0  video, season, game, new, final, announc, thro...   \n",
       "1  end, home, phone, expect, smartphon, quarter, ...   \n",
       "2  rise, world, die, googl, open, go, babi, glass...   \n",
       "3  look, bank, record, help, warn, rate, men, nee...   \n",
       "4  price, sale, news, releas, data, reveal, new, ...   \n",
       "5  rise, world, die, googl, open, go, babi, glass...   \n",
       "6  rise, world, die, googl, open, go, babi, glass...   \n",
       "7  stock, buy, deal, billion, like, sell, compani...   \n",
       "8  day, chang, futur, best, drug, unveil, post, h...   \n",
       "9  year, share, hit, twitter, car, mobil, state, ...   \n",
       "\n",
       "                                                Text  \n",
       "0        [spoiler, free, busi, lesson, game, throne]  \n",
       "1  [robin, william, enter, treatment, fine, tune,...  \n",
       "2              [fact, american, creep, googl, glass]  \n",
       "3             [ail, space, telescop, get, nd, chanc]  \n",
       "4  [jack, white, reveal, detail, new, album, laza...  \n",
       "5                               [king, crush, debut]  \n",
       "6                  [woman, help, appl, save, planet]  \n",
       "7  [merger, domin, wall, street, trade, durabl, g...  \n",
       "8           [rumor, appl, unveil, home, autom, week]  \n",
       "9  [conscious, uncoupl, pretenti, defens, word, w...  "
      ]
     },
     "execution_count": 60,
     "metadata": {},
     "output_type": "execute_result"
    }
   ],
   "source": [
    "def format_topics_sentences(ldamodel=model, corpus=corpus, texts=data):\n",
    "    # Init output\n",
    "    sent_topics_df = pd.DataFrame()\n",
    "\n",
    "    # Get main topic in each document\n",
    "    for i, row in enumerate(model[corpus]):\n",
    "        row = sorted(row, key=lambda x: (x[1]), reverse=True)\n",
    "        # Get the Dominant topic, Perc Contribution and Keywords for each document\n",
    "        for j, (topic_num, prop_topic) in enumerate(row):\n",
    "            if j == 0:  # => dominant topic\n",
    "                wp = model.show_topic(topic_num)\n",
    "                topic_keywords = \", \".join([word for word, prop in wp])\n",
    "                sent_topics_df = sent_topics_df.append(pd.Series([int(topic_num), round(prop_topic,4), topic_keywords]), ignore_index=True)\n",
    "            else:\n",
    "                break\n",
    "    sent_topics_df.columns = ['Dominant_Topic', 'Perc_Contribution', 'Topic_Keywords']\n",
    "\n",
    "    # Add original text to the end of the output\n",
    "    contents = pd.Series(texts)\n",
    "    sent_topics_df = pd.concat([sent_topics_df, contents], axis=1)\n",
    "    return(sent_topics_df)\n",
    "\n",
    "\n",
    "df_topic_sents_keywords = format_topics_sentences(ldamodel=optimal_model, corpus=corpus, texts=cleaned_column)\n",
    "\n",
    "# Format\n",
    "df_dominant_topic = df_topic_sents_keywords.reset_index()\n",
    "df_dominant_topic.columns = ['Document_No', 'Dominant_Topic', 'Topic_Perc_Contrib', 'Keywords', 'Text']\n",
    "\n",
    "# Show\n",
    "df_dominant_topic.head(10)"
   ]
  },
  {
   "cell_type": "markdown",
   "metadata": {},
   "source": [
    "# 9) Trouver le document le plus représentatif pour chaque sujet"
   ]
  },
  {
   "cell_type": "markdown",
   "metadata": {},
   "source": [
    "Parfois, seuls les mots-clés du sujet peuvent ne pas suffire à donner un sens au sujet. Donc, pour aider à comprendre le sujet, vous pouvez trouver les documents auxquels un sujet donné a le plus contribué et déduire le sujet en lisant ce document. "
   ]
  },
  {
   "cell_type": "code",
   "execution_count": 61,
   "metadata": {},
   "outputs": [
    {
     "data": {
      "text/html": [
       "<div>\n",
       "<style scoped>\n",
       "    .dataframe tbody tr th:only-of-type {\n",
       "        vertical-align: middle;\n",
       "    }\n",
       "\n",
       "    .dataframe tbody tr th {\n",
       "        vertical-align: top;\n",
       "    }\n",
       "\n",
       "    .dataframe thead th {\n",
       "        text-align: right;\n",
       "    }\n",
       "</style>\n",
       "<table border=\"1\" class=\"dataframe\">\n",
       "  <thead>\n",
       "    <tr style=\"text-align: right;\">\n",
       "      <th></th>\n",
       "      <th>Topic_Num</th>\n",
       "      <th>Topic_Perc_Contrib</th>\n",
       "      <th>Keywords</th>\n",
       "      <th>Text</th>\n",
       "    </tr>\n",
       "  </thead>\n",
       "  <tbody>\n",
       "    <tr>\n",
       "      <th>0</th>\n",
       "      <td>0.0</td>\n",
       "      <td>0.5661</td>\n",
       "      <td>music, talk, photo, man, tv, profit, uk, week,...</td>\n",
       "      <td>[marc, webb, talk, amaz, spider, man, plot]</td>\n",
       "    </tr>\n",
       "    <tr>\n",
       "      <th>1</th>\n",
       "      <td>1.0</td>\n",
       "      <td>0.5604</td>\n",
       "      <td>say, million, recal, gm, ceo, internet, award,...</td>\n",
       "      <td>[batman, suit, pic, forget, kevin, smith, say,...</td>\n",
       "    </tr>\n",
       "    <tr>\n",
       "      <th>2</th>\n",
       "      <td>2.0</td>\n",
       "      <td>0.6288</td>\n",
       "      <td>stock, buy, deal, billion, like, sell, compani...</td>\n",
       "      <td>[india, sun, pharma, buy, troubl, drugmak, ran...</td>\n",
       "    </tr>\n",
       "    <tr>\n",
       "      <th>3</th>\n",
       "      <td>3.0</td>\n",
       "      <td>0.5967</td>\n",
       "      <td>star, time, war, join, cast, return, window, c...</td>\n",
       "      <td>[christina, chong, join, cast, star, war, epis...</td>\n",
       "    </tr>\n",
       "    <tr>\n",
       "      <th>4</th>\n",
       "      <td>4.0</td>\n",
       "      <td>0.5565</td>\n",
       "      <td>video, season, game, new, final, announc, thro...</td>\n",
       "      <td>[codi, simpson, danc, star, cha, cha, cha, vid...</td>\n",
       "    </tr>\n",
       "  </tbody>\n",
       "</table>\n",
       "</div>"
      ],
      "text/plain": [
       "   Topic_Num  Topic_Perc_Contrib  \\\n",
       "0        0.0              0.5661   \n",
       "1        1.0              0.5604   \n",
       "2        2.0              0.6288   \n",
       "3        3.0              0.5967   \n",
       "4        4.0              0.5565   \n",
       "\n",
       "                                            Keywords  \\\n",
       "0  music, talk, photo, man, tv, profit, uk, week,...   \n",
       "1  say, million, recal, gm, ceo, internet, award,...   \n",
       "2  stock, buy, deal, billion, like, sell, compani...   \n",
       "3  star, time, war, join, cast, return, window, c...   \n",
       "4  video, season, game, new, final, announc, thro...   \n",
       "\n",
       "                                                Text  \n",
       "0        [marc, webb, talk, amaz, spider, man, plot]  \n",
       "1  [batman, suit, pic, forget, kevin, smith, say,...  \n",
       "2  [india, sun, pharma, buy, troubl, drugmak, ran...  \n",
       "3  [christina, chong, join, cast, star, war, epis...  \n",
       "4  [codi, simpson, danc, star, cha, cha, cha, vid...  "
      ]
     },
     "execution_count": 61,
     "metadata": {},
     "output_type": "execute_result"
    }
   ],
   "source": [
    "# Group top 5 sentences under each topic\n",
    "sent_topics_sorted = pd.DataFrame()\n",
    "\n",
    "sent_topics_outdf_grpd = df_topic_sents_keywords.groupby('Dominant_Topic')\n",
    "\n",
    "for i, grp in sent_topics_outdf_grpd:\n",
    "    sent_topics_sorted = pd.concat([sent_topics_sorted, \n",
    "                                             grp.sort_values(['Perc_Contribution'], ascending=[0]).head(1)], \n",
    "                                            axis=0)\n",
    "\n",
    "# Reset Index    \n",
    "sent_topics_sorted.reset_index(drop=True, inplace=True)\n",
    "\n",
    "# Format\n",
    "sent_topics_sorted.columns = ['Topic_Num', \"Topic_Perc_Contrib\", \"Keywords\", \"Text\"]\n",
    "\n",
    "# Show\n",
    "sent_topics_sorted.head()"
   ]
  },
  {
   "cell_type": "markdown",
   "metadata": {},
   "source": [
    "Le tableau ci-dessus contient le numéro du sujet, les mots-clés et le document le plus représentatif. La Topic_Perc_Contribution colonne n'est rien d'autre que le pourcentage de contribution du sujet dans le document donné."
   ]
  },
  {
   "cell_type": "markdown",
   "metadata": {},
   "source": [
    "# 10)  Distribution de sujets entre documents"
   ]
  },
  {
   "cell_type": "markdown",
   "metadata": {},
   "source": [
    "Enfin, nous souhaitons comprendre le volume et la distribution des sujets afin de juger de l’ampleur des discussions. Le tableau ci-dessous expose ces informations."
   ]
  },
  {
   "cell_type": "code",
   "execution_count": 62,
   "metadata": {},
   "outputs": [
    {
     "data": {
      "text/html": [
       "<div>\n",
       "<style scoped>\n",
       "    .dataframe tbody tr th:only-of-type {\n",
       "        vertical-align: middle;\n",
       "    }\n",
       "\n",
       "    .dataframe tbody tr th {\n",
       "        vertical-align: top;\n",
       "    }\n",
       "\n",
       "    .dataframe thead th {\n",
       "        text-align: right;\n",
       "    }\n",
       "</style>\n",
       "<table border=\"1\" class=\"dataframe\">\n",
       "  <thead>\n",
       "    <tr style=\"text-align: right;\">\n",
       "      <th></th>\n",
       "      <th>Dominant_Topic</th>\n",
       "      <th>Topic_Keywords</th>\n",
       "      <th>Num_Documents</th>\n",
       "      <th>Perc_Documents</th>\n",
       "    </tr>\n",
       "  </thead>\n",
       "  <tbody>\n",
       "    <tr>\n",
       "      <th>0</th>\n",
       "      <td>4.0</td>\n",
       "      <td>video, season, game, new, final, announc, thro...</td>\n",
       "      <td>354.0</td>\n",
       "      <td>0.0354</td>\n",
       "    </tr>\n",
       "    <tr>\n",
       "      <th>1</th>\n",
       "      <td>9.0</td>\n",
       "      <td>end, home, phone, expect, smartphon, quarter, ...</td>\n",
       "      <td>539.0</td>\n",
       "      <td>0.0539</td>\n",
       "    </tr>\n",
       "    <tr>\n",
       "      <th>2</th>\n",
       "      <td>5.0</td>\n",
       "      <td>rise, world, die, googl, open, go, babi, glass...</td>\n",
       "      <td>681.0</td>\n",
       "      <td>0.0681</td>\n",
       "    </tr>\n",
       "    <tr>\n",
       "      <th>3</th>\n",
       "      <td>12.0</td>\n",
       "      <td>look, bank, record, help, warn, rate, men, nee...</td>\n",
       "      <td>434.0</td>\n",
       "      <td>0.0434</td>\n",
       "    </tr>\n",
       "    <tr>\n",
       "      <th>4</th>\n",
       "      <td>14.0</td>\n",
       "      <td>price, sale, news, releas, data, reveal, new, ...</td>\n",
       "      <td>680.0</td>\n",
       "      <td>0.0680</td>\n",
       "    </tr>\n",
       "    <tr>\n",
       "      <th>5</th>\n",
       "      <td>5.0</td>\n",
       "      <td>rise, world, die, googl, open, go, babi, glass...</td>\n",
       "      <td>515.0</td>\n",
       "      <td>0.0515</td>\n",
       "    </tr>\n",
       "    <tr>\n",
       "      <th>6</th>\n",
       "      <td>5.0</td>\n",
       "      <td>rise, world, die, googl, open, go, babi, glass...</td>\n",
       "      <td>405.0</td>\n",
       "      <td>0.0405</td>\n",
       "    </tr>\n",
       "    <tr>\n",
       "      <th>7</th>\n",
       "      <td>2.0</td>\n",
       "      <td>stock, buy, deal, billion, like, sell, compani...</td>\n",
       "      <td>878.0</td>\n",
       "      <td>0.0878</td>\n",
       "    </tr>\n",
       "    <tr>\n",
       "      <th>8</th>\n",
       "      <td>11.0</td>\n",
       "      <td>day, chang, futur, best, drug, unveil, post, h...</td>\n",
       "      <td>423.0</td>\n",
       "      <td>0.0423</td>\n",
       "    </tr>\n",
       "    <tr>\n",
       "      <th>9</th>\n",
       "      <td>15.0</td>\n",
       "      <td>year, share, hit, twitter, car, mobil, state, ...</td>\n",
       "      <td>383.0</td>\n",
       "      <td>0.0383</td>\n",
       "    </tr>\n",
       "    <tr>\n",
       "      <th>10</th>\n",
       "      <td>0.0</td>\n",
       "      <td>music, talk, photo, man, tv, profit, uk, week,...</td>\n",
       "      <td>395.0</td>\n",
       "      <td>0.0395</td>\n",
       "    </tr>\n",
       "    <tr>\n",
       "      <th>11</th>\n",
       "      <td>18.0</td>\n",
       "      <td>american, bieber, live, justin, close, issu, c...</td>\n",
       "      <td>442.0</td>\n",
       "      <td>0.0442</td>\n",
       "    </tr>\n",
       "    <tr>\n",
       "      <th>12</th>\n",
       "      <td>6.0</td>\n",
       "      <td>kardashian, kim, west, kany, stream, chris, ne...</td>\n",
       "      <td>409.0</td>\n",
       "      <td>0.0409</td>\n",
       "    </tr>\n",
       "    <tr>\n",
       "      <th>13</th>\n",
       "      <td>2.0</td>\n",
       "      <td>stock, buy, deal, billion, like, sell, compani...</td>\n",
       "      <td>506.0</td>\n",
       "      <td>0.0506</td>\n",
       "    </tr>\n",
       "    <tr>\n",
       "      <th>14</th>\n",
       "      <td>4.0</td>\n",
       "      <td>video, season, game, new, final, announc, thro...</td>\n",
       "      <td>561.0</td>\n",
       "      <td>0.0561</td>\n",
       "    </tr>\n",
       "    <tr>\n",
       "      <th>15</th>\n",
       "      <td>0.0</td>\n",
       "      <td>music, talk, photo, man, tv, profit, uk, week,...</td>\n",
       "      <td>461.0</td>\n",
       "      <td>0.0461</td>\n",
       "    </tr>\n",
       "    <tr>\n",
       "      <th>16</th>\n",
       "      <td>6.0</td>\n",
       "      <td>kardashian, kim, west, kany, stream, chris, ne...</td>\n",
       "      <td>594.0</td>\n",
       "      <td>0.0594</td>\n",
       "    </tr>\n",
       "    <tr>\n",
       "      <th>17</th>\n",
       "      <td>4.0</td>\n",
       "      <td>video, season, game, new, final, announc, thro...</td>\n",
       "      <td>473.0</td>\n",
       "      <td>0.0473</td>\n",
       "    </tr>\n",
       "    <tr>\n",
       "      <th>18</th>\n",
       "      <td>17.0</td>\n",
       "      <td>googl, launch, android, set, call, loss, heart...</td>\n",
       "      <td>452.0</td>\n",
       "      <td>0.0452</td>\n",
       "    </tr>\n",
       "    <tr>\n",
       "      <th>19</th>\n",
       "      <td>2.0</td>\n",
       "      <td>stock, buy, deal, billion, like, sell, compani...</td>\n",
       "      <td>415.0</td>\n",
       "      <td>0.0415</td>\n",
       "    </tr>\n",
       "  </tbody>\n",
       "</table>\n",
       "</div>"
      ],
      "text/plain": [
       "    Dominant_Topic                                     Topic_Keywords  \\\n",
       "0              4.0  video, season, game, new, final, announc, thro...   \n",
       "1              9.0  end, home, phone, expect, smartphon, quarter, ...   \n",
       "2              5.0  rise, world, die, googl, open, go, babi, glass...   \n",
       "3             12.0  look, bank, record, help, warn, rate, men, nee...   \n",
       "4             14.0  price, sale, news, releas, data, reveal, new, ...   \n",
       "5              5.0  rise, world, die, googl, open, go, babi, glass...   \n",
       "6              5.0  rise, world, die, googl, open, go, babi, glass...   \n",
       "7              2.0  stock, buy, deal, billion, like, sell, compani...   \n",
       "8             11.0  day, chang, futur, best, drug, unveil, post, h...   \n",
       "9             15.0  year, share, hit, twitter, car, mobil, state, ...   \n",
       "10             0.0  music, talk, photo, man, tv, profit, uk, week,...   \n",
       "11            18.0  american, bieber, live, justin, close, issu, c...   \n",
       "12             6.0  kardashian, kim, west, kany, stream, chris, ne...   \n",
       "13             2.0  stock, buy, deal, billion, like, sell, compani...   \n",
       "14             4.0  video, season, game, new, final, announc, thro...   \n",
       "15             0.0  music, talk, photo, man, tv, profit, uk, week,...   \n",
       "16             6.0  kardashian, kim, west, kany, stream, chris, ne...   \n",
       "17             4.0  video, season, game, new, final, announc, thro...   \n",
       "18            17.0  googl, launch, android, set, call, loss, heart...   \n",
       "19             2.0  stock, buy, deal, billion, like, sell, compani...   \n",
       "\n",
       "    Num_Documents  Perc_Documents  \n",
       "0           354.0          0.0354  \n",
       "1           539.0          0.0539  \n",
       "2           681.0          0.0681  \n",
       "3           434.0          0.0434  \n",
       "4           680.0          0.0680  \n",
       "5           515.0          0.0515  \n",
       "6           405.0          0.0405  \n",
       "7           878.0          0.0878  \n",
       "8           423.0          0.0423  \n",
       "9           383.0          0.0383  \n",
       "10          395.0          0.0395  \n",
       "11          442.0          0.0442  \n",
       "12          409.0          0.0409  \n",
       "13          506.0          0.0506  \n",
       "14          561.0          0.0561  \n",
       "15          461.0          0.0461  \n",
       "16          594.0          0.0594  \n",
       "17          473.0          0.0473  \n",
       "18          452.0          0.0452  \n",
       "19          415.0          0.0415  "
      ]
     },
     "execution_count": 62,
     "metadata": {},
     "output_type": "execute_result"
    }
   ],
   "source": [
    "# Number of Documents for Each Topic\n",
    "topic_counts = df_topic_sents_keywords['Dominant_Topic'].value_counts()\n",
    "\n",
    "# Percentage of Documents for Each Topic\n",
    "topic_contribution = round(topic_counts/topic_counts.sum(), 4)\n",
    "\n",
    "# Topic Number and Keywords\n",
    "topic_num_keywords = df_topic_sents_keywords[['Dominant_Topic', 'Topic_Keywords']]\n",
    "\n",
    "# Concatenate Column wise\n",
    "df_dominant_topics = pd.concat([topic_num_keywords, topic_counts, topic_contribution], axis=1)\n",
    "\n",
    "# Change Column names\n",
    "df_dominant_topics.columns = ['Dominant_Topic', 'Topic_Keywords', 'Num_Documents', 'Perc_Documents']\n",
    "\n",
    "# Show\n",
    "df_dominant_topics.head(20)"
   ]
  },
  {
   "cell_type": "markdown",
   "metadata": {},
   "source": [
    "# 11) Conclusion"
   ]
  },
  {
   "cell_type": "markdown",
   "metadata": {},
   "source": [
    "### En gros, nous avons construit un modèle de sujet de base en utilisant le LDA de Gensim et visualisé les sujets en utilisant pyLDAvis. Ensuite, nous avons vu comment trouver le nombre optimal de sujets en utilisant les scores de cohérence et comment comprendre logiquement comment choisir le modèle optimal.\n",
    "\n",
    "### Enfin, nous avons vu comment agréger et présenter les résultats pour générer des informations qui pourraient être plus exploitables."
   ]
  }
 ],
 "metadata": {
  "kernelspec": {
   "display_name": "Python 3",
   "language": "python",
   "name": "python3"
  },
  "language_info": {
   "codemirror_mode": {
    "name": "ipython",
    "version": 3
   },
   "file_extension": ".py",
   "mimetype": "text/x-python",
   "name": "python",
   "nbconvert_exporter": "python",
   "pygments_lexer": "ipython3",
   "version": "3.6.5"
  }
 },
 "nbformat": 4,
 "nbformat_minor": 2
}
